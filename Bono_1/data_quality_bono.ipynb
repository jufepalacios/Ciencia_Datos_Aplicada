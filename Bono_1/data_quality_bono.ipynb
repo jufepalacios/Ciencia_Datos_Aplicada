{
  "cells": [
    {
      "cell_type": "markdown",
      "metadata": {
        "id": "fNAbI7nDepjs"
      },
      "source": [
        "<a href=\"https://colab.research.google.com/github/datascience-uniandes/data-quality-tutorial/blob/master/data-quality-tutorial.ipynb\" target=\"_parent\"><img src=\"https://colab.research.google.com/assets/colab-badge.svg\" alt=\"Open In Colab\"/></a>"
      ]
    },
    {
      "cell_type": "markdown",
      "metadata": {
        "id": "1vaka8Ztepjw"
      },
      "source": [
        "# Data Quality tutorial\n",
        "\n",
        "MINE-4101: Applied Data Science  \n",
        "Univerisdad de los Andes  \n",
        "  \n",
        "Dataset: Homicides Colombia  \n",
        "Source: [datos.gov.co](datos.gov.co)\n",
        "  \n",
        "Last update: September, 2022"
      ]
    },
    {
      "cell_type": "markdown",
      "source": [
        "Juan Felipe Palacios - 201616389"
      ],
      "metadata": {
        "id": "oEH_yUnTe1Fh"
      }
    },
    {
      "cell_type": "code",
      "execution_count": 1,
      "metadata": {
        "id": "BqwjttKnepjx",
        "outputId": "30bb41e3-b841-4c2a-b900-d0e9e4bc4656",
        "colab": {
          "base_uri": "https://localhost:8080/"
        }
      },
      "outputs": [
        {
          "output_type": "stream",
          "name": "stdout",
          "text": [
            "Looking in indexes: https://pypi.org/simple, https://us-python.pkg.dev/colab-wheels/public/simple/\n",
            "Requirement already satisfied: pylev in /usr/local/lib/python3.7/dist-packages (1.4.0)\n"
          ]
        }
      ],
      "source": [
        "!pip install pylev"
      ]
    },
    {
      "cell_type": "code",
      "execution_count": 2,
      "metadata": {
        "id": "ZG7xvzVGepjy"
      },
      "outputs": [],
      "source": [
        "# Importing required libraries\n",
        "\n",
        "import re\n",
        "from random import randint\n",
        "from datetime import datetime\n",
        "\n",
        "import numpy as np\n",
        "import pandas as pd\n",
        "\n",
        "import pylev"
      ]
    },
    {
      "cell_type": "code",
      "execution_count": 3,
      "metadata": {
        "id": "9MTTnuMrepjz"
      },
      "outputs": [],
      "source": [
        "# Parameter for showing all columns when printing a dataframe\n",
        "pd.set_option('display.max_columns', None)"
      ]
    },
    {
      "cell_type": "code",
      "execution_count": 4,
      "metadata": {
        "id": "JETwtWBoepj0"
      },
      "outputs": [],
      "source": [
        "# Loading data\n",
        "homicides_df = pd.read_csv('https://raw.githubusercontent.com/jufepalacios/Ciencia_Datos_Aplicada/main/Bono_1/homicides.csv')"
      ]
    },
    {
      "cell_type": "code",
      "execution_count": 5,
      "metadata": {
        "id": "5Igoj3c0epj0",
        "colab": {
          "base_uri": "https://localhost:8080/"
        },
        "outputId": "c6a37d27-9728-4e7b-e244-3b0ee7113c44"
      },
      "outputs": [
        {
          "output_type": "execute_result",
          "data": {
            "text/plain": [
              "(12400, 22)"
            ]
          },
          "metadata": {},
          "execution_count": 5
        }
      ],
      "source": [
        "# Printing the dataset dimensions\n",
        "homicides_df.shape"
      ]
    },
    {
      "cell_type": "code",
      "execution_count": 6,
      "metadata": {
        "id": "m_ThVEGaepj2",
        "colab": {
          "base_uri": "https://localhost:8080/"
        },
        "outputId": "24eb105b-cd28-42f3-8184-97c1245fd4b1"
      },
      "outputs": [
        {
          "output_type": "execute_result",
          "data": {
            "text/plain": [
              "FECHA                 object\n",
              "DEPARTAMENTO          object\n",
              "MUNICIPIO             object\n",
              "DIA                   object\n",
              "HORA                  object\n",
              "BARRIO                object\n",
              "ZONA                  object\n",
              "CLASE DE SITIO        object\n",
              "ARMA O MEDIO          object\n",
              "MOVIL VICTIMA         object\n",
              "MOVIL AGRESOR         object\n",
              "EDAD                 float64\n",
              "GENERO                object\n",
              "ESTADO CIVIL          object\n",
              "CLASE EMPLEADO        object\n",
              "PROFESION             object\n",
              "ESCOLARIDAD           object\n",
              "PAIS NACE             object\n",
              "CODIGO DANE          float64\n",
              "AÑO DE NACIMIENTO    float64\n",
              "CÉDULA                object\n",
              "CORREO                object\n",
              "dtype: object"
            ]
          },
          "metadata": {},
          "execution_count": 6
        }
      ],
      "source": [
        "# Printing column data types\n",
        "homicides_df.dtypes"
      ]
    },
    {
      "cell_type": "code",
      "execution_count": 7,
      "metadata": {
        "id": "ksmZaKblepj3",
        "colab": {
          "base_uri": "https://localhost:8080/",
          "height": 371
        },
        "outputId": "b87eec35-e080-47e3-abdb-c7f1f89246e4"
      },
      "outputs": [
        {
          "output_type": "execute_result",
          "data": {
            "text/plain": [
              "                    FECHA DEPARTAMENTO      MUNICIPIO     DIA   HORA  \\\n",
              "0  01/01/2021 12:00:00 AM    ANTIOQUIA          AMAGÁ  Jueves   6:00   \n",
              "1  01/01/2021 12:00:00 AM    ANTIOQUIA        BARBOSA  Jueves   9:00   \n",
              "2  01/01/2021 12:00:00 AM    ANTIOQUIA       EL BAGRE  Jueves  19:00   \n",
              "3  01/01/2021 12:00:00 AM    ANTIOQUIA         JARDÍN  Jueves  11:20   \n",
              "4  01/01/2021 12:00:00 AM    ANTIOQUIA  MEDELLÍN (CT)   Juees  15:00   \n",
              "\n",
              "                     BARRIO    ZONA                      CLASE DE SITIO  \\\n",
              "0                 EL VOLCAN   RURAL                              TIENDA   \n",
              "1            VDA. MATASANOS   RURAL                       VIAS PUBLICAS   \n",
              "2             PUERTO CLAVER   RURAL                  FINCAS Y SIMILARES   \n",
              "3                CRISTIANIA   RURAL                  FINCAS Y SIMILARES   \n",
              "4  PICACHITO CNO REPORTADO6  URBANA  FRENTE A RESIDENCIAS - VIA PUBLICA   \n",
              "\n",
              "   ARMA O MEDIO MOVIL VICTIMA MOVIL AGRESOR  EDAD     GENERO ESTADO CIVIL  \\\n",
              "0   ARMA BLANCA         A PIE         A PIE  44.0  MASCULINO       CASADO   \n",
              "1   ARMA BLANCA         A PIE         A PIE  30.0  MASCULINO      SOLTERO   \n",
              "2   ARMA BLANCA         A PIE         A PIE  33.0  MASCULINO  UNION LIBRE   \n",
              "3   ARMA BLANCA         A PIE         A PIE  40.0  MASCULINO       CASADO   \n",
              "4  CONTUNDENTES         A PIE         A PIE  66.0  MASCULINO  UNION LIBRE   \n",
              "\n",
              "  CLASE EMPLEADO     PROFESION ESCOLARIDAD     PAIS NACE  CODIGO DANE  \\\n",
              "0  INDEPENDIENTE  NO REPORTADO    PRIMARIA      COLOMBIA    5030000.0   \n",
              "1    DESEMPLEADO  NO REPORTADO  SECUNDARIA  NO REPORTADO    5079000.0   \n",
              "2     AGRICULTOR  NO REPORTADO    PRIMARIA      COLOMBIA    5250000.0   \n",
              "3     AGRICULTOR  NO REPORTADO    PRIMARIA      COLOMBIA    5364000.0   \n",
              "4    DESEMPLEADO  NO REPORTADO    PRIMARIA      COLOMBIA    5001000.0   \n",
              "\n",
              "   AÑO DE NACIMIENTO  CÉDULA                      CORREO  \n",
              "0             1971.0  42-908  agbnqg2122@unidatos.edu.co  \n",
              "1             1985.0  15-183        rbkeui3584@gmail.com  \n",
              "2             1982.0  84-786  aorkhf9155@unidatos.edu.co  \n",
              "3             1975.0  31-289  dhtemr6623@unidatos.edu.co  \n",
              "4             1949.0  66-363  artatj9268@unidatos.edu.co  "
            ],
            "text/html": [
              "\n",
              "  <div id=\"df-6b51bc92-fc36-4fe9-b92e-4fea9b65a525\">\n",
              "    <div class=\"colab-df-container\">\n",
              "      <div>\n",
              "<style scoped>\n",
              "    .dataframe tbody tr th:only-of-type {\n",
              "        vertical-align: middle;\n",
              "    }\n",
              "\n",
              "    .dataframe tbody tr th {\n",
              "        vertical-align: top;\n",
              "    }\n",
              "\n",
              "    .dataframe thead th {\n",
              "        text-align: right;\n",
              "    }\n",
              "</style>\n",
              "<table border=\"1\" class=\"dataframe\">\n",
              "  <thead>\n",
              "    <tr style=\"text-align: right;\">\n",
              "      <th></th>\n",
              "      <th>FECHA</th>\n",
              "      <th>DEPARTAMENTO</th>\n",
              "      <th>MUNICIPIO</th>\n",
              "      <th>DIA</th>\n",
              "      <th>HORA</th>\n",
              "      <th>BARRIO</th>\n",
              "      <th>ZONA</th>\n",
              "      <th>CLASE DE SITIO</th>\n",
              "      <th>ARMA O MEDIO</th>\n",
              "      <th>MOVIL VICTIMA</th>\n",
              "      <th>MOVIL AGRESOR</th>\n",
              "      <th>EDAD</th>\n",
              "      <th>GENERO</th>\n",
              "      <th>ESTADO CIVIL</th>\n",
              "      <th>CLASE EMPLEADO</th>\n",
              "      <th>PROFESION</th>\n",
              "      <th>ESCOLARIDAD</th>\n",
              "      <th>PAIS NACE</th>\n",
              "      <th>CODIGO DANE</th>\n",
              "      <th>AÑO DE NACIMIENTO</th>\n",
              "      <th>CÉDULA</th>\n",
              "      <th>CORREO</th>\n",
              "    </tr>\n",
              "  </thead>\n",
              "  <tbody>\n",
              "    <tr>\n",
              "      <th>0</th>\n",
              "      <td>01/01/2021 12:00:00 AM</td>\n",
              "      <td>ANTIOQUIA</td>\n",
              "      <td>AMAGÁ</td>\n",
              "      <td>Jueves</td>\n",
              "      <td>6:00</td>\n",
              "      <td>EL VOLCAN</td>\n",
              "      <td>RURAL</td>\n",
              "      <td>TIENDA</td>\n",
              "      <td>ARMA BLANCA</td>\n",
              "      <td>A PIE</td>\n",
              "      <td>A PIE</td>\n",
              "      <td>44.0</td>\n",
              "      <td>MASCULINO</td>\n",
              "      <td>CASADO</td>\n",
              "      <td>INDEPENDIENTE</td>\n",
              "      <td>NO REPORTADO</td>\n",
              "      <td>PRIMARIA</td>\n",
              "      <td>COLOMBIA</td>\n",
              "      <td>5030000.0</td>\n",
              "      <td>1971.0</td>\n",
              "      <td>42-908</td>\n",
              "      <td>agbnqg2122@unidatos.edu.co</td>\n",
              "    </tr>\n",
              "    <tr>\n",
              "      <th>1</th>\n",
              "      <td>01/01/2021 12:00:00 AM</td>\n",
              "      <td>ANTIOQUIA</td>\n",
              "      <td>BARBOSA</td>\n",
              "      <td>Jueves</td>\n",
              "      <td>9:00</td>\n",
              "      <td>VDA. MATASANOS</td>\n",
              "      <td>RURAL</td>\n",
              "      <td>VIAS PUBLICAS</td>\n",
              "      <td>ARMA BLANCA</td>\n",
              "      <td>A PIE</td>\n",
              "      <td>A PIE</td>\n",
              "      <td>30.0</td>\n",
              "      <td>MASCULINO</td>\n",
              "      <td>SOLTERO</td>\n",
              "      <td>DESEMPLEADO</td>\n",
              "      <td>NO REPORTADO</td>\n",
              "      <td>SECUNDARIA</td>\n",
              "      <td>NO REPORTADO</td>\n",
              "      <td>5079000.0</td>\n",
              "      <td>1985.0</td>\n",
              "      <td>15-183</td>\n",
              "      <td>rbkeui3584@gmail.com</td>\n",
              "    </tr>\n",
              "    <tr>\n",
              "      <th>2</th>\n",
              "      <td>01/01/2021 12:00:00 AM</td>\n",
              "      <td>ANTIOQUIA</td>\n",
              "      <td>EL BAGRE</td>\n",
              "      <td>Jueves</td>\n",
              "      <td>19:00</td>\n",
              "      <td>PUERTO CLAVER</td>\n",
              "      <td>RURAL</td>\n",
              "      <td>FINCAS Y SIMILARES</td>\n",
              "      <td>ARMA BLANCA</td>\n",
              "      <td>A PIE</td>\n",
              "      <td>A PIE</td>\n",
              "      <td>33.0</td>\n",
              "      <td>MASCULINO</td>\n",
              "      <td>UNION LIBRE</td>\n",
              "      <td>AGRICULTOR</td>\n",
              "      <td>NO REPORTADO</td>\n",
              "      <td>PRIMARIA</td>\n",
              "      <td>COLOMBIA</td>\n",
              "      <td>5250000.0</td>\n",
              "      <td>1982.0</td>\n",
              "      <td>84-786</td>\n",
              "      <td>aorkhf9155@unidatos.edu.co</td>\n",
              "    </tr>\n",
              "    <tr>\n",
              "      <th>3</th>\n",
              "      <td>01/01/2021 12:00:00 AM</td>\n",
              "      <td>ANTIOQUIA</td>\n",
              "      <td>JARDÍN</td>\n",
              "      <td>Jueves</td>\n",
              "      <td>11:20</td>\n",
              "      <td>CRISTIANIA</td>\n",
              "      <td>RURAL</td>\n",
              "      <td>FINCAS Y SIMILARES</td>\n",
              "      <td>ARMA BLANCA</td>\n",
              "      <td>A PIE</td>\n",
              "      <td>A PIE</td>\n",
              "      <td>40.0</td>\n",
              "      <td>MASCULINO</td>\n",
              "      <td>CASADO</td>\n",
              "      <td>AGRICULTOR</td>\n",
              "      <td>NO REPORTADO</td>\n",
              "      <td>PRIMARIA</td>\n",
              "      <td>COLOMBIA</td>\n",
              "      <td>5364000.0</td>\n",
              "      <td>1975.0</td>\n",
              "      <td>31-289</td>\n",
              "      <td>dhtemr6623@unidatos.edu.co</td>\n",
              "    </tr>\n",
              "    <tr>\n",
              "      <th>4</th>\n",
              "      <td>01/01/2021 12:00:00 AM</td>\n",
              "      <td>ANTIOQUIA</td>\n",
              "      <td>MEDELLÍN (CT)</td>\n",
              "      <td>Juees</td>\n",
              "      <td>15:00</td>\n",
              "      <td>PICACHITO CNO REPORTADO6</td>\n",
              "      <td>URBANA</td>\n",
              "      <td>FRENTE A RESIDENCIAS - VIA PUBLICA</td>\n",
              "      <td>CONTUNDENTES</td>\n",
              "      <td>A PIE</td>\n",
              "      <td>A PIE</td>\n",
              "      <td>66.0</td>\n",
              "      <td>MASCULINO</td>\n",
              "      <td>UNION LIBRE</td>\n",
              "      <td>DESEMPLEADO</td>\n",
              "      <td>NO REPORTADO</td>\n",
              "      <td>PRIMARIA</td>\n",
              "      <td>COLOMBIA</td>\n",
              "      <td>5001000.0</td>\n",
              "      <td>1949.0</td>\n",
              "      <td>66-363</td>\n",
              "      <td>artatj9268@unidatos.edu.co</td>\n",
              "    </tr>\n",
              "  </tbody>\n",
              "</table>\n",
              "</div>\n",
              "      <button class=\"colab-df-convert\" onclick=\"convertToInteractive('df-6b51bc92-fc36-4fe9-b92e-4fea9b65a525')\"\n",
              "              title=\"Convert this dataframe to an interactive table.\"\n",
              "              style=\"display:none;\">\n",
              "        \n",
              "  <svg xmlns=\"http://www.w3.org/2000/svg\" height=\"24px\"viewBox=\"0 0 24 24\"\n",
              "       width=\"24px\">\n",
              "    <path d=\"M0 0h24v24H0V0z\" fill=\"none\"/>\n",
              "    <path d=\"M18.56 5.44l.94 2.06.94-2.06 2.06-.94-2.06-.94-.94-2.06-.94 2.06-2.06.94zm-11 1L8.5 8.5l.94-2.06 2.06-.94-2.06-.94L8.5 2.5l-.94 2.06-2.06.94zm10 10l.94 2.06.94-2.06 2.06-.94-2.06-.94-.94-2.06-.94 2.06-2.06.94z\"/><path d=\"M17.41 7.96l-1.37-1.37c-.4-.4-.92-.59-1.43-.59-.52 0-1.04.2-1.43.59L10.3 9.45l-7.72 7.72c-.78.78-.78 2.05 0 2.83L4 21.41c.39.39.9.59 1.41.59.51 0 1.02-.2 1.41-.59l7.78-7.78 2.81-2.81c.8-.78.8-2.07 0-2.86zM5.41 20L4 18.59l7.72-7.72 1.47 1.35L5.41 20z\"/>\n",
              "  </svg>\n",
              "      </button>\n",
              "      \n",
              "  <style>\n",
              "    .colab-df-container {\n",
              "      display:flex;\n",
              "      flex-wrap:wrap;\n",
              "      gap: 12px;\n",
              "    }\n",
              "\n",
              "    .colab-df-convert {\n",
              "      background-color: #E8F0FE;\n",
              "      border: none;\n",
              "      border-radius: 50%;\n",
              "      cursor: pointer;\n",
              "      display: none;\n",
              "      fill: #1967D2;\n",
              "      height: 32px;\n",
              "      padding: 0 0 0 0;\n",
              "      width: 32px;\n",
              "    }\n",
              "\n",
              "    .colab-df-convert:hover {\n",
              "      background-color: #E2EBFA;\n",
              "      box-shadow: 0px 1px 2px rgba(60, 64, 67, 0.3), 0px 1px 3px 1px rgba(60, 64, 67, 0.15);\n",
              "      fill: #174EA6;\n",
              "    }\n",
              "\n",
              "    [theme=dark] .colab-df-convert {\n",
              "      background-color: #3B4455;\n",
              "      fill: #D2E3FC;\n",
              "    }\n",
              "\n",
              "    [theme=dark] .colab-df-convert:hover {\n",
              "      background-color: #434B5C;\n",
              "      box-shadow: 0px 1px 3px 1px rgba(0, 0, 0, 0.15);\n",
              "      filter: drop-shadow(0px 1px 2px rgba(0, 0, 0, 0.3));\n",
              "      fill: #FFFFFF;\n",
              "    }\n",
              "  </style>\n",
              "\n",
              "      <script>\n",
              "        const buttonEl =\n",
              "          document.querySelector('#df-6b51bc92-fc36-4fe9-b92e-4fea9b65a525 button.colab-df-convert');\n",
              "        buttonEl.style.display =\n",
              "          google.colab.kernel.accessAllowed ? 'block' : 'none';\n",
              "\n",
              "        async function convertToInteractive(key) {\n",
              "          const element = document.querySelector('#df-6b51bc92-fc36-4fe9-b92e-4fea9b65a525');\n",
              "          const dataTable =\n",
              "            await google.colab.kernel.invokeFunction('convertToInteractive',\n",
              "                                                     [key], {});\n",
              "          if (!dataTable) return;\n",
              "\n",
              "          const docLinkHtml = 'Like what you see? Visit the ' +\n",
              "            '<a target=\"_blank\" href=https://colab.research.google.com/notebooks/data_table.ipynb>data table notebook</a>'\n",
              "            + ' to learn more about interactive tables.';\n",
              "          element.innerHTML = '';\n",
              "          dataTable['output_type'] = 'display_data';\n",
              "          await google.colab.output.renderOutput(dataTable, element);\n",
              "          const docLink = document.createElement('div');\n",
              "          docLink.innerHTML = docLinkHtml;\n",
              "          element.appendChild(docLink);\n",
              "        }\n",
              "      </script>\n",
              "    </div>\n",
              "  </div>\n",
              "  "
            ]
          },
          "metadata": {},
          "execution_count": 7
        }
      ],
      "source": [
        "homicides_df.head()"
      ]
    },
    {
      "cell_type": "code",
      "execution_count": 8,
      "metadata": {
        "id": "uirg0_53epj4"
      },
      "outputs": [],
      "source": [
        "# Creating a lambda expression for datetime parsing\n",
        "dateparse = lambda x: datetime.strptime(x, \"%m/%d/%Y %H:%M:%S %p\")"
      ]
    },
    {
      "cell_type": "code",
      "execution_count": 9,
      "metadata": {
        "id": "CjbY3qABepj4",
        "colab": {
          "base_uri": "https://localhost:8080/",
          "height": 378
        },
        "outputId": "a1cd482d-620c-4874-9884-00698227da49"
      },
      "outputs": [
        {
          "output_type": "error",
          "ename": "ValueError",
          "evalue": "ignored",
          "traceback": [
            "\u001b[0;31m---------------------------------------------------------------------------\u001b[0m",
            "\u001b[0;31mValueError\u001b[0m                                Traceback (most recent call last)",
            "\u001b[0;32m<ipython-input-9-4adcb6515e66>\u001b[0m in \u001b[0;36m<module>\u001b[0;34m\u001b[0m\n\u001b[1;32m      1\u001b[0m \u001b[0;31m# Applying the validation to all values in column\u001b[0m\u001b[0;34m\u001b[0m\u001b[0;34m\u001b[0m\u001b[0;34m\u001b[0m\u001b[0m\n\u001b[0;32m----> 2\u001b[0;31m \u001b[0mhomicides_df\u001b[0m\u001b[0;34m[\u001b[0m\u001b[0;34m\"FECHA\"\u001b[0m\u001b[0;34m]\u001b[0m\u001b[0;34m.\u001b[0m\u001b[0mapply\u001b[0m\u001b[0;34m(\u001b[0m\u001b[0mdateparse\u001b[0m\u001b[0;34m)\u001b[0m\u001b[0;34m\u001b[0m\u001b[0;34m\u001b[0m\u001b[0m\n\u001b[0m\u001b[1;32m      3\u001b[0m \u001b[0;34m\u001b[0m\u001b[0m\n\u001b[1;32m      4\u001b[0m \u001b[0;31m# IT IS EXPECTED TO HAVE AN ERROR INTENTIONALLY\u001b[0m\u001b[0;34m\u001b[0m\u001b[0;34m\u001b[0m\u001b[0;34m\u001b[0m\u001b[0m\n",
            "\u001b[0;32m/usr/local/lib/python3.7/dist-packages/pandas/core/series.py\u001b[0m in \u001b[0;36mapply\u001b[0;34m(self, func, convert_dtype, args, **kwargs)\u001b[0m\n\u001b[1;32m   4355\u001b[0m         \u001b[0mdtype\u001b[0m\u001b[0;34m:\u001b[0m \u001b[0mfloat64\u001b[0m\u001b[0;34m\u001b[0m\u001b[0;34m\u001b[0m\u001b[0m\n\u001b[1;32m   4356\u001b[0m         \"\"\"\n\u001b[0;32m-> 4357\u001b[0;31m         \u001b[0;32mreturn\u001b[0m \u001b[0mSeriesApply\u001b[0m\u001b[0;34m(\u001b[0m\u001b[0mself\u001b[0m\u001b[0;34m,\u001b[0m \u001b[0mfunc\u001b[0m\u001b[0;34m,\u001b[0m \u001b[0mconvert_dtype\u001b[0m\u001b[0;34m,\u001b[0m \u001b[0margs\u001b[0m\u001b[0;34m,\u001b[0m \u001b[0mkwargs\u001b[0m\u001b[0;34m)\u001b[0m\u001b[0;34m.\u001b[0m\u001b[0mapply\u001b[0m\u001b[0;34m(\u001b[0m\u001b[0;34m)\u001b[0m\u001b[0;34m\u001b[0m\u001b[0;34m\u001b[0m\u001b[0m\n\u001b[0m\u001b[1;32m   4358\u001b[0m \u001b[0;34m\u001b[0m\u001b[0m\n\u001b[1;32m   4359\u001b[0m     def _reduce(\n",
            "\u001b[0;32m/usr/local/lib/python3.7/dist-packages/pandas/core/apply.py\u001b[0m in \u001b[0;36mapply\u001b[0;34m(self)\u001b[0m\n\u001b[1;32m   1041\u001b[0m             \u001b[0;32mreturn\u001b[0m \u001b[0mself\u001b[0m\u001b[0;34m.\u001b[0m\u001b[0mapply_str\u001b[0m\u001b[0;34m(\u001b[0m\u001b[0;34m)\u001b[0m\u001b[0;34m\u001b[0m\u001b[0;34m\u001b[0m\u001b[0m\n\u001b[1;32m   1042\u001b[0m \u001b[0;34m\u001b[0m\u001b[0m\n\u001b[0;32m-> 1043\u001b[0;31m         \u001b[0;32mreturn\u001b[0m \u001b[0mself\u001b[0m\u001b[0;34m.\u001b[0m\u001b[0mapply_standard\u001b[0m\u001b[0;34m(\u001b[0m\u001b[0;34m)\u001b[0m\u001b[0;34m\u001b[0m\u001b[0;34m\u001b[0m\u001b[0m\n\u001b[0m\u001b[1;32m   1044\u001b[0m \u001b[0;34m\u001b[0m\u001b[0m\n\u001b[1;32m   1045\u001b[0m     \u001b[0;32mdef\u001b[0m \u001b[0magg\u001b[0m\u001b[0;34m(\u001b[0m\u001b[0mself\u001b[0m\u001b[0;34m)\u001b[0m\u001b[0;34m:\u001b[0m\u001b[0;34m\u001b[0m\u001b[0;34m\u001b[0m\u001b[0m\n",
            "\u001b[0;32m/usr/local/lib/python3.7/dist-packages/pandas/core/apply.py\u001b[0m in \u001b[0;36mapply_standard\u001b[0;34m(self)\u001b[0m\n\u001b[1;32m   1099\u001b[0m                     \u001b[0mvalues\u001b[0m\u001b[0;34m,\u001b[0m\u001b[0;34m\u001b[0m\u001b[0;34m\u001b[0m\u001b[0m\n\u001b[1;32m   1100\u001b[0m                     \u001b[0mf\u001b[0m\u001b[0;34m,\u001b[0m  \u001b[0;31m# type: ignore[arg-type]\u001b[0m\u001b[0;34m\u001b[0m\u001b[0;34m\u001b[0m\u001b[0m\n\u001b[0;32m-> 1101\u001b[0;31m                     \u001b[0mconvert\u001b[0m\u001b[0;34m=\u001b[0m\u001b[0mself\u001b[0m\u001b[0;34m.\u001b[0m\u001b[0mconvert_dtype\u001b[0m\u001b[0;34m,\u001b[0m\u001b[0;34m\u001b[0m\u001b[0;34m\u001b[0m\u001b[0m\n\u001b[0m\u001b[1;32m   1102\u001b[0m                 )\n\u001b[1;32m   1103\u001b[0m \u001b[0;34m\u001b[0m\u001b[0m\n",
            "\u001b[0;32m/usr/local/lib/python3.7/dist-packages/pandas/_libs/lib.pyx\u001b[0m in \u001b[0;36mpandas._libs.lib.map_infer\u001b[0;34m()\u001b[0m\n",
            "\u001b[0;32m<ipython-input-8-4c2bbe61e019>\u001b[0m in \u001b[0;36m<lambda>\u001b[0;34m(x)\u001b[0m\n\u001b[1;32m      1\u001b[0m \u001b[0;31m# Creating a lambda expression for datetime parsing\u001b[0m\u001b[0;34m\u001b[0m\u001b[0;34m\u001b[0m\u001b[0;34m\u001b[0m\u001b[0m\n\u001b[0;32m----> 2\u001b[0;31m \u001b[0mdateparse\u001b[0m \u001b[0;34m=\u001b[0m \u001b[0;32mlambda\u001b[0m \u001b[0mx\u001b[0m\u001b[0;34m:\u001b[0m \u001b[0mdatetime\u001b[0m\u001b[0;34m.\u001b[0m\u001b[0mstrptime\u001b[0m\u001b[0;34m(\u001b[0m\u001b[0mx\u001b[0m\u001b[0;34m,\u001b[0m \u001b[0;34m\"%m/%d/%Y %H:%M:%S %p\"\u001b[0m\u001b[0;34m)\u001b[0m\u001b[0;34m\u001b[0m\u001b[0;34m\u001b[0m\u001b[0m\n\u001b[0m",
            "\u001b[0;32m/usr/lib/python3.7/_strptime.py\u001b[0m in \u001b[0;36m_strptime_datetime\u001b[0;34m(cls, data_string, format)\u001b[0m\n\u001b[1;32m    575\u001b[0m     \"\"\"Return a class cls instance based on the input string and the\n\u001b[1;32m    576\u001b[0m     format string.\"\"\"\n\u001b[0;32m--> 577\u001b[0;31m     \u001b[0mtt\u001b[0m\u001b[0;34m,\u001b[0m \u001b[0mfraction\u001b[0m\u001b[0;34m,\u001b[0m \u001b[0mgmtoff_fraction\u001b[0m \u001b[0;34m=\u001b[0m \u001b[0m_strptime\u001b[0m\u001b[0;34m(\u001b[0m\u001b[0mdata_string\u001b[0m\u001b[0;34m,\u001b[0m \u001b[0mformat\u001b[0m\u001b[0;34m)\u001b[0m\u001b[0;34m\u001b[0m\u001b[0;34m\u001b[0m\u001b[0m\n\u001b[0m\u001b[1;32m    578\u001b[0m     \u001b[0mtzname\u001b[0m\u001b[0;34m,\u001b[0m \u001b[0mgmtoff\u001b[0m \u001b[0;34m=\u001b[0m \u001b[0mtt\u001b[0m\u001b[0;34m[\u001b[0m\u001b[0;34m-\u001b[0m\u001b[0;36m2\u001b[0m\u001b[0;34m:\u001b[0m\u001b[0;34m]\u001b[0m\u001b[0;34m\u001b[0m\u001b[0;34m\u001b[0m\u001b[0m\n\u001b[1;32m    579\u001b[0m     \u001b[0margs\u001b[0m \u001b[0;34m=\u001b[0m \u001b[0mtt\u001b[0m\u001b[0;34m[\u001b[0m\u001b[0;34m:\u001b[0m\u001b[0;36m6\u001b[0m\u001b[0;34m]\u001b[0m \u001b[0;34m+\u001b[0m \u001b[0;34m(\u001b[0m\u001b[0mfraction\u001b[0m\u001b[0;34m,\u001b[0m\u001b[0;34m)\u001b[0m\u001b[0;34m\u001b[0m\u001b[0;34m\u001b[0m\u001b[0m\n",
            "\u001b[0;32m/usr/lib/python3.7/_strptime.py\u001b[0m in \u001b[0;36m_strptime\u001b[0;34m(data_string, format)\u001b[0m\n\u001b[1;32m    357\u001b[0m     \u001b[0;32mif\u001b[0m \u001b[0;32mnot\u001b[0m \u001b[0mfound\u001b[0m\u001b[0;34m:\u001b[0m\u001b[0;34m\u001b[0m\u001b[0;34m\u001b[0m\u001b[0m\n\u001b[1;32m    358\u001b[0m         raise ValueError(\"time data %r does not match format %r\" %\n\u001b[0;32m--> 359\u001b[0;31m                          (data_string, format))\n\u001b[0m\u001b[1;32m    360\u001b[0m     \u001b[0;32mif\u001b[0m \u001b[0mlen\u001b[0m\u001b[0;34m(\u001b[0m\u001b[0mdata_string\u001b[0m\u001b[0;34m)\u001b[0m \u001b[0;34m!=\u001b[0m \u001b[0mfound\u001b[0m\u001b[0;34m.\u001b[0m\u001b[0mend\u001b[0m\u001b[0;34m(\u001b[0m\u001b[0;34m)\u001b[0m\u001b[0;34m:\u001b[0m\u001b[0;34m\u001b[0m\u001b[0;34m\u001b[0m\u001b[0m\n\u001b[1;32m    361\u001b[0m         raise ValueError(\"unconverted data remains: %s\" %\n",
            "\u001b[0;31mValueError\u001b[0m: time data 'TOTAL' does not match format '%m/%d/%Y %H:%M:%S %p'"
          ]
        }
      ],
      "source": [
        "# Applying the validation to all values in column\n",
        "homicides_df[\"FECHA\"].apply(dateparse)\n",
        "\n",
        "# IT IS EXPECTED TO HAVE AN ERROR INTENTIONALLY"
      ]
    },
    {
      "cell_type": "code",
      "execution_count": 10,
      "metadata": {
        "id": "mWwOcTpSepj5"
      },
      "outputs": [],
      "source": [
        "# Creating a function for validating which value is causing the previous error\n",
        "def error_in_format(x):\n",
        "    try:\n",
        "        datetime.strptime(x, \"%m/%d/%Y %H:%M:%S %p\")\n",
        "        return False\n",
        "    except:\n",
        "        return True"
      ]
    },
    {
      "cell_type": "code",
      "execution_count": 11,
      "metadata": {
        "id": "nW3OjBYMepj5",
        "colab": {
          "base_uri": "https://localhost:8080/",
          "height": 81
        },
        "outputId": "b5df533b-2ad1-4702-efb4-c5476f531e1f"
      },
      "outputs": [
        {
          "output_type": "execute_result",
          "data": {
            "text/plain": [
              "       FECHA DEPARTAMENTO MUNICIPIO  DIA HORA BARRIO ZONA CLASE DE SITIO  \\\n",
              "12399  TOTAL          NaN       NaN  NaN  NaN    NaN  NaN            NaN   \n",
              "\n",
              "      ARMA O MEDIO MOVIL VICTIMA MOVIL AGRESOR  EDAD GENERO ESTADO CIVIL  \\\n",
              "12399          NaN           NaN           NaN   NaN    NaN          NaN   \n",
              "\n",
              "      CLASE EMPLEADO PROFESION ESCOLARIDAD PAIS NACE  CODIGO DANE  \\\n",
              "12399            NaN       NaN         NaN       NaN          NaN   \n",
              "\n",
              "       AÑO DE NACIMIENTO CÉDULA CORREO  \n",
              "12399                NaN    NaN    NaN  "
            ],
            "text/html": [
              "\n",
              "  <div id=\"df-af3ddce4-2248-4cfd-bfe7-2350256474c8\">\n",
              "    <div class=\"colab-df-container\">\n",
              "      <div>\n",
              "<style scoped>\n",
              "    .dataframe tbody tr th:only-of-type {\n",
              "        vertical-align: middle;\n",
              "    }\n",
              "\n",
              "    .dataframe tbody tr th {\n",
              "        vertical-align: top;\n",
              "    }\n",
              "\n",
              "    .dataframe thead th {\n",
              "        text-align: right;\n",
              "    }\n",
              "</style>\n",
              "<table border=\"1\" class=\"dataframe\">\n",
              "  <thead>\n",
              "    <tr style=\"text-align: right;\">\n",
              "      <th></th>\n",
              "      <th>FECHA</th>\n",
              "      <th>DEPARTAMENTO</th>\n",
              "      <th>MUNICIPIO</th>\n",
              "      <th>DIA</th>\n",
              "      <th>HORA</th>\n",
              "      <th>BARRIO</th>\n",
              "      <th>ZONA</th>\n",
              "      <th>CLASE DE SITIO</th>\n",
              "      <th>ARMA O MEDIO</th>\n",
              "      <th>MOVIL VICTIMA</th>\n",
              "      <th>MOVIL AGRESOR</th>\n",
              "      <th>EDAD</th>\n",
              "      <th>GENERO</th>\n",
              "      <th>ESTADO CIVIL</th>\n",
              "      <th>CLASE EMPLEADO</th>\n",
              "      <th>PROFESION</th>\n",
              "      <th>ESCOLARIDAD</th>\n",
              "      <th>PAIS NACE</th>\n",
              "      <th>CODIGO DANE</th>\n",
              "      <th>AÑO DE NACIMIENTO</th>\n",
              "      <th>CÉDULA</th>\n",
              "      <th>CORREO</th>\n",
              "    </tr>\n",
              "  </thead>\n",
              "  <tbody>\n",
              "    <tr>\n",
              "      <th>12399</th>\n",
              "      <td>TOTAL</td>\n",
              "      <td>NaN</td>\n",
              "      <td>NaN</td>\n",
              "      <td>NaN</td>\n",
              "      <td>NaN</td>\n",
              "      <td>NaN</td>\n",
              "      <td>NaN</td>\n",
              "      <td>NaN</td>\n",
              "      <td>NaN</td>\n",
              "      <td>NaN</td>\n",
              "      <td>NaN</td>\n",
              "      <td>NaN</td>\n",
              "      <td>NaN</td>\n",
              "      <td>NaN</td>\n",
              "      <td>NaN</td>\n",
              "      <td>NaN</td>\n",
              "      <td>NaN</td>\n",
              "      <td>NaN</td>\n",
              "      <td>NaN</td>\n",
              "      <td>NaN</td>\n",
              "      <td>NaN</td>\n",
              "      <td>NaN</td>\n",
              "    </tr>\n",
              "  </tbody>\n",
              "</table>\n",
              "</div>\n",
              "      <button class=\"colab-df-convert\" onclick=\"convertToInteractive('df-af3ddce4-2248-4cfd-bfe7-2350256474c8')\"\n",
              "              title=\"Convert this dataframe to an interactive table.\"\n",
              "              style=\"display:none;\">\n",
              "        \n",
              "  <svg xmlns=\"http://www.w3.org/2000/svg\" height=\"24px\"viewBox=\"0 0 24 24\"\n",
              "       width=\"24px\">\n",
              "    <path d=\"M0 0h24v24H0V0z\" fill=\"none\"/>\n",
              "    <path d=\"M18.56 5.44l.94 2.06.94-2.06 2.06-.94-2.06-.94-.94-2.06-.94 2.06-2.06.94zm-11 1L8.5 8.5l.94-2.06 2.06-.94-2.06-.94L8.5 2.5l-.94 2.06-2.06.94zm10 10l.94 2.06.94-2.06 2.06-.94-2.06-.94-.94-2.06-.94 2.06-2.06.94z\"/><path d=\"M17.41 7.96l-1.37-1.37c-.4-.4-.92-.59-1.43-.59-.52 0-1.04.2-1.43.59L10.3 9.45l-7.72 7.72c-.78.78-.78 2.05 0 2.83L4 21.41c.39.39.9.59 1.41.59.51 0 1.02-.2 1.41-.59l7.78-7.78 2.81-2.81c.8-.78.8-2.07 0-2.86zM5.41 20L4 18.59l7.72-7.72 1.47 1.35L5.41 20z\"/>\n",
              "  </svg>\n",
              "      </button>\n",
              "      \n",
              "  <style>\n",
              "    .colab-df-container {\n",
              "      display:flex;\n",
              "      flex-wrap:wrap;\n",
              "      gap: 12px;\n",
              "    }\n",
              "\n",
              "    .colab-df-convert {\n",
              "      background-color: #E8F0FE;\n",
              "      border: none;\n",
              "      border-radius: 50%;\n",
              "      cursor: pointer;\n",
              "      display: none;\n",
              "      fill: #1967D2;\n",
              "      height: 32px;\n",
              "      padding: 0 0 0 0;\n",
              "      width: 32px;\n",
              "    }\n",
              "\n",
              "    .colab-df-convert:hover {\n",
              "      background-color: #E2EBFA;\n",
              "      box-shadow: 0px 1px 2px rgba(60, 64, 67, 0.3), 0px 1px 3px 1px rgba(60, 64, 67, 0.15);\n",
              "      fill: #174EA6;\n",
              "    }\n",
              "\n",
              "    [theme=dark] .colab-df-convert {\n",
              "      background-color: #3B4455;\n",
              "      fill: #D2E3FC;\n",
              "    }\n",
              "\n",
              "    [theme=dark] .colab-df-convert:hover {\n",
              "      background-color: #434B5C;\n",
              "      box-shadow: 0px 1px 3px 1px rgba(0, 0, 0, 0.15);\n",
              "      filter: drop-shadow(0px 1px 2px rgba(0, 0, 0, 0.3));\n",
              "      fill: #FFFFFF;\n",
              "    }\n",
              "  </style>\n",
              "\n",
              "      <script>\n",
              "        const buttonEl =\n",
              "          document.querySelector('#df-af3ddce4-2248-4cfd-bfe7-2350256474c8 button.colab-df-convert');\n",
              "        buttonEl.style.display =\n",
              "          google.colab.kernel.accessAllowed ? 'block' : 'none';\n",
              "\n",
              "        async function convertToInteractive(key) {\n",
              "          const element = document.querySelector('#df-af3ddce4-2248-4cfd-bfe7-2350256474c8');\n",
              "          const dataTable =\n",
              "            await google.colab.kernel.invokeFunction('convertToInteractive',\n",
              "                                                     [key], {});\n",
              "          if (!dataTable) return;\n",
              "\n",
              "          const docLinkHtml = 'Like what you see? Visit the ' +\n",
              "            '<a target=\"_blank\" href=https://colab.research.google.com/notebooks/data_table.ipynb>data table notebook</a>'\n",
              "            + ' to learn more about interactive tables.';\n",
              "          element.innerHTML = '';\n",
              "          dataTable['output_type'] = 'display_data';\n",
              "          await google.colab.output.renderOutput(dataTable, element);\n",
              "          const docLink = document.createElement('div');\n",
              "          docLink.innerHTML = docLinkHtml;\n",
              "          element.appendChild(docLink);\n",
              "        }\n",
              "      </script>\n",
              "    </div>\n",
              "  </div>\n",
              "  "
            ]
          },
          "metadata": {},
          "execution_count": 11
        }
      ],
      "source": [
        "# Using the function for validation\n",
        "homicides_df.loc[homicides_df[\"FECHA\"].apply(error_in_format)]\n",
        "\n",
        "# THE LAST ROW IS CAUSING THE ERROR"
      ]
    },
    {
      "cell_type": "code",
      "execution_count": 12,
      "metadata": {
        "id": "NosK-wkZepj6"
      },
      "outputs": [],
      "source": [
        "# Deleting a row by its index\n",
        "homicides_df.drop(12399, inplace = True)"
      ]
    },
    {
      "cell_type": "code",
      "execution_count": 13,
      "metadata": {
        "id": "M1kmVFkrepj7"
      },
      "outputs": [],
      "source": [
        "# Trying to parse the datetime string again\n",
        "homicides_df[\"FECHA\"] = homicides_df[\"FECHA\"].apply(dateparse)"
      ]
    },
    {
      "cell_type": "code",
      "execution_count": 14,
      "metadata": {
        "id": "3prerP8Bepj7",
        "colab": {
          "base_uri": "https://localhost:8080/"
        },
        "outputId": "3e72711d-33ea-438d-d1c0-915c172a2dcc"
      },
      "outputs": [
        {
          "output_type": "execute_result",
          "data": {
            "text/plain": [
              "12    12399\n",
              "Name: FECHA, dtype: int64"
            ]
          },
          "metadata": {},
          "execution_count": 14
        }
      ],
      "source": [
        "# Counting homicides by hour\n",
        "homicides_df[\"FECHA\"].dt.hour.value_counts()\n",
        "\n",
        "# All datetime hour parts are the same"
      ]
    },
    {
      "cell_type": "code",
      "execution_count": 15,
      "metadata": {
        "id": "L0IPQf0Fepj7"
      },
      "outputs": [],
      "source": [
        "# The homicide hour is available in a different column!\n",
        "# Merging both columns\n",
        "homicides_df[\"FECHA\"] = homicides_df[\"FECHA\"].astype(str).apply(lambda x: x[:11]) + homicides_df[\"HORA\"]"
      ]
    },
    {
      "cell_type": "code",
      "execution_count": 16,
      "metadata": {
        "id": "gM31jqB3epj8"
      },
      "outputs": [],
      "source": [
        "del homicides_df[\"HORA\"]"
      ]
    },
    {
      "cell_type": "code",
      "execution_count": 17,
      "metadata": {
        "id": "TxB_7e4Cepj8",
        "colab": {
          "base_uri": "https://localhost:8080/"
        },
        "outputId": "dcb02c90-26bc-414f-f121-d4ed86a2cb6b"
      },
      "outputs": [
        {
          "output_type": "execute_result",
          "data": {
            "text/plain": [
              "0     2021-01-01 6:00\n",
              "1     2021-01-01 9:00\n",
              "2    2021-01-01 19:00\n",
              "3    2021-01-01 11:20\n",
              "4    2021-01-01 15:00\n",
              "Name: FECHA, dtype: object"
            ]
          },
          "metadata": {},
          "execution_count": 17
        }
      ],
      "source": [
        "homicides_df[\"FECHA\"].head()"
      ]
    },
    {
      "cell_type": "code",
      "execution_count": 18,
      "metadata": {
        "id": "3nDSKufYepj8"
      },
      "outputs": [],
      "source": [
        "# Making a new expression for datetime parsing\n",
        "dateparse = lambda x: datetime.strptime(x, \"%Y-%m-%d %H:%M\")"
      ]
    },
    {
      "cell_type": "code",
      "execution_count": 19,
      "metadata": {
        "id": "wM-oueq5epj9"
      },
      "outputs": [],
      "source": [
        "# Applying the expression\n",
        "homicides_df[\"FECHA\"] = homicides_df[\"FECHA\"].apply(dateparse)"
      ]
    },
    {
      "cell_type": "code",
      "execution_count": 20,
      "metadata": {
        "id": "_FqTAlHNepj9",
        "colab": {
          "base_uri": "https://localhost:8080/"
        },
        "outputId": "2b5ef969-92d0-491f-84e5-26eccb2ee5b5"
      },
      "outputs": [
        {
          "output_type": "execute_result",
          "data": {
            "text/plain": [
              "FECHA                datetime64[ns]\n",
              "DEPARTAMENTO                 object\n",
              "MUNICIPIO                    object\n",
              "DIA                          object\n",
              "BARRIO                       object\n",
              "ZONA                         object\n",
              "CLASE DE SITIO               object\n",
              "ARMA O MEDIO                 object\n",
              "MOVIL VICTIMA                object\n",
              "MOVIL AGRESOR                object\n",
              "EDAD                        float64\n",
              "GENERO                       object\n",
              "ESTADO CIVIL                 object\n",
              "CLASE EMPLEADO               object\n",
              "PROFESION                    object\n",
              "ESCOLARIDAD                  object\n",
              "PAIS NACE                    object\n",
              "CODIGO DANE                 float64\n",
              "AÑO DE NACIMIENTO           float64\n",
              "CÉDULA                       object\n",
              "CORREO                       object\n",
              "dtype: object"
            ]
          },
          "metadata": {},
          "execution_count": 20
        }
      ],
      "source": [
        "homicides_df.dtypes"
      ]
    },
    {
      "cell_type": "code",
      "execution_count": 21,
      "metadata": {
        "id": "9VdTYR22epj9",
        "colab": {
          "base_uri": "https://localhost:8080/",
          "height": 371
        },
        "outputId": "8f3ed13f-e2cb-4606-fc49-25fd2cebe2ee"
      },
      "outputs": [
        {
          "output_type": "execute_result",
          "data": {
            "text/plain": [
              "                FECHA DEPARTAMENTO      MUNICIPIO     DIA  \\\n",
              "0 2021-01-01 06:00:00    ANTIOQUIA          AMAGÁ  Jueves   \n",
              "1 2021-01-01 09:00:00    ANTIOQUIA        BARBOSA  Jueves   \n",
              "2 2021-01-01 19:00:00    ANTIOQUIA       EL BAGRE  Jueves   \n",
              "3 2021-01-01 11:20:00    ANTIOQUIA         JARDÍN  Jueves   \n",
              "4 2021-01-01 15:00:00    ANTIOQUIA  MEDELLÍN (CT)   Juees   \n",
              "\n",
              "                     BARRIO    ZONA                      CLASE DE SITIO  \\\n",
              "0                 EL VOLCAN   RURAL                              TIENDA   \n",
              "1            VDA. MATASANOS   RURAL                       VIAS PUBLICAS   \n",
              "2             PUERTO CLAVER   RURAL                  FINCAS Y SIMILARES   \n",
              "3                CRISTIANIA   RURAL                  FINCAS Y SIMILARES   \n",
              "4  PICACHITO CNO REPORTADO6  URBANA  FRENTE A RESIDENCIAS - VIA PUBLICA   \n",
              "\n",
              "   ARMA O MEDIO MOVIL VICTIMA MOVIL AGRESOR  EDAD     GENERO ESTADO CIVIL  \\\n",
              "0   ARMA BLANCA         A PIE         A PIE  44.0  MASCULINO       CASADO   \n",
              "1   ARMA BLANCA         A PIE         A PIE  30.0  MASCULINO      SOLTERO   \n",
              "2   ARMA BLANCA         A PIE         A PIE  33.0  MASCULINO  UNION LIBRE   \n",
              "3   ARMA BLANCA         A PIE         A PIE  40.0  MASCULINO       CASADO   \n",
              "4  CONTUNDENTES         A PIE         A PIE  66.0  MASCULINO  UNION LIBRE   \n",
              "\n",
              "  CLASE EMPLEADO     PROFESION ESCOLARIDAD     PAIS NACE  CODIGO DANE  \\\n",
              "0  INDEPENDIENTE  NO REPORTADO    PRIMARIA      COLOMBIA    5030000.0   \n",
              "1    DESEMPLEADO  NO REPORTADO  SECUNDARIA  NO REPORTADO    5079000.0   \n",
              "2     AGRICULTOR  NO REPORTADO    PRIMARIA      COLOMBIA    5250000.0   \n",
              "3     AGRICULTOR  NO REPORTADO    PRIMARIA      COLOMBIA    5364000.0   \n",
              "4    DESEMPLEADO  NO REPORTADO    PRIMARIA      COLOMBIA    5001000.0   \n",
              "\n",
              "   AÑO DE NACIMIENTO  CÉDULA                      CORREO  \n",
              "0             1971.0  42-908  agbnqg2122@unidatos.edu.co  \n",
              "1             1985.0  15-183        rbkeui3584@gmail.com  \n",
              "2             1982.0  84-786  aorkhf9155@unidatos.edu.co  \n",
              "3             1975.0  31-289  dhtemr6623@unidatos.edu.co  \n",
              "4             1949.0  66-363  artatj9268@unidatos.edu.co  "
            ],
            "text/html": [
              "\n",
              "  <div id=\"df-d07c3414-9fcd-400f-9852-fdf78f98991b\">\n",
              "    <div class=\"colab-df-container\">\n",
              "      <div>\n",
              "<style scoped>\n",
              "    .dataframe tbody tr th:only-of-type {\n",
              "        vertical-align: middle;\n",
              "    }\n",
              "\n",
              "    .dataframe tbody tr th {\n",
              "        vertical-align: top;\n",
              "    }\n",
              "\n",
              "    .dataframe thead th {\n",
              "        text-align: right;\n",
              "    }\n",
              "</style>\n",
              "<table border=\"1\" class=\"dataframe\">\n",
              "  <thead>\n",
              "    <tr style=\"text-align: right;\">\n",
              "      <th></th>\n",
              "      <th>FECHA</th>\n",
              "      <th>DEPARTAMENTO</th>\n",
              "      <th>MUNICIPIO</th>\n",
              "      <th>DIA</th>\n",
              "      <th>BARRIO</th>\n",
              "      <th>ZONA</th>\n",
              "      <th>CLASE DE SITIO</th>\n",
              "      <th>ARMA O MEDIO</th>\n",
              "      <th>MOVIL VICTIMA</th>\n",
              "      <th>MOVIL AGRESOR</th>\n",
              "      <th>EDAD</th>\n",
              "      <th>GENERO</th>\n",
              "      <th>ESTADO CIVIL</th>\n",
              "      <th>CLASE EMPLEADO</th>\n",
              "      <th>PROFESION</th>\n",
              "      <th>ESCOLARIDAD</th>\n",
              "      <th>PAIS NACE</th>\n",
              "      <th>CODIGO DANE</th>\n",
              "      <th>AÑO DE NACIMIENTO</th>\n",
              "      <th>CÉDULA</th>\n",
              "      <th>CORREO</th>\n",
              "    </tr>\n",
              "  </thead>\n",
              "  <tbody>\n",
              "    <tr>\n",
              "      <th>0</th>\n",
              "      <td>2021-01-01 06:00:00</td>\n",
              "      <td>ANTIOQUIA</td>\n",
              "      <td>AMAGÁ</td>\n",
              "      <td>Jueves</td>\n",
              "      <td>EL VOLCAN</td>\n",
              "      <td>RURAL</td>\n",
              "      <td>TIENDA</td>\n",
              "      <td>ARMA BLANCA</td>\n",
              "      <td>A PIE</td>\n",
              "      <td>A PIE</td>\n",
              "      <td>44.0</td>\n",
              "      <td>MASCULINO</td>\n",
              "      <td>CASADO</td>\n",
              "      <td>INDEPENDIENTE</td>\n",
              "      <td>NO REPORTADO</td>\n",
              "      <td>PRIMARIA</td>\n",
              "      <td>COLOMBIA</td>\n",
              "      <td>5030000.0</td>\n",
              "      <td>1971.0</td>\n",
              "      <td>42-908</td>\n",
              "      <td>agbnqg2122@unidatos.edu.co</td>\n",
              "    </tr>\n",
              "    <tr>\n",
              "      <th>1</th>\n",
              "      <td>2021-01-01 09:00:00</td>\n",
              "      <td>ANTIOQUIA</td>\n",
              "      <td>BARBOSA</td>\n",
              "      <td>Jueves</td>\n",
              "      <td>VDA. MATASANOS</td>\n",
              "      <td>RURAL</td>\n",
              "      <td>VIAS PUBLICAS</td>\n",
              "      <td>ARMA BLANCA</td>\n",
              "      <td>A PIE</td>\n",
              "      <td>A PIE</td>\n",
              "      <td>30.0</td>\n",
              "      <td>MASCULINO</td>\n",
              "      <td>SOLTERO</td>\n",
              "      <td>DESEMPLEADO</td>\n",
              "      <td>NO REPORTADO</td>\n",
              "      <td>SECUNDARIA</td>\n",
              "      <td>NO REPORTADO</td>\n",
              "      <td>5079000.0</td>\n",
              "      <td>1985.0</td>\n",
              "      <td>15-183</td>\n",
              "      <td>rbkeui3584@gmail.com</td>\n",
              "    </tr>\n",
              "    <tr>\n",
              "      <th>2</th>\n",
              "      <td>2021-01-01 19:00:00</td>\n",
              "      <td>ANTIOQUIA</td>\n",
              "      <td>EL BAGRE</td>\n",
              "      <td>Jueves</td>\n",
              "      <td>PUERTO CLAVER</td>\n",
              "      <td>RURAL</td>\n",
              "      <td>FINCAS Y SIMILARES</td>\n",
              "      <td>ARMA BLANCA</td>\n",
              "      <td>A PIE</td>\n",
              "      <td>A PIE</td>\n",
              "      <td>33.0</td>\n",
              "      <td>MASCULINO</td>\n",
              "      <td>UNION LIBRE</td>\n",
              "      <td>AGRICULTOR</td>\n",
              "      <td>NO REPORTADO</td>\n",
              "      <td>PRIMARIA</td>\n",
              "      <td>COLOMBIA</td>\n",
              "      <td>5250000.0</td>\n",
              "      <td>1982.0</td>\n",
              "      <td>84-786</td>\n",
              "      <td>aorkhf9155@unidatos.edu.co</td>\n",
              "    </tr>\n",
              "    <tr>\n",
              "      <th>3</th>\n",
              "      <td>2021-01-01 11:20:00</td>\n",
              "      <td>ANTIOQUIA</td>\n",
              "      <td>JARDÍN</td>\n",
              "      <td>Jueves</td>\n",
              "      <td>CRISTIANIA</td>\n",
              "      <td>RURAL</td>\n",
              "      <td>FINCAS Y SIMILARES</td>\n",
              "      <td>ARMA BLANCA</td>\n",
              "      <td>A PIE</td>\n",
              "      <td>A PIE</td>\n",
              "      <td>40.0</td>\n",
              "      <td>MASCULINO</td>\n",
              "      <td>CASADO</td>\n",
              "      <td>AGRICULTOR</td>\n",
              "      <td>NO REPORTADO</td>\n",
              "      <td>PRIMARIA</td>\n",
              "      <td>COLOMBIA</td>\n",
              "      <td>5364000.0</td>\n",
              "      <td>1975.0</td>\n",
              "      <td>31-289</td>\n",
              "      <td>dhtemr6623@unidatos.edu.co</td>\n",
              "    </tr>\n",
              "    <tr>\n",
              "      <th>4</th>\n",
              "      <td>2021-01-01 15:00:00</td>\n",
              "      <td>ANTIOQUIA</td>\n",
              "      <td>MEDELLÍN (CT)</td>\n",
              "      <td>Juees</td>\n",
              "      <td>PICACHITO CNO REPORTADO6</td>\n",
              "      <td>URBANA</td>\n",
              "      <td>FRENTE A RESIDENCIAS - VIA PUBLICA</td>\n",
              "      <td>CONTUNDENTES</td>\n",
              "      <td>A PIE</td>\n",
              "      <td>A PIE</td>\n",
              "      <td>66.0</td>\n",
              "      <td>MASCULINO</td>\n",
              "      <td>UNION LIBRE</td>\n",
              "      <td>DESEMPLEADO</td>\n",
              "      <td>NO REPORTADO</td>\n",
              "      <td>PRIMARIA</td>\n",
              "      <td>COLOMBIA</td>\n",
              "      <td>5001000.0</td>\n",
              "      <td>1949.0</td>\n",
              "      <td>66-363</td>\n",
              "      <td>artatj9268@unidatos.edu.co</td>\n",
              "    </tr>\n",
              "  </tbody>\n",
              "</table>\n",
              "</div>\n",
              "      <button class=\"colab-df-convert\" onclick=\"convertToInteractive('df-d07c3414-9fcd-400f-9852-fdf78f98991b')\"\n",
              "              title=\"Convert this dataframe to an interactive table.\"\n",
              "              style=\"display:none;\">\n",
              "        \n",
              "  <svg xmlns=\"http://www.w3.org/2000/svg\" height=\"24px\"viewBox=\"0 0 24 24\"\n",
              "       width=\"24px\">\n",
              "    <path d=\"M0 0h24v24H0V0z\" fill=\"none\"/>\n",
              "    <path d=\"M18.56 5.44l.94 2.06.94-2.06 2.06-.94-2.06-.94-.94-2.06-.94 2.06-2.06.94zm-11 1L8.5 8.5l.94-2.06 2.06-.94-2.06-.94L8.5 2.5l-.94 2.06-2.06.94zm10 10l.94 2.06.94-2.06 2.06-.94-2.06-.94-.94-2.06-.94 2.06-2.06.94z\"/><path d=\"M17.41 7.96l-1.37-1.37c-.4-.4-.92-.59-1.43-.59-.52 0-1.04.2-1.43.59L10.3 9.45l-7.72 7.72c-.78.78-.78 2.05 0 2.83L4 21.41c.39.39.9.59 1.41.59.51 0 1.02-.2 1.41-.59l7.78-7.78 2.81-2.81c.8-.78.8-2.07 0-2.86zM5.41 20L4 18.59l7.72-7.72 1.47 1.35L5.41 20z\"/>\n",
              "  </svg>\n",
              "      </button>\n",
              "      \n",
              "  <style>\n",
              "    .colab-df-container {\n",
              "      display:flex;\n",
              "      flex-wrap:wrap;\n",
              "      gap: 12px;\n",
              "    }\n",
              "\n",
              "    .colab-df-convert {\n",
              "      background-color: #E8F0FE;\n",
              "      border: none;\n",
              "      border-radius: 50%;\n",
              "      cursor: pointer;\n",
              "      display: none;\n",
              "      fill: #1967D2;\n",
              "      height: 32px;\n",
              "      padding: 0 0 0 0;\n",
              "      width: 32px;\n",
              "    }\n",
              "\n",
              "    .colab-df-convert:hover {\n",
              "      background-color: #E2EBFA;\n",
              "      box-shadow: 0px 1px 2px rgba(60, 64, 67, 0.3), 0px 1px 3px 1px rgba(60, 64, 67, 0.15);\n",
              "      fill: #174EA6;\n",
              "    }\n",
              "\n",
              "    [theme=dark] .colab-df-convert {\n",
              "      background-color: #3B4455;\n",
              "      fill: #D2E3FC;\n",
              "    }\n",
              "\n",
              "    [theme=dark] .colab-df-convert:hover {\n",
              "      background-color: #434B5C;\n",
              "      box-shadow: 0px 1px 3px 1px rgba(0, 0, 0, 0.15);\n",
              "      filter: drop-shadow(0px 1px 2px rgba(0, 0, 0, 0.3));\n",
              "      fill: #FFFFFF;\n",
              "    }\n",
              "  </style>\n",
              "\n",
              "      <script>\n",
              "        const buttonEl =\n",
              "          document.querySelector('#df-d07c3414-9fcd-400f-9852-fdf78f98991b button.colab-df-convert');\n",
              "        buttonEl.style.display =\n",
              "          google.colab.kernel.accessAllowed ? 'block' : 'none';\n",
              "\n",
              "        async function convertToInteractive(key) {\n",
              "          const element = document.querySelector('#df-d07c3414-9fcd-400f-9852-fdf78f98991b');\n",
              "          const dataTable =\n",
              "            await google.colab.kernel.invokeFunction('convertToInteractive',\n",
              "                                                     [key], {});\n",
              "          if (!dataTable) return;\n",
              "\n",
              "          const docLinkHtml = 'Like what you see? Visit the ' +\n",
              "            '<a target=\"_blank\" href=https://colab.research.google.com/notebooks/data_table.ipynb>data table notebook</a>'\n",
              "            + ' to learn more about interactive tables.';\n",
              "          element.innerHTML = '';\n",
              "          dataTable['output_type'] = 'display_data';\n",
              "          await google.colab.output.renderOutput(dataTable, element);\n",
              "          const docLink = document.createElement('div');\n",
              "          docLink.innerHTML = docLinkHtml;\n",
              "          element.appendChild(docLink);\n",
              "        }\n",
              "      </script>\n",
              "    </div>\n",
              "  </div>\n",
              "  "
            ]
          },
          "metadata": {},
          "execution_count": 21
        }
      ],
      "source": [
        "homicides_df.head()"
      ]
    },
    {
      "cell_type": "code",
      "execution_count": 22,
      "metadata": {
        "id": "o2NYGWlyepj-"
      },
      "outputs": [],
      "source": [
        "# Creating a dictionary representing the valid departments for Colombia\n",
        "departments_list = ['ANTIOQUIA', 'ATLÁNTICO', 'BOLÍVAR', 'BOYACÁ', 'CALDAS', 'CAQUETÁ',\n",
        "       'CASANARE', 'CAUCA', 'CESAR', 'CHOCÓ', 'CÓRDOBA', 'META',\n",
        "       'CUNDINAMARCA', 'HUILA', 'MAGDALENA', 'NARIÑO', 'PUTUMAYO',\n",
        "       'RISARALDA', 'SANTANDER', 'SUCRE', 'TOLIMA', 'VALLE',\n",
        "       'NORTE DE SANTANDER', 'GUAJIRA', 'QUINDÍO', 'SAN ANDRÉS Y PROVIDENCIA', 'ARAUCA',\n",
        "       'GUAINÍA', 'VICHADA', 'VAUPÉS', 'GUAVIARE', 'AMAZONAS']"
      ]
    },
    {
      "cell_type": "code",
      "execution_count": 23,
      "metadata": {
        "id": "qHmGUkZaepj-",
        "colab": {
          "base_uri": "https://localhost:8080/"
        },
        "outputId": "18bc9aeb-b861-4bbf-8e92-4b0dcdc6518a"
      },
      "outputs": [
        {
          "output_type": "execute_result",
          "data": {
            "text/plain": [
              "array(['SAN ANDRÉS', 'N. DE SANTANDER'], dtype=object)"
            ]
          },
          "metadata": {},
          "execution_count": 23
        }
      ],
      "source": [
        "# Finding values not matching with the dictionary\n",
        "homicides_df.loc[~homicides_df[\"DEPARTAMENTO\"].isin(departments_list), \"DEPARTAMENTO\"].unique()"
      ]
    },
    {
      "cell_type": "markdown",
      "metadata": {
        "id": "vLTGzj7uepj-"
      },
      "source": [
        "<span style=\"color:red\">TODO: Replace the values identified as error to a valid value from the dictionary</span>\n",
        "\n",
        "<span style=\"color:red\">Hint: You can use the replace() pandas function</span>"
      ]
    },
    {
      "cell_type": "code",
      "execution_count": 24,
      "metadata": {
        "id": "iXwrzudKepj_"
      },
      "outputs": [],
      "source": [
        "homicides_df[\"DEPARTAMENTO\"] = homicides_df[\"DEPARTAMENTO\"].replace({'SAN ANDRÉS': 'SAN ANDRÉS Y PROVIDENCIA', 'N. DE SANTANDER': 'NORTE DE SANTANDER'})"
      ]
    },
    {
      "cell_type": "code",
      "source": [
        "# Finding values not matching with the dictionary\n",
        "homicides_df.loc[~homicides_df[\"DEPARTAMENTO\"].isin(departments_list), \"DEPARTAMENTO\"].unique()"
      ],
      "metadata": {
        "colab": {
          "base_uri": "https://localhost:8080/"
        },
        "id": "_Wx5U4KxhOFu",
        "outputId": "fb0e132e-0c61-40dc-d6cb-f2cb43456c97"
      },
      "execution_count": 25,
      "outputs": [
        {
          "output_type": "execute_result",
          "data": {
            "text/plain": [
              "array([], dtype=object)"
            ]
          },
          "metadata": {},
          "execution_count": 25
        }
      ]
    },
    {
      "cell_type": "code",
      "execution_count": 26,
      "metadata": {
        "id": "wQPZgvImepj_"
      },
      "outputs": [],
      "source": [
        "# Detecting duplicates by \"CÉDULA\" column\n",
        "duplicates_by_cedula = homicides_df.loc[homicides_df[\"CÉDULA\"].duplicated(keep = False)]"
      ]
    },
    {
      "cell_type": "code",
      "execution_count": 27,
      "metadata": {
        "id": "TtKQhsB9epj_",
        "colab": {
          "base_uri": "https://localhost:8080/"
        },
        "outputId": "3c71aeea-9c70-4010-d11e-cca413849047"
      },
      "outputs": [
        {
          "output_type": "execute_result",
          "data": {
            "text/plain": [
              "(1627, 21)"
            ]
          },
          "metadata": {},
          "execution_count": 27
        }
      ],
      "source": [
        "duplicates_by_cedula.shape"
      ]
    },
    {
      "cell_type": "code",
      "execution_count": 28,
      "metadata": {
        "id": "R4raxMF-epkA",
        "colab": {
          "base_uri": "https://localhost:8080/",
          "height": 438
        },
        "outputId": "1edb7810-fca8-4756-ce08-9b9970e00fd9"
      },
      "outputs": [
        {
          "output_type": "execute_result",
          "data": {
            "text/plain": [
              "                    FECHA DEPARTAMENTO      MUNICIPIO      DIA  \\\n",
              "4041  2021-05-03 23:30:00        CAUCA       EL TAMBO  Domingo   \n",
              "3810  2021-04-26 03:00:00    ANTIOQUIA   SAN JERÓNIMO  Domingo   \n",
              "693   2021-01-19 05:30:00    ANTIOQUIA         SALGAR    Lunes   \n",
              "10796 2021-11-20 03:00:00        VALLE      CALI (CT)  Viernes   \n",
              "2386  2021-03-14 02:00:00         META  FUENTE DE ORO   Sábado   \n",
              "138   2021-01-02 06:20:00        CAUCA         SOTARA  Viernes   \n",
              "\n",
              "                    BARRIO    ZONA                      CLASE DE SITIO  \\\n",
              "4041           LA VICTORIA   RURAL         BARES, CANTINAS Y SIMILARES   \n",
              "3810              LA PLAYA  URBANA  HOTELES, RESIDENCIAS, Y SIMILARES.   \n",
              "693              LA HABANA  URBANA                       VIAS PUBLICAS   \n",
              "10796   POTRERO GRANDE E21  URBANA                       VIAS PUBLICAS   \n",
              "2386   VEREDA PUERTO NUEVO   RURAL         BARES, CANTINAS Y SIMILARES   \n",
              "138                 CENTRO   RURAL                       VIAS PUBLICAS   \n",
              "\n",
              "             ARMA O MEDIO MOVIL VICTIMA MOVIL AGRESOR  EDAD     GENERO  \\\n",
              "4041        ARMA DE FUEGO         A PIE         A PIE  45.0  MASCULINO   \n",
              "3810   CUERDA/SOGA/CADENA         A PIE         A PIE  25.0  MASCULINO   \n",
              "693         ARMA DE FUEGO         A PIE         A PIE  58.0  MASCULINO   \n",
              "10796       ARMA DE FUEGO         A PIE         A PIE  21.0  MASCULINO   \n",
              "2386          ARMA BLANCA         A PIE         A PIE  42.0  MASCULINO   \n",
              "138           ARMA BLANCA         A PIE         A PIE  22.0  MASCULINO   \n",
              "\n",
              "      ESTADO CIVIL       CLASE EMPLEADO     PROFESION ESCOLARIDAD PAIS NACE  \\\n",
              "4041   UNION LIBRE           AGRICULTOR  NO REPORTADO    PRIMARIA  COLOMBIA   \n",
              "3810       SOLTERO        INDEPENDIENTE  NO REPORTADO  SECUNDARIA  COLOMBIA   \n",
              "693        SOLTERO           AGRICULTOR  NO REPORTADO    PRIMARIA  COLOMBIA   \n",
              "10796      SOLTERO  EMPLEADO PARTICULAR  NO REPORTADO  SECUNDARIA  COLOMBIA   \n",
              "2386       SOLTERO        INDEPENDIENTE  NO REPORTADO    PRIMARIA  COLOMBIA   \n",
              "138        SOLTERO    EMPLEADO EJERCITO  NO REPORTADO  SECUNDARIA  COLOMBIA   \n",
              "\n",
              "       CODIGO DANE  AÑO DE NACIMIENTO  CÉDULA                      CORREO  \n",
              "4041    19256000.0             1970.0  10-048        aitufn1227@gmail.com  \n",
              "3810     5656000.0             1990.0  10-048  ibbcpu2509@unidatos.edu.co  \n",
              "693      5642000.0               57.0  10-079  unhoqj1172@unidatos.edu.co  \n",
              "10796   76001000.0             1994.0  10-079  iknnoj8430@unidatos.edu.co  \n",
              "2386    50287000.0             1973.0  10-255  afompq7113@unidatos.edu.co  \n",
              "138     19760000.0             1993.0  10-255  cobgqs8819@unidatos.edu.co  "
            ],
            "text/html": [
              "\n",
              "  <div id=\"df-cfdb489b-7faf-4f6b-b473-44d53282f12d\">\n",
              "    <div class=\"colab-df-container\">\n",
              "      <div>\n",
              "<style scoped>\n",
              "    .dataframe tbody tr th:only-of-type {\n",
              "        vertical-align: middle;\n",
              "    }\n",
              "\n",
              "    .dataframe tbody tr th {\n",
              "        vertical-align: top;\n",
              "    }\n",
              "\n",
              "    .dataframe thead th {\n",
              "        text-align: right;\n",
              "    }\n",
              "</style>\n",
              "<table border=\"1\" class=\"dataframe\">\n",
              "  <thead>\n",
              "    <tr style=\"text-align: right;\">\n",
              "      <th></th>\n",
              "      <th>FECHA</th>\n",
              "      <th>DEPARTAMENTO</th>\n",
              "      <th>MUNICIPIO</th>\n",
              "      <th>DIA</th>\n",
              "      <th>BARRIO</th>\n",
              "      <th>ZONA</th>\n",
              "      <th>CLASE DE SITIO</th>\n",
              "      <th>ARMA O MEDIO</th>\n",
              "      <th>MOVIL VICTIMA</th>\n",
              "      <th>MOVIL AGRESOR</th>\n",
              "      <th>EDAD</th>\n",
              "      <th>GENERO</th>\n",
              "      <th>ESTADO CIVIL</th>\n",
              "      <th>CLASE EMPLEADO</th>\n",
              "      <th>PROFESION</th>\n",
              "      <th>ESCOLARIDAD</th>\n",
              "      <th>PAIS NACE</th>\n",
              "      <th>CODIGO DANE</th>\n",
              "      <th>AÑO DE NACIMIENTO</th>\n",
              "      <th>CÉDULA</th>\n",
              "      <th>CORREO</th>\n",
              "    </tr>\n",
              "  </thead>\n",
              "  <tbody>\n",
              "    <tr>\n",
              "      <th>4041</th>\n",
              "      <td>2021-05-03 23:30:00</td>\n",
              "      <td>CAUCA</td>\n",
              "      <td>EL TAMBO</td>\n",
              "      <td>Domingo</td>\n",
              "      <td>LA VICTORIA</td>\n",
              "      <td>RURAL</td>\n",
              "      <td>BARES, CANTINAS Y SIMILARES</td>\n",
              "      <td>ARMA DE FUEGO</td>\n",
              "      <td>A PIE</td>\n",
              "      <td>A PIE</td>\n",
              "      <td>45.0</td>\n",
              "      <td>MASCULINO</td>\n",
              "      <td>UNION LIBRE</td>\n",
              "      <td>AGRICULTOR</td>\n",
              "      <td>NO REPORTADO</td>\n",
              "      <td>PRIMARIA</td>\n",
              "      <td>COLOMBIA</td>\n",
              "      <td>19256000.0</td>\n",
              "      <td>1970.0</td>\n",
              "      <td>10-048</td>\n",
              "      <td>aitufn1227@gmail.com</td>\n",
              "    </tr>\n",
              "    <tr>\n",
              "      <th>3810</th>\n",
              "      <td>2021-04-26 03:00:00</td>\n",
              "      <td>ANTIOQUIA</td>\n",
              "      <td>SAN JERÓNIMO</td>\n",
              "      <td>Domingo</td>\n",
              "      <td>LA PLAYA</td>\n",
              "      <td>URBANA</td>\n",
              "      <td>HOTELES, RESIDENCIAS, Y SIMILARES.</td>\n",
              "      <td>CUERDA/SOGA/CADENA</td>\n",
              "      <td>A PIE</td>\n",
              "      <td>A PIE</td>\n",
              "      <td>25.0</td>\n",
              "      <td>MASCULINO</td>\n",
              "      <td>SOLTERO</td>\n",
              "      <td>INDEPENDIENTE</td>\n",
              "      <td>NO REPORTADO</td>\n",
              "      <td>SECUNDARIA</td>\n",
              "      <td>COLOMBIA</td>\n",
              "      <td>5656000.0</td>\n",
              "      <td>1990.0</td>\n",
              "      <td>10-048</td>\n",
              "      <td>ibbcpu2509@unidatos.edu.co</td>\n",
              "    </tr>\n",
              "    <tr>\n",
              "      <th>693</th>\n",
              "      <td>2021-01-19 05:30:00</td>\n",
              "      <td>ANTIOQUIA</td>\n",
              "      <td>SALGAR</td>\n",
              "      <td>Lunes</td>\n",
              "      <td>LA HABANA</td>\n",
              "      <td>URBANA</td>\n",
              "      <td>VIAS PUBLICAS</td>\n",
              "      <td>ARMA DE FUEGO</td>\n",
              "      <td>A PIE</td>\n",
              "      <td>A PIE</td>\n",
              "      <td>58.0</td>\n",
              "      <td>MASCULINO</td>\n",
              "      <td>SOLTERO</td>\n",
              "      <td>AGRICULTOR</td>\n",
              "      <td>NO REPORTADO</td>\n",
              "      <td>PRIMARIA</td>\n",
              "      <td>COLOMBIA</td>\n",
              "      <td>5642000.0</td>\n",
              "      <td>57.0</td>\n",
              "      <td>10-079</td>\n",
              "      <td>unhoqj1172@unidatos.edu.co</td>\n",
              "    </tr>\n",
              "    <tr>\n",
              "      <th>10796</th>\n",
              "      <td>2021-11-20 03:00:00</td>\n",
              "      <td>VALLE</td>\n",
              "      <td>CALI (CT)</td>\n",
              "      <td>Viernes</td>\n",
              "      <td>POTRERO GRANDE E21</td>\n",
              "      <td>URBANA</td>\n",
              "      <td>VIAS PUBLICAS</td>\n",
              "      <td>ARMA DE FUEGO</td>\n",
              "      <td>A PIE</td>\n",
              "      <td>A PIE</td>\n",
              "      <td>21.0</td>\n",
              "      <td>MASCULINO</td>\n",
              "      <td>SOLTERO</td>\n",
              "      <td>EMPLEADO PARTICULAR</td>\n",
              "      <td>NO REPORTADO</td>\n",
              "      <td>SECUNDARIA</td>\n",
              "      <td>COLOMBIA</td>\n",
              "      <td>76001000.0</td>\n",
              "      <td>1994.0</td>\n",
              "      <td>10-079</td>\n",
              "      <td>iknnoj8430@unidatos.edu.co</td>\n",
              "    </tr>\n",
              "    <tr>\n",
              "      <th>2386</th>\n",
              "      <td>2021-03-14 02:00:00</td>\n",
              "      <td>META</td>\n",
              "      <td>FUENTE DE ORO</td>\n",
              "      <td>Sábado</td>\n",
              "      <td>VEREDA PUERTO NUEVO</td>\n",
              "      <td>RURAL</td>\n",
              "      <td>BARES, CANTINAS Y SIMILARES</td>\n",
              "      <td>ARMA BLANCA</td>\n",
              "      <td>A PIE</td>\n",
              "      <td>A PIE</td>\n",
              "      <td>42.0</td>\n",
              "      <td>MASCULINO</td>\n",
              "      <td>SOLTERO</td>\n",
              "      <td>INDEPENDIENTE</td>\n",
              "      <td>NO REPORTADO</td>\n",
              "      <td>PRIMARIA</td>\n",
              "      <td>COLOMBIA</td>\n",
              "      <td>50287000.0</td>\n",
              "      <td>1973.0</td>\n",
              "      <td>10-255</td>\n",
              "      <td>afompq7113@unidatos.edu.co</td>\n",
              "    </tr>\n",
              "    <tr>\n",
              "      <th>138</th>\n",
              "      <td>2021-01-02 06:20:00</td>\n",
              "      <td>CAUCA</td>\n",
              "      <td>SOTARA</td>\n",
              "      <td>Viernes</td>\n",
              "      <td>CENTRO</td>\n",
              "      <td>RURAL</td>\n",
              "      <td>VIAS PUBLICAS</td>\n",
              "      <td>ARMA BLANCA</td>\n",
              "      <td>A PIE</td>\n",
              "      <td>A PIE</td>\n",
              "      <td>22.0</td>\n",
              "      <td>MASCULINO</td>\n",
              "      <td>SOLTERO</td>\n",
              "      <td>EMPLEADO EJERCITO</td>\n",
              "      <td>NO REPORTADO</td>\n",
              "      <td>SECUNDARIA</td>\n",
              "      <td>COLOMBIA</td>\n",
              "      <td>19760000.0</td>\n",
              "      <td>1993.0</td>\n",
              "      <td>10-255</td>\n",
              "      <td>cobgqs8819@unidatos.edu.co</td>\n",
              "    </tr>\n",
              "  </tbody>\n",
              "</table>\n",
              "</div>\n",
              "      <button class=\"colab-df-convert\" onclick=\"convertToInteractive('df-cfdb489b-7faf-4f6b-b473-44d53282f12d')\"\n",
              "              title=\"Convert this dataframe to an interactive table.\"\n",
              "              style=\"display:none;\">\n",
              "        \n",
              "  <svg xmlns=\"http://www.w3.org/2000/svg\" height=\"24px\"viewBox=\"0 0 24 24\"\n",
              "       width=\"24px\">\n",
              "    <path d=\"M0 0h24v24H0V0z\" fill=\"none\"/>\n",
              "    <path d=\"M18.56 5.44l.94 2.06.94-2.06 2.06-.94-2.06-.94-.94-2.06-.94 2.06-2.06.94zm-11 1L8.5 8.5l.94-2.06 2.06-.94-2.06-.94L8.5 2.5l-.94 2.06-2.06.94zm10 10l.94 2.06.94-2.06 2.06-.94-2.06-.94-.94-2.06-.94 2.06-2.06.94z\"/><path d=\"M17.41 7.96l-1.37-1.37c-.4-.4-.92-.59-1.43-.59-.52 0-1.04.2-1.43.59L10.3 9.45l-7.72 7.72c-.78.78-.78 2.05 0 2.83L4 21.41c.39.39.9.59 1.41.59.51 0 1.02-.2 1.41-.59l7.78-7.78 2.81-2.81c.8-.78.8-2.07 0-2.86zM5.41 20L4 18.59l7.72-7.72 1.47 1.35L5.41 20z\"/>\n",
              "  </svg>\n",
              "      </button>\n",
              "      \n",
              "  <style>\n",
              "    .colab-df-container {\n",
              "      display:flex;\n",
              "      flex-wrap:wrap;\n",
              "      gap: 12px;\n",
              "    }\n",
              "\n",
              "    .colab-df-convert {\n",
              "      background-color: #E8F0FE;\n",
              "      border: none;\n",
              "      border-radius: 50%;\n",
              "      cursor: pointer;\n",
              "      display: none;\n",
              "      fill: #1967D2;\n",
              "      height: 32px;\n",
              "      padding: 0 0 0 0;\n",
              "      width: 32px;\n",
              "    }\n",
              "\n",
              "    .colab-df-convert:hover {\n",
              "      background-color: #E2EBFA;\n",
              "      box-shadow: 0px 1px 2px rgba(60, 64, 67, 0.3), 0px 1px 3px 1px rgba(60, 64, 67, 0.15);\n",
              "      fill: #174EA6;\n",
              "    }\n",
              "\n",
              "    [theme=dark] .colab-df-convert {\n",
              "      background-color: #3B4455;\n",
              "      fill: #D2E3FC;\n",
              "    }\n",
              "\n",
              "    [theme=dark] .colab-df-convert:hover {\n",
              "      background-color: #434B5C;\n",
              "      box-shadow: 0px 1px 3px 1px rgba(0, 0, 0, 0.15);\n",
              "      filter: drop-shadow(0px 1px 2px rgba(0, 0, 0, 0.3));\n",
              "      fill: #FFFFFF;\n",
              "    }\n",
              "  </style>\n",
              "\n",
              "      <script>\n",
              "        const buttonEl =\n",
              "          document.querySelector('#df-cfdb489b-7faf-4f6b-b473-44d53282f12d button.colab-df-convert');\n",
              "        buttonEl.style.display =\n",
              "          google.colab.kernel.accessAllowed ? 'block' : 'none';\n",
              "\n",
              "        async function convertToInteractive(key) {\n",
              "          const element = document.querySelector('#df-cfdb489b-7faf-4f6b-b473-44d53282f12d');\n",
              "          const dataTable =\n",
              "            await google.colab.kernel.invokeFunction('convertToInteractive',\n",
              "                                                     [key], {});\n",
              "          if (!dataTable) return;\n",
              "\n",
              "          const docLinkHtml = 'Like what you see? Visit the ' +\n",
              "            '<a target=\"_blank\" href=https://colab.research.google.com/notebooks/data_table.ipynb>data table notebook</a>'\n",
              "            + ' to learn more about interactive tables.';\n",
              "          element.innerHTML = '';\n",
              "          dataTable['output_type'] = 'display_data';\n",
              "          await google.colab.output.renderOutput(dataTable, element);\n",
              "          const docLink = document.createElement('div');\n",
              "          docLink.innerHTML = docLinkHtml;\n",
              "          element.appendChild(docLink);\n",
              "        }\n",
              "      </script>\n",
              "    </div>\n",
              "  </div>\n",
              "  "
            ]
          },
          "metadata": {},
          "execution_count": 28
        }
      ],
      "source": [
        "# Showing some examples\n",
        "duplicates_by_cedula.sort_values(\"CÉDULA\", ascending = True).head(6)"
      ]
    },
    {
      "cell_type": "markdown",
      "metadata": {
        "id": "e1SdIJJGepkA"
      },
      "source": [
        "<span style=\"color:red\">TODO: Delete records with \"CÉDULA\" duplicated</span>\n",
        "\n",
        "<span style=\"color:red\">Hint: You can use drop_duplicates() pandas function.</span>"
      ]
    },
    {
      "cell_type": "code",
      "execution_count": 29,
      "metadata": {
        "id": "Jtda4D6NepkA"
      },
      "outputs": [],
      "source": [
        "homicides_df.drop_duplicates(subset=\"CÉDULA\",keep='first',inplace = True)"
      ]
    },
    {
      "cell_type": "code",
      "execution_count": 30,
      "metadata": {
        "id": "tdLeDYtqepkA"
      },
      "outputs": [],
      "source": [
        "# Using regular expressions for validating if \"CÉDULA\" values match the pattern XX-XXX\n",
        "cedula_malformed = homicides_df.loc[homicides_df[\"CÉDULA\"].apply(lambda x: (re.match(\"\\d{2}-\\d{3}\", x) is None))]"
      ]
    },
    {
      "cell_type": "code",
      "execution_count": 31,
      "metadata": {
        "id": "adUdC8V6epkB",
        "colab": {
          "base_uri": "https://localhost:8080/"
        },
        "outputId": "ac7f2c4c-eab9-4c9d-ffea-868e4f576cc7"
      },
      "outputs": [
        {
          "output_type": "execute_result",
          "data": {
            "text/plain": [
              "(28, 21)"
            ]
          },
          "metadata": {},
          "execution_count": 31
        }
      ],
      "source": [
        "cedula_malformed.shape"
      ]
    },
    {
      "cell_type": "code",
      "execution_count": 32,
      "metadata": {
        "id": "sMHLh5BTepkB",
        "colab": {
          "base_uri": "https://localhost:8080/",
          "height": 507
        },
        "outputId": "a532d3a4-0870-47e7-b9e4-5a028571abea"
      },
      "outputs": [
        {
          "output_type": "execute_result",
          "data": {
            "text/plain": [
              "                   FECHA DEPARTAMENTO          MUNICIPIO      DIA  \\\n",
              "172  2021-01-03 11:00:00         META            MESETAS   Sábado   \n",
              "1114 2021-02-01 12:30:00    ATLÁNTICO  BARRANQUILLA (CT)  Domingo   \n",
              "2119 2021-03-06 15:30:00        VALLE          CALI (CT)  Viernes   \n",
              "3309 2021-04-11 10:30:00      CAQUETÁ     FLORENCIA (CT)   Sávado   \n",
              "3409 2021-04-13 23:20:00      CÓRDOBA            SAHAGÚN    Lunes   \n",
              "3588 2021-04-19 20:00:00      BOLÍVAR     CARTAGENA (CT)  Domingo   \n",
              "\n",
              "                            BARRIO    ZONA         CLASE DE SITIO  \\\n",
              "172                VEREDA EL CAFRE   RURAL         ZONA SELVÁTICA   \n",
              "1114                        LA LUZ  URBANA          VIAS PUBLICAS   \n",
              "2119           QUINTAS DEL SOL E14  URBANA  DENTRO DE LA VIVIENDA   \n",
              "3309                   VIA MORELIA   RURAL               CARCELES   \n",
              "3409  CORREGIMIENTO DE BAJO GRANDE  URBANA               BILLARES   \n",
              "3588                  LA ESPERANZA  URBANA          VIAS PUBLICAS   \n",
              "\n",
              "          ARMA O MEDIO MOVIL VICTIMA MOVIL AGRESOR  EDAD     GENERO  \\\n",
              "172   MINA ANTIPERSONA         A PIE         A PIE  24.0  MASCULINO   \n",
              "1114     ARMA DE FUEGO         A PIE         A PIE  29.0  MASCULINO   \n",
              "2119       ARMA BLANCA         A PIE         A PIE  20.0   FEMENINO   \n",
              "3309         CORTANTES         A PIE         A PIE  23.0  MASCULINO   \n",
              "3409      CONTUNDENTES         A PIE         A PIE  49.0  MASCULINO   \n",
              "3588     ARMA DE FUEGO         A PIE         A PIE  45.0  MASCULINO   \n",
              "\n",
              "     ESTADO CIVIL       CLASE EMPLEADO     PROFESION   ESCOLARIDAD  \\\n",
              "172       SOLTERO    EMPLEADO EJERCITO  NO REPORTADO    SECUNDARIA   \n",
              "1114      SOLTERO        INDEPENDIENTE  NO REPORTADO      PRIMARIA   \n",
              "2119  UNION LIBRE  EMPLEADO PARTICULAR  NO REPORTADO    SECUNDARIA   \n",
              "3309      SOLTERO        INDEPENDIENTE  NO REPORTADO      PRIMARIA   \n",
              "3409      SOLTERO        INDEPENDIENTE  NO REPORTADO    SECUNDARIA   \n",
              "3588      SOLTERO          DESEMPLEADO  NO REPORTADO  NO REPORTADO   \n",
              "\n",
              "         PAIS NACE  CODIGO DANE  AÑO DE NACIMIENTO  CÉDULA  \\\n",
              "172       COLOMBIA   50330000.0             1991.0  680-21   \n",
              "1114      COLOMBIA    8001000.0             1986.0  140-17   \n",
              "2119      COLOMBIA   76001000.0             1995.0  975-31   \n",
              "3309      COLOMBIA   18001000.0             1992.0  348-66   \n",
              "3409      COLOMBIA   23660000.0             1966.0  496-18   \n",
              "3588  NO REPORTADO   13001000.0             1970.0  188-03   \n",
              "\n",
              "                          CORREO  \n",
              "172         oohghd8899@gmail.com  \n",
              "1114  correo5853@colombia.gov.co  \n",
              "2119  ohbqrk3631@unidatos.edu.co  \n",
              "3309  pdkqur8407@unidatos.edu.co  \n",
              "3409  fdbbeo6751@unidatos.edu.co  \n",
              "3588  diebuo5651@unidatos.edu.co  "
            ],
            "text/html": [
              "\n",
              "  <div id=\"df-e574e3f9-a64d-46a8-a3ce-71aa574e108f\">\n",
              "    <div class=\"colab-df-container\">\n",
              "      <div>\n",
              "<style scoped>\n",
              "    .dataframe tbody tr th:only-of-type {\n",
              "        vertical-align: middle;\n",
              "    }\n",
              "\n",
              "    .dataframe tbody tr th {\n",
              "        vertical-align: top;\n",
              "    }\n",
              "\n",
              "    .dataframe thead th {\n",
              "        text-align: right;\n",
              "    }\n",
              "</style>\n",
              "<table border=\"1\" class=\"dataframe\">\n",
              "  <thead>\n",
              "    <tr style=\"text-align: right;\">\n",
              "      <th></th>\n",
              "      <th>FECHA</th>\n",
              "      <th>DEPARTAMENTO</th>\n",
              "      <th>MUNICIPIO</th>\n",
              "      <th>DIA</th>\n",
              "      <th>BARRIO</th>\n",
              "      <th>ZONA</th>\n",
              "      <th>CLASE DE SITIO</th>\n",
              "      <th>ARMA O MEDIO</th>\n",
              "      <th>MOVIL VICTIMA</th>\n",
              "      <th>MOVIL AGRESOR</th>\n",
              "      <th>EDAD</th>\n",
              "      <th>GENERO</th>\n",
              "      <th>ESTADO CIVIL</th>\n",
              "      <th>CLASE EMPLEADO</th>\n",
              "      <th>PROFESION</th>\n",
              "      <th>ESCOLARIDAD</th>\n",
              "      <th>PAIS NACE</th>\n",
              "      <th>CODIGO DANE</th>\n",
              "      <th>AÑO DE NACIMIENTO</th>\n",
              "      <th>CÉDULA</th>\n",
              "      <th>CORREO</th>\n",
              "    </tr>\n",
              "  </thead>\n",
              "  <tbody>\n",
              "    <tr>\n",
              "      <th>172</th>\n",
              "      <td>2021-01-03 11:00:00</td>\n",
              "      <td>META</td>\n",
              "      <td>MESETAS</td>\n",
              "      <td>Sábado</td>\n",
              "      <td>VEREDA EL CAFRE</td>\n",
              "      <td>RURAL</td>\n",
              "      <td>ZONA SELVÁTICA</td>\n",
              "      <td>MINA ANTIPERSONA</td>\n",
              "      <td>A PIE</td>\n",
              "      <td>A PIE</td>\n",
              "      <td>24.0</td>\n",
              "      <td>MASCULINO</td>\n",
              "      <td>SOLTERO</td>\n",
              "      <td>EMPLEADO EJERCITO</td>\n",
              "      <td>NO REPORTADO</td>\n",
              "      <td>SECUNDARIA</td>\n",
              "      <td>COLOMBIA</td>\n",
              "      <td>50330000.0</td>\n",
              "      <td>1991.0</td>\n",
              "      <td>680-21</td>\n",
              "      <td>oohghd8899@gmail.com</td>\n",
              "    </tr>\n",
              "    <tr>\n",
              "      <th>1114</th>\n",
              "      <td>2021-02-01 12:30:00</td>\n",
              "      <td>ATLÁNTICO</td>\n",
              "      <td>BARRANQUILLA (CT)</td>\n",
              "      <td>Domingo</td>\n",
              "      <td>LA LUZ</td>\n",
              "      <td>URBANA</td>\n",
              "      <td>VIAS PUBLICAS</td>\n",
              "      <td>ARMA DE FUEGO</td>\n",
              "      <td>A PIE</td>\n",
              "      <td>A PIE</td>\n",
              "      <td>29.0</td>\n",
              "      <td>MASCULINO</td>\n",
              "      <td>SOLTERO</td>\n",
              "      <td>INDEPENDIENTE</td>\n",
              "      <td>NO REPORTADO</td>\n",
              "      <td>PRIMARIA</td>\n",
              "      <td>COLOMBIA</td>\n",
              "      <td>8001000.0</td>\n",
              "      <td>1986.0</td>\n",
              "      <td>140-17</td>\n",
              "      <td>correo5853@colombia.gov.co</td>\n",
              "    </tr>\n",
              "    <tr>\n",
              "      <th>2119</th>\n",
              "      <td>2021-03-06 15:30:00</td>\n",
              "      <td>VALLE</td>\n",
              "      <td>CALI (CT)</td>\n",
              "      <td>Viernes</td>\n",
              "      <td>QUINTAS DEL SOL E14</td>\n",
              "      <td>URBANA</td>\n",
              "      <td>DENTRO DE LA VIVIENDA</td>\n",
              "      <td>ARMA BLANCA</td>\n",
              "      <td>A PIE</td>\n",
              "      <td>A PIE</td>\n",
              "      <td>20.0</td>\n",
              "      <td>FEMENINO</td>\n",
              "      <td>UNION LIBRE</td>\n",
              "      <td>EMPLEADO PARTICULAR</td>\n",
              "      <td>NO REPORTADO</td>\n",
              "      <td>SECUNDARIA</td>\n",
              "      <td>COLOMBIA</td>\n",
              "      <td>76001000.0</td>\n",
              "      <td>1995.0</td>\n",
              "      <td>975-31</td>\n",
              "      <td>ohbqrk3631@unidatos.edu.co</td>\n",
              "    </tr>\n",
              "    <tr>\n",
              "      <th>3309</th>\n",
              "      <td>2021-04-11 10:30:00</td>\n",
              "      <td>CAQUETÁ</td>\n",
              "      <td>FLORENCIA (CT)</td>\n",
              "      <td>Sávado</td>\n",
              "      <td>VIA MORELIA</td>\n",
              "      <td>RURAL</td>\n",
              "      <td>CARCELES</td>\n",
              "      <td>CORTANTES</td>\n",
              "      <td>A PIE</td>\n",
              "      <td>A PIE</td>\n",
              "      <td>23.0</td>\n",
              "      <td>MASCULINO</td>\n",
              "      <td>SOLTERO</td>\n",
              "      <td>INDEPENDIENTE</td>\n",
              "      <td>NO REPORTADO</td>\n",
              "      <td>PRIMARIA</td>\n",
              "      <td>COLOMBIA</td>\n",
              "      <td>18001000.0</td>\n",
              "      <td>1992.0</td>\n",
              "      <td>348-66</td>\n",
              "      <td>pdkqur8407@unidatos.edu.co</td>\n",
              "    </tr>\n",
              "    <tr>\n",
              "      <th>3409</th>\n",
              "      <td>2021-04-13 23:20:00</td>\n",
              "      <td>CÓRDOBA</td>\n",
              "      <td>SAHAGÚN</td>\n",
              "      <td>Lunes</td>\n",
              "      <td>CORREGIMIENTO DE BAJO GRANDE</td>\n",
              "      <td>URBANA</td>\n",
              "      <td>BILLARES</td>\n",
              "      <td>CONTUNDENTES</td>\n",
              "      <td>A PIE</td>\n",
              "      <td>A PIE</td>\n",
              "      <td>49.0</td>\n",
              "      <td>MASCULINO</td>\n",
              "      <td>SOLTERO</td>\n",
              "      <td>INDEPENDIENTE</td>\n",
              "      <td>NO REPORTADO</td>\n",
              "      <td>SECUNDARIA</td>\n",
              "      <td>COLOMBIA</td>\n",
              "      <td>23660000.0</td>\n",
              "      <td>1966.0</td>\n",
              "      <td>496-18</td>\n",
              "      <td>fdbbeo6751@unidatos.edu.co</td>\n",
              "    </tr>\n",
              "    <tr>\n",
              "      <th>3588</th>\n",
              "      <td>2021-04-19 20:00:00</td>\n",
              "      <td>BOLÍVAR</td>\n",
              "      <td>CARTAGENA (CT)</td>\n",
              "      <td>Domingo</td>\n",
              "      <td>LA ESPERANZA</td>\n",
              "      <td>URBANA</td>\n",
              "      <td>VIAS PUBLICAS</td>\n",
              "      <td>ARMA DE FUEGO</td>\n",
              "      <td>A PIE</td>\n",
              "      <td>A PIE</td>\n",
              "      <td>45.0</td>\n",
              "      <td>MASCULINO</td>\n",
              "      <td>SOLTERO</td>\n",
              "      <td>DESEMPLEADO</td>\n",
              "      <td>NO REPORTADO</td>\n",
              "      <td>NO REPORTADO</td>\n",
              "      <td>NO REPORTADO</td>\n",
              "      <td>13001000.0</td>\n",
              "      <td>1970.0</td>\n",
              "      <td>188-03</td>\n",
              "      <td>diebuo5651@unidatos.edu.co</td>\n",
              "    </tr>\n",
              "  </tbody>\n",
              "</table>\n",
              "</div>\n",
              "      <button class=\"colab-df-convert\" onclick=\"convertToInteractive('df-e574e3f9-a64d-46a8-a3ce-71aa574e108f')\"\n",
              "              title=\"Convert this dataframe to an interactive table.\"\n",
              "              style=\"display:none;\">\n",
              "        \n",
              "  <svg xmlns=\"http://www.w3.org/2000/svg\" height=\"24px\"viewBox=\"0 0 24 24\"\n",
              "       width=\"24px\">\n",
              "    <path d=\"M0 0h24v24H0V0z\" fill=\"none\"/>\n",
              "    <path d=\"M18.56 5.44l.94 2.06.94-2.06 2.06-.94-2.06-.94-.94-2.06-.94 2.06-2.06.94zm-11 1L8.5 8.5l.94-2.06 2.06-.94-2.06-.94L8.5 2.5l-.94 2.06-2.06.94zm10 10l.94 2.06.94-2.06 2.06-.94-2.06-.94-.94-2.06-.94 2.06-2.06.94z\"/><path d=\"M17.41 7.96l-1.37-1.37c-.4-.4-.92-.59-1.43-.59-.52 0-1.04.2-1.43.59L10.3 9.45l-7.72 7.72c-.78.78-.78 2.05 0 2.83L4 21.41c.39.39.9.59 1.41.59.51 0 1.02-.2 1.41-.59l7.78-7.78 2.81-2.81c.8-.78.8-2.07 0-2.86zM5.41 20L4 18.59l7.72-7.72 1.47 1.35L5.41 20z\"/>\n",
              "  </svg>\n",
              "      </button>\n",
              "      \n",
              "  <style>\n",
              "    .colab-df-container {\n",
              "      display:flex;\n",
              "      flex-wrap:wrap;\n",
              "      gap: 12px;\n",
              "    }\n",
              "\n",
              "    .colab-df-convert {\n",
              "      background-color: #E8F0FE;\n",
              "      border: none;\n",
              "      border-radius: 50%;\n",
              "      cursor: pointer;\n",
              "      display: none;\n",
              "      fill: #1967D2;\n",
              "      height: 32px;\n",
              "      padding: 0 0 0 0;\n",
              "      width: 32px;\n",
              "    }\n",
              "\n",
              "    .colab-df-convert:hover {\n",
              "      background-color: #E2EBFA;\n",
              "      box-shadow: 0px 1px 2px rgba(60, 64, 67, 0.3), 0px 1px 3px 1px rgba(60, 64, 67, 0.15);\n",
              "      fill: #174EA6;\n",
              "    }\n",
              "\n",
              "    [theme=dark] .colab-df-convert {\n",
              "      background-color: #3B4455;\n",
              "      fill: #D2E3FC;\n",
              "    }\n",
              "\n",
              "    [theme=dark] .colab-df-convert:hover {\n",
              "      background-color: #434B5C;\n",
              "      box-shadow: 0px 1px 3px 1px rgba(0, 0, 0, 0.15);\n",
              "      filter: drop-shadow(0px 1px 2px rgba(0, 0, 0, 0.3));\n",
              "      fill: #FFFFFF;\n",
              "    }\n",
              "  </style>\n",
              "\n",
              "      <script>\n",
              "        const buttonEl =\n",
              "          document.querySelector('#df-e574e3f9-a64d-46a8-a3ce-71aa574e108f button.colab-df-convert');\n",
              "        buttonEl.style.display =\n",
              "          google.colab.kernel.accessAllowed ? 'block' : 'none';\n",
              "\n",
              "        async function convertToInteractive(key) {\n",
              "          const element = document.querySelector('#df-e574e3f9-a64d-46a8-a3ce-71aa574e108f');\n",
              "          const dataTable =\n",
              "            await google.colab.kernel.invokeFunction('convertToInteractive',\n",
              "                                                     [key], {});\n",
              "          if (!dataTable) return;\n",
              "\n",
              "          const docLinkHtml = 'Like what you see? Visit the ' +\n",
              "            '<a target=\"_blank\" href=https://colab.research.google.com/notebooks/data_table.ipynb>data table notebook</a>'\n",
              "            + ' to learn more about interactive tables.';\n",
              "          element.innerHTML = '';\n",
              "          dataTable['output_type'] = 'display_data';\n",
              "          await google.colab.output.renderOutput(dataTable, element);\n",
              "          const docLink = document.createElement('div');\n",
              "          docLink.innerHTML = docLinkHtml;\n",
              "          element.appendChild(docLink);\n",
              "        }\n",
              "      </script>\n",
              "    </div>\n",
              "  </div>\n",
              "  "
            ]
          },
          "metadata": {},
          "execution_count": 32
        }
      ],
      "source": [
        "cedula_malformed.head(6)"
      ]
    },
    {
      "cell_type": "markdown",
      "metadata": {
        "id": "BS7OHYSmepkB"
      },
      "source": [
        "<span style=\"color:red\">TODO: Fix the malformed \"CÉDULA\" values.</span>"
      ]
    },
    {
      "cell_type": "code",
      "execution_count": 33,
      "metadata": {
        "id": "CDUE6YwKepkC"
      },
      "outputs": [],
      "source": [
        "def fix_cedula(row):\n",
        "  if re.match(\"\\d{2}-\\d{3}\",row) is None:\n",
        "    new_cedula = row[:2] + '-' + row[2] + row[-2:]\n",
        "    return new_cedula\n",
        "  else:\n",
        "    return row"
      ]
    },
    {
      "cell_type": "code",
      "source": [
        "homicides_df['CÉDULA'] = homicides_df['CÉDULA'].apply(fix_cedula)"
      ],
      "metadata": {
        "id": "baPHxa-ikzMG"
      },
      "execution_count": 34,
      "outputs": []
    },
    {
      "cell_type": "code",
      "execution_count": 35,
      "metadata": {
        "id": "LvArRwBJepkC",
        "colab": {
          "base_uri": "https://localhost:8080/"
        },
        "outputId": "7c8caaae-8ce4-46e8-89b6-a89715697a46"
      },
      "outputs": [
        {
          "output_type": "execute_result",
          "data": {
            "text/plain": [
              "(0, 21)"
            ]
          },
          "metadata": {},
          "execution_count": 35
        }
      ],
      "source": [
        "cedula_malformed = homicides_df.loc[homicides_df[\"CÉDULA\"].apply(lambda x: (re.match(\"\\d{2}-\\d{3}\", x) is None))]\n",
        "cedula_malformed.shape"
      ]
    },
    {
      "cell_type": "markdown",
      "metadata": {
        "id": "78vYIdfaepkC"
      },
      "source": [
        "<span style=\"color:red\">TODO: Make something similar to check and fix the \"CORREO\" column (PATTERN: 4 digits before the @, only .edu.co and .com domains are allowed)</span>"
      ]
    },
    {
      "cell_type": "code",
      "source": [
        "bad_emails = homicides_df.loc[homicides_df[\"CORREO\"].apply(lambda x: ((re.match(\".*\\d{4}@.*\\.edu\\.co\", x)) or (re.match(\".*\\d{4}@.*\\.com\", x))) is None)]"
      ],
      "metadata": {
        "id": "0PXS5fJpm-kZ"
      },
      "execution_count": 36,
      "outputs": []
    },
    {
      "cell_type": "code",
      "source": [
        "print(bad_emails.shape)\n",
        "bad_emails.head()"
      ],
      "metadata": {
        "colab": {
          "base_uri": "https://localhost:8080/",
          "height": 372
        },
        "id": "AN1NJyiEsqIp",
        "outputId": "442575be-ca6b-4d72-e6d4-48c69a65df5f"
      },
      "execution_count": 37,
      "outputs": [
        {
          "output_type": "stream",
          "name": "stdout",
          "text": [
            "(2134, 21)\n"
          ]
        },
        {
          "output_type": "execute_result",
          "data": {
            "text/plain": [
              "                 FECHA  DEPARTAMENTO            MUNICIPIO     DIA  \\\n",
              "28 2021-01-01 15:00:00       CAQUETÁ  SAN JOSÉ DEL FRAGUA  Jueces   \n",
              "36 2021-01-01 08:00:00         CAUCA                PATÍA  Jueves   \n",
              "47 2021-01-01 09:00:00         CHOCÓ                 TADÓ  Jueves   \n",
              "55 2021-01-01 01:30:00  CUNDINAMARCA     BOGOTÁ D.C. (CT)  Jueves   \n",
              "60 2021-01-01 09:50:00  CUNDINAMARCA     BOGOTÁ D.C. (CT)  Jueves   \n",
              "\n",
              "                       BARRIO    ZONA CLASE DE SITIO   ARMA O MEDIO  \\\n",
              "28                     CENTRO  URBANA     DISCOTECAS  ARMA DE FUEGO   \n",
              "36     C/MIENTO PIEDRASENTADA   RURAL      CARRETERA  ARMA DE FUEGO   \n",
              "47                    POPULAR  URBANA  VIAS PUBLICAS  ARMA DE FUEGO   \n",
              "55  ÁLVARO BERNAL SEGURA E-19  URBANA  VIAS PUBLICAS  ARMA DE FUEGO   \n",
              "60           LAS COLINAS E-18  URBANA  VIAS PUBLICAS    ARMA BLANCA   \n",
              "\n",
              "   MOVIL VICTIMA MOVIL AGRESOR  EDAD     GENERO ESTADO CIVIL  \\\n",
              "28         A PIE         A PIE  24.0  MASCULINO  UNION LIBRE   \n",
              "36      VEHICULO         A PIE  26.0  MASCULINO      SOLTERO   \n",
              "47         A PIE         A PIE  34.0  MASCULINO       CASADO   \n",
              "55         A PIE         A PIE  25.0  MASCULINO  UNION LIBRE   \n",
              "60         A PIE         A PIE  37.0  MASCULINO      SOLTERO   \n",
              "\n",
              "       CLASE EMPLEADO     PROFESION ESCOLARIDAD PAIS NACE  CODIGO DANE  \\\n",
              "28      INDEPENDIENTE  NO REPORTADO    PRIMARIA  COLOMBIA   18610000.0   \n",
              "36  EMPLEADO EJERCITO  NO REPORTADO  SECUNDARIA  COLOMBIA   19532000.0   \n",
              "47  EMPLEADO POLICIAL       POLICIA     TECNICO  COLOMBIA   27787000.0   \n",
              "55        DESEMPLEADO  NO REPORTADO  SECUNDARIA  COLOMBIA   11001000.0   \n",
              "60      INDEPENDIENTE  NO REPORTADO  SECUNDARIA  COLOMBIA   11001000.0   \n",
              "\n",
              "    AÑO DE NACIMIENTO  CÉDULA                      CORREO  \n",
              "28             1991.0  94-565   correo975@unidatos.edu.co  \n",
              "36             1989.0  69-084  correo4714@colombia.gov.co  \n",
              "47             1981.0  29-957  correo8297@colombia.gov.co  \n",
              "55             1990.0  35-260  correo7285@colombia.gov.co  \n",
              "60             1978.0  96-322   correo870@unidatos.edu.co  "
            ],
            "text/html": [
              "\n",
              "  <div id=\"df-f64fecf4-fb13-41cd-81de-7dd89d7e18a0\">\n",
              "    <div class=\"colab-df-container\">\n",
              "      <div>\n",
              "<style scoped>\n",
              "    .dataframe tbody tr th:only-of-type {\n",
              "        vertical-align: middle;\n",
              "    }\n",
              "\n",
              "    .dataframe tbody tr th {\n",
              "        vertical-align: top;\n",
              "    }\n",
              "\n",
              "    .dataframe thead th {\n",
              "        text-align: right;\n",
              "    }\n",
              "</style>\n",
              "<table border=\"1\" class=\"dataframe\">\n",
              "  <thead>\n",
              "    <tr style=\"text-align: right;\">\n",
              "      <th></th>\n",
              "      <th>FECHA</th>\n",
              "      <th>DEPARTAMENTO</th>\n",
              "      <th>MUNICIPIO</th>\n",
              "      <th>DIA</th>\n",
              "      <th>BARRIO</th>\n",
              "      <th>ZONA</th>\n",
              "      <th>CLASE DE SITIO</th>\n",
              "      <th>ARMA O MEDIO</th>\n",
              "      <th>MOVIL VICTIMA</th>\n",
              "      <th>MOVIL AGRESOR</th>\n",
              "      <th>EDAD</th>\n",
              "      <th>GENERO</th>\n",
              "      <th>ESTADO CIVIL</th>\n",
              "      <th>CLASE EMPLEADO</th>\n",
              "      <th>PROFESION</th>\n",
              "      <th>ESCOLARIDAD</th>\n",
              "      <th>PAIS NACE</th>\n",
              "      <th>CODIGO DANE</th>\n",
              "      <th>AÑO DE NACIMIENTO</th>\n",
              "      <th>CÉDULA</th>\n",
              "      <th>CORREO</th>\n",
              "    </tr>\n",
              "  </thead>\n",
              "  <tbody>\n",
              "    <tr>\n",
              "      <th>28</th>\n",
              "      <td>2021-01-01 15:00:00</td>\n",
              "      <td>CAQUETÁ</td>\n",
              "      <td>SAN JOSÉ DEL FRAGUA</td>\n",
              "      <td>Jueces</td>\n",
              "      <td>CENTRO</td>\n",
              "      <td>URBANA</td>\n",
              "      <td>DISCOTECAS</td>\n",
              "      <td>ARMA DE FUEGO</td>\n",
              "      <td>A PIE</td>\n",
              "      <td>A PIE</td>\n",
              "      <td>24.0</td>\n",
              "      <td>MASCULINO</td>\n",
              "      <td>UNION LIBRE</td>\n",
              "      <td>INDEPENDIENTE</td>\n",
              "      <td>NO REPORTADO</td>\n",
              "      <td>PRIMARIA</td>\n",
              "      <td>COLOMBIA</td>\n",
              "      <td>18610000.0</td>\n",
              "      <td>1991.0</td>\n",
              "      <td>94-565</td>\n",
              "      <td>correo975@unidatos.edu.co</td>\n",
              "    </tr>\n",
              "    <tr>\n",
              "      <th>36</th>\n",
              "      <td>2021-01-01 08:00:00</td>\n",
              "      <td>CAUCA</td>\n",
              "      <td>PATÍA</td>\n",
              "      <td>Jueves</td>\n",
              "      <td>C/MIENTO PIEDRASENTADA</td>\n",
              "      <td>RURAL</td>\n",
              "      <td>CARRETERA</td>\n",
              "      <td>ARMA DE FUEGO</td>\n",
              "      <td>VEHICULO</td>\n",
              "      <td>A PIE</td>\n",
              "      <td>26.0</td>\n",
              "      <td>MASCULINO</td>\n",
              "      <td>SOLTERO</td>\n",
              "      <td>EMPLEADO EJERCITO</td>\n",
              "      <td>NO REPORTADO</td>\n",
              "      <td>SECUNDARIA</td>\n",
              "      <td>COLOMBIA</td>\n",
              "      <td>19532000.0</td>\n",
              "      <td>1989.0</td>\n",
              "      <td>69-084</td>\n",
              "      <td>correo4714@colombia.gov.co</td>\n",
              "    </tr>\n",
              "    <tr>\n",
              "      <th>47</th>\n",
              "      <td>2021-01-01 09:00:00</td>\n",
              "      <td>CHOCÓ</td>\n",
              "      <td>TADÓ</td>\n",
              "      <td>Jueves</td>\n",
              "      <td>POPULAR</td>\n",
              "      <td>URBANA</td>\n",
              "      <td>VIAS PUBLICAS</td>\n",
              "      <td>ARMA DE FUEGO</td>\n",
              "      <td>A PIE</td>\n",
              "      <td>A PIE</td>\n",
              "      <td>34.0</td>\n",
              "      <td>MASCULINO</td>\n",
              "      <td>CASADO</td>\n",
              "      <td>EMPLEADO POLICIAL</td>\n",
              "      <td>POLICIA</td>\n",
              "      <td>TECNICO</td>\n",
              "      <td>COLOMBIA</td>\n",
              "      <td>27787000.0</td>\n",
              "      <td>1981.0</td>\n",
              "      <td>29-957</td>\n",
              "      <td>correo8297@colombia.gov.co</td>\n",
              "    </tr>\n",
              "    <tr>\n",
              "      <th>55</th>\n",
              "      <td>2021-01-01 01:30:00</td>\n",
              "      <td>CUNDINAMARCA</td>\n",
              "      <td>BOGOTÁ D.C. (CT)</td>\n",
              "      <td>Jueves</td>\n",
              "      <td>ÁLVARO BERNAL SEGURA E-19</td>\n",
              "      <td>URBANA</td>\n",
              "      <td>VIAS PUBLICAS</td>\n",
              "      <td>ARMA DE FUEGO</td>\n",
              "      <td>A PIE</td>\n",
              "      <td>A PIE</td>\n",
              "      <td>25.0</td>\n",
              "      <td>MASCULINO</td>\n",
              "      <td>UNION LIBRE</td>\n",
              "      <td>DESEMPLEADO</td>\n",
              "      <td>NO REPORTADO</td>\n",
              "      <td>SECUNDARIA</td>\n",
              "      <td>COLOMBIA</td>\n",
              "      <td>11001000.0</td>\n",
              "      <td>1990.0</td>\n",
              "      <td>35-260</td>\n",
              "      <td>correo7285@colombia.gov.co</td>\n",
              "    </tr>\n",
              "    <tr>\n",
              "      <th>60</th>\n",
              "      <td>2021-01-01 09:50:00</td>\n",
              "      <td>CUNDINAMARCA</td>\n",
              "      <td>BOGOTÁ D.C. (CT)</td>\n",
              "      <td>Jueves</td>\n",
              "      <td>LAS COLINAS E-18</td>\n",
              "      <td>URBANA</td>\n",
              "      <td>VIAS PUBLICAS</td>\n",
              "      <td>ARMA BLANCA</td>\n",
              "      <td>A PIE</td>\n",
              "      <td>A PIE</td>\n",
              "      <td>37.0</td>\n",
              "      <td>MASCULINO</td>\n",
              "      <td>SOLTERO</td>\n",
              "      <td>INDEPENDIENTE</td>\n",
              "      <td>NO REPORTADO</td>\n",
              "      <td>SECUNDARIA</td>\n",
              "      <td>COLOMBIA</td>\n",
              "      <td>11001000.0</td>\n",
              "      <td>1978.0</td>\n",
              "      <td>96-322</td>\n",
              "      <td>correo870@unidatos.edu.co</td>\n",
              "    </tr>\n",
              "  </tbody>\n",
              "</table>\n",
              "</div>\n",
              "      <button class=\"colab-df-convert\" onclick=\"convertToInteractive('df-f64fecf4-fb13-41cd-81de-7dd89d7e18a0')\"\n",
              "              title=\"Convert this dataframe to an interactive table.\"\n",
              "              style=\"display:none;\">\n",
              "        \n",
              "  <svg xmlns=\"http://www.w3.org/2000/svg\" height=\"24px\"viewBox=\"0 0 24 24\"\n",
              "       width=\"24px\">\n",
              "    <path d=\"M0 0h24v24H0V0z\" fill=\"none\"/>\n",
              "    <path d=\"M18.56 5.44l.94 2.06.94-2.06 2.06-.94-2.06-.94-.94-2.06-.94 2.06-2.06.94zm-11 1L8.5 8.5l.94-2.06 2.06-.94-2.06-.94L8.5 2.5l-.94 2.06-2.06.94zm10 10l.94 2.06.94-2.06 2.06-.94-2.06-.94-.94-2.06-.94 2.06-2.06.94z\"/><path d=\"M17.41 7.96l-1.37-1.37c-.4-.4-.92-.59-1.43-.59-.52 0-1.04.2-1.43.59L10.3 9.45l-7.72 7.72c-.78.78-.78 2.05 0 2.83L4 21.41c.39.39.9.59 1.41.59.51 0 1.02-.2 1.41-.59l7.78-7.78 2.81-2.81c.8-.78.8-2.07 0-2.86zM5.41 20L4 18.59l7.72-7.72 1.47 1.35L5.41 20z\"/>\n",
              "  </svg>\n",
              "      </button>\n",
              "      \n",
              "  <style>\n",
              "    .colab-df-container {\n",
              "      display:flex;\n",
              "      flex-wrap:wrap;\n",
              "      gap: 12px;\n",
              "    }\n",
              "\n",
              "    .colab-df-convert {\n",
              "      background-color: #E8F0FE;\n",
              "      border: none;\n",
              "      border-radius: 50%;\n",
              "      cursor: pointer;\n",
              "      display: none;\n",
              "      fill: #1967D2;\n",
              "      height: 32px;\n",
              "      padding: 0 0 0 0;\n",
              "      width: 32px;\n",
              "    }\n",
              "\n",
              "    .colab-df-convert:hover {\n",
              "      background-color: #E2EBFA;\n",
              "      box-shadow: 0px 1px 2px rgba(60, 64, 67, 0.3), 0px 1px 3px 1px rgba(60, 64, 67, 0.15);\n",
              "      fill: #174EA6;\n",
              "    }\n",
              "\n",
              "    [theme=dark] .colab-df-convert {\n",
              "      background-color: #3B4455;\n",
              "      fill: #D2E3FC;\n",
              "    }\n",
              "\n",
              "    [theme=dark] .colab-df-convert:hover {\n",
              "      background-color: #434B5C;\n",
              "      box-shadow: 0px 1px 3px 1px rgba(0, 0, 0, 0.15);\n",
              "      filter: drop-shadow(0px 1px 2px rgba(0, 0, 0, 0.3));\n",
              "      fill: #FFFFFF;\n",
              "    }\n",
              "  </style>\n",
              "\n",
              "      <script>\n",
              "        const buttonEl =\n",
              "          document.querySelector('#df-f64fecf4-fb13-41cd-81de-7dd89d7e18a0 button.colab-df-convert');\n",
              "        buttonEl.style.display =\n",
              "          google.colab.kernel.accessAllowed ? 'block' : 'none';\n",
              "\n",
              "        async function convertToInteractive(key) {\n",
              "          const element = document.querySelector('#df-f64fecf4-fb13-41cd-81de-7dd89d7e18a0');\n",
              "          const dataTable =\n",
              "            await google.colab.kernel.invokeFunction('convertToInteractive',\n",
              "                                                     [key], {});\n",
              "          if (!dataTable) return;\n",
              "\n",
              "          const docLinkHtml = 'Like what you see? Visit the ' +\n",
              "            '<a target=\"_blank\" href=https://colab.research.google.com/notebooks/data_table.ipynb>data table notebook</a>'\n",
              "            + ' to learn more about interactive tables.';\n",
              "          element.innerHTML = '';\n",
              "          dataTable['output_type'] = 'display_data';\n",
              "          await google.colab.output.renderOutput(dataTable, element);\n",
              "          const docLink = document.createElement('div');\n",
              "          docLink.innerHTML = docLinkHtml;\n",
              "          element.appendChild(docLink);\n",
              "        }\n",
              "      </script>\n",
              "    </div>\n",
              "  </div>\n",
              "  "
            ]
          },
          "metadata": {},
          "execution_count": 37
        }
      ]
    },
    {
      "cell_type": "code",
      "source": [
        "def fix_email(row):\n",
        "  if ((re.match(\".*\\d{4}@.*\\.edu\\.co\", row)) or (re.match(\".*\\d{4}@.*\\.com\", row))) is None:\n",
        "    if re.match(\".*\\.edu\\.co\", row) or re.match(\".*\\.com\", row):\n",
        "      first_part = re.search('.*[0-9]+',row).group()\n",
        "      email_part = re.search('@.*',row).group()\n",
        "      return first_part + '0' + email_part\n",
        "    else:\n",
        "      return row + 'm'\n",
        "  else:\n",
        "    return row"
      ],
      "metadata": {
        "id": "4ErqCE28tcJp"
      },
      "execution_count": 41,
      "outputs": []
    },
    {
      "cell_type": "code",
      "source": [
        "homicides_df['CORREO'] = homicides_df['CORREO'].apply(fix_email)"
      ],
      "metadata": {
        "id": "VUARJzet2Gli"
      },
      "execution_count": 42,
      "outputs": []
    },
    {
      "cell_type": "code",
      "source": [
        "bad_emails = homicides_df.loc[homicides_df[\"CORREO\"].apply(lambda x: ((re.match(\".*\\d{4}@.*\\.edu\\.co\", x)) or (re.match(\".*\\d{4}@.*\\.com\", x))) is None)]\n",
        "bad_emails.shape"
      ],
      "metadata": {
        "colab": {
          "base_uri": "https://localhost:8080/"
        },
        "id": "xZkuN0WLBk_3",
        "outputId": "99b4f3f5-2cfb-4d6b-a359-62aff0278586"
      },
      "execution_count": 43,
      "outputs": [
        {
          "output_type": "execute_result",
          "data": {
            "text/plain": [
              "(0, 21)"
            ]
          },
          "metadata": {},
          "execution_count": 43
        }
      ]
    },
    {
      "cell_type": "code",
      "execution_count": 44,
      "metadata": {
        "id": "Hy331K5OepkC",
        "colab": {
          "base_uri": "https://localhost:8080/"
        },
        "outputId": "de7d7d67-b768-414f-ab96-4547919cab68"
      },
      "outputs": [
        {
          "output_type": "execute_result",
          "data": {
            "text/plain": [
              "['Jueves',\n",
              " 'Juees',\n",
              " 'Jueces',\n",
              " 'juves',\n",
              " 'Juevrs',\n",
              " 'Viernes',\n",
              " 'Viermes',\n",
              " 'iernes',\n",
              " 'virnes',\n",
              " 'Vierens',\n",
              " 'Sábado',\n",
              " 'Sabadi',\n",
              " 'Sabado',\n",
              " 'sábad',\n",
              " 'Sávado',\n",
              " 'Ssbado',\n",
              " 'Domingo',\n",
              " 'Domungo',\n",
              " 'Doningo',\n",
              " 'domungo',\n",
              " 'Lunes',\n",
              " 'lune',\n",
              " 'Luns',\n",
              " 'Lumes',\n",
              " 'kunes',\n",
              " 'Lnues',\n",
              " 'Martes',\n",
              " 'Mates',\n",
              " 'Marte',\n",
              " 'mates',\n",
              " 'Miércoles',\n",
              " 'Miwrcoles',\n",
              " 'Mircoles',\n",
              " 'Voernes',\n",
              " 'domnigo',\n",
              " 'Maryes',\n",
              " 'Miercoles',\n",
              " 'miércles',\n",
              " 'Dominog',\n",
              " 'Msrtes',\n",
              " 'Mirrcoles']"
            ]
          },
          "metadata": {},
          "execution_count": 44
        }
      ],
      "source": [
        "# Showing different values for \"DIA\" column\n",
        "dias_df = list(homicides_df[\"DIA\"].unique())\n",
        "dias_df"
      ]
    },
    {
      "cell_type": "code",
      "execution_count": 45,
      "metadata": {
        "id": "arXWsE7SepkD",
        "colab": {
          "base_uri": "https://localhost:8080/"
        },
        "outputId": "7f8acc35-69f9-4ca0-8271-256c2b990798"
      },
      "outputs": [
        {
          "output_type": "execute_result",
          "data": {
            "text/plain": [
              "3"
            ]
          },
          "metadata": {},
          "execution_count": 45
        }
      ],
      "source": [
        "# Calculating the distance between two words using the Levenshtein method\n",
        "pylev.levenshtein('sábado', 'sabaod')"
      ]
    },
    {
      "cell_type": "code",
      "execution_count": 46,
      "metadata": {
        "id": "XiAoTQm7epkD",
        "colab": {
          "base_uri": "https://localhost:8080/"
        },
        "outputId": "b28371c9-4cb1-4fd0-cdf6-9ab9085c2daa"
      },
      "outputs": [
        {
          "output_type": "execute_result",
          "data": {
            "text/plain": [
              "7"
            ]
          },
          "metadata": {},
          "execution_count": 46
        }
      ],
      "source": [
        "pylev.levenshtein('sábado', 'viernes')"
      ]
    },
    {
      "cell_type": "markdown",
      "metadata": {
        "id": "UfRiuU4_epkD"
      },
      "source": [
        "<span style=\"color:red\">TODO: Create a function to fix the digitation errors for \"DIA\" column.</span>"
      ]
    },
    {
      "cell_type": "code",
      "execution_count": 47,
      "metadata": {
        "id": "OR3SnqLhepkD"
      },
      "outputs": [],
      "source": [
        "def fix_dia(row):\n",
        "  dias = ['Jueves','Viernes','Sabado','Domingo','Lunes','Martes','Miercoles']\n",
        "  min_lev = 10\n",
        "  for dia_g in dias:\n",
        "    lev = pylev.levenshtein(row, dia_g)\n",
        "    if min_lev > lev :\n",
        "      min_lev = lev\n",
        "      dia_cambio = dia_g\n",
        "    else:\n",
        "      pass\n",
        "  return dia_cambio"
      ]
    },
    {
      "cell_type": "code",
      "source": [
        "fix_dia('Luns')"
      ],
      "metadata": {
        "colab": {
          "base_uri": "https://localhost:8080/",
          "height": 36
        },
        "id": "ObS1RIaXDMg5",
        "outputId": "e4613454-37b5-4e11-b31f-222a3c127ba8"
      },
      "execution_count": 48,
      "outputs": [
        {
          "output_type": "execute_result",
          "data": {
            "text/plain": [
              "'Lunes'"
            ],
            "application/vnd.google.colaboratory.intrinsic+json": {
              "type": "string"
            }
          },
          "metadata": {},
          "execution_count": 48
        }
      ]
    },
    {
      "cell_type": "code",
      "source": [
        "homicides_df[\"DIA\"] = homicides_df[\"DIA\"].apply(fix_dia)"
      ],
      "metadata": {
        "id": "8blT_1FRDYdt"
      },
      "execution_count": 49,
      "outputs": []
    },
    {
      "cell_type": "code",
      "execution_count": 50,
      "metadata": {
        "id": "BA8qk4H6epkD",
        "colab": {
          "base_uri": "https://localhost:8080/"
        },
        "outputId": "28502da4-7aa7-402a-c069-149ee7a87b4e"
      },
      "outputs": [
        {
          "output_type": "execute_result",
          "data": {
            "text/plain": [
              "array(['Jueves', 'Viernes', 'Sabado', 'Domingo', 'Lunes', 'Martes',\n",
              "       'Miercoles'], dtype=object)"
            ]
          },
          "metadata": {},
          "execution_count": 50
        }
      ],
      "source": [
        "homicides_df[\"DIA\"].unique()"
      ]
    },
    {
      "cell_type": "code",
      "execution_count": 51,
      "metadata": {
        "id": "TPRZu8epepkE",
        "colab": {
          "base_uri": "https://localhost:8080/",
          "height": 363
        },
        "outputId": "07bff236-2af7-4e10-f25a-f108ebcca39b"
      },
      "outputs": [
        {
          "output_type": "execute_result",
          "data": {
            "text/plain": [
              "   AÑO DE NACIMIENTO  EDAD\n",
              "0             1971.0  44.0\n",
              "1             1985.0  30.0\n",
              "2             1982.0  33.0\n",
              "3             1975.0  40.0\n",
              "4             1949.0  66.0\n",
              "5             1973.0  42.0\n",
              "6             1990.0  25.0\n",
              "7             1978.0  37.0\n",
              "8             1990.0  25.0\n",
              "9             1985.0  30.0"
            ],
            "text/html": [
              "\n",
              "  <div id=\"df-b10909d7-230f-4cea-b266-335c011ff0c0\">\n",
              "    <div class=\"colab-df-container\">\n",
              "      <div>\n",
              "<style scoped>\n",
              "    .dataframe tbody tr th:only-of-type {\n",
              "        vertical-align: middle;\n",
              "    }\n",
              "\n",
              "    .dataframe tbody tr th {\n",
              "        vertical-align: top;\n",
              "    }\n",
              "\n",
              "    .dataframe thead th {\n",
              "        text-align: right;\n",
              "    }\n",
              "</style>\n",
              "<table border=\"1\" class=\"dataframe\">\n",
              "  <thead>\n",
              "    <tr style=\"text-align: right;\">\n",
              "      <th></th>\n",
              "      <th>AÑO DE NACIMIENTO</th>\n",
              "      <th>EDAD</th>\n",
              "    </tr>\n",
              "  </thead>\n",
              "  <tbody>\n",
              "    <tr>\n",
              "      <th>0</th>\n",
              "      <td>1971.0</td>\n",
              "      <td>44.0</td>\n",
              "    </tr>\n",
              "    <tr>\n",
              "      <th>1</th>\n",
              "      <td>1985.0</td>\n",
              "      <td>30.0</td>\n",
              "    </tr>\n",
              "    <tr>\n",
              "      <th>2</th>\n",
              "      <td>1982.0</td>\n",
              "      <td>33.0</td>\n",
              "    </tr>\n",
              "    <tr>\n",
              "      <th>3</th>\n",
              "      <td>1975.0</td>\n",
              "      <td>40.0</td>\n",
              "    </tr>\n",
              "    <tr>\n",
              "      <th>4</th>\n",
              "      <td>1949.0</td>\n",
              "      <td>66.0</td>\n",
              "    </tr>\n",
              "    <tr>\n",
              "      <th>5</th>\n",
              "      <td>1973.0</td>\n",
              "      <td>42.0</td>\n",
              "    </tr>\n",
              "    <tr>\n",
              "      <th>6</th>\n",
              "      <td>1990.0</td>\n",
              "      <td>25.0</td>\n",
              "    </tr>\n",
              "    <tr>\n",
              "      <th>7</th>\n",
              "      <td>1978.0</td>\n",
              "      <td>37.0</td>\n",
              "    </tr>\n",
              "    <tr>\n",
              "      <th>8</th>\n",
              "      <td>1990.0</td>\n",
              "      <td>25.0</td>\n",
              "    </tr>\n",
              "    <tr>\n",
              "      <th>9</th>\n",
              "      <td>1985.0</td>\n",
              "      <td>30.0</td>\n",
              "    </tr>\n",
              "  </tbody>\n",
              "</table>\n",
              "</div>\n",
              "      <button class=\"colab-df-convert\" onclick=\"convertToInteractive('df-b10909d7-230f-4cea-b266-335c011ff0c0')\"\n",
              "              title=\"Convert this dataframe to an interactive table.\"\n",
              "              style=\"display:none;\">\n",
              "        \n",
              "  <svg xmlns=\"http://www.w3.org/2000/svg\" height=\"24px\"viewBox=\"0 0 24 24\"\n",
              "       width=\"24px\">\n",
              "    <path d=\"M0 0h24v24H0V0z\" fill=\"none\"/>\n",
              "    <path d=\"M18.56 5.44l.94 2.06.94-2.06 2.06-.94-2.06-.94-.94-2.06-.94 2.06-2.06.94zm-11 1L8.5 8.5l.94-2.06 2.06-.94-2.06-.94L8.5 2.5l-.94 2.06-2.06.94zm10 10l.94 2.06.94-2.06 2.06-.94-2.06-.94-.94-2.06-.94 2.06-2.06.94z\"/><path d=\"M17.41 7.96l-1.37-1.37c-.4-.4-.92-.59-1.43-.59-.52 0-1.04.2-1.43.59L10.3 9.45l-7.72 7.72c-.78.78-.78 2.05 0 2.83L4 21.41c.39.39.9.59 1.41.59.51 0 1.02-.2 1.41-.59l7.78-7.78 2.81-2.81c.8-.78.8-2.07 0-2.86zM5.41 20L4 18.59l7.72-7.72 1.47 1.35L5.41 20z\"/>\n",
              "  </svg>\n",
              "      </button>\n",
              "      \n",
              "  <style>\n",
              "    .colab-df-container {\n",
              "      display:flex;\n",
              "      flex-wrap:wrap;\n",
              "      gap: 12px;\n",
              "    }\n",
              "\n",
              "    .colab-df-convert {\n",
              "      background-color: #E8F0FE;\n",
              "      border: none;\n",
              "      border-radius: 50%;\n",
              "      cursor: pointer;\n",
              "      display: none;\n",
              "      fill: #1967D2;\n",
              "      height: 32px;\n",
              "      padding: 0 0 0 0;\n",
              "      width: 32px;\n",
              "    }\n",
              "\n",
              "    .colab-df-convert:hover {\n",
              "      background-color: #E2EBFA;\n",
              "      box-shadow: 0px 1px 2px rgba(60, 64, 67, 0.3), 0px 1px 3px 1px rgba(60, 64, 67, 0.15);\n",
              "      fill: #174EA6;\n",
              "    }\n",
              "\n",
              "    [theme=dark] .colab-df-convert {\n",
              "      background-color: #3B4455;\n",
              "      fill: #D2E3FC;\n",
              "    }\n",
              "\n",
              "    [theme=dark] .colab-df-convert:hover {\n",
              "      background-color: #434B5C;\n",
              "      box-shadow: 0px 1px 3px 1px rgba(0, 0, 0, 0.15);\n",
              "      filter: drop-shadow(0px 1px 2px rgba(0, 0, 0, 0.3));\n",
              "      fill: #FFFFFF;\n",
              "    }\n",
              "  </style>\n",
              "\n",
              "      <script>\n",
              "        const buttonEl =\n",
              "          document.querySelector('#df-b10909d7-230f-4cea-b266-335c011ff0c0 button.colab-df-convert');\n",
              "        buttonEl.style.display =\n",
              "          google.colab.kernel.accessAllowed ? 'block' : 'none';\n",
              "\n",
              "        async function convertToInteractive(key) {\n",
              "          const element = document.querySelector('#df-b10909d7-230f-4cea-b266-335c011ff0c0');\n",
              "          const dataTable =\n",
              "            await google.colab.kernel.invokeFunction('convertToInteractive',\n",
              "                                                     [key], {});\n",
              "          if (!dataTable) return;\n",
              "\n",
              "          const docLinkHtml = 'Like what you see? Visit the ' +\n",
              "            '<a target=\"_blank\" href=https://colab.research.google.com/notebooks/data_table.ipynb>data table notebook</a>'\n",
              "            + ' to learn more about interactive tables.';\n",
              "          element.innerHTML = '';\n",
              "          dataTable['output_type'] = 'display_data';\n",
              "          await google.colab.output.renderOutput(dataTable, element);\n",
              "          const docLink = document.createElement('div');\n",
              "          docLink.innerHTML = docLinkHtml;\n",
              "          element.appendChild(docLink);\n",
              "        }\n",
              "      </script>\n",
              "    </div>\n",
              "  </div>\n",
              "  "
            ]
          },
          "metadata": {},
          "execution_count": 51
        }
      ],
      "source": [
        "homicides_df[[\"AÑO DE NACIMIENTO\", \"EDAD\"]].head(10)"
      ]
    },
    {
      "cell_type": "markdown",
      "metadata": {
        "id": "InQZuYA6epkE"
      },
      "source": [
        "<span style=\"color:red\">TODO: Fix the \"AÑO DE NACIMIENTO\" column using the column \"EDAD\".</span>"
      ]
    },
    {
      "cell_type": "code",
      "execution_count": 56,
      "metadata": {
        "id": "kM5ZSAioepkE",
        "colab": {
          "base_uri": "https://localhost:8080/"
        },
        "outputId": "f1003d5d-581c-4a62-c3e1-e8ab9b79692b"
      },
      "outputs": [
        {
          "output_type": "execute_result",
          "data": {
            "text/plain": [
              "2022"
            ]
          },
          "metadata": {},
          "execution_count": 56
        }
      ],
      "source": [
        "year_today = datetime.today().year\n",
        "year_today"
      ]
    },
    {
      "cell_type": "code",
      "source": [
        "def fix_birthday(row):\n",
        "  return year_today - row"
      ],
      "metadata": {
        "id": "cBtwdrPutuZh"
      },
      "execution_count": 58,
      "outputs": []
    },
    {
      "cell_type": "code",
      "source": [
        "homicides_df[\"AÑO DE NACIMIENTO\"] = homicides_df['EDAD'].apply(fix_birthday)"
      ],
      "metadata": {
        "id": "GPCehgHHuA0V"
      },
      "execution_count": 59,
      "outputs": []
    },
    {
      "cell_type": "code",
      "source": [
        "homicides_df[[\"AÑO DE NACIMIENTO\", \"EDAD\"]].head(10)"
      ],
      "metadata": {
        "colab": {
          "base_uri": "https://localhost:8080/",
          "height": 363
        },
        "id": "cda8P-qPuLN-",
        "outputId": "c5a527be-a705-4ee3-a590-ea62670a3d51"
      },
      "execution_count": 60,
      "outputs": [
        {
          "output_type": "execute_result",
          "data": {
            "text/plain": [
              "   AÑO DE NACIMIENTO  EDAD\n",
              "0             1978.0  44.0\n",
              "1             1992.0  30.0\n",
              "2             1989.0  33.0\n",
              "3             1982.0  40.0\n",
              "4             1956.0  66.0\n",
              "5             1980.0  42.0\n",
              "6             1997.0  25.0\n",
              "7             1985.0  37.0\n",
              "8             1997.0  25.0\n",
              "9             1992.0  30.0"
            ],
            "text/html": [
              "\n",
              "  <div id=\"df-d2ad73f6-e500-424d-b03d-9f1fa8cc7812\">\n",
              "    <div class=\"colab-df-container\">\n",
              "      <div>\n",
              "<style scoped>\n",
              "    .dataframe tbody tr th:only-of-type {\n",
              "        vertical-align: middle;\n",
              "    }\n",
              "\n",
              "    .dataframe tbody tr th {\n",
              "        vertical-align: top;\n",
              "    }\n",
              "\n",
              "    .dataframe thead th {\n",
              "        text-align: right;\n",
              "    }\n",
              "</style>\n",
              "<table border=\"1\" class=\"dataframe\">\n",
              "  <thead>\n",
              "    <tr style=\"text-align: right;\">\n",
              "      <th></th>\n",
              "      <th>AÑO DE NACIMIENTO</th>\n",
              "      <th>EDAD</th>\n",
              "    </tr>\n",
              "  </thead>\n",
              "  <tbody>\n",
              "    <tr>\n",
              "      <th>0</th>\n",
              "      <td>1978.0</td>\n",
              "      <td>44.0</td>\n",
              "    </tr>\n",
              "    <tr>\n",
              "      <th>1</th>\n",
              "      <td>1992.0</td>\n",
              "      <td>30.0</td>\n",
              "    </tr>\n",
              "    <tr>\n",
              "      <th>2</th>\n",
              "      <td>1989.0</td>\n",
              "      <td>33.0</td>\n",
              "    </tr>\n",
              "    <tr>\n",
              "      <th>3</th>\n",
              "      <td>1982.0</td>\n",
              "      <td>40.0</td>\n",
              "    </tr>\n",
              "    <tr>\n",
              "      <th>4</th>\n",
              "      <td>1956.0</td>\n",
              "      <td>66.0</td>\n",
              "    </tr>\n",
              "    <tr>\n",
              "      <th>5</th>\n",
              "      <td>1980.0</td>\n",
              "      <td>42.0</td>\n",
              "    </tr>\n",
              "    <tr>\n",
              "      <th>6</th>\n",
              "      <td>1997.0</td>\n",
              "      <td>25.0</td>\n",
              "    </tr>\n",
              "    <tr>\n",
              "      <th>7</th>\n",
              "      <td>1985.0</td>\n",
              "      <td>37.0</td>\n",
              "    </tr>\n",
              "    <tr>\n",
              "      <th>8</th>\n",
              "      <td>1997.0</td>\n",
              "      <td>25.0</td>\n",
              "    </tr>\n",
              "    <tr>\n",
              "      <th>9</th>\n",
              "      <td>1992.0</td>\n",
              "      <td>30.0</td>\n",
              "    </tr>\n",
              "  </tbody>\n",
              "</table>\n",
              "</div>\n",
              "      <button class=\"colab-df-convert\" onclick=\"convertToInteractive('df-d2ad73f6-e500-424d-b03d-9f1fa8cc7812')\"\n",
              "              title=\"Convert this dataframe to an interactive table.\"\n",
              "              style=\"display:none;\">\n",
              "        \n",
              "  <svg xmlns=\"http://www.w3.org/2000/svg\" height=\"24px\"viewBox=\"0 0 24 24\"\n",
              "       width=\"24px\">\n",
              "    <path d=\"M0 0h24v24H0V0z\" fill=\"none\"/>\n",
              "    <path d=\"M18.56 5.44l.94 2.06.94-2.06 2.06-.94-2.06-.94-.94-2.06-.94 2.06-2.06.94zm-11 1L8.5 8.5l.94-2.06 2.06-.94-2.06-.94L8.5 2.5l-.94 2.06-2.06.94zm10 10l.94 2.06.94-2.06 2.06-.94-2.06-.94-.94-2.06-.94 2.06-2.06.94z\"/><path d=\"M17.41 7.96l-1.37-1.37c-.4-.4-.92-.59-1.43-.59-.52 0-1.04.2-1.43.59L10.3 9.45l-7.72 7.72c-.78.78-.78 2.05 0 2.83L4 21.41c.39.39.9.59 1.41.59.51 0 1.02-.2 1.41-.59l7.78-7.78 2.81-2.81c.8-.78.8-2.07 0-2.86zM5.41 20L4 18.59l7.72-7.72 1.47 1.35L5.41 20z\"/>\n",
              "  </svg>\n",
              "      </button>\n",
              "      \n",
              "  <style>\n",
              "    .colab-df-container {\n",
              "      display:flex;\n",
              "      flex-wrap:wrap;\n",
              "      gap: 12px;\n",
              "    }\n",
              "\n",
              "    .colab-df-convert {\n",
              "      background-color: #E8F0FE;\n",
              "      border: none;\n",
              "      border-radius: 50%;\n",
              "      cursor: pointer;\n",
              "      display: none;\n",
              "      fill: #1967D2;\n",
              "      height: 32px;\n",
              "      padding: 0 0 0 0;\n",
              "      width: 32px;\n",
              "    }\n",
              "\n",
              "    .colab-df-convert:hover {\n",
              "      background-color: #E2EBFA;\n",
              "      box-shadow: 0px 1px 2px rgba(60, 64, 67, 0.3), 0px 1px 3px 1px rgba(60, 64, 67, 0.15);\n",
              "      fill: #174EA6;\n",
              "    }\n",
              "\n",
              "    [theme=dark] .colab-df-convert {\n",
              "      background-color: #3B4455;\n",
              "      fill: #D2E3FC;\n",
              "    }\n",
              "\n",
              "    [theme=dark] .colab-df-convert:hover {\n",
              "      background-color: #434B5C;\n",
              "      box-shadow: 0px 1px 3px 1px rgba(0, 0, 0, 0.15);\n",
              "      filter: drop-shadow(0px 1px 2px rgba(0, 0, 0, 0.3));\n",
              "      fill: #FFFFFF;\n",
              "    }\n",
              "  </style>\n",
              "\n",
              "      <script>\n",
              "        const buttonEl =\n",
              "          document.querySelector('#df-d2ad73f6-e500-424d-b03d-9f1fa8cc7812 button.colab-df-convert');\n",
              "        buttonEl.style.display =\n",
              "          google.colab.kernel.accessAllowed ? 'block' : 'none';\n",
              "\n",
              "        async function convertToInteractive(key) {\n",
              "          const element = document.querySelector('#df-d2ad73f6-e500-424d-b03d-9f1fa8cc7812');\n",
              "          const dataTable =\n",
              "            await google.colab.kernel.invokeFunction('convertToInteractive',\n",
              "                                                     [key], {});\n",
              "          if (!dataTable) return;\n",
              "\n",
              "          const docLinkHtml = 'Like what you see? Visit the ' +\n",
              "            '<a target=\"_blank\" href=https://colab.research.google.com/notebooks/data_table.ipynb>data table notebook</a>'\n",
              "            + ' to learn more about interactive tables.';\n",
              "          element.innerHTML = '';\n",
              "          dataTable['output_type'] = 'display_data';\n",
              "          await google.colab.output.renderOutput(dataTable, element);\n",
              "          const docLink = document.createElement('div');\n",
              "          docLink.innerHTML = docLinkHtml;\n",
              "          element.appendChild(docLink);\n",
              "        }\n",
              "      </script>\n",
              "    </div>\n",
              "  </div>\n",
              "  "
            ]
          },
          "metadata": {},
          "execution_count": 60
        }
      ]
    }
  ],
  "metadata": {
    "kernelspec": {
      "display_name": "Python 3 (ipykernel)",
      "language": "python",
      "name": "python3"
    },
    "language_info": {
      "codemirror_mode": {
        "name": "ipython",
        "version": 3
      },
      "file_extension": ".py",
      "mimetype": "text/x-python",
      "name": "python",
      "nbconvert_exporter": "python",
      "pygments_lexer": "ipython3",
      "version": "3.9.12"
    },
    "colab": {
      "provenance": [],
      "collapsed_sections": []
    }
  },
  "nbformat": 4,
  "nbformat_minor": 0
}