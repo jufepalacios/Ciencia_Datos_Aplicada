{
  "nbformat": 4,
  "nbformat_minor": 0,
  "metadata": {
    "colab": {
      "provenance": []
    },
    "kernelspec": {
      "name": "python3",
      "display_name": "Python 3"
    },
    "language_info": {
      "name": "python"
    }
  },
  "cells": [
    {
      "cell_type": "markdown",
      "source": [
        "# Parcial 1 - Ciencia de Datos Aplicada\n",
        "\n",
        "Juan Felipe Palacios Sánchez - jf.palacios - 201616389\n"
      ],
      "metadata": {
        "id": "cy4x6IsKLWSb"
      }
    },
    {
      "cell_type": "markdown",
      "source": [
        "Al entregar la solución de este parcial, yo, Juan Felipe Palacios con código 201616389 me comprometo a no\n",
        "conversar durante el desarrollo de este examen con ninguna persona que no sea el profesor del curso, sobre\n",
        "aspectos relacionados con el parcial; tampoco utilizaré algún medio de comunicación por voz, texto o\n",
        "intercambio de archivos, para consultar o compartir con otros, información sobre el tema del parcial. Soy\n",
        "consciente y acepto las consecuencias que acarreará para mi desempeño académico cometer fraude en este\n",
        "parcial."
      ],
      "metadata": {
        "id": "4Eqf2XT-fOh5"
      }
    },
    {
      "cell_type": "code",
      "source": [
        "import pandas as pd\n",
        "import matplotlib.pyplot as plt\n",
        "import numpy as np\n",
        "import seaborn as sns"
      ],
      "metadata": {
        "id": "IQeGvpOCgir3"
      },
      "execution_count": 1,
      "outputs": []
    },
    {
      "cell_type": "markdown",
      "source": [
        "## Punto 1\n",
        "Un análisis exploratorio y de calidad de datos a partir de los datos históricos\n",
        "suministrados. En la medida de lo posible, incluya técnicas de análisis univariado, bivariado, gráficas y no gráficas. Realice la limpieza y preparación correspondiente para que puedan ser consumidos por los algoritmos de machine learning que va a utilizar. Adjunte la evidencia de como quedan los datos preparados, explique y justifique el proceso implementado.\n"
      ],
      "metadata": {
        "id": "ypV44mNxfo_b"
      }
    },
    {
      "cell_type": "code",
      "execution_count": 2,
      "metadata": {
        "colab": {
          "base_uri": "https://localhost:8080/",
          "height": 372
        },
        "id": "aZpLsgUrLQns",
        "outputId": "c4500af9-e9ca-4575-8fb5-916d60f64402"
      },
      "outputs": [
        {
          "output_type": "execute_result",
          "data": {
            "text/plain": [
              "         id neighbourhood group       neighbourhood       lat      long  \\\n",
              "0  48540006           Manhattan      Hell's Kitchen  40.76212 -73.98820   \n",
              "1  35079903           Manhattan             Midtown  40.74623 -73.98499   \n",
              "2  50681273           Manhattan     Upper West Side  40.78859 -73.97568   \n",
              "3  13039267           Manhattan  Financial District  40.70817 -74.00511   \n",
              "4   8998640           Manhattan     Lower East Side  40.72130 -73.98900   \n",
              "\n",
              "         country instant_bookable cancellation_policy        room type  \\\n",
              "0  United States             True              strict  Entire home/apt   \n",
              "1  United States             True            flexible       Hotel room   \n",
              "2  United States            False            flexible     Private room   \n",
              "3  United States            False              strict     Private room   \n",
              "4  United States             True            moderate  Entire home/apt   \n",
              "\n",
              "   construction year  price service fee  minimum nights  availability 365  \\\n",
              "0             2011.0  $ 851       $ 170             4.0             199.0   \n",
              "1             2021.0  $ 466        $ 93             1.0             161.0   \n",
              "2             2004.0  $ 874       $ 175            14.0               0.0   \n",
              "3             2012.0  $ 813       $ 163             1.0               0.0   \n",
              "4             2007.0  $ 326        $ 65             4.0             301.0   \n",
              "\n",
              "   number of reviews  review rate number  \n",
              "0              112.0                 1.0  \n",
              "1               13.0                 5.0  \n",
              "2                1.0                 2.0  \n",
              "3                5.0                 3.0  \n",
              "4                9.0                 3.0  "
            ],
            "text/html": [
              "\n",
              "  <div id=\"df-9bdcfc2b-2ed7-4815-8e82-d4cfe1ed559a\">\n",
              "    <div class=\"colab-df-container\">\n",
              "      <div>\n",
              "<style scoped>\n",
              "    .dataframe tbody tr th:only-of-type {\n",
              "        vertical-align: middle;\n",
              "    }\n",
              "\n",
              "    .dataframe tbody tr th {\n",
              "        vertical-align: top;\n",
              "    }\n",
              "\n",
              "    .dataframe thead th {\n",
              "        text-align: right;\n",
              "    }\n",
              "</style>\n",
              "<table border=\"1\" class=\"dataframe\">\n",
              "  <thead>\n",
              "    <tr style=\"text-align: right;\">\n",
              "      <th></th>\n",
              "      <th>id</th>\n",
              "      <th>neighbourhood group</th>\n",
              "      <th>neighbourhood</th>\n",
              "      <th>lat</th>\n",
              "      <th>long</th>\n",
              "      <th>country</th>\n",
              "      <th>instant_bookable</th>\n",
              "      <th>cancellation_policy</th>\n",
              "      <th>room type</th>\n",
              "      <th>construction year</th>\n",
              "      <th>price</th>\n",
              "      <th>service fee</th>\n",
              "      <th>minimum nights</th>\n",
              "      <th>availability 365</th>\n",
              "      <th>number of reviews</th>\n",
              "      <th>review rate number</th>\n",
              "    </tr>\n",
              "  </thead>\n",
              "  <tbody>\n",
              "    <tr>\n",
              "      <th>0</th>\n",
              "      <td>48540006</td>\n",
              "      <td>Manhattan</td>\n",
              "      <td>Hell's Kitchen</td>\n",
              "      <td>40.76212</td>\n",
              "      <td>-73.98820</td>\n",
              "      <td>United States</td>\n",
              "      <td>True</td>\n",
              "      <td>strict</td>\n",
              "      <td>Entire home/apt</td>\n",
              "      <td>2011.0</td>\n",
              "      <td>$ 851</td>\n",
              "      <td>$ 170</td>\n",
              "      <td>4.0</td>\n",
              "      <td>199.0</td>\n",
              "      <td>112.0</td>\n",
              "      <td>1.0</td>\n",
              "    </tr>\n",
              "    <tr>\n",
              "      <th>1</th>\n",
              "      <td>35079903</td>\n",
              "      <td>Manhattan</td>\n",
              "      <td>Midtown</td>\n",
              "      <td>40.74623</td>\n",
              "      <td>-73.98499</td>\n",
              "      <td>United States</td>\n",
              "      <td>True</td>\n",
              "      <td>flexible</td>\n",
              "      <td>Hotel room</td>\n",
              "      <td>2021.0</td>\n",
              "      <td>$ 466</td>\n",
              "      <td>$ 93</td>\n",
              "      <td>1.0</td>\n",
              "      <td>161.0</td>\n",
              "      <td>13.0</td>\n",
              "      <td>5.0</td>\n",
              "    </tr>\n",
              "    <tr>\n",
              "      <th>2</th>\n",
              "      <td>50681273</td>\n",
              "      <td>Manhattan</td>\n",
              "      <td>Upper West Side</td>\n",
              "      <td>40.78859</td>\n",
              "      <td>-73.97568</td>\n",
              "      <td>United States</td>\n",
              "      <td>False</td>\n",
              "      <td>flexible</td>\n",
              "      <td>Private room</td>\n",
              "      <td>2004.0</td>\n",
              "      <td>$ 874</td>\n",
              "      <td>$ 175</td>\n",
              "      <td>14.0</td>\n",
              "      <td>0.0</td>\n",
              "      <td>1.0</td>\n",
              "      <td>2.0</td>\n",
              "    </tr>\n",
              "    <tr>\n",
              "      <th>3</th>\n",
              "      <td>13039267</td>\n",
              "      <td>Manhattan</td>\n",
              "      <td>Financial District</td>\n",
              "      <td>40.70817</td>\n",
              "      <td>-74.00511</td>\n",
              "      <td>United States</td>\n",
              "      <td>False</td>\n",
              "      <td>strict</td>\n",
              "      <td>Private room</td>\n",
              "      <td>2012.0</td>\n",
              "      <td>$ 813</td>\n",
              "      <td>$ 163</td>\n",
              "      <td>1.0</td>\n",
              "      <td>0.0</td>\n",
              "      <td>5.0</td>\n",
              "      <td>3.0</td>\n",
              "    </tr>\n",
              "    <tr>\n",
              "      <th>4</th>\n",
              "      <td>8998640</td>\n",
              "      <td>Manhattan</td>\n",
              "      <td>Lower East Side</td>\n",
              "      <td>40.72130</td>\n",
              "      <td>-73.98900</td>\n",
              "      <td>United States</td>\n",
              "      <td>True</td>\n",
              "      <td>moderate</td>\n",
              "      <td>Entire home/apt</td>\n",
              "      <td>2007.0</td>\n",
              "      <td>$ 326</td>\n",
              "      <td>$ 65</td>\n",
              "      <td>4.0</td>\n",
              "      <td>301.0</td>\n",
              "      <td>9.0</td>\n",
              "      <td>3.0</td>\n",
              "    </tr>\n",
              "  </tbody>\n",
              "</table>\n",
              "</div>\n",
              "      <button class=\"colab-df-convert\" onclick=\"convertToInteractive('df-9bdcfc2b-2ed7-4815-8e82-d4cfe1ed559a')\"\n",
              "              title=\"Convert this dataframe to an interactive table.\"\n",
              "              style=\"display:none;\">\n",
              "        \n",
              "  <svg xmlns=\"http://www.w3.org/2000/svg\" height=\"24px\"viewBox=\"0 0 24 24\"\n",
              "       width=\"24px\">\n",
              "    <path d=\"M0 0h24v24H0V0z\" fill=\"none\"/>\n",
              "    <path d=\"M18.56 5.44l.94 2.06.94-2.06 2.06-.94-2.06-.94-.94-2.06-.94 2.06-2.06.94zm-11 1L8.5 8.5l.94-2.06 2.06-.94-2.06-.94L8.5 2.5l-.94 2.06-2.06.94zm10 10l.94 2.06.94-2.06 2.06-.94-2.06-.94-.94-2.06-.94 2.06-2.06.94z\"/><path d=\"M17.41 7.96l-1.37-1.37c-.4-.4-.92-.59-1.43-.59-.52 0-1.04.2-1.43.59L10.3 9.45l-7.72 7.72c-.78.78-.78 2.05 0 2.83L4 21.41c.39.39.9.59 1.41.59.51 0 1.02-.2 1.41-.59l7.78-7.78 2.81-2.81c.8-.78.8-2.07 0-2.86zM5.41 20L4 18.59l7.72-7.72 1.47 1.35L5.41 20z\"/>\n",
              "  </svg>\n",
              "      </button>\n",
              "      \n",
              "  <style>\n",
              "    .colab-df-container {\n",
              "      display:flex;\n",
              "      flex-wrap:wrap;\n",
              "      gap: 12px;\n",
              "    }\n",
              "\n",
              "    .colab-df-convert {\n",
              "      background-color: #E8F0FE;\n",
              "      border: none;\n",
              "      border-radius: 50%;\n",
              "      cursor: pointer;\n",
              "      display: none;\n",
              "      fill: #1967D2;\n",
              "      height: 32px;\n",
              "      padding: 0 0 0 0;\n",
              "      width: 32px;\n",
              "    }\n",
              "\n",
              "    .colab-df-convert:hover {\n",
              "      background-color: #E2EBFA;\n",
              "      box-shadow: 0px 1px 2px rgba(60, 64, 67, 0.3), 0px 1px 3px 1px rgba(60, 64, 67, 0.15);\n",
              "      fill: #174EA6;\n",
              "    }\n",
              "\n",
              "    [theme=dark] .colab-df-convert {\n",
              "      background-color: #3B4455;\n",
              "      fill: #D2E3FC;\n",
              "    }\n",
              "\n",
              "    [theme=dark] .colab-df-convert:hover {\n",
              "      background-color: #434B5C;\n",
              "      box-shadow: 0px 1px 3px 1px rgba(0, 0, 0, 0.15);\n",
              "      filter: drop-shadow(0px 1px 2px rgba(0, 0, 0, 0.3));\n",
              "      fill: #FFFFFF;\n",
              "    }\n",
              "  </style>\n",
              "\n",
              "      <script>\n",
              "        const buttonEl =\n",
              "          document.querySelector('#df-9bdcfc2b-2ed7-4815-8e82-d4cfe1ed559a button.colab-df-convert');\n",
              "        buttonEl.style.display =\n",
              "          google.colab.kernel.accessAllowed ? 'block' : 'none';\n",
              "\n",
              "        async function convertToInteractive(key) {\n",
              "          const element = document.querySelector('#df-9bdcfc2b-2ed7-4815-8e82-d4cfe1ed559a');\n",
              "          const dataTable =\n",
              "            await google.colab.kernel.invokeFunction('convertToInteractive',\n",
              "                                                     [key], {});\n",
              "          if (!dataTable) return;\n",
              "\n",
              "          const docLinkHtml = 'Like what you see? Visit the ' +\n",
              "            '<a target=\"_blank\" href=https://colab.research.google.com/notebooks/data_table.ipynb>data table notebook</a>'\n",
              "            + ' to learn more about interactive tables.';\n",
              "          element.innerHTML = '';\n",
              "          dataTable['output_type'] = 'display_data';\n",
              "          await google.colab.output.renderOutput(dataTable, element);\n",
              "          const docLink = document.createElement('div');\n",
              "          docLink.innerHTML = docLinkHtml;\n",
              "          element.appendChild(docLink);\n",
              "        }\n",
              "      </script>\n",
              "    </div>\n",
              "  </div>\n",
              "  "
            ]
          },
          "metadata": {},
          "execution_count": 2
        }
      ],
      "source": [
        "df_history = pd.read_csv('https://raw.githubusercontent.com/jufepalacios/Ciencia_Datos_Aplicada/main/Parcial_1/losalpes_history.csv')\n",
        "df_history.head()"
      ]
    },
    {
      "cell_type": "code",
      "source": [
        "df_history.info()"
      ],
      "metadata": {
        "colab": {
          "base_uri": "https://localhost:8080/"
        },
        "id": "4DBy0V18hhSs",
        "outputId": "ba27ee5b-db09-4291-bf37-412e69fe08c2"
      },
      "execution_count": 3,
      "outputs": [
        {
          "output_type": "stream",
          "name": "stdout",
          "text": [
            "<class 'pandas.core.frame.DataFrame'>\n",
            "RangeIndex: 102083 entries, 0 to 102082\n",
            "Data columns (total 16 columns):\n",
            " #   Column               Non-Null Count   Dtype  \n",
            "---  ------               --------------   -----  \n",
            " 0   id                   102083 non-null  int64  \n",
            " 1   neighbourhood group  101463 non-null  object \n",
            " 2   neighbourhood        101476 non-null  object \n",
            " 3   lat                  101484 non-null  float64\n",
            " 4   long                 101484 non-null  float64\n",
            " 5   country              100967 non-null  object \n",
            " 6   instant_bookable     101387 non-null  object \n",
            " 7   cancellation_policy  101416 non-null  object \n",
            " 8   room type            101492 non-null  object \n",
            " 9   construction year    101279 non-null  float64\n",
            " 10  price                101245 non-null  object \n",
            " 11  service fee          101220 non-null  object \n",
            " 12  minimum nights       101089 non-null  float64\n",
            " 13  availability 365     101049 non-null  float64\n",
            " 14  number of reviews    101313 non-null  float64\n",
            " 15  review rate number   101174 non-null  float64\n",
            "dtypes: float64(7), int64(1), object(8)\n",
            "memory usage: 12.5+ MB\n"
          ]
        }
      ]
    },
    {
      "cell_type": "markdown",
      "source": [
        "De la función info encontramos la cantidad de filas no nulas para cada columna y el tipo de variable asignado por pandas. Se puede observar que ninguna columna esta completa. El precio y el service fee estan como objetos lo cual toca cambiar a número. Se procede a quitar los duplicados por el id, ya que este valor deberia ser unico para cada fila. "
      ],
      "metadata": {
        "id": "8ms5qhbLhs7P"
      }
    },
    {
      "cell_type": "code",
      "source": [
        "df_history.shape"
      ],
      "metadata": {
        "colab": {
          "base_uri": "https://localhost:8080/"
        },
        "id": "0rRTsfncp00G",
        "outputId": "06a7074f-22b5-4478-8bc0-376bef0c40ea"
      },
      "execution_count": 4,
      "outputs": [
        {
          "output_type": "execute_result",
          "data": {
            "text/plain": [
              "(102083, 16)"
            ]
          },
          "metadata": {},
          "execution_count": 4
        }
      ]
    },
    {
      "cell_type": "code",
      "source": [
        "df_history = df_history.drop_duplicates(subset=['id'])"
      ],
      "metadata": {
        "id": "9n7mmmQ0QFx9"
      },
      "execution_count": 5,
      "outputs": []
    },
    {
      "cell_type": "code",
      "source": [
        "df_history.shape"
      ],
      "metadata": {
        "colab": {
          "base_uri": "https://localhost:8080/"
        },
        "id": "d_AuxadIQj8n",
        "outputId": "25feb68d-0e6d-44ad-9449-15a6daa8dce5"
      },
      "execution_count": 6,
      "outputs": [
        {
          "output_type": "execute_result",
          "data": {
            "text/plain": [
              "(101547, 16)"
            ]
          },
          "metadata": {},
          "execution_count": 6
        }
      ]
    },
    {
      "cell_type": "code",
      "source": [
        "df_history.isna().sum()"
      ],
      "metadata": {
        "colab": {
          "base_uri": "https://localhost:8080/"
        },
        "id": "q4TFpMAVXDRZ",
        "outputId": "8fc55010-fa01-44eb-82c7-f4e6a06aade0"
      },
      "execution_count": 7,
      "outputs": [
        {
          "output_type": "execute_result",
          "data": {
            "text/plain": [
              "id                        0\n",
              "neighbourhood group     614\n",
              "neighbourhood           601\n",
              "lat                     593\n",
              "long                    593\n",
              "country                1110\n",
              "instant_bookable        690\n",
              "cancellation_policy     661\n",
              "room type               585\n",
              "construction year       798\n",
              "price                   832\n",
              "service fee             857\n",
              "minimum nights          979\n",
              "availability 365       1028\n",
              "number of reviews       764\n",
              "review rate number      896\n",
              "dtype: int64"
            ]
          },
          "metadata": {},
          "execution_count": 7
        }
      ]
    },
    {
      "cell_type": "markdown",
      "source": [
        "### Columnas string"
      ],
      "metadata": {
        "id": "wh9CMTGhie_b"
      }
    },
    {
      "cell_type": "markdown",
      "source": [
        "neighbourhood group"
      ],
      "metadata": {
        "id": "6DUnz79Oihcv"
      }
    },
    {
      "cell_type": "code",
      "source": [
        "df_history['neighbourhood group'].unique()"
      ],
      "metadata": {
        "colab": {
          "base_uri": "https://localhost:8080/"
        },
        "id": "i8QBWv30iPT2",
        "outputId": "2315359a-0f05-4799-d3b5-d2ce90bf8202"
      },
      "execution_count": 8,
      "outputs": [
        {
          "output_type": "execute_result",
          "data": {
            "text/plain": [
              "array(['Manhattan', 'Brooklyn', 'Queens', 'Bronx', 'Staten Island', nan,\n",
              "       'Quens', 'Manattan', 'Broolkyn', 'Manhatan', 'brookln', 'manhatan'],\n",
              "      dtype=object)"
            ]
          },
          "metadata": {},
          "execution_count": 8
        }
      ]
    },
    {
      "cell_type": "markdown",
      "source": [
        "Encontramos que existen varios nombres erroneos, para solucionar esto vamos a hacer uso del metodo de Levenshtein. Primero debemos cambiar los NaN por strings vacios"
      ],
      "metadata": {
        "id": "axBvdQQ1ip_9"
      }
    },
    {
      "cell_type": "code",
      "source": [
        "df_history['neighbourhood group'].fillna('',inplace=True)"
      ],
      "metadata": {
        "colab": {
          "base_uri": "https://localhost:8080/"
        },
        "id": "A7G9gTfBkIzl",
        "outputId": "d30db154-21a8-4357-8bd5-790f2b7bc9a8"
      },
      "execution_count": 9,
      "outputs": [
        {
          "output_type": "stream",
          "name": "stderr",
          "text": [
            "/usr/local/lib/python3.7/dist-packages/pandas/core/generic.py:6392: SettingWithCopyWarning: \n",
            "A value is trying to be set on a copy of a slice from a DataFrame\n",
            "\n",
            "See the caveats in the documentation: https://pandas.pydata.org/pandas-docs/stable/user_guide/indexing.html#returning-a-view-versus-a-copy\n",
            "  return self._update_inplace(result)\n"
          ]
        }
      ]
    },
    {
      "cell_type": "code",
      "source": [
        "!pip install pylev"
      ],
      "metadata": {
        "colab": {
          "base_uri": "https://localhost:8080/"
        },
        "id": "dj5GefOUjEAX",
        "outputId": "66a97d58-e608-4242-801a-e440af884f28"
      },
      "execution_count": 10,
      "outputs": [
        {
          "output_type": "stream",
          "name": "stdout",
          "text": [
            "Looking in indexes: https://pypi.org/simple, https://us-python.pkg.dev/colab-wheels/public/simple/\n",
            "Requirement already satisfied: pylev in /usr/local/lib/python3.7/dist-packages (1.4.0)\n"
          ]
        }
      ]
    },
    {
      "cell_type": "code",
      "source": [
        "import pylev"
      ],
      "metadata": {
        "id": "J4Olbc0FjFUq"
      },
      "execution_count": 11,
      "outputs": []
    },
    {
      "cell_type": "code",
      "source": [
        "def fix_neighbourhood(row):\n",
        "  boroughs = ['Manhattan','Brooklyn','Queens','Bronx','Staten Island']\n",
        "  min_lev = 15\n",
        "  if row == '':\n",
        "    return row\n",
        "  else:\n",
        "    for borough in boroughs:\n",
        "      lev = pylev.levenshtein(row, borough)\n",
        "      if min_lev > lev :\n",
        "        min_lev = lev\n",
        "        borough_cambio = borough\n",
        "        pass\n",
        "    return borough_cambio"
      ],
      "metadata": {
        "id": "eqUxDn-BjI0x"
      },
      "execution_count": 12,
      "outputs": []
    },
    {
      "cell_type": "code",
      "source": [
        "df_history['neighbourhood group'] = df_history['neighbourhood group'].apply(fix_neighbourhood)\n",
        "df_history['neighbourhood group'].unique()"
      ],
      "metadata": {
        "colab": {
          "base_uri": "https://localhost:8080/"
        },
        "id": "BbUpfXJfjqDK",
        "outputId": "2411136f-58cd-4277-efd6-880cbce15464"
      },
      "execution_count": 13,
      "outputs": [
        {
          "output_type": "execute_result",
          "data": {
            "text/plain": [
              "array(['Manhattan', 'Brooklyn', 'Queens', 'Bronx', 'Staten Island', ''],\n",
              "      dtype=object)"
            ]
          },
          "metadata": {},
          "execution_count": 13
        }
      ]
    },
    {
      "cell_type": "code",
      "source": [
        "df_history['neighbourhood group'].replace('',np.nan,inplace=True)"
      ],
      "metadata": {
        "id": "3IO-0ByLYLTl"
      },
      "execution_count": 14,
      "outputs": []
    },
    {
      "cell_type": "markdown",
      "source": [
        "Como no se pueden imputar los valores para la columna de neighbourhood group se eliminan las filas con valores nulos para esta columna"
      ],
      "metadata": {
        "id": "kNZbSReJZiI9"
      }
    },
    {
      "cell_type": "code",
      "source": [
        "df_history = df_history.dropna(subset=['neighbourhood group'])"
      ],
      "metadata": {
        "id": "JDSJ2xuGZrJx"
      },
      "execution_count": 15,
      "outputs": []
    },
    {
      "cell_type": "code",
      "source": [
        "df_history.isna().sum()"
      ],
      "metadata": {
        "colab": {
          "base_uri": "https://localhost:8080/"
        },
        "id": "eWZch_mGZ3Fx",
        "outputId": "203b5052-2d2c-4371-f8e4-75ef8f49c85b"
      },
      "execution_count": 16,
      "outputs": [
        {
          "output_type": "execute_result",
          "data": {
            "text/plain": [
              "id                       0\n",
              "neighbourhood group      0\n",
              "neighbourhood           16\n",
              "lat                      8\n",
              "long                     8\n",
              "country                524\n",
              "instant_bookable       104\n",
              "cancellation_policy     75\n",
              "room type                0\n",
              "construction year      208\n",
              "price                  246\n",
              "service fee            272\n",
              "minimum nights         393\n",
              "availability 365       432\n",
              "number of reviews      179\n",
              "review rate number     309\n",
              "dtype: int64"
            ]
          },
          "metadata": {},
          "execution_count": 16
        }
      ]
    },
    {
      "cell_type": "markdown",
      "source": [
        "Con la funcion creada dejamos todos los neighbourhood con el mismo nombre y las filas que no tenian nombre las dejamos iguales."
      ],
      "metadata": {
        "id": "2BfULLVBkkyx"
      }
    },
    {
      "cell_type": "code",
      "source": [
        "df_history['neighbourhood'].sort_values().unique()"
      ],
      "metadata": {
        "colab": {
          "base_uri": "https://localhost:8080/"
        },
        "id": "fPRsZnSpkv55",
        "outputId": "4de828c2-ed6d-4745-b1d9-d1e97639c15d"
      },
      "execution_count": 17,
      "outputs": [
        {
          "output_type": "execute_result",
          "data": {
            "text/plain": [
              "array(['Allerton', 'Arden Heights', 'Arrochar', 'Arverne', 'Astoria',\n",
              "       'Bath Beach', 'Battery Park City', 'Bay Ridge', 'Bay Terrace',\n",
              "       'Bay Terrace, Staten Island', 'Baychester', 'Bayside', 'Bayswater',\n",
              "       'Bedford-Stuyvesant', 'Belle Harbor', 'Bellerose', 'Belmont',\n",
              "       'Bensonhurst', 'Bergen Beach', 'Boerum Hill', 'Borough Park',\n",
              "       'Breezy Point', 'Briarwood', 'Brighton Beach', 'Bronxdale',\n",
              "       'Brooklyn Heights', 'Brownsville', \"Bull's Head\", 'Bushwick',\n",
              "       'Cambria Heights', 'Canarsie', 'Carroll Gardens', 'Castle Hill',\n",
              "       'Castleton Corners', 'Chelsea', 'Chelsea, Staten Island',\n",
              "       'Chinatown', 'City Island', 'Civic Center', 'Claremont Village',\n",
              "       'Clason Point', 'Clifton', 'Clinton Hill', 'Co-op City',\n",
              "       'Cobble Hill', 'College Point', 'Columbia St', 'Concord',\n",
              "       'Concourse', 'Concourse Village', 'Coney Island', 'Corona',\n",
              "       'Crown Heights', 'Cypress Hills', 'DUMBO', 'Ditmars Steinway',\n",
              "       'Dongan Hills', 'Douglaston', 'Downtown Brooklyn', 'Dyker Heights',\n",
              "       'East Elmhurst', 'East Flatbush', 'East Harlem', 'East Morrisania',\n",
              "       'East New York', 'East Village', 'Eastchester', 'Edenwald',\n",
              "       'Edgemere', 'Elmhurst', 'Eltingville', 'Emerson Hill',\n",
              "       'Far Rockaway', 'Fieldston', 'Financial District', 'Flatbush',\n",
              "       'Flatiron District', 'Flatlands', 'Flushing', 'Fordham',\n",
              "       'Forest Hills', 'Fort Greene', 'Fort Hamilton', 'Fort Wadsworth',\n",
              "       'Fresh Meadows', 'Gerritsen Beach', 'Glen Oaks', 'Glendale',\n",
              "       'Gowanus', 'Gramercy', 'Graniteville', 'Grant City', 'Gravesend',\n",
              "       'Great Kills', 'Greenpoint', 'Greenwich Village', 'Grymes Hill',\n",
              "       'Harlem', \"Hell's Kitchen\", 'Highbridge', 'Hollis', 'Holliswood',\n",
              "       'Howard Beach', 'Howland Hook', 'Huguenot', 'Hunts Point',\n",
              "       'Inwood', 'Jackson Heights', 'Jamaica', 'Jamaica Estates',\n",
              "       'Jamaica Hills', 'Kensington', 'Kew Gardens', 'Kew Gardens Hills',\n",
              "       'Kingsbridge', 'Kips Bay', 'Laurelton', 'Lighthouse Hill',\n",
              "       'Little Italy', 'Little Neck', 'Long Island City', 'Longwood',\n",
              "       'Lower East Side', 'Manhattan Beach', 'Marble Hill',\n",
              "       'Mariners Harbor', 'Maspeth', 'Melrose', 'Middle Village',\n",
              "       'Midland Beach', 'Midtown', 'Midwood', 'Mill Basin',\n",
              "       'Morningside Heights', 'Morris Heights', 'Morris Park',\n",
              "       'Morrisania', 'Mott Haven', 'Mount Eden', 'Mount Hope',\n",
              "       'Murray Hill', 'Navy Yard', 'Neponsit', 'New Brighton', 'New Dorp',\n",
              "       'New Dorp Beach', 'New Springville', 'NoHo', 'Nolita',\n",
              "       'North Riverdale', 'Norwood', 'Oakwood', 'Olinville', 'Ozone Park',\n",
              "       'Park Slope', 'Parkchester', 'Pelham Bay', 'Pelham Gardens',\n",
              "       'Port Morris', 'Port Richmond', \"Prince's Bay\", 'Prospect Heights',\n",
              "       'Prospect-Lefferts Gardens', 'Queens Village', 'Randall Manor',\n",
              "       'Red Hook', 'Rego Park', 'Richmond Hill', 'Richmondtown',\n",
              "       'Ridgewood', 'Riverdale', 'Rockaway Beach', 'Roosevelt Island',\n",
              "       'Rosebank', 'Rosedale', 'Rossville', 'Schuylerville', 'Sea Gate',\n",
              "       'Sheepshead Bay', 'Shore Acres', 'Silver Lake', 'SoHo',\n",
              "       'Soundview', 'South Beach', 'South Ozone Park', 'South Slope',\n",
              "       'Springfield Gardens', 'Spuyten Duyvil', 'St. Albans',\n",
              "       'St. George', 'Stapleton', 'Stuyvesant Town', 'Sunnyside',\n",
              "       'Sunset Park', 'Theater District', 'Throgs Neck', 'Todt Hill',\n",
              "       'Tompkinsville', 'Tottenville', 'Tremont', 'Tribeca',\n",
              "       'Two Bridges', 'Unionport', 'University Heights',\n",
              "       'Upper East Side', 'Upper West Side', 'Van Nest', 'Vinegar Hill',\n",
              "       'Wakefield', 'Washington Heights', 'West Brighton', 'West Farms',\n",
              "       'West Village', 'Westchester Square', 'Westerleigh', 'Whitestone',\n",
              "       'Williamsbridge', 'Williamsburg', 'Willowbrook', 'Windsor Terrace',\n",
              "       'Woodhaven', 'Woodlawn', 'Woodrow', 'Woodside', nan], dtype=object)"
            ]
          },
          "metadata": {},
          "execution_count": 17
        }
      ]
    },
    {
      "cell_type": "markdown",
      "source": [
        "La columna de neighbourhood parece no tener ningun valor erroneo. Se procede con las demas columnas."
      ],
      "metadata": {
        "id": "auA_04zUk41n"
      }
    },
    {
      "cell_type": "code",
      "source": [
        "df_history['country'].unique()"
      ],
      "metadata": {
        "colab": {
          "base_uri": "https://localhost:8080/"
        },
        "id": "huub0QQFk38m",
        "outputId": "fd3e4bb1-a245-4188-ebd1-72896933e66b"
      },
      "execution_count": 18,
      "outputs": [
        {
          "output_type": "execute_result",
          "data": {
            "text/plain": [
              "array(['United States', nan, 'United States of America'], dtype=object)"
            ]
          },
          "metadata": {},
          "execution_count": 18
        }
      ]
    },
    {
      "cell_type": "markdown",
      "source": [
        "La columna de Country tiene diferentes nombres y valores nulos. Todos se pasaran al mismo nombre. Se asume que todos los datos son de Estados Unidos por lo que los valores nulos se les sera asignado tambien el mismo nombre"
      ],
      "metadata": {
        "id": "Xsoqv75RljKk"
      }
    },
    {
      "cell_type": "code",
      "source": [
        "df_history['country'].replace({'United States of America': 'USA', 'United States':'USA'}, inplace=True)\n",
        "df_history['country'].fillna('USA',inplace=True)\n",
        "df_history['country'].unique()"
      ],
      "metadata": {
        "colab": {
          "base_uri": "https://localhost:8080/"
        },
        "id": "PoiUMgIJl2AG",
        "outputId": "4d46bc27-a2ab-4477-a6af-9e50d7461f1d"
      },
      "execution_count": 19,
      "outputs": [
        {
          "output_type": "execute_result",
          "data": {
            "text/plain": [
              "array(['USA'], dtype=object)"
            ]
          },
          "metadata": {},
          "execution_count": 19
        }
      ]
    },
    {
      "cell_type": "markdown",
      "source": [
        "Todos los valores de la columna Country fueron establecidos como USA para usar el mismo nombre de pais."
      ],
      "metadata": {
        "id": "Fv1aW5vYmMw6"
      }
    },
    {
      "cell_type": "code",
      "source": [
        "df_history['instant_bookable'].unique()"
      ],
      "metadata": {
        "colab": {
          "base_uri": "https://localhost:8080/"
        },
        "id": "X5wdBiZRmYd6",
        "outputId": "c593d6b9-cec8-4966-848a-aafb47489bfd"
      },
      "execution_count": 20,
      "outputs": [
        {
          "output_type": "execute_result",
          "data": {
            "text/plain": [
              "array([True, False, nan], dtype=object)"
            ]
          },
          "metadata": {},
          "execution_count": 20
        }
      ]
    },
    {
      "cell_type": "markdown",
      "source": [
        "La columna de instant_bookable parece no tener ningun problema."
      ],
      "metadata": {
        "id": "t_KmTRhGmkVy"
      }
    },
    {
      "cell_type": "code",
      "source": [
        "df_history['cancellation_policy'].unique()"
      ],
      "metadata": {
        "colab": {
          "base_uri": "https://localhost:8080/"
        },
        "id": "VUkLt2cSme-E",
        "outputId": "ef58d808-2d3a-44a6-f4b0-5e2c2bd9c98b"
      },
      "execution_count": 21,
      "outputs": [
        {
          "output_type": "execute_result",
          "data": {
            "text/plain": [
              "array(['strict', 'flexible', 'moderate', nan], dtype=object)"
            ]
          },
          "metadata": {},
          "execution_count": 21
        }
      ]
    },
    {
      "cell_type": "markdown",
      "source": [
        "La columna de cancellation_policy parece no tener ningun error."
      ],
      "metadata": {
        "id": "eJqmjqVJmqLP"
      }
    },
    {
      "cell_type": "code",
      "source": [
        "df_history['room type'].unique()"
      ],
      "metadata": {
        "colab": {
          "base_uri": "https://localhost:8080/"
        },
        "id": "gWBWv5w4muVK",
        "outputId": "1f2c09d3-f55c-4f79-e859-f0c548447ef7"
      },
      "execution_count": 22,
      "outputs": [
        {
          "output_type": "execute_result",
          "data": {
            "text/plain": [
              "array(['Entire home/apt', 'Hotel room', 'Private room', 'Shared room'],\n",
              "      dtype=object)"
            ]
          },
          "metadata": {},
          "execution_count": 22
        }
      ]
    },
    {
      "cell_type": "markdown",
      "source": [
        "La columna de room type parece no tener ningun error."
      ],
      "metadata": {
        "id": "4sVZQ2a1mzzg"
      }
    },
    {
      "cell_type": "markdown",
      "source": [
        "### Columnas número"
      ],
      "metadata": {
        "id": "weHnGyMum9WN"
      }
    },
    {
      "cell_type": "markdown",
      "source": [
        "Las primeras columnas que toca transformar son las de precio y service fee porque tienen el signo peso en el numero y se quitan las comas que se encontraron en algunos valores de la columna de precio. Se quitan las comas para que quede un numero de tres digitos pues se cree que el precio sin la coma esta en el rango de precios del dataset."
      ],
      "metadata": {
        "id": "_dtvdPTHnA1Z"
      }
    },
    {
      "cell_type": "code",
      "source": [
        "df_history['price'] = df_history['price'].replace({r'\\$':'',r',':''}, regex = True).str.strip()\n",
        "df_history['service fee'] = df_history['service fee'].replace({r'\\$':''}, regex = True).str.strip()"
      ],
      "metadata": {
        "id": "qiCsKP_Ht-uK"
      },
      "execution_count": 23,
      "outputs": []
    },
    {
      "cell_type": "code",
      "source": [
        "df_history['price'] = df_history['price'].astype(float)\n",
        "df_history['service fee'] = df_history['service fee'].astype(float)"
      ],
      "metadata": {
        "id": "0f5WDWJavWrt"
      },
      "execution_count": 24,
      "outputs": []
    },
    {
      "cell_type": "markdown",
      "source": [
        "Con las columnas de precio y service fee convertidas en numero se procede a analizar los minimos, maximos y los percentiles de cada columna numerica."
      ],
      "metadata": {
        "id": "mXWLUsHwvson"
      }
    },
    {
      "cell_type": "code",
      "source": [
        "df_history.describe()"
      ],
      "metadata": {
        "colab": {
          "base_uri": "https://localhost:8080/",
          "height": 300
        },
        "id": "-kWf1AF8uI2I",
        "outputId": "c2f33b4a-388a-4468-806c-c06220805c68"
      },
      "execution_count": 25,
      "outputs": [
        {
          "output_type": "execute_result",
          "data": {
            "text/plain": [
              "                 id            lat           long  construction year  \\\n",
              "count  1.009330e+05  100925.000000  100925.000000      100725.000000   \n",
              "mean   2.917841e+07      40.728071     -73.949819        2012.459429   \n",
              "std    1.627656e+07       0.055825       0.049340           7.905685   \n",
              "min    1.001254e+06      40.499790     -74.249840        1020.000000   \n",
              "25%    1.506234e+07      40.688740     -73.982610        2007.000000   \n",
              "50%    2.918410e+07      40.722270     -73.954560        2012.000000   \n",
              "75%    4.327935e+07      40.762730     -73.932580        2018.000000   \n",
              "max    5.736742e+07      40.916970     -73.705220        2022.000000   \n",
              "\n",
              "               price    service fee  minimum nights  availability 365  \\\n",
              "count  100687.000000  100661.000000   100540.000000     100501.000000   \n",
              "mean      454.689414     126.204478        8.141655        140.975244   \n",
              "std       851.454749     389.818876       30.728882        135.460773   \n",
              "min      -611.000000    -193.000000    -1223.000000        -10.000000   \n",
              "25%       137.000000      68.000000        2.000000          3.000000   \n",
              "50%       427.000000     125.000000        3.000000         96.000000   \n",
              "75%       710.000000     182.000000        5.000000        268.000000   \n",
              "max    254000.000000  122000.000000     5645.000000       3677.000000   \n",
              "\n",
              "       number of reviews  review rate number  \n",
              "count      100754.000000       100624.000000  \n",
              "mean           27.430752            3.278900  \n",
              "std            49.495815            1.285293  \n",
              "min             0.000000            1.000000  \n",
              "25%             1.000000            2.000000  \n",
              "50%             7.000000            3.000000  \n",
              "75%            30.000000            4.000000  \n",
              "max          1024.000000            5.000000  "
            ],
            "text/html": [
              "\n",
              "  <div id=\"df-0c2d9c64-9c9f-48f5-b219-8452fddd4740\">\n",
              "    <div class=\"colab-df-container\">\n",
              "      <div>\n",
              "<style scoped>\n",
              "    .dataframe tbody tr th:only-of-type {\n",
              "        vertical-align: middle;\n",
              "    }\n",
              "\n",
              "    .dataframe tbody tr th {\n",
              "        vertical-align: top;\n",
              "    }\n",
              "\n",
              "    .dataframe thead th {\n",
              "        text-align: right;\n",
              "    }\n",
              "</style>\n",
              "<table border=\"1\" class=\"dataframe\">\n",
              "  <thead>\n",
              "    <tr style=\"text-align: right;\">\n",
              "      <th></th>\n",
              "      <th>id</th>\n",
              "      <th>lat</th>\n",
              "      <th>long</th>\n",
              "      <th>construction year</th>\n",
              "      <th>price</th>\n",
              "      <th>service fee</th>\n",
              "      <th>minimum nights</th>\n",
              "      <th>availability 365</th>\n",
              "      <th>number of reviews</th>\n",
              "      <th>review rate number</th>\n",
              "    </tr>\n",
              "  </thead>\n",
              "  <tbody>\n",
              "    <tr>\n",
              "      <th>count</th>\n",
              "      <td>1.009330e+05</td>\n",
              "      <td>100925.000000</td>\n",
              "      <td>100925.000000</td>\n",
              "      <td>100725.000000</td>\n",
              "      <td>100687.000000</td>\n",
              "      <td>100661.000000</td>\n",
              "      <td>100540.000000</td>\n",
              "      <td>100501.000000</td>\n",
              "      <td>100754.000000</td>\n",
              "      <td>100624.000000</td>\n",
              "    </tr>\n",
              "    <tr>\n",
              "      <th>mean</th>\n",
              "      <td>2.917841e+07</td>\n",
              "      <td>40.728071</td>\n",
              "      <td>-73.949819</td>\n",
              "      <td>2012.459429</td>\n",
              "      <td>454.689414</td>\n",
              "      <td>126.204478</td>\n",
              "      <td>8.141655</td>\n",
              "      <td>140.975244</td>\n",
              "      <td>27.430752</td>\n",
              "      <td>3.278900</td>\n",
              "    </tr>\n",
              "    <tr>\n",
              "      <th>std</th>\n",
              "      <td>1.627656e+07</td>\n",
              "      <td>0.055825</td>\n",
              "      <td>0.049340</td>\n",
              "      <td>7.905685</td>\n",
              "      <td>851.454749</td>\n",
              "      <td>389.818876</td>\n",
              "      <td>30.728882</td>\n",
              "      <td>135.460773</td>\n",
              "      <td>49.495815</td>\n",
              "      <td>1.285293</td>\n",
              "    </tr>\n",
              "    <tr>\n",
              "      <th>min</th>\n",
              "      <td>1.001254e+06</td>\n",
              "      <td>40.499790</td>\n",
              "      <td>-74.249840</td>\n",
              "      <td>1020.000000</td>\n",
              "      <td>-611.000000</td>\n",
              "      <td>-193.000000</td>\n",
              "      <td>-1223.000000</td>\n",
              "      <td>-10.000000</td>\n",
              "      <td>0.000000</td>\n",
              "      <td>1.000000</td>\n",
              "    </tr>\n",
              "    <tr>\n",
              "      <th>25%</th>\n",
              "      <td>1.506234e+07</td>\n",
              "      <td>40.688740</td>\n",
              "      <td>-73.982610</td>\n",
              "      <td>2007.000000</td>\n",
              "      <td>137.000000</td>\n",
              "      <td>68.000000</td>\n",
              "      <td>2.000000</td>\n",
              "      <td>3.000000</td>\n",
              "      <td>1.000000</td>\n",
              "      <td>2.000000</td>\n",
              "    </tr>\n",
              "    <tr>\n",
              "      <th>50%</th>\n",
              "      <td>2.918410e+07</td>\n",
              "      <td>40.722270</td>\n",
              "      <td>-73.954560</td>\n",
              "      <td>2012.000000</td>\n",
              "      <td>427.000000</td>\n",
              "      <td>125.000000</td>\n",
              "      <td>3.000000</td>\n",
              "      <td>96.000000</td>\n",
              "      <td>7.000000</td>\n",
              "      <td>3.000000</td>\n",
              "    </tr>\n",
              "    <tr>\n",
              "      <th>75%</th>\n",
              "      <td>4.327935e+07</td>\n",
              "      <td>40.762730</td>\n",
              "      <td>-73.932580</td>\n",
              "      <td>2018.000000</td>\n",
              "      <td>710.000000</td>\n",
              "      <td>182.000000</td>\n",
              "      <td>5.000000</td>\n",
              "      <td>268.000000</td>\n",
              "      <td>30.000000</td>\n",
              "      <td>4.000000</td>\n",
              "    </tr>\n",
              "    <tr>\n",
              "      <th>max</th>\n",
              "      <td>5.736742e+07</td>\n",
              "      <td>40.916970</td>\n",
              "      <td>-73.705220</td>\n",
              "      <td>2022.000000</td>\n",
              "      <td>254000.000000</td>\n",
              "      <td>122000.000000</td>\n",
              "      <td>5645.000000</td>\n",
              "      <td>3677.000000</td>\n",
              "      <td>1024.000000</td>\n",
              "      <td>5.000000</td>\n",
              "    </tr>\n",
              "  </tbody>\n",
              "</table>\n",
              "</div>\n",
              "      <button class=\"colab-df-convert\" onclick=\"convertToInteractive('df-0c2d9c64-9c9f-48f5-b219-8452fddd4740')\"\n",
              "              title=\"Convert this dataframe to an interactive table.\"\n",
              "              style=\"display:none;\">\n",
              "        \n",
              "  <svg xmlns=\"http://www.w3.org/2000/svg\" height=\"24px\"viewBox=\"0 0 24 24\"\n",
              "       width=\"24px\">\n",
              "    <path d=\"M0 0h24v24H0V0z\" fill=\"none\"/>\n",
              "    <path d=\"M18.56 5.44l.94 2.06.94-2.06 2.06-.94-2.06-.94-.94-2.06-.94 2.06-2.06.94zm-11 1L8.5 8.5l.94-2.06 2.06-.94-2.06-.94L8.5 2.5l-.94 2.06-2.06.94zm10 10l.94 2.06.94-2.06 2.06-.94-2.06-.94-.94-2.06-.94 2.06-2.06.94z\"/><path d=\"M17.41 7.96l-1.37-1.37c-.4-.4-.92-.59-1.43-.59-.52 0-1.04.2-1.43.59L10.3 9.45l-7.72 7.72c-.78.78-.78 2.05 0 2.83L4 21.41c.39.39.9.59 1.41.59.51 0 1.02-.2 1.41-.59l7.78-7.78 2.81-2.81c.8-.78.8-2.07 0-2.86zM5.41 20L4 18.59l7.72-7.72 1.47 1.35L5.41 20z\"/>\n",
              "  </svg>\n",
              "      </button>\n",
              "      \n",
              "  <style>\n",
              "    .colab-df-container {\n",
              "      display:flex;\n",
              "      flex-wrap:wrap;\n",
              "      gap: 12px;\n",
              "    }\n",
              "\n",
              "    .colab-df-convert {\n",
              "      background-color: #E8F0FE;\n",
              "      border: none;\n",
              "      border-radius: 50%;\n",
              "      cursor: pointer;\n",
              "      display: none;\n",
              "      fill: #1967D2;\n",
              "      height: 32px;\n",
              "      padding: 0 0 0 0;\n",
              "      width: 32px;\n",
              "    }\n",
              "\n",
              "    .colab-df-convert:hover {\n",
              "      background-color: #E2EBFA;\n",
              "      box-shadow: 0px 1px 2px rgba(60, 64, 67, 0.3), 0px 1px 3px 1px rgba(60, 64, 67, 0.15);\n",
              "      fill: #174EA6;\n",
              "    }\n",
              "\n",
              "    [theme=dark] .colab-df-convert {\n",
              "      background-color: #3B4455;\n",
              "      fill: #D2E3FC;\n",
              "    }\n",
              "\n",
              "    [theme=dark] .colab-df-convert:hover {\n",
              "      background-color: #434B5C;\n",
              "      box-shadow: 0px 1px 3px 1px rgba(0, 0, 0, 0.15);\n",
              "      filter: drop-shadow(0px 1px 2px rgba(0, 0, 0, 0.3));\n",
              "      fill: #FFFFFF;\n",
              "    }\n",
              "  </style>\n",
              "\n",
              "      <script>\n",
              "        const buttonEl =\n",
              "          document.querySelector('#df-0c2d9c64-9c9f-48f5-b219-8452fddd4740 button.colab-df-convert');\n",
              "        buttonEl.style.display =\n",
              "          google.colab.kernel.accessAllowed ? 'block' : 'none';\n",
              "\n",
              "        async function convertToInteractive(key) {\n",
              "          const element = document.querySelector('#df-0c2d9c64-9c9f-48f5-b219-8452fddd4740');\n",
              "          const dataTable =\n",
              "            await google.colab.kernel.invokeFunction('convertToInteractive',\n",
              "                                                     [key], {});\n",
              "          if (!dataTable) return;\n",
              "\n",
              "          const docLinkHtml = 'Like what you see? Visit the ' +\n",
              "            '<a target=\"_blank\" href=https://colab.research.google.com/notebooks/data_table.ipynb>data table notebook</a>'\n",
              "            + ' to learn more about interactive tables.';\n",
              "          element.innerHTML = '';\n",
              "          dataTable['output_type'] = 'display_data';\n",
              "          await google.colab.output.renderOutput(dataTable, element);\n",
              "          const docLink = document.createElement('div');\n",
              "          docLink.innerHTML = docLinkHtml;\n",
              "          element.appendChild(docLink);\n",
              "        }\n",
              "      </script>\n",
              "    </div>\n",
              "  </div>\n",
              "  "
            ]
          },
          "metadata": {},
          "execution_count": 25
        }
      ]
    },
    {
      "cell_type": "markdown",
      "source": [
        "* En la columna del año de construccion el valor minimo parece estar mal porque es 1020. Se revisara observando un diagrama de caja de la variable.\n",
        "* En la columna de precio se tienen precios negativos, y el precio mayor esta en tres ordenes de magnitud mayor que la media. Se revisara observando un diagrama de caja de la variable.\n",
        "* En la columna de service fee se tienen valores negativos, y el service fee mayor esta en tres ordenes de magnitud mayor que la media. Se revisara observando un diagrama de caja de la variable.\n",
        "* En la columna de min noches se tienen valores negativos y el mayor supera el maximo de dias es extremadamente mayor. Se revisara observando un diagrama de caja de la variable.\n",
        "* La columna de disponibilidad tambien presenta valores negativos y un valor maximo mucho mas grande que el limite de 365 dias. Se revisara observando un diagrama de caja de la variable.\n",
        "* La columna de number of reviews parece estar bien y como es nuestra variable dependiente no se va a realizar ningun filtro sobre esta.\n",
        "* La columna review rate number parece estar bien. Se revisara observando un diagrama de caja de la variable."
      ],
      "metadata": {
        "id": "gyXMAKKfv4j9"
      }
    },
    {
      "cell_type": "code",
      "source": [
        "plt.boxplot(df_history['construction year'].dropna())\n",
        "plt.show()"
      ],
      "metadata": {
        "colab": {
          "base_uri": "https://localhost:8080/",
          "height": 265
        },
        "id": "m90msD2uyC3L",
        "outputId": "5a8a14ba-696a-4459-e638-0531938ac02e"
      },
      "execution_count": 26,
      "outputs": [
        {
          "output_type": "display_data",
          "data": {
            "text/plain": [
              "<Figure size 432x288 with 1 Axes>"
            ],
            "image/png": "[encoded data removed]"
          },
          "metadata": {
            "needs_background": "light"
          }
        }
      ]
    },
    {
      "cell_type": "code",
      "source": [
        "plt.boxplot(df_history['price'].dropna())\n",
        "plt.show()"
      ],
      "metadata": {
        "colab": {
          "base_uri": "https://localhost:8080/",
          "height": 265
        },
        "id": "kAxsdS6BUJM9",
        "outputId": "2db97aa3-ea1f-4301-9498-00b3fa700e63"
      },
      "execution_count": 27,
      "outputs": [
        {
          "output_type": "display_data",
          "data": {
            "text/plain": [
              "<Figure size 432x288 with 1 Axes>"
            ],
            "image/png": "[encoded data removed]"
          },
          "metadata": {
            "needs_background": "light"
          }
        }
      ]
    },
    {
      "cell_type": "code",
      "source": [
        "plt.boxplot(df_history['service fee'].dropna())\n",
        "plt.show()"
      ],
      "metadata": {
        "colab": {
          "base_uri": "https://localhost:8080/",
          "height": 265
        },
        "id": "lqyfJhPxUI4T",
        "outputId": "d558bd36-1da0-48fc-c024-8a3c14e152cf"
      },
      "execution_count": 28,
      "outputs": [
        {
          "output_type": "display_data",
          "data": {
            "text/plain": [
              "<Figure size 432x288 with 1 Axes>"
            ],
            "image/png": "[encoded data removed]"
          },
          "metadata": {
            "needs_background": "light"
          }
        }
      ]
    },
    {
      "cell_type": "code",
      "source": [
        "plt.boxplot(df_history['minimum nights'].dropna())\n",
        "plt.show()"
      ],
      "metadata": {
        "colab": {
          "base_uri": "https://localhost:8080/",
          "height": 265
        },
        "id": "bfc_RKDrURhM",
        "outputId": "46f75afd-7e01-4264-b1fa-e386de2bd3d9"
      },
      "execution_count": 29,
      "outputs": [
        {
          "output_type": "display_data",
          "data": {
            "text/plain": [
              "<Figure size 432x288 with 1 Axes>"
            ],
            "image/png": "[encoded data removed]"
          },
          "metadata": {
            "needs_background": "light"
          }
        }
      ]
    },
    {
      "cell_type": "code",
      "source": [
        "plt.boxplot(df_history['availability 365'].dropna())\n",
        "plt.show()"
      ],
      "metadata": {
        "colab": {
          "base_uri": "https://localhost:8080/",
          "height": 265
        },
        "id": "xaN4oS2lUWY0",
        "outputId": "b821eac6-0f0d-4cd8-a9be-e663545e423c"
      },
      "execution_count": 30,
      "outputs": [
        {
          "output_type": "display_data",
          "data": {
            "text/plain": [
              "<Figure size 432x288 with 1 Axes>"
            ],
            "image/png": "[encoded data removed]"
          },
          "metadata": {
            "needs_background": "light"
          }
        }
      ]
    },
    {
      "cell_type": "code",
      "source": [
        "plt.boxplot(df_history['review rate number'].dropna())\n",
        "plt.show"
      ],
      "metadata": {
        "colab": {
          "base_uri": "https://localhost:8080/",
          "height": 283
        },
        "id": "20Dd9YQ4fGWI",
        "outputId": "24cc6590-6423-49d2-e8a1-41031c417d10"
      },
      "execution_count": 31,
      "outputs": [
        {
          "output_type": "execute_result",
          "data": {
            "text/plain": [
              "<function matplotlib.pyplot.show(*args, **kw)>"
            ]
          },
          "metadata": {},
          "execution_count": 31
        },
        {
          "output_type": "display_data",
          "data": {
            "text/plain": [
              "<Figure size 432x288 with 1 Axes>"
            ],
            "image/png": "[encoded data removed]"
          },
          "metadata": {
            "needs_background": "light"
          }
        }
      ]
    },
    {
      "cell_type": "markdown",
      "source": [
        "De la distribucion de la variable de construction year se encuentra que el valor minimo esta por fuera del rango de los demas valores y solo es un outlier.\n",
        "\n",
        "De la distribucion de la variable de price se encuentra que el valor maximo esta por fuera del rango de los demas valores y solo es un outlier.\n",
        "\n",
        "De la distribucion de la variable de service fee se encuentra que el valor minimo y maximo esta por fuera del rango de los demas valores y solo son esos dos outliers.\n",
        "\n",
        "De la distribucion de la variable de minimum nights se encuentra que existen muchos valores tanto negativos como positivos por fuera de los cuartiles 1 y 3, ademas existen varios outliers.\n",
        "\n",
        "De la distribucion de la variable de availability 365 se encuentra que el valor maximo esta por fuera del rango de los demas valores y solo es un outlier.\n",
        "\n",
        "De la distribucion de review rate number se concluye que esta columna esta bien."
      ],
      "metadata": {
        "id": "9ZIWPVhZx0qJ"
      }
    },
    {
      "cell_type": "markdown",
      "source": [
        "### Transformaciones"
      ],
      "metadata": {
        "id": "PEpDPfLyrdIX"
      }
    },
    {
      "cell_type": "markdown",
      "source": [
        "Transformaciones para cada columna:\n",
        "\n",
        "* Para las columnas con outliers (valores maximos y minimos muy fuera del rango) se filtraran para ignorar estos valores. Se va a utilizar la regla de maximo 3 desviaciones estandar de la media para eliminar outliers.\n",
        "* Para availability 365 se filtra hasta valores de 365 porque es el máximo en un año.\n",
        "* Los valores negativos en prices, service fee, minimum nights y availability 365 se multiplican por -1."
      ],
      "metadata": {
        "id": "Exa8fjZMx-CO"
      }
    },
    {
      "cell_type": "code",
      "source": [
        "def valores_negativos(row):\n",
        "  if row < 0 and ~np.isnan(row):\n",
        "    return row*-1\n",
        "  else:\n",
        "    return row"
      ],
      "metadata": {
        "id": "Xdj2i5uvy5Ir"
      },
      "execution_count": 32,
      "outputs": []
    },
    {
      "cell_type": "code",
      "source": [
        "df_history['availability 365'] = df_history['availability 365'].apply(valores_negativos)\n",
        "df_history['price'] = df_history['price'].apply(valores_negativos)\n",
        "df_history['service fee'] = df_history['service fee'].apply(valores_negativos)\n",
        "df_history['minimum nights'] = df_history['minimum nights'].apply(valores_negativos)"
      ],
      "metadata": {
        "id": "UNezexU6zDcV"
      },
      "execution_count": 33,
      "outputs": []
    },
    {
      "cell_type": "code",
      "source": [
        "df_history.isna().sum()"
      ],
      "metadata": {
        "colab": {
          "base_uri": "https://localhost:8080/"
        },
        "id": "cNqj2esEbxpi",
        "outputId": "6cbaf3bd-452f-42c9-b79b-017990d98fd1"
      },
      "execution_count": 34,
      "outputs": [
        {
          "output_type": "execute_result",
          "data": {
            "text/plain": [
              "id                       0\n",
              "neighbourhood group      0\n",
              "neighbourhood           16\n",
              "lat                      8\n",
              "long                     8\n",
              "country                  0\n",
              "instant_bookable       104\n",
              "cancellation_policy     75\n",
              "room type                0\n",
              "construction year      208\n",
              "price                  246\n",
              "service fee            272\n",
              "minimum nights         393\n",
              "availability 365       432\n",
              "number of reviews      179\n",
              "review rate number     309\n",
              "dtype: int64"
            ]
          },
          "metadata": {},
          "execution_count": 34
        }
      ]
    },
    {
      "cell_type": "markdown",
      "source": [
        "Si se aplican los filtros antes de cambiar los valores NaN estos se borraran, por lo que primero se imputaran para cada columna los valores NaN de acuerdo a la moda de cada variable. Se imputa el valor de la moda porque no esta alterada por los outliers. Esto excepto para la variable dependiente que es number of reviews ya que puede afectar el modelo."
      ],
      "metadata": {
        "id": "LjJrvZlZddjb"
      }
    },
    {
      "cell_type": "code",
      "source": [
        "df_history['lat'] = df_history['lat'].fillna(df_history['lat'].mode()[0])\n",
        "df_history['long'] = df_history['long'].fillna(df_history['long'].mode()[0])\n",
        "df_history['construction year'] = df_history['construction year'].fillna(df_history['construction year'].mode()[0])\n",
        "df_history['price'] = df_history['price'].fillna(df_history['price'].mode()[0])\n",
        "df_history['service fee'] = df_history['service fee'].fillna(df_history['service fee'].mode()[0])\n",
        "df_history['minimum nights'] = df_history['minimum nights'].fillna(df_history['minimum nights'].mode()[0])\n",
        "df_history['availability 365'] = df_history['availability 365'].fillna(df_history['availability 365'].mode()[0])\n",
        "df_history['review rate number'] = df_history['review rate number'].fillna(df_history['review rate number'].mode()[0])"
      ],
      "metadata": {
        "id": "_TWhOJoKdcsm"
      },
      "execution_count": 35,
      "outputs": []
    },
    {
      "cell_type": "code",
      "source": [
        "df_history.isna().sum()"
      ],
      "metadata": {
        "colab": {
          "base_uri": "https://localhost:8080/"
        },
        "id": "BXX2wjwxeQu-",
        "outputId": "d18e83b3-8532-4f99-ebf0-2173ff325a83"
      },
      "execution_count": 36,
      "outputs": [
        {
          "output_type": "execute_result",
          "data": {
            "text/plain": [
              "id                       0\n",
              "neighbourhood group      0\n",
              "neighbourhood           16\n",
              "lat                      0\n",
              "long                     0\n",
              "country                  0\n",
              "instant_bookable       104\n",
              "cancellation_policy     75\n",
              "room type                0\n",
              "construction year        0\n",
              "price                    0\n",
              "service fee              0\n",
              "minimum nights           0\n",
              "availability 365         0\n",
              "number of reviews      179\n",
              "review rate number       0\n",
              "dtype: int64"
            ]
          },
          "metadata": {},
          "execution_count": 36
        }
      ]
    },
    {
      "cell_type": "markdown",
      "source": [
        "Como nos importan las filas que tengan datos en la columna de number of reviews se eliminaran las que tengan valores nulos."
      ],
      "metadata": {
        "id": "Zn1XzV-piPb0"
      }
    },
    {
      "cell_type": "code",
      "source": [
        "df_history = df_history.dropna(subset=['number of reviews'])"
      ],
      "metadata": {
        "id": "_LwbfLjwiOqf"
      },
      "execution_count": 37,
      "outputs": []
    },
    {
      "cell_type": "code",
      "source": [
        "df_history.isna().sum()"
      ],
      "metadata": {
        "colab": {
          "base_uri": "https://localhost:8080/"
        },
        "id": "ZzcRUMkpi767",
        "outputId": "15e6e0d4-a9b2-42e7-9032-5cfe045a9473"
      },
      "execution_count": 38,
      "outputs": [
        {
          "output_type": "execute_result",
          "data": {
            "text/plain": [
              "id                       0\n",
              "neighbourhood group      0\n",
              "neighbourhood           16\n",
              "lat                      0\n",
              "long                     0\n",
              "country                  0\n",
              "instant_bookable       104\n",
              "cancellation_policy     75\n",
              "room type                0\n",
              "construction year        0\n",
              "price                    0\n",
              "service fee              0\n",
              "minimum nights           0\n",
              "availability 365         0\n",
              "number of reviews        0\n",
              "review rate number       0\n",
              "dtype: int64"
            ]
          },
          "metadata": {},
          "execution_count": 38
        }
      ]
    },
    {
      "cell_type": "markdown",
      "source": [
        "Despues de imputar valores para los nulos y escoger solo las filas que nos interesan, se prosigue con los filtros para eliminar los outliers."
      ],
      "metadata": {
        "id": "zkFaRBiugsfU"
      }
    },
    {
      "cell_type": "code",
      "source": [
        "df_history = df_history[df_history['construction year'] > (df_history['construction year'].mean() - df_history['construction year'].std() * 3)]\n",
        "df_history = df_history[df_history['price'] < (df_history['price'].mean() + df_history['price'].std() * 3)]\n",
        "df_history = df_history[df_history['service fee'] < (df_history['service fee'].mean() + df_history['service fee'].std() * 3)]\n",
        "df_history = df_history[df_history['minimum nights'] < (df_history['minimum nights'].mean() + df_history['minimum nights'].std() * 3)]\n",
        "df_history = df_history[df_history['availability 365'] <= 365]"
      ],
      "metadata": {
        "id": "19EspJC23CVp"
      },
      "execution_count": 39,
      "outputs": []
    },
    {
      "cell_type": "code",
      "source": [
        "df_history.describe()"
      ],
      "metadata": {
        "colab": {
          "base_uri": "https://localhost:8080/",
          "height": 300
        },
        "id": "gJhhaWNx0UWI",
        "outputId": "fbfd9f44-b9ee-4030-9f0d-21f4812cf938"
      },
      "execution_count": 40,
      "outputs": [
        {
          "output_type": "execute_result",
          "data": {
            "text/plain": [
              "                 id           lat          long  construction year  \\\n",
              "count  9.764500e+04  97645.000000  97645.000000       97645.000000   \n",
              "mean   2.967095e+07     40.727937    -73.949521        2012.494260   \n",
              "std    1.604427e+07      0.055927      0.049681           5.761096   \n",
              "min    1.001254e+06     40.499790    -74.249840        2003.000000   \n",
              "25%    1.599628e+07     40.688680    -73.982570        2008.000000   \n",
              "50%    2.976622e+07     40.722130    -73.954400        2012.000000   \n",
              "75%    4.346106e+07     40.762620    -73.932130        2017.000000   \n",
              "max    5.736742e+07     40.916970    -73.705220        2022.000000   \n",
              "\n",
              "              price   service fee  minimum nights  availability 365  \\\n",
              "count  97645.000000  97645.000000    97645.000000      97645.000000   \n",
              "mean     451.537938    125.345261        7.167863        133.100599   \n",
              "std      294.324108     66.391248       11.113772        129.755492   \n",
              "min       50.000000     10.000000        1.000000          0.000000   \n",
              "25%      135.000000     68.000000        1.000000          2.000000   \n",
              "50%      425.000000    125.000000        3.000000         89.000000   \n",
              "75%      710.000000    183.000000        5.000000        252.000000   \n",
              "max      999.000000    240.000000      100.000000        365.000000   \n",
              "\n",
              "       number of reviews  review rate number  \n",
              "count       97645.000000        97645.000000  \n",
              "mean           27.269937            3.292324  \n",
              "std            49.241080            1.281759  \n",
              "min             0.000000            1.000000  \n",
              "25%             1.000000            2.000000  \n",
              "50%             7.000000            3.000000  \n",
              "75%            30.000000            4.000000  \n",
              "max          1024.000000            5.000000  "
            ],
            "text/html": [
              "\n",
              "  <div id=\"df-ed6fffbd-991d-4133-a23b-79ceee415651\">\n",
              "    <div class=\"colab-df-container\">\n",
              "      <div>\n",
              "<style scoped>\n",
              "    .dataframe tbody tr th:only-of-type {\n",
              "        vertical-align: middle;\n",
              "    }\n",
              "\n",
              "    .dataframe tbody tr th {\n",
              "        vertical-align: top;\n",
              "    }\n",
              "\n",
              "    .dataframe thead th {\n",
              "        text-align: right;\n",
              "    }\n",
              "</style>\n",
              "<table border=\"1\" class=\"dataframe\">\n",
              "  <thead>\n",
              "    <tr style=\"text-align: right;\">\n",
              "      <th></th>\n",
              "      <th>id</th>\n",
              "      <th>lat</th>\n",
              "      <th>long</th>\n",
              "      <th>construction year</th>\n",
              "      <th>price</th>\n",
              "      <th>service fee</th>\n",
              "      <th>minimum nights</th>\n",
              "      <th>availability 365</th>\n",
              "      <th>number of reviews</th>\n",
              "      <th>review rate number</th>\n",
              "    </tr>\n",
              "  </thead>\n",
              "  <tbody>\n",
              "    <tr>\n",
              "      <th>count</th>\n",
              "      <td>9.764500e+04</td>\n",
              "      <td>97645.000000</td>\n",
              "      <td>97645.000000</td>\n",
              "      <td>97645.000000</td>\n",
              "      <td>97645.000000</td>\n",
              "      <td>97645.000000</td>\n",
              "      <td>97645.000000</td>\n",
              "      <td>97645.000000</td>\n",
              "      <td>97645.000000</td>\n",
              "      <td>97645.000000</td>\n",
              "    </tr>\n",
              "    <tr>\n",
              "      <th>mean</th>\n",
              "      <td>2.967095e+07</td>\n",
              "      <td>40.727937</td>\n",
              "      <td>-73.949521</td>\n",
              "      <td>2012.494260</td>\n",
              "      <td>451.537938</td>\n",
              "      <td>125.345261</td>\n",
              "      <td>7.167863</td>\n",
              "      <td>133.100599</td>\n",
              "      <td>27.269937</td>\n",
              "      <td>3.292324</td>\n",
              "    </tr>\n",
              "    <tr>\n",
              "      <th>std</th>\n",
              "      <td>1.604427e+07</td>\n",
              "      <td>0.055927</td>\n",
              "      <td>0.049681</td>\n",
              "      <td>5.761096</td>\n",
              "      <td>294.324108</td>\n",
              "      <td>66.391248</td>\n",
              "      <td>11.113772</td>\n",
              "      <td>129.755492</td>\n",
              "      <td>49.241080</td>\n",
              "      <td>1.281759</td>\n",
              "    </tr>\n",
              "    <tr>\n",
              "      <th>min</th>\n",
              "      <td>1.001254e+06</td>\n",
              "      <td>40.499790</td>\n",
              "      <td>-74.249840</td>\n",
              "      <td>2003.000000</td>\n",
              "      <td>50.000000</td>\n",
              "      <td>10.000000</td>\n",
              "      <td>1.000000</td>\n",
              "      <td>0.000000</td>\n",
              "      <td>0.000000</td>\n",
              "      <td>1.000000</td>\n",
              "    </tr>\n",
              "    <tr>\n",
              "      <th>25%</th>\n",
              "      <td>1.599628e+07</td>\n",
              "      <td>40.688680</td>\n",
              "      <td>-73.982570</td>\n",
              "      <td>2008.000000</td>\n",
              "      <td>135.000000</td>\n",
              "      <td>68.000000</td>\n",
              "      <td>1.000000</td>\n",
              "      <td>2.000000</td>\n",
              "      <td>1.000000</td>\n",
              "      <td>2.000000</td>\n",
              "    </tr>\n",
              "    <tr>\n",
              "      <th>50%</th>\n",
              "      <td>2.976622e+07</td>\n",
              "      <td>40.722130</td>\n",
              "      <td>-73.954400</td>\n",
              "      <td>2012.000000</td>\n",
              "      <td>425.000000</td>\n",
              "      <td>125.000000</td>\n",
              "      <td>3.000000</td>\n",
              "      <td>89.000000</td>\n",
              "      <td>7.000000</td>\n",
              "      <td>3.000000</td>\n",
              "    </tr>\n",
              "    <tr>\n",
              "      <th>75%</th>\n",
              "      <td>4.346106e+07</td>\n",
              "      <td>40.762620</td>\n",
              "      <td>-73.932130</td>\n",
              "      <td>2017.000000</td>\n",
              "      <td>710.000000</td>\n",
              "      <td>183.000000</td>\n",
              "      <td>5.000000</td>\n",
              "      <td>252.000000</td>\n",
              "      <td>30.000000</td>\n",
              "      <td>4.000000</td>\n",
              "    </tr>\n",
              "    <tr>\n",
              "      <th>max</th>\n",
              "      <td>5.736742e+07</td>\n",
              "      <td>40.916970</td>\n",
              "      <td>-73.705220</td>\n",
              "      <td>2022.000000</td>\n",
              "      <td>999.000000</td>\n",
              "      <td>240.000000</td>\n",
              "      <td>100.000000</td>\n",
              "      <td>365.000000</td>\n",
              "      <td>1024.000000</td>\n",
              "      <td>5.000000</td>\n",
              "    </tr>\n",
              "  </tbody>\n",
              "</table>\n",
              "</div>\n",
              "      <button class=\"colab-df-convert\" onclick=\"convertToInteractive('df-ed6fffbd-991d-4133-a23b-79ceee415651')\"\n",
              "              title=\"Convert this dataframe to an interactive table.\"\n",
              "              style=\"display:none;\">\n",
              "        \n",
              "  <svg xmlns=\"http://www.w3.org/2000/svg\" height=\"24px\"viewBox=\"0 0 24 24\"\n",
              "       width=\"24px\">\n",
              "    <path d=\"M0 0h24v24H0V0z\" fill=\"none\"/>\n",
              "    <path d=\"M18.56 5.44l.94 2.06.94-2.06 2.06-.94-2.06-.94-.94-2.06-.94 2.06-2.06.94zm-11 1L8.5 8.5l.94-2.06 2.06-.94-2.06-.94L8.5 2.5l-.94 2.06-2.06.94zm10 10l.94 2.06.94-2.06 2.06-.94-2.06-.94-.94-2.06-.94 2.06-2.06.94z\"/><path d=\"M17.41 7.96l-1.37-1.37c-.4-.4-.92-.59-1.43-.59-.52 0-1.04.2-1.43.59L10.3 9.45l-7.72 7.72c-.78.78-.78 2.05 0 2.83L4 21.41c.39.39.9.59 1.41.59.51 0 1.02-.2 1.41-.59l7.78-7.78 2.81-2.81c.8-.78.8-2.07 0-2.86zM5.41 20L4 18.59l7.72-7.72 1.47 1.35L5.41 20z\"/>\n",
              "  </svg>\n",
              "      </button>\n",
              "      \n",
              "  <style>\n",
              "    .colab-df-container {\n",
              "      display:flex;\n",
              "      flex-wrap:wrap;\n",
              "      gap: 12px;\n",
              "    }\n",
              "\n",
              "    .colab-df-convert {\n",
              "      background-color: #E8F0FE;\n",
              "      border: none;\n",
              "      border-radius: 50%;\n",
              "      cursor: pointer;\n",
              "      display: none;\n",
              "      fill: #1967D2;\n",
              "      height: 32px;\n",
              "      padding: 0 0 0 0;\n",
              "      width: 32px;\n",
              "    }\n",
              "\n",
              "    .colab-df-convert:hover {\n",
              "      background-color: #E2EBFA;\n",
              "      box-shadow: 0px 1px 2px rgba(60, 64, 67, 0.3), 0px 1px 3px 1px rgba(60, 64, 67, 0.15);\n",
              "      fill: #174EA6;\n",
              "    }\n",
              "\n",
              "    [theme=dark] .colab-df-convert {\n",
              "      background-color: #3B4455;\n",
              "      fill: #D2E3FC;\n",
              "    }\n",
              "\n",
              "    [theme=dark] .colab-df-convert:hover {\n",
              "      background-color: #434B5C;\n",
              "      box-shadow: 0px 1px 3px 1px rgba(0, 0, 0, 0.15);\n",
              "      filter: drop-shadow(0px 1px 2px rgba(0, 0, 0, 0.3));\n",
              "      fill: #FFFFFF;\n",
              "    }\n",
              "  </style>\n",
              "\n",
              "      <script>\n",
              "        const buttonEl =\n",
              "          document.querySelector('#df-ed6fffbd-991d-4133-a23b-79ceee415651 button.colab-df-convert');\n",
              "        buttonEl.style.display =\n",
              "          google.colab.kernel.accessAllowed ? 'block' : 'none';\n",
              "\n",
              "        async function convertToInteractive(key) {\n",
              "          const element = document.querySelector('#df-ed6fffbd-991d-4133-a23b-79ceee415651');\n",
              "          const dataTable =\n",
              "            await google.colab.kernel.invokeFunction('convertToInteractive',\n",
              "                                                     [key], {});\n",
              "          if (!dataTable) return;\n",
              "\n",
              "          const docLinkHtml = 'Like what you see? Visit the ' +\n",
              "            '<a target=\"_blank\" href=https://colab.research.google.com/notebooks/data_table.ipynb>data table notebook</a>'\n",
              "            + ' to learn more about interactive tables.';\n",
              "          element.innerHTML = '';\n",
              "          dataTable['output_type'] = 'display_data';\n",
              "          await google.colab.output.renderOutput(dataTable, element);\n",
              "          const docLink = document.createElement('div');\n",
              "          docLink.innerHTML = docLinkHtml;\n",
              "          element.appendChild(docLink);\n",
              "        }\n",
              "      </script>\n",
              "    </div>\n",
              "  </div>\n",
              "  "
            ]
          },
          "metadata": {},
          "execution_count": 40
        }
      ]
    },
    {
      "cell_type": "markdown",
      "source": [
        "Con los datos ya mejorados se procede a seleccionar las columnas necesarias para la regresion."
      ],
      "metadata": {
        "id": "KO--UAkl5wir"
      }
    },
    {
      "cell_type": "code",
      "source": [
        "df_history.columns"
      ],
      "metadata": {
        "colab": {
          "base_uri": "https://localhost:8080/"
        },
        "id": "LVBQ6mp66GOI",
        "outputId": "eb180783-336b-4e75-901d-9bf8d40674f4"
      },
      "execution_count": 41,
      "outputs": [
        {
          "output_type": "execute_result",
          "data": {
            "text/plain": [
              "Index(['id', 'neighbourhood group', 'neighbourhood', 'lat', 'long', 'country',\n",
              "       'instant_bookable', 'cancellation_policy', 'room type',\n",
              "       'construction year', 'price', 'service fee', 'minimum nights',\n",
              "       'availability 365', 'number of reviews', 'review rate number'],\n",
              "      dtype='object')"
            ]
          },
          "metadata": {},
          "execution_count": 41
        }
      ]
    },
    {
      "cell_type": "markdown",
      "source": [
        "Las columnas que no se tendran en cuenta son las del id, neighbourhood y country. Esto debido a que el id es una variable que no nos interesa para la regresion; el neighbourhood se puede ubicar por la latitud, longitud y el neighbourhood group; el pais es el mismo para todos los datos.\n",
        "\n",
        "Toca tambien revisar las columnas que cuenta el nuevo dataset para pasar en el modelo."
      ],
      "metadata": {
        "id": "Fr25MZWH6Csf"
      }
    },
    {
      "cell_type": "code",
      "source": [
        "df_new = pd.read_csv('https://raw.githubusercontent.com/jufepalacios/Ciencia_Datos_Aplicada/main/Parcial_1/losalpes_new.csv')\n",
        "df_new.columns"
      ],
      "metadata": {
        "colab": {
          "base_uri": "https://localhost:8080/"
        },
        "id": "vGm1k2QtlgkH",
        "outputId": "6967849e-cf38-4115-f6d0-7ff5408234cd"
      },
      "execution_count": 42,
      "outputs": [
        {
          "output_type": "execute_result",
          "data": {
            "text/plain": [
              "Index(['id', 'neighbourhood group', 'neighbourhood', 'lat', 'long', 'country',\n",
              "       'instant_bookable', 'cancellation_policy', 'room type',\n",
              "       'construction year', 'price', 'service fee', 'minimum nights',\n",
              "       'availability 365'],\n",
              "      dtype='object')"
            ]
          },
          "metadata": {},
          "execution_count": 42
        }
      ]
    },
    {
      "cell_type": "markdown",
      "source": [
        "Como el nuevo dataset no tiene la columna de review rate number, tampoco se tendra en cuenta para el modelo."
      ],
      "metadata": {
        "id": "WO-0BbMUl1mJ"
      }
    },
    {
      "cell_type": "code",
      "source": [
        "df_history_reg = df_history.drop(['id','neighbourhood','country','review rate number'], axis=1)\n",
        "df_history_reg.head()"
      ],
      "metadata": {
        "colab": {
          "base_uri": "https://localhost:8080/",
          "height": 206
        },
        "id": "ni1T_A6j4xA5",
        "outputId": "3d37f72d-3bb9-442e-8eb0-2b1c16b7ac75"
      },
      "execution_count": 43,
      "outputs": [
        {
          "output_type": "execute_result",
          "data": {
            "text/plain": [
              "  neighbourhood group       lat      long instant_bookable  \\\n",
              "0           Manhattan  40.76212 -73.98820             True   \n",
              "1           Manhattan  40.74623 -73.98499             True   \n",
              "2           Manhattan  40.78859 -73.97568            False   \n",
              "3           Manhattan  40.70817 -74.00511            False   \n",
              "4           Manhattan  40.72130 -73.98900             True   \n",
              "\n",
              "  cancellation_policy        room type  construction year  price  service fee  \\\n",
              "0              strict  Entire home/apt             2011.0  851.0        170.0   \n",
              "1            flexible       Hotel room             2021.0  466.0         93.0   \n",
              "2            flexible     Private room             2004.0  874.0        175.0   \n",
              "3              strict     Private room             2012.0  813.0        163.0   \n",
              "4            moderate  Entire home/apt             2007.0  326.0         65.0   \n",
              "\n",
              "   minimum nights  availability 365  number of reviews  \n",
              "0             4.0             199.0              112.0  \n",
              "1             1.0             161.0               13.0  \n",
              "2            14.0               0.0                1.0  \n",
              "3             1.0               0.0                5.0  \n",
              "4             4.0             301.0                9.0  "
            ],
            "text/html": [
              "\n",
              "  <div id=\"df-ef790b8e-66a1-4d31-9a47-8f816ac427c6\">\n",
              "    <div class=\"colab-df-container\">\n",
              "      <div>\n",
              "<style scoped>\n",
              "    .dataframe tbody tr th:only-of-type {\n",
              "        vertical-align: middle;\n",
              "    }\n",
              "\n",
              "    .dataframe tbody tr th {\n",
              "        vertical-align: top;\n",
              "    }\n",
              "\n",
              "    .dataframe thead th {\n",
              "        text-align: right;\n",
              "    }\n",
              "</style>\n",
              "<table border=\"1\" class=\"dataframe\">\n",
              "  <thead>\n",
              "    <tr style=\"text-align: right;\">\n",
              "      <th></th>\n",
              "      <th>neighbourhood group</th>\n",
              "      <th>lat</th>\n",
              "      <th>long</th>\n",
              "      <th>instant_bookable</th>\n",
              "      <th>cancellation_policy</th>\n",
              "      <th>room type</th>\n",
              "      <th>construction year</th>\n",
              "      <th>price</th>\n",
              "      <th>service fee</th>\n",
              "      <th>minimum nights</th>\n",
              "      <th>availability 365</th>\n",
              "      <th>number of reviews</th>\n",
              "    </tr>\n",
              "  </thead>\n",
              "  <tbody>\n",
              "    <tr>\n",
              "      <th>0</th>\n",
              "      <td>Manhattan</td>\n",
              "      <td>40.76212</td>\n",
              "      <td>-73.98820</td>\n",
              "      <td>True</td>\n",
              "      <td>strict</td>\n",
              "      <td>Entire home/apt</td>\n",
              "      <td>2011.0</td>\n",
              "      <td>851.0</td>\n",
              "      <td>170.0</td>\n",
              "      <td>4.0</td>\n",
              "      <td>199.0</td>\n",
              "      <td>112.0</td>\n",
              "    </tr>\n",
              "    <tr>\n",
              "      <th>1</th>\n",
              "      <td>Manhattan</td>\n",
              "      <td>40.74623</td>\n",
              "      <td>-73.98499</td>\n",
              "      <td>True</td>\n",
              "      <td>flexible</td>\n",
              "      <td>Hotel room</td>\n",
              "      <td>2021.0</td>\n",
              "      <td>466.0</td>\n",
              "      <td>93.0</td>\n",
              "      <td>1.0</td>\n",
              "      <td>161.0</td>\n",
              "      <td>13.0</td>\n",
              "    </tr>\n",
              "    <tr>\n",
              "      <th>2</th>\n",
              "      <td>Manhattan</td>\n",
              "      <td>40.78859</td>\n",
              "      <td>-73.97568</td>\n",
              "      <td>False</td>\n",
              "      <td>flexible</td>\n",
              "      <td>Private room</td>\n",
              "      <td>2004.0</td>\n",
              "      <td>874.0</td>\n",
              "      <td>175.0</td>\n",
              "      <td>14.0</td>\n",
              "      <td>0.0</td>\n",
              "      <td>1.0</td>\n",
              "    </tr>\n",
              "    <tr>\n",
              "      <th>3</th>\n",
              "      <td>Manhattan</td>\n",
              "      <td>40.70817</td>\n",
              "      <td>-74.00511</td>\n",
              "      <td>False</td>\n",
              "      <td>strict</td>\n",
              "      <td>Private room</td>\n",
              "      <td>2012.0</td>\n",
              "      <td>813.0</td>\n",
              "      <td>163.0</td>\n",
              "      <td>1.0</td>\n",
              "      <td>0.0</td>\n",
              "      <td>5.0</td>\n",
              "    </tr>\n",
              "    <tr>\n",
              "      <th>4</th>\n",
              "      <td>Manhattan</td>\n",
              "      <td>40.72130</td>\n",
              "      <td>-73.98900</td>\n",
              "      <td>True</td>\n",
              "      <td>moderate</td>\n",
              "      <td>Entire home/apt</td>\n",
              "      <td>2007.0</td>\n",
              "      <td>326.0</td>\n",
              "      <td>65.0</td>\n",
              "      <td>4.0</td>\n",
              "      <td>301.0</td>\n",
              "      <td>9.0</td>\n",
              "    </tr>\n",
              "  </tbody>\n",
              "</table>\n",
              "</div>\n",
              "      <button class=\"colab-df-convert\" onclick=\"convertToInteractive('df-ef790b8e-66a1-4d31-9a47-8f816ac427c6')\"\n",
              "              title=\"Convert this dataframe to an interactive table.\"\n",
              "              style=\"display:none;\">\n",
              "        \n",
              "  <svg xmlns=\"http://www.w3.org/2000/svg\" height=\"24px\"viewBox=\"0 0 24 24\"\n",
              "       width=\"24px\">\n",
              "    <path d=\"M0 0h24v24H0V0z\" fill=\"none\"/>\n",
              "    <path d=\"M18.56 5.44l.94 2.06.94-2.06 2.06-.94-2.06-.94-.94-2.06-.94 2.06-2.06.94zm-11 1L8.5 8.5l.94-2.06 2.06-.94-2.06-.94L8.5 2.5l-.94 2.06-2.06.94zm10 10l.94 2.06.94-2.06 2.06-.94-2.06-.94-.94-2.06-.94 2.06-2.06.94z\"/><path d=\"M17.41 7.96l-1.37-1.37c-.4-.4-.92-.59-1.43-.59-.52 0-1.04.2-1.43.59L10.3 9.45l-7.72 7.72c-.78.78-.78 2.05 0 2.83L4 21.41c.39.39.9.59 1.41.59.51 0 1.02-.2 1.41-.59l7.78-7.78 2.81-2.81c.8-.78.8-2.07 0-2.86zM5.41 20L4 18.59l7.72-7.72 1.47 1.35L5.41 20z\"/>\n",
              "  </svg>\n",
              "      </button>\n",
              "      \n",
              "  <style>\n",
              "    .colab-df-container {\n",
              "      display:flex;\n",
              "      flex-wrap:wrap;\n",
              "      gap: 12px;\n",
              "    }\n",
              "\n",
              "    .colab-df-convert {\n",
              "      background-color: #E8F0FE;\n",
              "      border: none;\n",
              "      border-radius: 50%;\n",
              "      cursor: pointer;\n",
              "      display: none;\n",
              "      fill: #1967D2;\n",
              "      height: 32px;\n",
              "      padding: 0 0 0 0;\n",
              "      width: 32px;\n",
              "    }\n",
              "\n",
              "    .colab-df-convert:hover {\n",
              "      background-color: #E2EBFA;\n",
              "      box-shadow: 0px 1px 2px rgba(60, 64, 67, 0.3), 0px 1px 3px 1px rgba(60, 64, 67, 0.15);\n",
              "      fill: #174EA6;\n",
              "    }\n",
              "\n",
              "    [theme=dark] .colab-df-convert {\n",
              "      background-color: #3B4455;\n",
              "      fill: #D2E3FC;\n",
              "    }\n",
              "\n",
              "    [theme=dark] .colab-df-convert:hover {\n",
              "      background-color: #434B5C;\n",
              "      box-shadow: 0px 1px 3px 1px rgba(0, 0, 0, 0.15);\n",
              "      filter: drop-shadow(0px 1px 2px rgba(0, 0, 0, 0.3));\n",
              "      fill: #FFFFFF;\n",
              "    }\n",
              "  </style>\n",
              "\n",
              "      <script>\n",
              "        const buttonEl =\n",
              "          document.querySelector('#df-ef790b8e-66a1-4d31-9a47-8f816ac427c6 button.colab-df-convert');\n",
              "        buttonEl.style.display =\n",
              "          google.colab.kernel.accessAllowed ? 'block' : 'none';\n",
              "\n",
              "        async function convertToInteractive(key) {\n",
              "          const element = document.querySelector('#df-ef790b8e-66a1-4d31-9a47-8f816ac427c6');\n",
              "          const dataTable =\n",
              "            await google.colab.kernel.invokeFunction('convertToInteractive',\n",
              "                                                     [key], {});\n",
              "          if (!dataTable) return;\n",
              "\n",
              "          const docLinkHtml = 'Like what you see? Visit the ' +\n",
              "            '<a target=\"_blank\" href=https://colab.research.google.com/notebooks/data_table.ipynb>data table notebook</a>'\n",
              "            + ' to learn more about interactive tables.';\n",
              "          element.innerHTML = '';\n",
              "          dataTable['output_type'] = 'display_data';\n",
              "          await google.colab.output.renderOutput(dataTable, element);\n",
              "          const docLink = document.createElement('div');\n",
              "          docLink.innerHTML = docLinkHtml;\n",
              "          element.appendChild(docLink);\n",
              "        }\n",
              "      </script>\n",
              "    </div>\n",
              "  </div>\n",
              "  "
            ]
          },
          "metadata": {},
          "execution_count": 43
        }
      ]
    },
    {
      "cell_type": "code",
      "source": [
        "df_history_reg.shape"
      ],
      "metadata": {
        "colab": {
          "base_uri": "https://localhost:8080/"
        },
        "id": "lwHQEPFJWsPU",
        "outputId": "df3b04ff-c6a9-449f-baf2-dbb357674b21"
      },
      "execution_count": 44,
      "outputs": [
        {
          "output_type": "execute_result",
          "data": {
            "text/plain": [
              "(97645, 12)"
            ]
          },
          "metadata": {},
          "execution_count": 44
        }
      ]
    },
    {
      "cell_type": "markdown",
      "source": [
        "Para el modelo de regresion se deben cambiar las variables categoricas por numeros. Para esto se utiliza dummies de pandas y la columna de instant_bookable se cambia por 0 y 1 si es falso o verdadero respectivamente."
      ],
      "metadata": {
        "id": "Sa1z75u08iuJ"
      }
    },
    {
      "cell_type": "markdown",
      "source": [
        "Ahora se realiza una matriz de correlación."
      ],
      "metadata": {
        "id": "k455OTxwoA9K"
      }
    },
    {
      "cell_type": "code",
      "source": [
        "plt.figure(1,figsize=(12,10))\n",
        "sns.heatmap(df_history_reg.corr())"
      ],
      "metadata": {
        "colab": {
          "base_uri": "https://localhost:8080/",
          "height": 697
        },
        "id": "Fh5MN5EaoEHV",
        "outputId": "f9c5d593-e9ae-4f9b-88c2-19f4202443a3"
      },
      "execution_count": 45,
      "outputs": [
        {
          "output_type": "execute_result",
          "data": {
            "text/plain": [
              "<matplotlib.axes._subplots.AxesSubplot at 0x7f9a44c63b90>"
            ]
          },
          "metadata": {},
          "execution_count": 45
        },
        {
          "output_type": "display_data",
          "data": {
            "text/plain": [
              "<Figure size 864x720 with 2 Axes>"
            ],
            "image/png": "[encoded data removed]"
          },
          "metadata": {
            "needs_background": "light"
          }
        }
      ]
    },
    {
      "cell_type": "markdown",
      "source": [
        "Se puede observar que en general las variables tienen poca correlacion. Los unicos puntos donde se aprecia una mayor correlacion es en el precio y la tarifa de servicio y el numero minimo de noches y la disponibilidad 365."
      ],
      "metadata": {
        "id": "0RmYl8Rjnfyb"
      }
    },
    {
      "cell_type": "code",
      "source": [
        "def change_true_false(row):\n",
        "  if row:\n",
        "    return 1\n",
        "  else:\n",
        "    return 0"
      ],
      "metadata": {
        "id": "WLHMuQsD8zRa"
      },
      "execution_count": 46,
      "outputs": []
    },
    {
      "cell_type": "code",
      "source": [
        "df_history_reg['instant_bookable'] = df_history_reg['instant_bookable'].apply(change_true_false)"
      ],
      "metadata": {
        "id": "XLUbegcL8kR0"
      },
      "execution_count": 47,
      "outputs": []
    },
    {
      "cell_type": "code",
      "source": [
        "df_policy = pd.get_dummies(df_history_reg['neighbourhood group'])\n",
        "df_history_reg = pd.concat([df_history_reg,df_policy], axis = 1).drop('neighbourhood group',axis=1)"
      ],
      "metadata": {
        "id": "rM2Pfmpzh2mW"
      },
      "execution_count": 48,
      "outputs": []
    },
    {
      "cell_type": "code",
      "source": [
        "df_policy = pd.get_dummies(df_history_reg['cancellation_policy'])\n",
        "df_history_reg = pd.concat([df_history_reg,df_policy], axis = 1).drop('cancellation_policy',axis=1)"
      ],
      "metadata": {
        "id": "eZds0uc38a6m"
      },
      "execution_count": 49,
      "outputs": []
    },
    {
      "cell_type": "code",
      "source": [
        "df_room = pd.get_dummies(df_history_reg['room type'])\n",
        "df_history_reg = pd.concat([df_history_reg,df_room], axis = 1).drop('room type',axis=1)"
      ],
      "metadata": {
        "id": "h5xgY5FY9gcg"
      },
      "execution_count": 50,
      "outputs": []
    },
    {
      "cell_type": "code",
      "source": [
        "df_history_reg.head()"
      ],
      "metadata": {
        "colab": {
          "base_uri": "https://localhost:8080/",
          "height": 314
        },
        "id": "dTzcgMxJ9hSP",
        "outputId": "016b3e0f-eb40-4044-b01c-3e5f15e8f2e0"
      },
      "execution_count": 51,
      "outputs": [
        {
          "output_type": "execute_result",
          "data": {
            "text/plain": [
              "        lat      long  instant_bookable  construction year  price  \\\n",
              "0  40.76212 -73.98820                 1             2011.0  851.0   \n",
              "1  40.74623 -73.98499                 1             2021.0  466.0   \n",
              "2  40.78859 -73.97568                 0             2004.0  874.0   \n",
              "3  40.70817 -74.00511                 0             2012.0  813.0   \n",
              "4  40.72130 -73.98900                 1             2007.0  326.0   \n",
              "\n",
              "   service fee  minimum nights  availability 365  number of reviews  Bronx  \\\n",
              "0        170.0             4.0             199.0              112.0      0   \n",
              "1         93.0             1.0             161.0               13.0      0   \n",
              "2        175.0            14.0               0.0                1.0      0   \n",
              "3        163.0             1.0               0.0                5.0      0   \n",
              "4         65.0             4.0             301.0                9.0      0   \n",
              "\n",
              "   ...  Manhattan  Queens  Staten Island  flexible  moderate  strict  \\\n",
              "0  ...          1       0              0         0         0       1   \n",
              "1  ...          1       0              0         1         0       0   \n",
              "2  ...          1       0              0         1         0       0   \n",
              "3  ...          1       0              0         0         0       1   \n",
              "4  ...          1       0              0         0         1       0   \n",
              "\n",
              "   Entire home/apt  Hotel room  Private room  Shared room  \n",
              "0                1           0             0            0  \n",
              "1                0           1             0            0  \n",
              "2                0           0             1            0  \n",
              "3                0           0             1            0  \n",
              "4                1           0             0            0  \n",
              "\n",
              "[5 rows x 21 columns]"
            ],
            "text/html": [
              "\n",
              "  <div id=\"df-7dc3ae1d-bfe5-4357-a737-8bfdb36c71a4\">\n",
              "    <div class=\"colab-df-container\">\n",
              "      <div>\n",
              "<style scoped>\n",
              "    .dataframe tbody tr th:only-of-type {\n",
              "        vertical-align: middle;\n",
              "    }\n",
              "\n",
              "    .dataframe tbody tr th {\n",
              "        vertical-align: top;\n",
              "    }\n",
              "\n",
              "    .dataframe thead th {\n",
              "        text-align: right;\n",
              "    }\n",
              "</style>\n",
              "<table border=\"1\" class=\"dataframe\">\n",
              "  <thead>\n",
              "    <tr style=\"text-align: right;\">\n",
              "      <th></th>\n",
              "      <th>lat</th>\n",
              "      <th>long</th>\n",
              "      <th>instant_bookable</th>\n",
              "      <th>construction year</th>\n",
              "      <th>price</th>\n",
              "      <th>service fee</th>\n",
              "      <th>minimum nights</th>\n",
              "      <th>availability 365</th>\n",
              "      <th>number of reviews</th>\n",
              "      <th>Bronx</th>\n",
              "      <th>...</th>\n",
              "      <th>Manhattan</th>\n",
              "      <th>Queens</th>\n",
              "      <th>Staten Island</th>\n",
              "      <th>flexible</th>\n",
              "      <th>moderate</th>\n",
              "      <th>strict</th>\n",
              "      <th>Entire home/apt</th>\n",
              "      <th>Hotel room</th>\n",
              "      <th>Private room</th>\n",
              "      <th>Shared room</th>\n",
              "    </tr>\n",
              "  </thead>\n",
              "  <tbody>\n",
              "    <tr>\n",
              "      <th>0</th>\n",
              "      <td>40.76212</td>\n",
              "      <td>-73.98820</td>\n",
              "      <td>1</td>\n",
              "      <td>2011.0</td>\n",
              "      <td>851.0</td>\n",
              "      <td>170.0</td>\n",
              "      <td>4.0</td>\n",
              "      <td>199.0</td>\n",
              "      <td>112.0</td>\n",
              "      <td>0</td>\n",
              "      <td>...</td>\n",
              "      <td>1</td>\n",
              "      <td>0</td>\n",
              "      <td>0</td>\n",
              "      <td>0</td>\n",
              "      <td>0</td>\n",
              "      <td>1</td>\n",
              "      <td>1</td>\n",
              "      <td>0</td>\n",
              "      <td>0</td>\n",
              "      <td>0</td>\n",
              "    </tr>\n",
              "    <tr>\n",
              "      <th>1</th>\n",
              "      <td>40.74623</td>\n",
              "      <td>-73.98499</td>\n",
              "      <td>1</td>\n",
              "      <td>2021.0</td>\n",
              "      <td>466.0</td>\n",
              "      <td>93.0</td>\n",
              "      <td>1.0</td>\n",
              "      <td>161.0</td>\n",
              "      <td>13.0</td>\n",
              "      <td>0</td>\n",
              "      <td>...</td>\n",
              "      <td>1</td>\n",
              "      <td>0</td>\n",
              "      <td>0</td>\n",
              "      <td>1</td>\n",
              "      <td>0</td>\n",
              "      <td>0</td>\n",
              "      <td>0</td>\n",
              "      <td>1</td>\n",
              "      <td>0</td>\n",
              "      <td>0</td>\n",
              "    </tr>\n",
              "    <tr>\n",
              "      <th>2</th>\n",
              "      <td>40.78859</td>\n",
              "      <td>-73.97568</td>\n",
              "      <td>0</td>\n",
              "      <td>2004.0</td>\n",
              "      <td>874.0</td>\n",
              "      <td>175.0</td>\n",
              "      <td>14.0</td>\n",
              "      <td>0.0</td>\n",
              "      <td>1.0</td>\n",
              "      <td>0</td>\n",
              "      <td>...</td>\n",
              "      <td>1</td>\n",
              "      <td>0</td>\n",
              "      <td>0</td>\n",
              "      <td>1</td>\n",
              "      <td>0</td>\n",
              "      <td>0</td>\n",
              "      <td>0</td>\n",
              "      <td>0</td>\n",
              "      <td>1</td>\n",
              "      <td>0</td>\n",
              "    </tr>\n",
              "    <tr>\n",
              "      <th>3</th>\n",
              "      <td>40.70817</td>\n",
              "      <td>-74.00511</td>\n",
              "      <td>0</td>\n",
              "      <td>2012.0</td>\n",
              "      <td>813.0</td>\n",
              "      <td>163.0</td>\n",
              "      <td>1.0</td>\n",
              "      <td>0.0</td>\n",
              "      <td>5.0</td>\n",
              "      <td>0</td>\n",
              "      <td>...</td>\n",
              "      <td>1</td>\n",
              "      <td>0</td>\n",
              "      <td>0</td>\n",
              "      <td>0</td>\n",
              "      <td>0</td>\n",
              "      <td>1</td>\n",
              "      <td>0</td>\n",
              "      <td>0</td>\n",
              "      <td>1</td>\n",
              "      <td>0</td>\n",
              "    </tr>\n",
              "    <tr>\n",
              "      <th>4</th>\n",
              "      <td>40.72130</td>\n",
              "      <td>-73.98900</td>\n",
              "      <td>1</td>\n",
              "      <td>2007.0</td>\n",
              "      <td>326.0</td>\n",
              "      <td>65.0</td>\n",
              "      <td>4.0</td>\n",
              "      <td>301.0</td>\n",
              "      <td>9.0</td>\n",
              "      <td>0</td>\n",
              "      <td>...</td>\n",
              "      <td>1</td>\n",
              "      <td>0</td>\n",
              "      <td>0</td>\n",
              "      <td>0</td>\n",
              "      <td>1</td>\n",
              "      <td>0</td>\n",
              "      <td>1</td>\n",
              "      <td>0</td>\n",
              "      <td>0</td>\n",
              "      <td>0</td>\n",
              "    </tr>\n",
              "  </tbody>\n",
              "</table>\n",
              "<p>5 rows × 21 columns</p>\n",
              "</div>\n",
              "      <button class=\"colab-df-convert\" onclick=\"convertToInteractive('df-7dc3ae1d-bfe5-4357-a737-8bfdb36c71a4')\"\n",
              "              title=\"Convert this dataframe to an interactive table.\"\n",
              "              style=\"display:none;\">\n",
              "        \n",
              "  <svg xmlns=\"http://www.w3.org/2000/svg\" height=\"24px\"viewBox=\"0 0 24 24\"\n",
              "       width=\"24px\">\n",
              "    <path d=\"M0 0h24v24H0V0z\" fill=\"none\"/>\n",
              "    <path d=\"M18.56 5.44l.94 2.06.94-2.06 2.06-.94-2.06-.94-.94-2.06-.94 2.06-2.06.94zm-11 1L8.5 8.5l.94-2.06 2.06-.94-2.06-.94L8.5 2.5l-.94 2.06-2.06.94zm10 10l.94 2.06.94-2.06 2.06-.94-2.06-.94-.94-2.06-.94 2.06-2.06.94z\"/><path d=\"M17.41 7.96l-1.37-1.37c-.4-.4-.92-.59-1.43-.59-.52 0-1.04.2-1.43.59L10.3 9.45l-7.72 7.72c-.78.78-.78 2.05 0 2.83L4 21.41c.39.39.9.59 1.41.59.51 0 1.02-.2 1.41-.59l7.78-7.78 2.81-2.81c.8-.78.8-2.07 0-2.86zM5.41 20L4 18.59l7.72-7.72 1.47 1.35L5.41 20z\"/>\n",
              "  </svg>\n",
              "      </button>\n",
              "      \n",
              "  <style>\n",
              "    .colab-df-container {\n",
              "      display:flex;\n",
              "      flex-wrap:wrap;\n",
              "      gap: 12px;\n",
              "    }\n",
              "\n",
              "    .colab-df-convert {\n",
              "      background-color: #E8F0FE;\n",
              "      border: none;\n",
              "      border-radius: 50%;\n",
              "      cursor: pointer;\n",
              "      display: none;\n",
              "      fill: #1967D2;\n",
              "      height: 32px;\n",
              "      padding: 0 0 0 0;\n",
              "      width: 32px;\n",
              "    }\n",
              "\n",
              "    .colab-df-convert:hover {\n",
              "      background-color: #E2EBFA;\n",
              "      box-shadow: 0px 1px 2px rgba(60, 64, 67, 0.3), 0px 1px 3px 1px rgba(60, 64, 67, 0.15);\n",
              "      fill: #174EA6;\n",
              "    }\n",
              "\n",
              "    [theme=dark] .colab-df-convert {\n",
              "      background-color: #3B4455;\n",
              "      fill: #D2E3FC;\n",
              "    }\n",
              "\n",
              "    [theme=dark] .colab-df-convert:hover {\n",
              "      background-color: #434B5C;\n",
              "      box-shadow: 0px 1px 3px 1px rgba(0, 0, 0, 0.15);\n",
              "      filter: drop-shadow(0px 1px 2px rgba(0, 0, 0, 0.3));\n",
              "      fill: #FFFFFF;\n",
              "    }\n",
              "  </style>\n",
              "\n",
              "      <script>\n",
              "        const buttonEl =\n",
              "          document.querySelector('#df-7dc3ae1d-bfe5-4357-a737-8bfdb36c71a4 button.colab-df-convert');\n",
              "        buttonEl.style.display =\n",
              "          google.colab.kernel.accessAllowed ? 'block' : 'none';\n",
              "\n",
              "        async function convertToInteractive(key) {\n",
              "          const element = document.querySelector('#df-7dc3ae1d-bfe5-4357-a737-8bfdb36c71a4');\n",
              "          const dataTable =\n",
              "            await google.colab.kernel.invokeFunction('convertToInteractive',\n",
              "                                                     [key], {});\n",
              "          if (!dataTable) return;\n",
              "\n",
              "          const docLinkHtml = 'Like what you see? Visit the ' +\n",
              "            '<a target=\"_blank\" href=https://colab.research.google.com/notebooks/data_table.ipynb>data table notebook</a>'\n",
              "            + ' to learn more about interactive tables.';\n",
              "          element.innerHTML = '';\n",
              "          dataTable['output_type'] = 'display_data';\n",
              "          await google.colab.output.renderOutput(dataTable, element);\n",
              "          const docLink = document.createElement('div');\n",
              "          docLink.innerHTML = docLinkHtml;\n",
              "          element.appendChild(docLink);\n",
              "        }\n",
              "      </script>\n",
              "    </div>\n",
              "  </div>\n",
              "  "
            ]
          },
          "metadata": {},
          "execution_count": 51
        }
      ]
    },
    {
      "cell_type": "code",
      "source": [
        "df_history_reg.shape"
      ],
      "metadata": {
        "colab": {
          "base_uri": "https://localhost:8080/"
        },
        "id": "ljRtT6a7iCFG",
        "outputId": "7c78d891-a4d0-43d7-faaa-bf0cb0bf61f0"
      },
      "execution_count": 52,
      "outputs": [
        {
          "output_type": "execute_result",
          "data": {
            "text/plain": [
              "(97645, 21)"
            ]
          },
          "metadata": {},
          "execution_count": 52
        }
      ]
    },
    {
      "cell_type": "markdown",
      "source": [
        "Con las variables cualitativas expresadas como numeros se procede a definir los datos de X y Y, datos de test y train y normalizar los valores."
      ],
      "metadata": {
        "id": "ysvuzDsD-cXn"
      }
    },
    {
      "cell_type": "code",
      "source": [
        "from sklearn.linear_model import LinearRegression, Ridge, Lasso\n",
        "from sklearn.compose import make_column_transformer\n",
        "from sklearn.model_selection import train_test_split\n",
        "from sklearn.preprocessing import StandardScaler, PolynomialFeatures, OneHotEncoder\n",
        "from sklearn.metrics import mean_squared_error, mean_absolute_error"
      ],
      "metadata": {
        "id": "XtDn4B3e-tG7"
      },
      "execution_count": 53,
      "outputs": []
    },
    {
      "cell_type": "code",
      "source": [
        "X = df_history_reg.drop('number of reviews',axis=1)\n",
        "Y = df_history_reg['number of reviews']"
      ],
      "metadata": {
        "id": "5VS8d5nu-wRL"
      },
      "execution_count": 54,
      "outputs": []
    },
    {
      "cell_type": "code",
      "source": [
        "X.head()"
      ],
      "metadata": {
        "colab": {
          "base_uri": "https://localhost:8080/",
          "height": 267
        },
        "id": "NVZVu07s_poK",
        "outputId": "fb353a69-b3b2-4be7-c4af-1ee90cc30c85"
      },
      "execution_count": 55,
      "outputs": [
        {
          "output_type": "execute_result",
          "data": {
            "text/plain": [
              "        lat      long  instant_bookable  construction year  price  \\\n",
              "0  40.76212 -73.98820                 1             2011.0  851.0   \n",
              "1  40.74623 -73.98499                 1             2021.0  466.0   \n",
              "2  40.78859 -73.97568                 0             2004.0  874.0   \n",
              "3  40.70817 -74.00511                 0             2012.0  813.0   \n",
              "4  40.72130 -73.98900                 1             2007.0  326.0   \n",
              "\n",
              "   service fee  minimum nights  availability 365  Bronx  Brooklyn  Manhattan  \\\n",
              "0        170.0             4.0             199.0      0         0          1   \n",
              "1         93.0             1.0             161.0      0         0          1   \n",
              "2        175.0            14.0               0.0      0         0          1   \n",
              "3        163.0             1.0               0.0      0         0          1   \n",
              "4         65.0             4.0             301.0      0         0          1   \n",
              "\n",
              "   Queens  Staten Island  flexible  moderate  strict  Entire home/apt  \\\n",
              "0       0              0         0         0       1                1   \n",
              "1       0              0         1         0       0                0   \n",
              "2       0              0         1         0       0                0   \n",
              "3       0              0         0         0       1                0   \n",
              "4       0              0         0         1       0                1   \n",
              "\n",
              "   Hotel room  Private room  Shared room  \n",
              "0           0             0            0  \n",
              "1           1             0            0  \n",
              "2           0             1            0  \n",
              "3           0             1            0  \n",
              "4           0             0            0  "
            ],
            "text/html": [
              "\n",
              "  <div id=\"df-d78f9f4f-59d7-4c3a-be58-3276865d03e3\">\n",
              "    <div class=\"colab-df-container\">\n",
              "      <div>\n",
              "<style scoped>\n",
              "    .dataframe tbody tr th:only-of-type {\n",
              "        vertical-align: middle;\n",
              "    }\n",
              "\n",
              "    .dataframe tbody tr th {\n",
              "        vertical-align: top;\n",
              "    }\n",
              "\n",
              "    .dataframe thead th {\n",
              "        text-align: right;\n",
              "    }\n",
              "</style>\n",
              "<table border=\"1\" class=\"dataframe\">\n",
              "  <thead>\n",
              "    <tr style=\"text-align: right;\">\n",
              "      <th></th>\n",
              "      <th>lat</th>\n",
              "      <th>long</th>\n",
              "      <th>instant_bookable</th>\n",
              "      <th>construction year</th>\n",
              "      <th>price</th>\n",
              "      <th>service fee</th>\n",
              "      <th>minimum nights</th>\n",
              "      <th>availability 365</th>\n",
              "      <th>Bronx</th>\n",
              "      <th>Brooklyn</th>\n",
              "      <th>Manhattan</th>\n",
              "      <th>Queens</th>\n",
              "      <th>Staten Island</th>\n",
              "      <th>flexible</th>\n",
              "      <th>moderate</th>\n",
              "      <th>strict</th>\n",
              "      <th>Entire home/apt</th>\n",
              "      <th>Hotel room</th>\n",
              "      <th>Private room</th>\n",
              "      <th>Shared room</th>\n",
              "    </tr>\n",
              "  </thead>\n",
              "  <tbody>\n",
              "    <tr>\n",
              "      <th>0</th>\n",
              "      <td>40.76212</td>\n",
              "      <td>-73.98820</td>\n",
              "      <td>1</td>\n",
              "      <td>2011.0</td>\n",
              "      <td>851.0</td>\n",
              "      <td>170.0</td>\n",
              "      <td>4.0</td>\n",
              "      <td>199.0</td>\n",
              "      <td>0</td>\n",
              "      <td>0</td>\n",
              "      <td>1</td>\n",
              "      <td>0</td>\n",
              "      <td>0</td>\n",
              "      <td>0</td>\n",
              "      <td>0</td>\n",
              "      <td>1</td>\n",
              "      <td>1</td>\n",
              "      <td>0</td>\n",
              "      <td>0</td>\n",
              "      <td>0</td>\n",
              "    </tr>\n",
              "    <tr>\n",
              "      <th>1</th>\n",
              "      <td>40.74623</td>\n",
              "      <td>-73.98499</td>\n",
              "      <td>1</td>\n",
              "      <td>2021.0</td>\n",
              "      <td>466.0</td>\n",
              "      <td>93.0</td>\n",
              "      <td>1.0</td>\n",
              "      <td>161.0</td>\n",
              "      <td>0</td>\n",
              "      <td>0</td>\n",
              "      <td>1</td>\n",
              "      <td>0</td>\n",
              "      <td>0</td>\n",
              "      <td>1</td>\n",
              "      <td>0</td>\n",
              "      <td>0</td>\n",
              "      <td>0</td>\n",
              "      <td>1</td>\n",
              "      <td>0</td>\n",
              "      <td>0</td>\n",
              "    </tr>\n",
              "    <tr>\n",
              "      <th>2</th>\n",
              "      <td>40.78859</td>\n",
              "      <td>-73.97568</td>\n",
              "      <td>0</td>\n",
              "      <td>2004.0</td>\n",
              "      <td>874.0</td>\n",
              "      <td>175.0</td>\n",
              "      <td>14.0</td>\n",
              "      <td>0.0</td>\n",
              "      <td>0</td>\n",
              "      <td>0</td>\n",
              "      <td>1</td>\n",
              "      <td>0</td>\n",
              "      <td>0</td>\n",
              "      <td>1</td>\n",
              "      <td>0</td>\n",
              "      <td>0</td>\n",
              "      <td>0</td>\n",
              "      <td>0</td>\n",
              "      <td>1</td>\n",
              "      <td>0</td>\n",
              "    </tr>\n",
              "    <tr>\n",
              "      <th>3</th>\n",
              "      <td>40.70817</td>\n",
              "      <td>-74.00511</td>\n",
              "      <td>0</td>\n",
              "      <td>2012.0</td>\n",
              "      <td>813.0</td>\n",
              "      <td>163.0</td>\n",
              "      <td>1.0</td>\n",
              "      <td>0.0</td>\n",
              "      <td>0</td>\n",
              "      <td>0</td>\n",
              "      <td>1</td>\n",
              "      <td>0</td>\n",
              "      <td>0</td>\n",
              "      <td>0</td>\n",
              "      <td>0</td>\n",
              "      <td>1</td>\n",
              "      <td>0</td>\n",
              "      <td>0</td>\n",
              "      <td>1</td>\n",
              "      <td>0</td>\n",
              "    </tr>\n",
              "    <tr>\n",
              "      <th>4</th>\n",
              "      <td>40.72130</td>\n",
              "      <td>-73.98900</td>\n",
              "      <td>1</td>\n",
              "      <td>2007.0</td>\n",
              "      <td>326.0</td>\n",
              "      <td>65.0</td>\n",
              "      <td>4.0</td>\n",
              "      <td>301.0</td>\n",
              "      <td>0</td>\n",
              "      <td>0</td>\n",
              "      <td>1</td>\n",
              "      <td>0</td>\n",
              "      <td>0</td>\n",
              "      <td>0</td>\n",
              "      <td>1</td>\n",
              "      <td>0</td>\n",
              "      <td>1</td>\n",
              "      <td>0</td>\n",
              "      <td>0</td>\n",
              "      <td>0</td>\n",
              "    </tr>\n",
              "  </tbody>\n",
              "</table>\n",
              "</div>\n",
              "      <button class=\"colab-df-convert\" onclick=\"convertToInteractive('df-d78f9f4f-59d7-4c3a-be58-3276865d03e3')\"\n",
              "              title=\"Convert this dataframe to an interactive table.\"\n",
              "              style=\"display:none;\">\n",
              "        \n",
              "  <svg xmlns=\"http://www.w3.org/2000/svg\" height=\"24px\"viewBox=\"0 0 24 24\"\n",
              "       width=\"24px\">\n",
              "    <path d=\"M0 0h24v24H0V0z\" fill=\"none\"/>\n",
              "    <path d=\"M18.56 5.44l.94 2.06.94-2.06 2.06-.94-2.06-.94-.94-2.06-.94 2.06-2.06.94zm-11 1L8.5 8.5l.94-2.06 2.06-.94-2.06-.94L8.5 2.5l-.94 2.06-2.06.94zm10 10l.94 2.06.94-2.06 2.06-.94-2.06-.94-.94-2.06-.94 2.06-2.06.94z\"/><path d=\"M17.41 7.96l-1.37-1.37c-.4-.4-.92-.59-1.43-.59-.52 0-1.04.2-1.43.59L10.3 9.45l-7.72 7.72c-.78.78-.78 2.05 0 2.83L4 21.41c.39.39.9.59 1.41.59.51 0 1.02-.2 1.41-.59l7.78-7.78 2.81-2.81c.8-.78.8-2.07 0-2.86zM5.41 20L4 18.59l7.72-7.72 1.47 1.35L5.41 20z\"/>\n",
              "  </svg>\n",
              "      </button>\n",
              "      \n",
              "  <style>\n",
              "    .colab-df-container {\n",
              "      display:flex;\n",
              "      flex-wrap:wrap;\n",
              "      gap: 12px;\n",
              "    }\n",
              "\n",
              "    .colab-df-convert {\n",
              "      background-color: #E8F0FE;\n",
              "      border: none;\n",
              "      border-radius: 50%;\n",
              "      cursor: pointer;\n",
              "      display: none;\n",
              "      fill: #1967D2;\n",
              "      height: 32px;\n",
              "      padding: 0 0 0 0;\n",
              "      width: 32px;\n",
              "    }\n",
              "\n",
              "    .colab-df-convert:hover {\n",
              "      background-color: #E2EBFA;\n",
              "      box-shadow: 0px 1px 2px rgba(60, 64, 67, 0.3), 0px 1px 3px 1px rgba(60, 64, 67, 0.15);\n",
              "      fill: #174EA6;\n",
              "    }\n",
              "\n",
              "    [theme=dark] .colab-df-convert {\n",
              "      background-color: #3B4455;\n",
              "      fill: #D2E3FC;\n",
              "    }\n",
              "\n",
              "    [theme=dark] .colab-df-convert:hover {\n",
              "      background-color: #434B5C;\n",
              "      box-shadow: 0px 1px 3px 1px rgba(0, 0, 0, 0.15);\n",
              "      filter: drop-shadow(0px 1px 2px rgba(0, 0, 0, 0.3));\n",
              "      fill: #FFFFFF;\n",
              "    }\n",
              "  </style>\n",
              "\n",
              "      <script>\n",
              "        const buttonEl =\n",
              "          document.querySelector('#df-d78f9f4f-59d7-4c3a-be58-3276865d03e3 button.colab-df-convert');\n",
              "        buttonEl.style.display =\n",
              "          google.colab.kernel.accessAllowed ? 'block' : 'none';\n",
              "\n",
              "        async function convertToInteractive(key) {\n",
              "          const element = document.querySelector('#df-d78f9f4f-59d7-4c3a-be58-3276865d03e3');\n",
              "          const dataTable =\n",
              "            await google.colab.kernel.invokeFunction('convertToInteractive',\n",
              "                                                     [key], {});\n",
              "          if (!dataTable) return;\n",
              "\n",
              "          const docLinkHtml = 'Like what you see? Visit the ' +\n",
              "            '<a target=\"_blank\" href=https://colab.research.google.com/notebooks/data_table.ipynb>data table notebook</a>'\n",
              "            + ' to learn more about interactive tables.';\n",
              "          element.innerHTML = '';\n",
              "          dataTable['output_type'] = 'display_data';\n",
              "          await google.colab.output.renderOutput(dataTable, element);\n",
              "          const docLink = document.createElement('div');\n",
              "          docLink.innerHTML = docLinkHtml;\n",
              "          element.appendChild(docLink);\n",
              "        }\n",
              "      </script>\n",
              "    </div>\n",
              "  </div>\n",
              "  "
            ]
          },
          "metadata": {},
          "execution_count": 55
        }
      ]
    },
    {
      "cell_type": "code",
      "source": [
        "X.shape"
      ],
      "metadata": {
        "colab": {
          "base_uri": "https://localhost:8080/"
        },
        "id": "WBk0RssHFj1i",
        "outputId": "e2351fc2-6400-43f5-a186-66e1cffdefa4"
      },
      "execution_count": 56,
      "outputs": [
        {
          "output_type": "execute_result",
          "data": {
            "text/plain": [
              "(97645, 20)"
            ]
          },
          "metadata": {},
          "execution_count": 56
        }
      ]
    },
    {
      "cell_type": "code",
      "source": [
        "X.columns"
      ],
      "metadata": {
        "colab": {
          "base_uri": "https://localhost:8080/"
        },
        "id": "xCDf99zRjpPC",
        "outputId": "e1f5f3f4-7bbe-4efe-b34e-72dd193e5ee3"
      },
      "execution_count": 57,
      "outputs": [
        {
          "output_type": "execute_result",
          "data": {
            "text/plain": [
              "Index(['lat', 'long', 'instant_bookable', 'construction year', 'price',\n",
              "       'service fee', 'minimum nights', 'availability 365', 'Bronx',\n",
              "       'Brooklyn', 'Manhattan', 'Queens', 'Staten Island', 'flexible',\n",
              "       'moderate', 'strict', 'Entire home/apt', 'Hotel room', 'Private room',\n",
              "       'Shared room'],\n",
              "      dtype='object')"
            ]
          },
          "metadata": {},
          "execution_count": 57
        }
      ]
    },
    {
      "cell_type": "code",
      "source": [
        "X_train, X_test, Y_train, Y_test = train_test_split(X,Y, test_size=0.5, random_state=1)"
      ],
      "metadata": {
        "id": "ikTEq_Bo-4FT"
      },
      "execution_count": 58,
      "outputs": []
    },
    {
      "cell_type": "code",
      "source": [
        "scaler = StandardScaler()\n",
        "X_train_scaled = scaler.fit_transform(X_train)\n",
        "X_test_scaled = scaler.transform(X_test)"
      ],
      "metadata": {
        "id": "onrqPJ6w_BoY"
      },
      "execution_count": 59,
      "outputs": []
    },
    {
      "cell_type": "markdown",
      "source": [
        "Para observar como serian los resultados para un modelo de regresion linear normal se realizan los siguientes comandos:"
      ],
      "metadata": {
        "id": "nAxmZOPJ_MR_"
      }
    },
    {
      "cell_type": "code",
      "source": [
        "lin_reg = LinearRegression()\n",
        "model = lin_reg.fit(X_train_scaled,Y_train)\n",
        "\n",
        "print('intercept: {}'.format(model.intercept_))\n",
        "\n",
        "print('coefficients: {}'.format(model.coef_))"
      ],
      "metadata": {
        "colab": {
          "base_uri": "https://localhost:8080/"
        },
        "id": "E1qDs6TE_DJD",
        "outputId": "45b50d37-7213-473c-8282-ea16b0cf346d"
      },
      "execution_count": 60,
      "outputs": [
        {
          "output_type": "stream",
          "name": "stdout",
          "text": [
            "intercept: 27.451026176724092\n",
            "coefficients: [  0.53468825   2.79610684  -0.02481983   0.39147675  -0.12260771\n",
            "   0.58897785  -6.328259     5.73236669  -0.60874925   0.78190847\n",
            "  -0.8953211    0.04475843   1.43152194 -10.75618019 -10.52215288\n",
            " -10.89144452   0.62963672   1.40324608  -0.30147001  -1.43305205]\n"
          ]
        }
      ]
    },
    {
      "cell_type": "markdown",
      "source": [
        "De esto podemos conocer los coeficientes para cada variable y encontramos que las columnas que más afectan el numero de reviews son:\n",
        "1. Si la poliza de cancellacion es strict.\n",
        "2. Si la poliza de cancellacion es flexible.\n",
        "3. Si la poliza de cancellacion es moderate."
      ],
      "metadata": {
        "id": "3SFvi-T9_VuE"
      }
    },
    {
      "cell_type": "markdown",
      "source": [
        "Para comprobar el modelo obtenido se calculan los errores de MAE y RSEM del modelo con los datos de train y test."
      ],
      "metadata": {
        "id": "5jotwtlfABw-"
      }
    },
    {
      "cell_type": "code",
      "source": [
        "preds_train = model.predict(X_train_scaled)\n",
        "preds_test = model.predict(X_test_scaled)"
      ],
      "metadata": {
        "id": "-1QYRP2w_G8J"
      },
      "execution_count": 61,
      "outputs": []
    },
    {
      "cell_type": "code",
      "source": [
        "print('MAE train:',mean_absolute_error(Y_train, preds_train), 'MAE test:',mean_absolute_error(Y_test, preds_test))\n",
        "print('RSEM train:',np.sqrt(mean_squared_error(Y_train, preds_train)), 'RSEM test:', np.sqrt(mean_squared_error(Y_test, preds_test)))\n"
      ],
      "metadata": {
        "colab": {
          "base_uri": "https://localhost:8080/"
        },
        "id": "Ho-qthLG_I6P",
        "outputId": "303a6998-51d7-4bf1-b7ad-1fec40cba757"
      },
      "execution_count": 62,
      "outputs": [
        {
          "output_type": "stream",
          "name": "stdout",
          "text": [
            "MAE train: 30.2684631679856 MAE test: 29.991756034781965\n",
            "RSEM train: 48.84118337761548 RSEM test: 48.00318151332202\n"
          ]
        }
      ]
    },
    {
      "cell_type": "markdown",
      "source": [
        "Podemos observar que los errores para el grupo de test son un poco mayores para los de train pero no muy grandes por lo que se descarta que el modelo este sesgado a los datos de train y haya overfitting."
      ],
      "metadata": {
        "id": "VIMm8UPFAAnW"
      }
    },
    {
      "cell_type": "markdown",
      "source": [
        "## Punto 2\n",
        "Muestre los resultados tras el entrenamiento y selección del mejor modelo\n",
        "obtenido a partir de los datos suministrados. Utilice las técnicas de transformación de datos, selección de atributos y regularización que considere convenientes.Explique cómo este modelo responde al objetivo planteado y si los resultados serían, de acuerdo a su criterio, suficientes para su uso por parte de la inmobiliaria. Recuerde argumentar sus decisiones con base en la interpretación cuantitativa y cualitativa de los resultados.\n"
      ],
      "metadata": {
        "id": "Evgmd0VLfzqq"
      }
    },
    {
      "cell_type": "markdown",
      "source": [
        "Ahora para encontrar el mejor modelo se van a utilizar transformaciones polinomiales y los dos tipos de regularizacion para observar los errores y comparar el RSEM para cada caso y asi escoger el mejor modelo. Para cada regularizacion tambien se variara el alpha."
      ],
      "metadata": {
        "id": "VBDubSV2AssF"
      }
    },
    {
      "cell_type": "code",
      "source": [
        "poly_features_2 = PolynomialFeatures(degree=2, include_bias=False)\n",
        "poly_features_3 = PolynomialFeatures(degree=3, include_bias=False)\n",
        "\n",
        "X_poly_2_train = poly_features_2.fit_transform(X_train_scaled)\n",
        "X_poly_3_train = poly_features_3.fit_transform(X_train_scaled)\n",
        "\n",
        "X_poly_2_test = poly_features_2.fit_transform(X_test_scaled)\n",
        "X_poly_3_test = poly_features_3.fit_transform(X_test_scaled)"
      ],
      "metadata": {
        "id": "IDQp1qQcAsDc"
      },
      "execution_count": 63,
      "outputs": []
    },
    {
      "cell_type": "code",
      "source": [
        "alphas = [0.1,0.5,0.9,1,10,20,30,50,75,100]\n",
        "\n",
        "# Poly 2\n",
        "for alpha in alphas:\n",
        "    print('Ridge para un alpha = {}'.format(alpha))\n",
        "    ridge_reg = Ridge(alpha=alpha, solver='cholesky')\n",
        "    ridge_reg.fit(X_poly_2_train,Y_train)\n",
        "\n",
        "    preds_train = ridge_reg.predict(X_poly_2_train)\n",
        "    preds_test = ridge_reg.predict(X_poly_2_test)\n",
        "\n",
        "    print('MAE train = {}'.format(mean_absolute_error(Y_train, preds_train)))\n",
        "    print('MAE test = {}'.format(mean_absolute_error(Y_test, preds_test)))\n",
        "    print('RMSE train = {}'.format(np.sqrt(mean_squared_error(Y_train, preds_train))))\n",
        "    print('RMSE test = {}'.format(np.sqrt(mean_squared_error(Y_test, preds_test))))\n",
        "    print('\\n')"
      ],
      "metadata": {
        "colab": {
          "base_uri": "https://localhost:8080/"
        },
        "id": "oO3ys_0nmC6f",
        "outputId": "5025bbe2-82ae-48c0-8ce3-85142f814221"
      },
      "execution_count": 68,
      "outputs": [
        {
          "output_type": "stream",
          "name": "stdout",
          "text": [
            "Ridge para un alpha = 0.1\n",
            "MAE train = 28.858038055277085\n",
            "MAE test = 28.825935888964285\n",
            "RMSE train = 47.685388546338984\n",
            "RMSE test = 47.27232329475481\n",
            "\n",
            "\n",
            "Ridge para un alpha = 0.5\n",
            "MAE train = 28.85808696649865\n",
            "MAE test = 28.82421438501607\n",
            "RMSE train = 47.68545862185287\n",
            "RMSE test = 47.26799458937309\n",
            "\n",
            "\n",
            "Ridge para un alpha = 0.9\n",
            "MAE train = 28.858120082156603\n",
            "MAE test = 28.822935145280997\n",
            "RMSE train = 47.68557494256984\n",
            "RMSE test = 47.264901657616676\n",
            "\n",
            "\n",
            "Ridge para un alpha = 1\n",
            "MAE train = 28.85815160111312\n",
            "MAE test = 28.82267995218155\n",
            "RMSE train = 47.68560737676689\n",
            "RMSE test = 47.26426398916171\n",
            "\n",
            "\n",
            "Ridge para un alpha = 10\n",
            "MAE train = 28.859940287709826\n",
            "MAE test = 28.814882911016717\n",
            "RMSE train = 47.68760356510763\n",
            "RMSE test = 47.251836789825944\n",
            "\n",
            "\n",
            "Ridge para un alpha = 20\n",
            "MAE train = 28.860535671815\n",
            "MAE test = 28.81310770302108\n",
            "RMSE train = 47.688526931874485\n",
            "RMSE test = 47.250614758247615\n",
            "\n",
            "\n",
            "Ridge para un alpha = 30\n",
            "MAE train = 28.860950212250803\n",
            "MAE test = 28.812537817051282\n",
            "RMSE train = 47.68910565749403\n",
            "RMSE test = 47.25032387923621\n",
            "\n",
            "\n",
            "Ridge para un alpha = 50\n",
            "MAE train = 28.86149807546754\n",
            "MAE test = 28.8124468636814\n",
            "RMSE train = 47.68990142396008\n",
            "RMSE test = 47.25022022757853\n",
            "\n",
            "\n",
            "Ridge para un alpha = 75\n",
            "MAE train = 28.862145220972785\n",
            "MAE test = 28.81244108571282\n",
            "RMSE train = 47.69061564215126\n",
            "RMSE test = 47.250243100177855\n",
            "\n",
            "\n",
            "Ridge para un alpha = 100\n",
            "MAE train = 28.862724700697683\n",
            "MAE test = 28.812399918031378\n",
            "RMSE train = 47.69118377701878\n",
            "RMSE test = 47.250261295005394\n",
            "\n",
            "\n"
          ]
        }
      ]
    },
    {
      "cell_type": "code",
      "source": [
        "# Poly 3\n",
        "alphas = [0.1,0.5,0.9,1,10]\n",
        "\n",
        "for alpha in alphas:\n",
        "    print('Ridge para un alpha = {}'.format(alpha))\n",
        "    ridge_reg = Ridge(alpha=alpha, solver='cholesky')\n",
        "    ridge_reg.fit(X_poly_3_train,Y_train)\n",
        "\n",
        "    preds_train = ridge_reg.predict(X_poly_3_train)\n",
        "    preds_test = ridge_reg.predict(X_poly_3_test)\n",
        "\n",
        "    print('MAE train = {}'.format(mean_absolute_error(Y_train, preds_train)))\n",
        "    print('MAE test = {}'.format(mean_absolute_error(Y_test, preds_test)))\n",
        "    print('RMSE train = {}'.format(np.sqrt(mean_squared_error(Y_train, preds_train))))\n",
        "    print('RMSE test = {}'.format(np.sqrt(mean_squared_error(Y_test, preds_test))))\n",
        "    print('\\n')"
      ],
      "metadata": {
        "colab": {
          "base_uri": "https://localhost:8080/"
        },
        "id": "GQ8SaeNXf_Lm",
        "outputId": "49ded2b7-5fde-446b-c837-44e6b53f9fc2"
      },
      "execution_count": 66,
      "outputs": [
        {
          "output_type": "stream",
          "name": "stdout",
          "text": [
            "Ridge para un alpha = 0.1\n",
            "MAE train = 28.20781666792288\n",
            "MAE test = 29.11801319738617\n",
            "RMSE train = 46.75893038609255\n",
            "RMSE test = 51.12353319804696\n",
            "\n",
            "\n",
            "Ridge para un alpha = 0.5\n",
            "MAE train = 28.208529860903372\n",
            "MAE test = 29.10541012487943\n",
            "RMSE train = 46.75961032805202\n",
            "RMSE test = 51.0324637871933\n",
            "\n",
            "\n",
            "Ridge para un alpha = 0.9\n",
            "MAE train = 28.209470104608716\n",
            "MAE test = 29.096760082056566\n",
            "RMSE train = 46.76019468505155\n",
            "RMSE test = 50.962595622549145\n",
            "\n",
            "\n",
            "Ridge para un alpha = 1\n",
            "MAE train = 28.209695688489834\n",
            "MAE test = 29.09488337158857\n",
            "RMSE train = 46.7603284280153\n",
            "RMSE test = 50.94686121469696\n",
            "\n",
            "\n",
            "Ridge para un alpha = 10\n",
            "MAE train = 28.21816816370825\n",
            "MAE test = 29.014455346797334\n",
            "RMSE train = 46.76659080137666\n",
            "RMSE test = 50.124385497023766\n",
            "\n",
            "\n"
          ]
        }
      ]
    },
    {
      "cell_type": "markdown",
      "source": [
        "De los resultados obtenidos el mejor modelo encontrado es una transformación polinomica 2 y una regularizacion Ridge con un alpha de 50."
      ],
      "metadata": {
        "id": "rtTSdQBkBnBA"
      }
    },
    {
      "cell_type": "code",
      "source": [
        "modelo_final = Ridge(alpha=50, solver='cholesky')\n",
        "modelo_final.fit(X_poly_2_train,Y_train)\n",
        "preds_train = modelo_final.predict(X_poly_2_train)\n",
        "preds_test = modelo_final.predict(X_poly_2_test)\n",
        "\n",
        "print('MAE train = {}'.format(mean_absolute_error(Y_train, preds_train)))\n",
        "print('MAE test = {}'.format(mean_absolute_error(Y_test, preds_test)))\n",
        "print('RMSE train = {}'.format(np.sqrt(mean_squared_error(Y_train, preds_train))))\n",
        "print('RMSE test = {}'.format(np.sqrt(mean_squared_error(Y_test, preds_test))))\n",
        "print('\\n')"
      ],
      "metadata": {
        "colab": {
          "base_uri": "https://localhost:8080/"
        },
        "id": "S9G2Buqyp8kw",
        "outputId": "61cf30df-456f-4c1f-fc7f-6d66111b2842"
      },
      "execution_count": 73,
      "outputs": [
        {
          "output_type": "stream",
          "name": "stdout",
          "text": [
            "MAE train = 28.86164660849249\n",
            "MAE test = 28.812449048815893\n",
            "RMSE train = 47.690061511746016\n",
            "RMSE test = 47.250220989355114\n",
            "\n",
            "\n"
          ]
        }
      ]
    },
    {
      "cell_type": "markdown",
      "source": [
        "## Punto 3\n",
        "Utilice el mejor modelo obtenido para estimar la popularidad de los inmuebles próximos a publicarse. A partir de este resultado, apoye a la inmobiliaria en la definición del presupuesto de marketing que debe aprovisionar para promocionar los inmuebles menos populares sabiendo que la plataforma en la que se publican cobra por anuncio el 2% del precio del inmueble. Por ejemplo, si un inmueble tiene como precio \\$200, la plataforma cobrará por publicar un anuncio para el inmueble un total de \\$4. Usted es el encargado,a partir de los resultados de las predicciones, de definir el límite superior de comentarios para considerar un inmueble no popular. Explique esta decisión claramente así como el total de presupuesto que se debe aprovisionar acompañado del total de inmuebles a promocionar.\n"
      ],
      "metadata": {
        "id": "gRGDYIpdf_mH"
      }
    },
    {
      "cell_type": "markdown",
      "source": [
        "Primero se debe realizar las mismas transformaciones para el set de datos nuevo que se hicieron para encontrar el modelo."
      ],
      "metadata": {
        "id": "hDox2WGDrK3K"
      }
    },
    {
      "cell_type": "code",
      "source": [
        "df_new = pd.read_csv('https://raw.githubusercontent.com/jufepalacios/Ciencia_Datos_Aplicada/main/Parcial_1/losalpes_new.csv')\n",
        "df_new.head()"
      ],
      "metadata": {
        "colab": {
          "base_uri": "https://localhost:8080/",
          "height": 337
        },
        "id": "kWWyvRMWtEUd",
        "outputId": "2dbf2c71-505a-4ade-edbc-eb4a9be231b5"
      },
      "execution_count": 112,
      "outputs": [
        {
          "output_type": "execute_result",
          "data": {
            "text/plain": [
              "         id neighbourhood group    neighbourhood       lat      long  \\\n",
              "0  27883434              Queens       Ozone Park  40.68432 -73.85862   \n",
              "1  55448727           Manhattan     Civic Center  40.71317 -74.00654   \n",
              "2  56858749              Queens    East Elmhurst  40.76441 -73.88943   \n",
              "3  39029953           Manhattan         Gramercy  40.73442 -73.98383   \n",
              "4   5567200           Manhattan  Upper West Side  40.79660 -73.97154   \n",
              "\n",
              "         country instant_bookable cancellation_policy        room type  \\\n",
              "0  United States            False            moderate     Private room   \n",
              "1  United States            False            moderate  Entire home/apt   \n",
              "2            NaN             True            flexible     Private room   \n",
              "3  United States             True              strict     Private room   \n",
              "4  United States             True              strict  Entire home/apt   \n",
              "\n",
              "   construction year  price service fee  minimum nights  availability 365  \n",
              "0             2006.0  $ 519       $ 104             1.0               NaN  \n",
              "1             2006.0  $ 987       $ 197             2.0              42.0  \n",
              "2             2018.0  $ 999       $ 200             2.0               0.0  \n",
              "3             2011.0  $ 497        $ 99             4.0               0.0  \n",
              "4             2022.0  $ 820       $ 164             4.0             376.0  "
            ],
            "text/html": [
              "\n",
              "  <div id=\"df-f6f4f614-54fe-40ba-b3a5-c796d3a28c44\">\n",
              "    <div class=\"colab-df-container\">\n",
              "      <div>\n",
              "<style scoped>\n",
              "    .dataframe tbody tr th:only-of-type {\n",
              "        vertical-align: middle;\n",
              "    }\n",
              "\n",
              "    .dataframe tbody tr th {\n",
              "        vertical-align: top;\n",
              "    }\n",
              "\n",
              "    .dataframe thead th {\n",
              "        text-align: right;\n",
              "    }\n",
              "</style>\n",
              "<table border=\"1\" class=\"dataframe\">\n",
              "  <thead>\n",
              "    <tr style=\"text-align: right;\">\n",
              "      <th></th>\n",
              "      <th>id</th>\n",
              "      <th>neighbourhood group</th>\n",
              "      <th>neighbourhood</th>\n",
              "      <th>lat</th>\n",
              "      <th>long</th>\n",
              "      <th>country</th>\n",
              "      <th>instant_bookable</th>\n",
              "      <th>cancellation_policy</th>\n",
              "      <th>room type</th>\n",
              "      <th>construction year</th>\n",
              "      <th>price</th>\n",
              "      <th>service fee</th>\n",
              "      <th>minimum nights</th>\n",
              "      <th>availability 365</th>\n",
              "    </tr>\n",
              "  </thead>\n",
              "  <tbody>\n",
              "    <tr>\n",
              "      <th>0</th>\n",
              "      <td>27883434</td>\n",
              "      <td>Queens</td>\n",
              "      <td>Ozone Park</td>\n",
              "      <td>40.68432</td>\n",
              "      <td>-73.85862</td>\n",
              "      <td>United States</td>\n",
              "      <td>False</td>\n",
              "      <td>moderate</td>\n",
              "      <td>Private room</td>\n",
              "      <td>2006.0</td>\n",
              "      <td>$ 519</td>\n",
              "      <td>$ 104</td>\n",
              "      <td>1.0</td>\n",
              "      <td>NaN</td>\n",
              "    </tr>\n",
              "    <tr>\n",
              "      <th>1</th>\n",
              "      <td>55448727</td>\n",
              "      <td>Manhattan</td>\n",
              "      <td>Civic Center</td>\n",
              "      <td>40.71317</td>\n",
              "      <td>-74.00654</td>\n",
              "      <td>United States</td>\n",
              "      <td>False</td>\n",
              "      <td>moderate</td>\n",
              "      <td>Entire home/apt</td>\n",
              "      <td>2006.0</td>\n",
              "      <td>$ 987</td>\n",
              "      <td>$ 197</td>\n",
              "      <td>2.0</td>\n",
              "      <td>42.0</td>\n",
              "    </tr>\n",
              "    <tr>\n",
              "      <th>2</th>\n",
              "      <td>56858749</td>\n",
              "      <td>Queens</td>\n",
              "      <td>East Elmhurst</td>\n",
              "      <td>40.76441</td>\n",
              "      <td>-73.88943</td>\n",
              "      <td>NaN</td>\n",
              "      <td>True</td>\n",
              "      <td>flexible</td>\n",
              "      <td>Private room</td>\n",
              "      <td>2018.0</td>\n",
              "      <td>$ 999</td>\n",
              "      <td>$ 200</td>\n",
              "      <td>2.0</td>\n",
              "      <td>0.0</td>\n",
              "    </tr>\n",
              "    <tr>\n",
              "      <th>3</th>\n",
              "      <td>39029953</td>\n",
              "      <td>Manhattan</td>\n",
              "      <td>Gramercy</td>\n",
              "      <td>40.73442</td>\n",
              "      <td>-73.98383</td>\n",
              "      <td>United States</td>\n",
              "      <td>True</td>\n",
              "      <td>strict</td>\n",
              "      <td>Private room</td>\n",
              "      <td>2011.0</td>\n",
              "      <td>$ 497</td>\n",
              "      <td>$ 99</td>\n",
              "      <td>4.0</td>\n",
              "      <td>0.0</td>\n",
              "    </tr>\n",
              "    <tr>\n",
              "      <th>4</th>\n",
              "      <td>5567200</td>\n",
              "      <td>Manhattan</td>\n",
              "      <td>Upper West Side</td>\n",
              "      <td>40.79660</td>\n",
              "      <td>-73.97154</td>\n",
              "      <td>United States</td>\n",
              "      <td>True</td>\n",
              "      <td>strict</td>\n",
              "      <td>Entire home/apt</td>\n",
              "      <td>2022.0</td>\n",
              "      <td>$ 820</td>\n",
              "      <td>$ 164</td>\n",
              "      <td>4.0</td>\n",
              "      <td>376.0</td>\n",
              "    </tr>\n",
              "  </tbody>\n",
              "</table>\n",
              "</div>\n",
              "      <button class=\"colab-df-convert\" onclick=\"convertToInteractive('df-f6f4f614-54fe-40ba-b3a5-c796d3a28c44')\"\n",
              "              title=\"Convert this dataframe to an interactive table.\"\n",
              "              style=\"display:none;\">\n",
              "        \n",
              "  <svg xmlns=\"http://www.w3.org/2000/svg\" height=\"24px\"viewBox=\"0 0 24 24\"\n",
              "       width=\"24px\">\n",
              "    <path d=\"M0 0h24v24H0V0z\" fill=\"none\"/>\n",
              "    <path d=\"M18.56 5.44l.94 2.06.94-2.06 2.06-.94-2.06-.94-.94-2.06-.94 2.06-2.06.94zm-11 1L8.5 8.5l.94-2.06 2.06-.94-2.06-.94L8.5 2.5l-.94 2.06-2.06.94zm10 10l.94 2.06.94-2.06 2.06-.94-2.06-.94-.94-2.06-.94 2.06-2.06.94z\"/><path d=\"M17.41 7.96l-1.37-1.37c-.4-.4-.92-.59-1.43-.59-.52 0-1.04.2-1.43.59L10.3 9.45l-7.72 7.72c-.78.78-.78 2.05 0 2.83L4 21.41c.39.39.9.59 1.41.59.51 0 1.02-.2 1.41-.59l7.78-7.78 2.81-2.81c.8-.78.8-2.07 0-2.86zM5.41 20L4 18.59l7.72-7.72 1.47 1.35L5.41 20z\"/>\n",
              "  </svg>\n",
              "      </button>\n",
              "      \n",
              "  <style>\n",
              "    .colab-df-container {\n",
              "      display:flex;\n",
              "      flex-wrap:wrap;\n",
              "      gap: 12px;\n",
              "    }\n",
              "\n",
              "    .colab-df-convert {\n",
              "      background-color: #E8F0FE;\n",
              "      border: none;\n",
              "      border-radius: 50%;\n",
              "      cursor: pointer;\n",
              "      display: none;\n",
              "      fill: #1967D2;\n",
              "      height: 32px;\n",
              "      padding: 0 0 0 0;\n",
              "      width: 32px;\n",
              "    }\n",
              "\n",
              "    .colab-df-convert:hover {\n",
              "      background-color: #E2EBFA;\n",
              "      box-shadow: 0px 1px 2px rgba(60, 64, 67, 0.3), 0px 1px 3px 1px rgba(60, 64, 67, 0.15);\n",
              "      fill: #174EA6;\n",
              "    }\n",
              "\n",
              "    [theme=dark] .colab-df-convert {\n",
              "      background-color: #3B4455;\n",
              "      fill: #D2E3FC;\n",
              "    }\n",
              "\n",
              "    [theme=dark] .colab-df-convert:hover {\n",
              "      background-color: #434B5C;\n",
              "      box-shadow: 0px 1px 3px 1px rgba(0, 0, 0, 0.15);\n",
              "      filter: drop-shadow(0px 1px 2px rgba(0, 0, 0, 0.3));\n",
              "      fill: #FFFFFF;\n",
              "    }\n",
              "  </style>\n",
              "\n",
              "      <script>\n",
              "        const buttonEl =\n",
              "          document.querySelector('#df-f6f4f614-54fe-40ba-b3a5-c796d3a28c44 button.colab-df-convert');\n",
              "        buttonEl.style.display =\n",
              "          google.colab.kernel.accessAllowed ? 'block' : 'none';\n",
              "\n",
              "        async function convertToInteractive(key) {\n",
              "          const element = document.querySelector('#df-f6f4f614-54fe-40ba-b3a5-c796d3a28c44');\n",
              "          const dataTable =\n",
              "            await google.colab.kernel.invokeFunction('convertToInteractive',\n",
              "                                                     [key], {});\n",
              "          if (!dataTable) return;\n",
              "\n",
              "          const docLinkHtml = 'Like what you see? Visit the ' +\n",
              "            '<a target=\"_blank\" href=https://colab.research.google.com/notebooks/data_table.ipynb>data table notebook</a>'\n",
              "            + ' to learn more about interactive tables.';\n",
              "          element.innerHTML = '';\n",
              "          dataTable['output_type'] = 'display_data';\n",
              "          await google.colab.output.renderOutput(dataTable, element);\n",
              "          const docLink = document.createElement('div');\n",
              "          docLink.innerHTML = docLinkHtml;\n",
              "          element.appendChild(docLink);\n",
              "        }\n",
              "      </script>\n",
              "    </div>\n",
              "  </div>\n",
              "  "
            ]
          },
          "metadata": {},
          "execution_count": 112
        }
      ]
    },
    {
      "cell_type": "code",
      "source": [
        "df_new = df_new.drop_duplicates(subset=['id'])"
      ],
      "metadata": {
        "id": "KLvUxrQmrRIr"
      },
      "execution_count": 113,
      "outputs": []
    },
    {
      "cell_type": "code",
      "source": [
        "df_new.dropna(inplace=True)"
      ],
      "metadata": {
        "id": "hfpBnTOjrpLU"
      },
      "execution_count": 114,
      "outputs": []
    },
    {
      "cell_type": "code",
      "source": [
        "df_new.info()"
      ],
      "metadata": {
        "colab": {
          "base_uri": "https://localhost:8080/"
        },
        "id": "hqeMhSAnrra0",
        "outputId": "85434915-6700-4b1d-e7bc-2cd32f403fa8"
      },
      "execution_count": 115,
      "outputs": [
        {
          "output_type": "stream",
          "name": "stdout",
          "text": [
            "<class 'pandas.core.frame.DataFrame'>\n",
            "Int64Index: 503 entries, 1 to 512\n",
            "Data columns (total 14 columns):\n",
            " #   Column               Non-Null Count  Dtype  \n",
            "---  ------               --------------  -----  \n",
            " 0   id                   503 non-null    int64  \n",
            " 1   neighbourhood group  503 non-null    object \n",
            " 2   neighbourhood        503 non-null    object \n",
            " 3   lat                  503 non-null    float64\n",
            " 4   long                 503 non-null    float64\n",
            " 5   country              503 non-null    object \n",
            " 6   instant_bookable     503 non-null    object \n",
            " 7   cancellation_policy  503 non-null    object \n",
            " 8   room type            503 non-null    object \n",
            " 9   construction year    503 non-null    float64\n",
            " 10  price                503 non-null    object \n",
            " 11  service fee          503 non-null    object \n",
            " 12  minimum nights       503 non-null    float64\n",
            " 13  availability 365     503 non-null    float64\n",
            "dtypes: float64(5), int64(1), object(8)\n",
            "memory usage: 58.9+ KB\n"
          ]
        }
      ]
    },
    {
      "cell_type": "code",
      "source": [
        "df_new['price'] = df_new['price'].replace({r'\\$':'',r',':''}, regex = True).str.strip()\n",
        "df_new['service fee'] = df_new['service fee'].replace({r'\\$':''}, regex = True).str.strip()"
      ],
      "metadata": {
        "id": "naSeaI2Hr52e"
      },
      "execution_count": 116,
      "outputs": []
    },
    {
      "cell_type": "code",
      "source": [
        "df_new['price'] = df_new['price'].astype(float)\n",
        "df_new['service fee'] = df_new['service fee'].astype(float)"
      ],
      "metadata": {
        "id": "0Wf2WvfVsOXy"
      },
      "execution_count": 117,
      "outputs": []
    },
    {
      "cell_type": "code",
      "source": [
        "df_new.describe()"
      ],
      "metadata": {
        "colab": {
          "base_uri": "https://localhost:8080/",
          "height": 300
        },
        "id": "AxN-c2GFsRXA",
        "outputId": "2982cfa0-729a-4293-bd2a-3fed05bec505"
      },
      "execution_count": 118,
      "outputs": [
        {
          "output_type": "execute_result",
          "data": {
            "text/plain": [
              "                 id         lat        long  construction year       price  \\\n",
              "count  5.030000e+02  503.000000  503.000000         503.000000  503.000000   \n",
              "mean   2.985520e+07   40.730404  -73.950124        2012.667992  439.200795   \n",
              "std    1.586652e+07    0.054912    0.047612           5.745872  296.730956   \n",
              "min    1.445385e+06   40.538940  -74.169830        2003.000000   50.000000   \n",
              "25%    1.734804e+07   40.692035  -73.983865        2008.000000  119.000000   \n",
              "50%    2.961600e+07   40.723170  -73.953040        2013.000000  401.000000   \n",
              "75%    4.340389e+07   40.764070  -73.933930        2017.000000  693.000000   \n",
              "max    5.723707e+07   40.891180  -73.727780        2022.000000  997.000000   \n",
              "\n",
              "       service fee  minimum nights  availability 365  \n",
              "count   503.000000      503.000000        503.000000  \n",
              "mean    127.870775        8.043738        135.049702  \n",
              "std      67.597629       21.054238        134.839507  \n",
              "min      10.000000        1.000000         -9.000000  \n",
              "25%      69.000000        1.000000          4.000000  \n",
              "50%     127.000000        3.000000         88.000000  \n",
              "75%     192.000000        5.000000        259.500000  \n",
              "max     240.000000      366.000000        425.000000  "
            ],
            "text/html": [
              "\n",
              "  <div id=\"df-44680a71-9e0a-41e7-adf1-83fd1deaa51a\">\n",
              "    <div class=\"colab-df-container\">\n",
              "      <div>\n",
              "<style scoped>\n",
              "    .dataframe tbody tr th:only-of-type {\n",
              "        vertical-align: middle;\n",
              "    }\n",
              "\n",
              "    .dataframe tbody tr th {\n",
              "        vertical-align: top;\n",
              "    }\n",
              "\n",
              "    .dataframe thead th {\n",
              "        text-align: right;\n",
              "    }\n",
              "</style>\n",
              "<table border=\"1\" class=\"dataframe\">\n",
              "  <thead>\n",
              "    <tr style=\"text-align: right;\">\n",
              "      <th></th>\n",
              "      <th>id</th>\n",
              "      <th>lat</th>\n",
              "      <th>long</th>\n",
              "      <th>construction year</th>\n",
              "      <th>price</th>\n",
              "      <th>service fee</th>\n",
              "      <th>minimum nights</th>\n",
              "      <th>availability 365</th>\n",
              "    </tr>\n",
              "  </thead>\n",
              "  <tbody>\n",
              "    <tr>\n",
              "      <th>count</th>\n",
              "      <td>5.030000e+02</td>\n",
              "      <td>503.000000</td>\n",
              "      <td>503.000000</td>\n",
              "      <td>503.000000</td>\n",
              "      <td>503.000000</td>\n",
              "      <td>503.000000</td>\n",
              "      <td>503.000000</td>\n",
              "      <td>503.000000</td>\n",
              "    </tr>\n",
              "    <tr>\n",
              "      <th>mean</th>\n",
              "      <td>2.985520e+07</td>\n",
              "      <td>40.730404</td>\n",
              "      <td>-73.950124</td>\n",
              "      <td>2012.667992</td>\n",
              "      <td>439.200795</td>\n",
              "      <td>127.870775</td>\n",
              "      <td>8.043738</td>\n",
              "      <td>135.049702</td>\n",
              "    </tr>\n",
              "    <tr>\n",
              "      <th>std</th>\n",
              "      <td>1.586652e+07</td>\n",
              "      <td>0.054912</td>\n",
              "      <td>0.047612</td>\n",
              "      <td>5.745872</td>\n",
              "      <td>296.730956</td>\n",
              "      <td>67.597629</td>\n",
              "      <td>21.054238</td>\n",
              "      <td>134.839507</td>\n",
              "    </tr>\n",
              "    <tr>\n",
              "      <th>min</th>\n",
              "      <td>1.445385e+06</td>\n",
              "      <td>40.538940</td>\n",
              "      <td>-74.169830</td>\n",
              "      <td>2003.000000</td>\n",
              "      <td>50.000000</td>\n",
              "      <td>10.000000</td>\n",
              "      <td>1.000000</td>\n",
              "      <td>-9.000000</td>\n",
              "    </tr>\n",
              "    <tr>\n",
              "      <th>25%</th>\n",
              "      <td>1.734804e+07</td>\n",
              "      <td>40.692035</td>\n",
              "      <td>-73.983865</td>\n",
              "      <td>2008.000000</td>\n",
              "      <td>119.000000</td>\n",
              "      <td>69.000000</td>\n",
              "      <td>1.000000</td>\n",
              "      <td>4.000000</td>\n",
              "    </tr>\n",
              "    <tr>\n",
              "      <th>50%</th>\n",
              "      <td>2.961600e+07</td>\n",
              "      <td>40.723170</td>\n",
              "      <td>-73.953040</td>\n",
              "      <td>2013.000000</td>\n",
              "      <td>401.000000</td>\n",
              "      <td>127.000000</td>\n",
              "      <td>3.000000</td>\n",
              "      <td>88.000000</td>\n",
              "    </tr>\n",
              "    <tr>\n",
              "      <th>75%</th>\n",
              "      <td>4.340389e+07</td>\n",
              "      <td>40.764070</td>\n",
              "      <td>-73.933930</td>\n",
              "      <td>2017.000000</td>\n",
              "      <td>693.000000</td>\n",
              "      <td>192.000000</td>\n",
              "      <td>5.000000</td>\n",
              "      <td>259.500000</td>\n",
              "    </tr>\n",
              "    <tr>\n",
              "      <th>max</th>\n",
              "      <td>5.723707e+07</td>\n",
              "      <td>40.891180</td>\n",
              "      <td>-73.727780</td>\n",
              "      <td>2022.000000</td>\n",
              "      <td>997.000000</td>\n",
              "      <td>240.000000</td>\n",
              "      <td>366.000000</td>\n",
              "      <td>425.000000</td>\n",
              "    </tr>\n",
              "  </tbody>\n",
              "</table>\n",
              "</div>\n",
              "      <button class=\"colab-df-convert\" onclick=\"convertToInteractive('df-44680a71-9e0a-41e7-adf1-83fd1deaa51a')\"\n",
              "              title=\"Convert this dataframe to an interactive table.\"\n",
              "              style=\"display:none;\">\n",
              "        \n",
              "  <svg xmlns=\"http://www.w3.org/2000/svg\" height=\"24px\"viewBox=\"0 0 24 24\"\n",
              "       width=\"24px\">\n",
              "    <path d=\"M0 0h24v24H0V0z\" fill=\"none\"/>\n",
              "    <path d=\"M18.56 5.44l.94 2.06.94-2.06 2.06-.94-2.06-.94-.94-2.06-.94 2.06-2.06.94zm-11 1L8.5 8.5l.94-2.06 2.06-.94-2.06-.94L8.5 2.5l-.94 2.06-2.06.94zm10 10l.94 2.06.94-2.06 2.06-.94-2.06-.94-.94-2.06-.94 2.06-2.06.94z\"/><path d=\"M17.41 7.96l-1.37-1.37c-.4-.4-.92-.59-1.43-.59-.52 0-1.04.2-1.43.59L10.3 9.45l-7.72 7.72c-.78.78-.78 2.05 0 2.83L4 21.41c.39.39.9.59 1.41.59.51 0 1.02-.2 1.41-.59l7.78-7.78 2.81-2.81c.8-.78.8-2.07 0-2.86zM5.41 20L4 18.59l7.72-7.72 1.47 1.35L5.41 20z\"/>\n",
              "  </svg>\n",
              "      </button>\n",
              "      \n",
              "  <style>\n",
              "    .colab-df-container {\n",
              "      display:flex;\n",
              "      flex-wrap:wrap;\n",
              "      gap: 12px;\n",
              "    }\n",
              "\n",
              "    .colab-df-convert {\n",
              "      background-color: #E8F0FE;\n",
              "      border: none;\n",
              "      border-radius: 50%;\n",
              "      cursor: pointer;\n",
              "      display: none;\n",
              "      fill: #1967D2;\n",
              "      height: 32px;\n",
              "      padding: 0 0 0 0;\n",
              "      width: 32px;\n",
              "    }\n",
              "\n",
              "    .colab-df-convert:hover {\n",
              "      background-color: #E2EBFA;\n",
              "      box-shadow: 0px 1px 2px rgba(60, 64, 67, 0.3), 0px 1px 3px 1px rgba(60, 64, 67, 0.15);\n",
              "      fill: #174EA6;\n",
              "    }\n",
              "\n",
              "    [theme=dark] .colab-df-convert {\n",
              "      background-color: #3B4455;\n",
              "      fill: #D2E3FC;\n",
              "    }\n",
              "\n",
              "    [theme=dark] .colab-df-convert:hover {\n",
              "      background-color: #434B5C;\n",
              "      box-shadow: 0px 1px 3px 1px rgba(0, 0, 0, 0.15);\n",
              "      filter: drop-shadow(0px 1px 2px rgba(0, 0, 0, 0.3));\n",
              "      fill: #FFFFFF;\n",
              "    }\n",
              "  </style>\n",
              "\n",
              "      <script>\n",
              "        const buttonEl =\n",
              "          document.querySelector('#df-44680a71-9e0a-41e7-adf1-83fd1deaa51a button.colab-df-convert');\n",
              "        buttonEl.style.display =\n",
              "          google.colab.kernel.accessAllowed ? 'block' : 'none';\n",
              "\n",
              "        async function convertToInteractive(key) {\n",
              "          const element = document.querySelector('#df-44680a71-9e0a-41e7-adf1-83fd1deaa51a');\n",
              "          const dataTable =\n",
              "            await google.colab.kernel.invokeFunction('convertToInteractive',\n",
              "                                                     [key], {});\n",
              "          if (!dataTable) return;\n",
              "\n",
              "          const docLinkHtml = 'Like what you see? Visit the ' +\n",
              "            '<a target=\"_blank\" href=https://colab.research.google.com/notebooks/data_table.ipynb>data table notebook</a>'\n",
              "            + ' to learn more about interactive tables.';\n",
              "          element.innerHTML = '';\n",
              "          dataTable['output_type'] = 'display_data';\n",
              "          await google.colab.output.renderOutput(dataTable, element);\n",
              "          const docLink = document.createElement('div');\n",
              "          docLink.innerHTML = docLinkHtml;\n",
              "          element.appendChild(docLink);\n",
              "        }\n",
              "      </script>\n",
              "    </div>\n",
              "  </div>\n",
              "  "
            ]
          },
          "metadata": {},
          "execution_count": 118
        }
      ]
    },
    {
      "cell_type": "code",
      "source": [
        "df_new_reg = df_new.drop(['id','neighbourhood','country'], axis=1)\n",
        "df_new_reg.head()"
      ],
      "metadata": {
        "colab": {
          "base_uri": "https://localhost:8080/",
          "height": 206
        },
        "id": "4aZjb0yVseDT",
        "outputId": "4cc66a58-65ce-441b-ce5c-12d1c3d10203"
      },
      "execution_count": 119,
      "outputs": [
        {
          "output_type": "execute_result",
          "data": {
            "text/plain": [
              "  neighbourhood group       lat      long instant_bookable  \\\n",
              "1           Manhattan  40.71317 -74.00654            False   \n",
              "3           Manhattan  40.73442 -73.98383             True   \n",
              "4           Manhattan  40.79660 -73.97154             True   \n",
              "5           Manhattan  40.74222 -73.99444            False   \n",
              "6            Brooklyn  40.71640 -73.95438             True   \n",
              "\n",
              "  cancellation_policy        room type  construction year  price  service fee  \\\n",
              "1            moderate  Entire home/apt             2006.0  987.0        197.0   \n",
              "3              strict     Private room             2011.0  497.0         99.0   \n",
              "4              strict  Entire home/apt             2022.0  820.0        164.0   \n",
              "5            flexible  Entire home/apt             2012.0  111.0        221.0   \n",
              "6            moderate  Entire home/apt             2014.0  913.0        183.0   \n",
              "\n",
              "   minimum nights  availability 365  \n",
              "1             2.0              42.0  \n",
              "3             4.0               0.0  \n",
              "4             4.0             376.0  \n",
              "5            29.0             220.0  \n",
              "6             7.0               0.0  "
            ],
            "text/html": [
              "\n",
              "  <div id=\"df-1ded1305-a1cd-4fe0-9366-e8b03c9481d0\">\n",
              "    <div class=\"colab-df-container\">\n",
              "      <div>\n",
              "<style scoped>\n",
              "    .dataframe tbody tr th:only-of-type {\n",
              "        vertical-align: middle;\n",
              "    }\n",
              "\n",
              "    .dataframe tbody tr th {\n",
              "        vertical-align: top;\n",
              "    }\n",
              "\n",
              "    .dataframe thead th {\n",
              "        text-align: right;\n",
              "    }\n",
              "</style>\n",
              "<table border=\"1\" class=\"dataframe\">\n",
              "  <thead>\n",
              "    <tr style=\"text-align: right;\">\n",
              "      <th></th>\n",
              "      <th>neighbourhood group</th>\n",
              "      <th>lat</th>\n",
              "      <th>long</th>\n",
              "      <th>instant_bookable</th>\n",
              "      <th>cancellation_policy</th>\n",
              "      <th>room type</th>\n",
              "      <th>construction year</th>\n",
              "      <th>price</th>\n",
              "      <th>service fee</th>\n",
              "      <th>minimum nights</th>\n",
              "      <th>availability 365</th>\n",
              "    </tr>\n",
              "  </thead>\n",
              "  <tbody>\n",
              "    <tr>\n",
              "      <th>1</th>\n",
              "      <td>Manhattan</td>\n",
              "      <td>40.71317</td>\n",
              "      <td>-74.00654</td>\n",
              "      <td>False</td>\n",
              "      <td>moderate</td>\n",
              "      <td>Entire home/apt</td>\n",
              "      <td>2006.0</td>\n",
              "      <td>987.0</td>\n",
              "      <td>197.0</td>\n",
              "      <td>2.0</td>\n",
              "      <td>42.0</td>\n",
              "    </tr>\n",
              "    <tr>\n",
              "      <th>3</th>\n",
              "      <td>Manhattan</td>\n",
              "      <td>40.73442</td>\n",
              "      <td>-73.98383</td>\n",
              "      <td>True</td>\n",
              "      <td>strict</td>\n",
              "      <td>Private room</td>\n",
              "      <td>2011.0</td>\n",
              "      <td>497.0</td>\n",
              "      <td>99.0</td>\n",
              "      <td>4.0</td>\n",
              "      <td>0.0</td>\n",
              "    </tr>\n",
              "    <tr>\n",
              "      <th>4</th>\n",
              "      <td>Manhattan</td>\n",
              "      <td>40.79660</td>\n",
              "      <td>-73.97154</td>\n",
              "      <td>True</td>\n",
              "      <td>strict</td>\n",
              "      <td>Entire home/apt</td>\n",
              "      <td>2022.0</td>\n",
              "      <td>820.0</td>\n",
              "      <td>164.0</td>\n",
              "      <td>4.0</td>\n",
              "      <td>376.0</td>\n",
              "    </tr>\n",
              "    <tr>\n",
              "      <th>5</th>\n",
              "      <td>Manhattan</td>\n",
              "      <td>40.74222</td>\n",
              "      <td>-73.99444</td>\n",
              "      <td>False</td>\n",
              "      <td>flexible</td>\n",
              "      <td>Entire home/apt</td>\n",
              "      <td>2012.0</td>\n",
              "      <td>111.0</td>\n",
              "      <td>221.0</td>\n",
              "      <td>29.0</td>\n",
              "      <td>220.0</td>\n",
              "    </tr>\n",
              "    <tr>\n",
              "      <th>6</th>\n",
              "      <td>Brooklyn</td>\n",
              "      <td>40.71640</td>\n",
              "      <td>-73.95438</td>\n",
              "      <td>True</td>\n",
              "      <td>moderate</td>\n",
              "      <td>Entire home/apt</td>\n",
              "      <td>2014.0</td>\n",
              "      <td>913.0</td>\n",
              "      <td>183.0</td>\n",
              "      <td>7.0</td>\n",
              "      <td>0.0</td>\n",
              "    </tr>\n",
              "  </tbody>\n",
              "</table>\n",
              "</div>\n",
              "      <button class=\"colab-df-convert\" onclick=\"convertToInteractive('df-1ded1305-a1cd-4fe0-9366-e8b03c9481d0')\"\n",
              "              title=\"Convert this dataframe to an interactive table.\"\n",
              "              style=\"display:none;\">\n",
              "        \n",
              "  <svg xmlns=\"http://www.w3.org/2000/svg\" height=\"24px\"viewBox=\"0 0 24 24\"\n",
              "       width=\"24px\">\n",
              "    <path d=\"M0 0h24v24H0V0z\" fill=\"none\"/>\n",
              "    <path d=\"M18.56 5.44l.94 2.06.94-2.06 2.06-.94-2.06-.94-.94-2.06-.94 2.06-2.06.94zm-11 1L8.5 8.5l.94-2.06 2.06-.94-2.06-.94L8.5 2.5l-.94 2.06-2.06.94zm10 10l.94 2.06.94-2.06 2.06-.94-2.06-.94-.94-2.06-.94 2.06-2.06.94z\"/><path d=\"M17.41 7.96l-1.37-1.37c-.4-.4-.92-.59-1.43-.59-.52 0-1.04.2-1.43.59L10.3 9.45l-7.72 7.72c-.78.78-.78 2.05 0 2.83L4 21.41c.39.39.9.59 1.41.59.51 0 1.02-.2 1.41-.59l7.78-7.78 2.81-2.81c.8-.78.8-2.07 0-2.86zM5.41 20L4 18.59l7.72-7.72 1.47 1.35L5.41 20z\"/>\n",
              "  </svg>\n",
              "      </button>\n",
              "      \n",
              "  <style>\n",
              "    .colab-df-container {\n",
              "      display:flex;\n",
              "      flex-wrap:wrap;\n",
              "      gap: 12px;\n",
              "    }\n",
              "\n",
              "    .colab-df-convert {\n",
              "      background-color: #E8F0FE;\n",
              "      border: none;\n",
              "      border-radius: 50%;\n",
              "      cursor: pointer;\n",
              "      display: none;\n",
              "      fill: #1967D2;\n",
              "      height: 32px;\n",
              "      padding: 0 0 0 0;\n",
              "      width: 32px;\n",
              "    }\n",
              "\n",
              "    .colab-df-convert:hover {\n",
              "      background-color: #E2EBFA;\n",
              "      box-shadow: 0px 1px 2px rgba(60, 64, 67, 0.3), 0px 1px 3px 1px rgba(60, 64, 67, 0.15);\n",
              "      fill: #174EA6;\n",
              "    }\n",
              "\n",
              "    [theme=dark] .colab-df-convert {\n",
              "      background-color: #3B4455;\n",
              "      fill: #D2E3FC;\n",
              "    }\n",
              "\n",
              "    [theme=dark] .colab-df-convert:hover {\n",
              "      background-color: #434B5C;\n",
              "      box-shadow: 0px 1px 3px 1px rgba(0, 0, 0, 0.15);\n",
              "      filter: drop-shadow(0px 1px 2px rgba(0, 0, 0, 0.3));\n",
              "      fill: #FFFFFF;\n",
              "    }\n",
              "  </style>\n",
              "\n",
              "      <script>\n",
              "        const buttonEl =\n",
              "          document.querySelector('#df-1ded1305-a1cd-4fe0-9366-e8b03c9481d0 button.colab-df-convert');\n",
              "        buttonEl.style.display =\n",
              "          google.colab.kernel.accessAllowed ? 'block' : 'none';\n",
              "\n",
              "        async function convertToInteractive(key) {\n",
              "          const element = document.querySelector('#df-1ded1305-a1cd-4fe0-9366-e8b03c9481d0');\n",
              "          const dataTable =\n",
              "            await google.colab.kernel.invokeFunction('convertToInteractive',\n",
              "                                                     [key], {});\n",
              "          if (!dataTable) return;\n",
              "\n",
              "          const docLinkHtml = 'Like what you see? Visit the ' +\n",
              "            '<a target=\"_blank\" href=https://colab.research.google.com/notebooks/data_table.ipynb>data table notebook</a>'\n",
              "            + ' to learn more about interactive tables.';\n",
              "          element.innerHTML = '';\n",
              "          dataTable['output_type'] = 'display_data';\n",
              "          await google.colab.output.renderOutput(dataTable, element);\n",
              "          const docLink = document.createElement('div');\n",
              "          docLink.innerHTML = docLinkHtml;\n",
              "          element.appendChild(docLink);\n",
              "        }\n",
              "      </script>\n",
              "    </div>\n",
              "  </div>\n",
              "  "
            ]
          },
          "metadata": {},
          "execution_count": 119
        }
      ]
    },
    {
      "cell_type": "code",
      "source": [
        "df_new_reg['instant_bookable'] = df_new_reg['instant_bookable'].apply(change_true_false)\n",
        "\n",
        "df_policy = pd.get_dummies(df_new_reg['neighbourhood group'])\n",
        "df_new_reg = pd.concat([df_new_reg,df_policy], axis = 1).drop('neighbourhood group',axis=1)\n",
        "\n",
        "df_policy = pd.get_dummies(df_new_reg['cancellation_policy'])\n",
        "df_new_reg = pd.concat([df_new_reg,df_policy], axis = 1).drop('cancellation_policy',axis=1)\n",
        "\n",
        "df_room = pd.get_dummies(df_new_reg['room type'])\n",
        "df_new_reg = pd.concat([df_new_reg,df_room], axis = 1).drop('room type',axis=1)"
      ],
      "metadata": {
        "id": "vFdzHdEcs949"
      },
      "execution_count": 120,
      "outputs": []
    },
    {
      "cell_type": "code",
      "source": [
        "df_new_reg.head()"
      ],
      "metadata": {
        "colab": {
          "base_uri": "https://localhost:8080/",
          "height": 267
        },
        "id": "gOf-9ZlXtD5e",
        "outputId": "7808d799-5ffd-446d-9397-6eeb9eb472c1"
      },
      "execution_count": 121,
      "outputs": [
        {
          "output_type": "execute_result",
          "data": {
            "text/plain": [
              "        lat      long  instant_bookable  construction year  price  \\\n",
              "1  40.71317 -74.00654                 0             2006.0  987.0   \n",
              "3  40.73442 -73.98383                 1             2011.0  497.0   \n",
              "4  40.79660 -73.97154                 1             2022.0  820.0   \n",
              "5  40.74222 -73.99444                 0             2012.0  111.0   \n",
              "6  40.71640 -73.95438                 1             2014.0  913.0   \n",
              "\n",
              "   service fee  minimum nights  availability 365  Bronx  Brooklyn  Manhattan  \\\n",
              "1        197.0             2.0              42.0      0         0          1   \n",
              "3         99.0             4.0               0.0      0         0          1   \n",
              "4        164.0             4.0             376.0      0         0          1   \n",
              "5        221.0            29.0             220.0      0         0          1   \n",
              "6        183.0             7.0               0.0      0         1          0   \n",
              "\n",
              "   Queens  Staten Island  flexible  moderate  strict  Entire home/apt  \\\n",
              "1       0              0         0         1       0                1   \n",
              "3       0              0         0         0       1                0   \n",
              "4       0              0         0         0       1                1   \n",
              "5       0              0         1         0       0                1   \n",
              "6       0              0         0         1       0                1   \n",
              "\n",
              "   Hotel room  Private room  Shared room  \n",
              "1           0             0            0  \n",
              "3           0             1            0  \n",
              "4           0             0            0  \n",
              "5           0             0            0  \n",
              "6           0             0            0  "
            ],
            "text/html": [
              "\n",
              "  <div id=\"df-fdff28ab-3fe8-4fcd-b6d7-03d295187cf0\">\n",
              "    <div class=\"colab-df-container\">\n",
              "      <div>\n",
              "<style scoped>\n",
              "    .dataframe tbody tr th:only-of-type {\n",
              "        vertical-align: middle;\n",
              "    }\n",
              "\n",
              "    .dataframe tbody tr th {\n",
              "        vertical-align: top;\n",
              "    }\n",
              "\n",
              "    .dataframe thead th {\n",
              "        text-align: right;\n",
              "    }\n",
              "</style>\n",
              "<table border=\"1\" class=\"dataframe\">\n",
              "  <thead>\n",
              "    <tr style=\"text-align: right;\">\n",
              "      <th></th>\n",
              "      <th>lat</th>\n",
              "      <th>long</th>\n",
              "      <th>instant_bookable</th>\n",
              "      <th>construction year</th>\n",
              "      <th>price</th>\n",
              "      <th>service fee</th>\n",
              "      <th>minimum nights</th>\n",
              "      <th>availability 365</th>\n",
              "      <th>Bronx</th>\n",
              "      <th>Brooklyn</th>\n",
              "      <th>Manhattan</th>\n",
              "      <th>Queens</th>\n",
              "      <th>Staten Island</th>\n",
              "      <th>flexible</th>\n",
              "      <th>moderate</th>\n",
              "      <th>strict</th>\n",
              "      <th>Entire home/apt</th>\n",
              "      <th>Hotel room</th>\n",
              "      <th>Private room</th>\n",
              "      <th>Shared room</th>\n",
              "    </tr>\n",
              "  </thead>\n",
              "  <tbody>\n",
              "    <tr>\n",
              "      <th>1</th>\n",
              "      <td>40.71317</td>\n",
              "      <td>-74.00654</td>\n",
              "      <td>0</td>\n",
              "      <td>2006.0</td>\n",
              "      <td>987.0</td>\n",
              "      <td>197.0</td>\n",
              "      <td>2.0</td>\n",
              "      <td>42.0</td>\n",
              "      <td>0</td>\n",
              "      <td>0</td>\n",
              "      <td>1</td>\n",
              "      <td>0</td>\n",
              "      <td>0</td>\n",
              "      <td>0</td>\n",
              "      <td>1</td>\n",
              "      <td>0</td>\n",
              "      <td>1</td>\n",
              "      <td>0</td>\n",
              "      <td>0</td>\n",
              "      <td>0</td>\n",
              "    </tr>\n",
              "    <tr>\n",
              "      <th>3</th>\n",
              "      <td>40.73442</td>\n",
              "      <td>-73.98383</td>\n",
              "      <td>1</td>\n",
              "      <td>2011.0</td>\n",
              "      <td>497.0</td>\n",
              "      <td>99.0</td>\n",
              "      <td>4.0</td>\n",
              "      <td>0.0</td>\n",
              "      <td>0</td>\n",
              "      <td>0</td>\n",
              "      <td>1</td>\n",
              "      <td>0</td>\n",
              "      <td>0</td>\n",
              "      <td>0</td>\n",
              "      <td>0</td>\n",
              "      <td>1</td>\n",
              "      <td>0</td>\n",
              "      <td>0</td>\n",
              "      <td>1</td>\n",
              "      <td>0</td>\n",
              "    </tr>\n",
              "    <tr>\n",
              "      <th>4</th>\n",
              "      <td>40.79660</td>\n",
              "      <td>-73.97154</td>\n",
              "      <td>1</td>\n",
              "      <td>2022.0</td>\n",
              "      <td>820.0</td>\n",
              "      <td>164.0</td>\n",
              "      <td>4.0</td>\n",
              "      <td>376.0</td>\n",
              "      <td>0</td>\n",
              "      <td>0</td>\n",
              "      <td>1</td>\n",
              "      <td>0</td>\n",
              "      <td>0</td>\n",
              "      <td>0</td>\n",
              "      <td>0</td>\n",
              "      <td>1</td>\n",
              "      <td>1</td>\n",
              "      <td>0</td>\n",
              "      <td>0</td>\n",
              "      <td>0</td>\n",
              "    </tr>\n",
              "    <tr>\n",
              "      <th>5</th>\n",
              "      <td>40.74222</td>\n",
              "      <td>-73.99444</td>\n",
              "      <td>0</td>\n",
              "      <td>2012.0</td>\n",
              "      <td>111.0</td>\n",
              "      <td>221.0</td>\n",
              "      <td>29.0</td>\n",
              "      <td>220.0</td>\n",
              "      <td>0</td>\n",
              "      <td>0</td>\n",
              "      <td>1</td>\n",
              "      <td>0</td>\n",
              "      <td>0</td>\n",
              "      <td>1</td>\n",
              "      <td>0</td>\n",
              "      <td>0</td>\n",
              "      <td>1</td>\n",
              "      <td>0</td>\n",
              "      <td>0</td>\n",
              "      <td>0</td>\n",
              "    </tr>\n",
              "    <tr>\n",
              "      <th>6</th>\n",
              "      <td>40.71640</td>\n",
              "      <td>-73.95438</td>\n",
              "      <td>1</td>\n",
              "      <td>2014.0</td>\n",
              "      <td>913.0</td>\n",
              "      <td>183.0</td>\n",
              "      <td>7.0</td>\n",
              "      <td>0.0</td>\n",
              "      <td>0</td>\n",
              "      <td>1</td>\n",
              "      <td>0</td>\n",
              "      <td>0</td>\n",
              "      <td>0</td>\n",
              "      <td>0</td>\n",
              "      <td>1</td>\n",
              "      <td>0</td>\n",
              "      <td>1</td>\n",
              "      <td>0</td>\n",
              "      <td>0</td>\n",
              "      <td>0</td>\n",
              "    </tr>\n",
              "  </tbody>\n",
              "</table>\n",
              "</div>\n",
              "      <button class=\"colab-df-convert\" onclick=\"convertToInteractive('df-fdff28ab-3fe8-4fcd-b6d7-03d295187cf0')\"\n",
              "              title=\"Convert this dataframe to an interactive table.\"\n",
              "              style=\"display:none;\">\n",
              "        \n",
              "  <svg xmlns=\"http://www.w3.org/2000/svg\" height=\"24px\"viewBox=\"0 0 24 24\"\n",
              "       width=\"24px\">\n",
              "    <path d=\"M0 0h24v24H0V0z\" fill=\"none\"/>\n",
              "    <path d=\"M18.56 5.44l.94 2.06.94-2.06 2.06-.94-2.06-.94-.94-2.06-.94 2.06-2.06.94zm-11 1L8.5 8.5l.94-2.06 2.06-.94-2.06-.94L8.5 2.5l-.94 2.06-2.06.94zm10 10l.94 2.06.94-2.06 2.06-.94-2.06-.94-.94-2.06-.94 2.06-2.06.94z\"/><path d=\"M17.41 7.96l-1.37-1.37c-.4-.4-.92-.59-1.43-.59-.52 0-1.04.2-1.43.59L10.3 9.45l-7.72 7.72c-.78.78-.78 2.05 0 2.83L4 21.41c.39.39.9.59 1.41.59.51 0 1.02-.2 1.41-.59l7.78-7.78 2.81-2.81c.8-.78.8-2.07 0-2.86zM5.41 20L4 18.59l7.72-7.72 1.47 1.35L5.41 20z\"/>\n",
              "  </svg>\n",
              "      </button>\n",
              "      \n",
              "  <style>\n",
              "    .colab-df-container {\n",
              "      display:flex;\n",
              "      flex-wrap:wrap;\n",
              "      gap: 12px;\n",
              "    }\n",
              "\n",
              "    .colab-df-convert {\n",
              "      background-color: #E8F0FE;\n",
              "      border: none;\n",
              "      border-radius: 50%;\n",
              "      cursor: pointer;\n",
              "      display: none;\n",
              "      fill: #1967D2;\n",
              "      height: 32px;\n",
              "      padding: 0 0 0 0;\n",
              "      width: 32px;\n",
              "    }\n",
              "\n",
              "    .colab-df-convert:hover {\n",
              "      background-color: #E2EBFA;\n",
              "      box-shadow: 0px 1px 2px rgba(60, 64, 67, 0.3), 0px 1px 3px 1px rgba(60, 64, 67, 0.15);\n",
              "      fill: #174EA6;\n",
              "    }\n",
              "\n",
              "    [theme=dark] .colab-df-convert {\n",
              "      background-color: #3B4455;\n",
              "      fill: #D2E3FC;\n",
              "    }\n",
              "\n",
              "    [theme=dark] .colab-df-convert:hover {\n",
              "      background-color: #434B5C;\n",
              "      box-shadow: 0px 1px 3px 1px rgba(0, 0, 0, 0.15);\n",
              "      filter: drop-shadow(0px 1px 2px rgba(0, 0, 0, 0.3));\n",
              "      fill: #FFFFFF;\n",
              "    }\n",
              "  </style>\n",
              "\n",
              "      <script>\n",
              "        const buttonEl =\n",
              "          document.querySelector('#df-fdff28ab-3fe8-4fcd-b6d7-03d295187cf0 button.colab-df-convert');\n",
              "        buttonEl.style.display =\n",
              "          google.colab.kernel.accessAllowed ? 'block' : 'none';\n",
              "\n",
              "        async function convertToInteractive(key) {\n",
              "          const element = document.querySelector('#df-fdff28ab-3fe8-4fcd-b6d7-03d295187cf0');\n",
              "          const dataTable =\n",
              "            await google.colab.kernel.invokeFunction('convertToInteractive',\n",
              "                                                     [key], {});\n",
              "          if (!dataTable) return;\n",
              "\n",
              "          const docLinkHtml = 'Like what you see? Visit the ' +\n",
              "            '<a target=\"_blank\" href=https://colab.research.google.com/notebooks/data_table.ipynb>data table notebook</a>'\n",
              "            + ' to learn more about interactive tables.';\n",
              "          element.innerHTML = '';\n",
              "          dataTable['output_type'] = 'display_data';\n",
              "          await google.colab.output.renderOutput(dataTable, element);\n",
              "          const docLink = document.createElement('div');\n",
              "          docLink.innerHTML = docLinkHtml;\n",
              "          element.appendChild(docLink);\n",
              "        }\n",
              "      </script>\n",
              "    </div>\n",
              "  </div>\n",
              "  "
            ]
          },
          "metadata": {},
          "execution_count": 121
        }
      ]
    },
    {
      "cell_type": "code",
      "source": [
        "df_new_reg.shape"
      ],
      "metadata": {
        "colab": {
          "base_uri": "https://localhost:8080/"
        },
        "id": "zxEZ37BAtFMa",
        "outputId": "44c9d4ba-9242-49cc-f27f-65a08a840ae0"
      },
      "execution_count": 122,
      "outputs": [
        {
          "output_type": "execute_result",
          "data": {
            "text/plain": [
              "(503, 20)"
            ]
          },
          "metadata": {},
          "execution_count": 122
        }
      ]
    },
    {
      "cell_type": "code",
      "source": [
        "X_new_scaled = scaler.fit_transform(df_new_reg)\n",
        "X_poly_2_new = poly_features_2.fit_transform(X_new_scaled)"
      ],
      "metadata": {
        "id": "U_owDDwgtm8-"
      },
      "execution_count": 123,
      "outputs": []
    },
    {
      "cell_type": "code",
      "source": [
        "pred_new = modelo_final.predict(X_poly_2_new)"
      ],
      "metadata": {
        "id": "Z1NG4cShtG_P"
      },
      "execution_count": 124,
      "outputs": []
    },
    {
      "cell_type": "code",
      "source": [
        "len(pred_new)"
      ],
      "metadata": {
        "colab": {
          "base_uri": "https://localhost:8080/"
        },
        "id": "D0MNyCiDteKQ",
        "outputId": "2bebdba5-444f-467d-f707-d9c62dd5eded"
      },
      "execution_count": 125,
      "outputs": [
        {
          "output_type": "execute_result",
          "data": {
            "text/plain": [
              "503"
            ]
          },
          "metadata": {},
          "execution_count": 125
        }
      ]
    },
    {
      "cell_type": "code",
      "source": [
        "df_new['num_reviews_pred'] = pred_new"
      ],
      "metadata": {
        "id": "VwHo68fCt7Gq"
      },
      "execution_count": 126,
      "outputs": []
    },
    {
      "cell_type": "code",
      "source": [
        "df_new.drop(['id','neighbourhood','country'], axis=1,inplace=True)"
      ],
      "metadata": {
        "id": "D4oIaW8IuaZk"
      },
      "execution_count": 127,
      "outputs": []
    },
    {
      "cell_type": "code",
      "source": [
        "df_new.describe()"
      ],
      "metadata": {
        "colab": {
          "base_uri": "https://localhost:8080/",
          "height": 300
        },
        "id": "k9uXA73_ubJE",
        "outputId": "b58b4fdb-a403-4e19-f59a-bc8294eabc1a"
      },
      "execution_count": 128,
      "outputs": [
        {
          "output_type": "execute_result",
          "data": {
            "text/plain": [
              "              lat        long  construction year       price  service fee  \\\n",
              "count  503.000000  503.000000         503.000000  503.000000   503.000000   \n",
              "mean    40.730404  -73.950124        2012.667992  439.200795   127.870775   \n",
              "std      0.054912    0.047612           5.745872  296.730956    67.597629   \n",
              "min     40.538940  -74.169830        2003.000000   50.000000    10.000000   \n",
              "25%     40.692035  -73.983865        2008.000000  119.000000    69.000000   \n",
              "50%     40.723170  -73.953040        2013.000000  401.000000   127.000000   \n",
              "75%     40.764070  -73.933930        2017.000000  693.000000   192.000000   \n",
              "max     40.891180  -73.727780        2022.000000  997.000000   240.000000   \n",
              "\n",
              "       minimum nights  availability 365  num_reviews_pred  \n",
              "count      503.000000        503.000000        503.000000  \n",
              "mean         8.043738        135.049702         27.474140  \n",
              "std         21.054238        134.839507         15.316258  \n",
              "min          1.000000         -9.000000         -3.656061  \n",
              "25%          1.000000          4.000000         17.407032  \n",
              "50%          3.000000         88.000000         26.246860  \n",
              "75%          5.000000        259.500000         36.858361  \n",
              "max        366.000000        425.000000        219.592914  "
            ],
            "text/html": [
              "\n",
              "  <div id=\"df-60d9830d-4447-47f3-948d-2c70ce97b1ae\">\n",
              "    <div class=\"colab-df-container\">\n",
              "      <div>\n",
              "<style scoped>\n",
              "    .dataframe tbody tr th:only-of-type {\n",
              "        vertical-align: middle;\n",
              "    }\n",
              "\n",
              "    .dataframe tbody tr th {\n",
              "        vertical-align: top;\n",
              "    }\n",
              "\n",
              "    .dataframe thead th {\n",
              "        text-align: right;\n",
              "    }\n",
              "</style>\n",
              "<table border=\"1\" class=\"dataframe\">\n",
              "  <thead>\n",
              "    <tr style=\"text-align: right;\">\n",
              "      <th></th>\n",
              "      <th>lat</th>\n",
              "      <th>long</th>\n",
              "      <th>construction year</th>\n",
              "      <th>price</th>\n",
              "      <th>service fee</th>\n",
              "      <th>minimum nights</th>\n",
              "      <th>availability 365</th>\n",
              "      <th>num_reviews_pred</th>\n",
              "    </tr>\n",
              "  </thead>\n",
              "  <tbody>\n",
              "    <tr>\n",
              "      <th>count</th>\n",
              "      <td>503.000000</td>\n",
              "      <td>503.000000</td>\n",
              "      <td>503.000000</td>\n",
              "      <td>503.000000</td>\n",
              "      <td>503.000000</td>\n",
              "      <td>503.000000</td>\n",
              "      <td>503.000000</td>\n",
              "      <td>503.000000</td>\n",
              "    </tr>\n",
              "    <tr>\n",
              "      <th>mean</th>\n",
              "      <td>40.730404</td>\n",
              "      <td>-73.950124</td>\n",
              "      <td>2012.667992</td>\n",
              "      <td>439.200795</td>\n",
              "      <td>127.870775</td>\n",
              "      <td>8.043738</td>\n",
              "      <td>135.049702</td>\n",
              "      <td>27.474140</td>\n",
              "    </tr>\n",
              "    <tr>\n",
              "      <th>std</th>\n",
              "      <td>0.054912</td>\n",
              "      <td>0.047612</td>\n",
              "      <td>5.745872</td>\n",
              "      <td>296.730956</td>\n",
              "      <td>67.597629</td>\n",
              "      <td>21.054238</td>\n",
              "      <td>134.839507</td>\n",
              "      <td>15.316258</td>\n",
              "    </tr>\n",
              "    <tr>\n",
              "      <th>min</th>\n",
              "      <td>40.538940</td>\n",
              "      <td>-74.169830</td>\n",
              "      <td>2003.000000</td>\n",
              "      <td>50.000000</td>\n",
              "      <td>10.000000</td>\n",
              "      <td>1.000000</td>\n",
              "      <td>-9.000000</td>\n",
              "      <td>-3.656061</td>\n",
              "    </tr>\n",
              "    <tr>\n",
              "      <th>25%</th>\n",
              "      <td>40.692035</td>\n",
              "      <td>-73.983865</td>\n",
              "      <td>2008.000000</td>\n",
              "      <td>119.000000</td>\n",
              "      <td>69.000000</td>\n",
              "      <td>1.000000</td>\n",
              "      <td>4.000000</td>\n",
              "      <td>17.407032</td>\n",
              "    </tr>\n",
              "    <tr>\n",
              "      <th>50%</th>\n",
              "      <td>40.723170</td>\n",
              "      <td>-73.953040</td>\n",
              "      <td>2013.000000</td>\n",
              "      <td>401.000000</td>\n",
              "      <td>127.000000</td>\n",
              "      <td>3.000000</td>\n",
              "      <td>88.000000</td>\n",
              "      <td>26.246860</td>\n",
              "    </tr>\n",
              "    <tr>\n",
              "      <th>75%</th>\n",
              "      <td>40.764070</td>\n",
              "      <td>-73.933930</td>\n",
              "      <td>2017.000000</td>\n",
              "      <td>693.000000</td>\n",
              "      <td>192.000000</td>\n",
              "      <td>5.000000</td>\n",
              "      <td>259.500000</td>\n",
              "      <td>36.858361</td>\n",
              "    </tr>\n",
              "    <tr>\n",
              "      <th>max</th>\n",
              "      <td>40.891180</td>\n",
              "      <td>-73.727780</td>\n",
              "      <td>2022.000000</td>\n",
              "      <td>997.000000</td>\n",
              "      <td>240.000000</td>\n",
              "      <td>366.000000</td>\n",
              "      <td>425.000000</td>\n",
              "      <td>219.592914</td>\n",
              "    </tr>\n",
              "  </tbody>\n",
              "</table>\n",
              "</div>\n",
              "      <button class=\"colab-df-convert\" onclick=\"convertToInteractive('df-60d9830d-4447-47f3-948d-2c70ce97b1ae')\"\n",
              "              title=\"Convert this dataframe to an interactive table.\"\n",
              "              style=\"display:none;\">\n",
              "        \n",
              "  <svg xmlns=\"http://www.w3.org/2000/svg\" height=\"24px\"viewBox=\"0 0 24 24\"\n",
              "       width=\"24px\">\n",
              "    <path d=\"M0 0h24v24H0V0z\" fill=\"none\"/>\n",
              "    <path d=\"M18.56 5.44l.94 2.06.94-2.06 2.06-.94-2.06-.94-.94-2.06-.94 2.06-2.06.94zm-11 1L8.5 8.5l.94-2.06 2.06-.94-2.06-.94L8.5 2.5l-.94 2.06-2.06.94zm10 10l.94 2.06.94-2.06 2.06-.94-2.06-.94-.94-2.06-.94 2.06-2.06.94z\"/><path d=\"M17.41 7.96l-1.37-1.37c-.4-.4-.92-.59-1.43-.59-.52 0-1.04.2-1.43.59L10.3 9.45l-7.72 7.72c-.78.78-.78 2.05 0 2.83L4 21.41c.39.39.9.59 1.41.59.51 0 1.02-.2 1.41-.59l7.78-7.78 2.81-2.81c.8-.78.8-2.07 0-2.86zM5.41 20L4 18.59l7.72-7.72 1.47 1.35L5.41 20z\"/>\n",
              "  </svg>\n",
              "      </button>\n",
              "      \n",
              "  <style>\n",
              "    .colab-df-container {\n",
              "      display:flex;\n",
              "      flex-wrap:wrap;\n",
              "      gap: 12px;\n",
              "    }\n",
              "\n",
              "    .colab-df-convert {\n",
              "      background-color: #E8F0FE;\n",
              "      border: none;\n",
              "      border-radius: 50%;\n",
              "      cursor: pointer;\n",
              "      display: none;\n",
              "      fill: #1967D2;\n",
              "      height: 32px;\n",
              "      padding: 0 0 0 0;\n",
              "      width: 32px;\n",
              "    }\n",
              "\n",
              "    .colab-df-convert:hover {\n",
              "      background-color: #E2EBFA;\n",
              "      box-shadow: 0px 1px 2px rgba(60, 64, 67, 0.3), 0px 1px 3px 1px rgba(60, 64, 67, 0.15);\n",
              "      fill: #174EA6;\n",
              "    }\n",
              "\n",
              "    [theme=dark] .colab-df-convert {\n",
              "      background-color: #3B4455;\n",
              "      fill: #D2E3FC;\n",
              "    }\n",
              "\n",
              "    [theme=dark] .colab-df-convert:hover {\n",
              "      background-color: #434B5C;\n",
              "      box-shadow: 0px 1px 3px 1px rgba(0, 0, 0, 0.15);\n",
              "      filter: drop-shadow(0px 1px 2px rgba(0, 0, 0, 0.3));\n",
              "      fill: #FFFFFF;\n",
              "    }\n",
              "  </style>\n",
              "\n",
              "      <script>\n",
              "        const buttonEl =\n",
              "          document.querySelector('#df-60d9830d-4447-47f3-948d-2c70ce97b1ae button.colab-df-convert');\n",
              "        buttonEl.style.display =\n",
              "          google.colab.kernel.accessAllowed ? 'block' : 'none';\n",
              "\n",
              "        async function convertToInteractive(key) {\n",
              "          const element = document.querySelector('#df-60d9830d-4447-47f3-948d-2c70ce97b1ae');\n",
              "          const dataTable =\n",
              "            await google.colab.kernel.invokeFunction('convertToInteractive',\n",
              "                                                     [key], {});\n",
              "          if (!dataTable) return;\n",
              "\n",
              "          const docLinkHtml = 'Like what you see? Visit the ' +\n",
              "            '<a target=\"_blank\" href=https://colab.research.google.com/notebooks/data_table.ipynb>data table notebook</a>'\n",
              "            + ' to learn more about interactive tables.';\n",
              "          element.innerHTML = '';\n",
              "          dataTable['output_type'] = 'display_data';\n",
              "          await google.colab.output.renderOutput(dataTable, element);\n",
              "          const docLink = document.createElement('div');\n",
              "          docLink.innerHTML = docLinkHtml;\n",
              "          element.appendChild(docLink);\n",
              "        }\n",
              "      </script>\n",
              "    </div>\n",
              "  </div>\n",
              "  "
            ]
          },
          "metadata": {},
          "execution_count": 128
        }
      ]
    },
    {
      "cell_type": "markdown",
      "source": [
        "De los resultados obtenidos se encuentra que hay valores negativos por lo que se concluye que el modelo encontrado no se ajusta tan bien a los datos nuevos.\n"
      ],
      "metadata": {
        "id": "8LP6cGZGu-ba"
      }
    },
    {
      "cell_type": "markdown",
      "source": [
        "### Respuesta al negocio"
      ],
      "metadata": {
        "id": "mjzsANPBv1ha"
      }
    },
    {
      "cell_type": "code",
      "source": [
        "sns.distplot(df_new['num_reviews_pred'])"
      ],
      "metadata": {
        "colab": {
          "base_uri": "https://localhost:8080/",
          "height": 355
        },
        "id": "ljqe3QzPv_dZ",
        "outputId": "ecf95910-ae93-4b35-e134-9bdea0df1763"
      },
      "execution_count": 129,
      "outputs": [
        {
          "output_type": "stream",
          "name": "stderr",
          "text": [
            "/usr/local/lib/python3.7/dist-packages/seaborn/distributions.py:2619: FutureWarning: `distplot` is a deprecated function and will be removed in a future version. Please adapt your code to use either `displot` (a figure-level function with similar flexibility) or `histplot` (an axes-level function for histograms).\n",
            "  warnings.warn(msg, FutureWarning)\n"
          ]
        },
        {
          "output_type": "execute_result",
          "data": {
            "text/plain": [
              "<matplotlib.axes._subplots.AxesSubplot at 0x7f9a4517d510>"
            ]
          },
          "metadata": {},
          "execution_count": 129
        },
        {
          "output_type": "display_data",
          "data": {
            "text/plain": [
              "<Figure size 432x288 with 1 Axes>"
            ],
            "image/png": "[encoded data removed]"
          },
          "metadata": {
            "needs_background": "light"
          }
        }
      ]
    },
    {
      "cell_type": "markdown",
      "source": [
        "Todo inmuble popular deberia comportarse como un Outlier distanciandose de la mayoria de inmuebles, por eso los inmuebles populares son lo que esten por encima del percentil 0.75."
      ],
      "metadata": {
        "id": "IqfNIyhdv2sZ"
      }
    },
    {
      "cell_type": "code",
      "source": [
        "df_new_promocionar = df_new[df_new['num_reviews_pred'] < df_new['num_reviews_pred'].quantile(0.75)]\n",
        "df_new_promocionar.shape"
      ],
      "metadata": {
        "colab": {
          "base_uri": "https://localhost:8080/"
        },
        "id": "dfQl7HPyweWq",
        "outputId": "5027af85-0c57-48e9-d911-f77af08ef3e6"
      },
      "execution_count": 133,
      "outputs": [
        {
          "output_type": "execute_result",
          "data": {
            "text/plain": [
              "(377, 12)"
            ]
          },
          "metadata": {},
          "execution_count": 133
        }
      ]
    },
    {
      "cell_type": "code",
      "source": [
        "sum(df_new_promocionar['price']*0.02)"
      ],
      "metadata": {
        "colab": {
          "base_uri": "https://localhost:8080/"
        },
        "id": "13k-QP4IxDe5",
        "outputId": "94e1b39a-fd47-4db2-bb7d-8617acecb7d9"
      },
      "execution_count": 134,
      "outputs": [
        {
          "output_type": "execute_result",
          "data": {
            "text/plain": [
              "3424.4999999999986"
            ]
          },
          "metadata": {},
          "execution_count": 134
        }
      ]
    },
    {
      "cell_type": "markdown",
      "source": [
        "Dada esta regla de negocio escogida se deben promocionar 377 inmubles de los 503 inmubles nuevos. Y se deberia tener un presupuesto de \\$3424.50 dolares."
      ],
      "metadata": {
        "id": "YjhT7WTGw5-R"
      }
    }
  ]
}