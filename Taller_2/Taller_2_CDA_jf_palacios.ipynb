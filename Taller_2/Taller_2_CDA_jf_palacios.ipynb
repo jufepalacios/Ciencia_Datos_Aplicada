{
  "nbformat": 4,
  "nbformat_minor": 0,
  "metadata": {
    "colab": {
      "provenance": [],
      "collapsed_sections": [
        "8VVo5nzxCYhO",
        "_X9dcqOUOwI2",
        "74fSbGN6QE7V",
        "b38khz8TQlM2",
        "I3B-camrQw1C",
        "zgvNAeukkjzt",
        "7xFpi-6NrviY",
        "o6mf0oJPsEP5",
        "nIe_fTresY9T",
        "93raPDmk6-8x"
      ]
    },
    "kernelspec": {
      "name": "python3",
      "display_name": "Python 3"
    },
    "language_info": {
      "name": "python"
    }
  },
  "cells": [
    {
      "cell_type": "markdown",
      "source": [
        "# Taller 2\n",
        "\n",
        "Juan Felipe Palacios - jf.palacios - 201616389"
      ],
      "metadata": {
        "id": "bXktdMJvWLDr"
      }
    },
    {
      "cell_type": "code",
      "execution_count": 606,
      "metadata": {
        "id": "SfRZ4Q4hWC9P"
      },
      "outputs": [],
      "source": [
        "import pandas as pd\n",
        "import matplotlib.pyplot as plt\n",
        "import numpy as np\n",
        "import seaborn as sns\n",
        "import random"
      ]
    },
    {
      "cell_type": "code",
      "source": [
        "df_ciudad = pd.read_csv('https://raw.githubusercontent.com/jufepalacios/Ciencia_Datos_Aplicada/main/Taller_2/Data_Taller_2.csv',delimiter=';', decimal=',')\n",
        "df_ciudad.head()"
      ],
      "metadata": {
        "colab": {
          "base_uri": "https://localhost:8080/",
          "height": 357
        },
        "id": "v4yfGuDQCnE7",
        "outputId": "cf41403e-e73c-4854-eb0c-0e539ebf5286"
      },
      "execution_count": 607,
      "outputs": [
        {
          "output_type": "execute_result",
          "data": {
            "text/plain": [
              "   instant       Date    Season Holiday            Weather      Temp  \\\n",
              "0        1  1/01/2020  Springer      No      Mist + Cloudy  8.175849   \n",
              "1        2  2/01/2020  Springer      No      Mist + Cloudy  9.083466   \n",
              "2        3  3/01/2020  Springer      No         Few clouds  1.229108   \n",
              "3        4  4/01/2020  Springer      No         Few clouds  1.400000   \n",
              "4        5  5/01/2020  Springer      No   Partly    cloudy  2.666979   \n",
              "\n",
              "   Feel_Temp       Hum       Wind  Casual  Registered   cnt  \n",
              "0   9.090375  0.805833  10.749882     331         654   985  \n",
              "1   8.625733  0.696087 -16.652113     131         670   801  \n",
              "2   0.902035  0.437273  16.636703     120        1229  1349  \n",
              "3   1.969734  0.590435  10.739832     108        1454  1562  \n",
              "4   2.775690  0.436957  12.522300      82        1518  1600  "
            ],
            "text/html": [
              "\n",
              "  <div id=\"df-dcba1dac-2449-448d-9299-e0888c3d5121\">\n",
              "    <div class=\"colab-df-container\">\n",
              "      <div>\n",
              "<style scoped>\n",
              "    .dataframe tbody tr th:only-of-type {\n",
              "        vertical-align: middle;\n",
              "    }\n",
              "\n",
              "    .dataframe tbody tr th {\n",
              "        vertical-align: top;\n",
              "    }\n",
              "\n",
              "    .dataframe thead th {\n",
              "        text-align: right;\n",
              "    }\n",
              "</style>\n",
              "<table border=\"1\" class=\"dataframe\">\n",
              "  <thead>\n",
              "    <tr style=\"text-align: right;\">\n",
              "      <th></th>\n",
              "      <th>instant</th>\n",
              "      <th>Date</th>\n",
              "      <th>Season</th>\n",
              "      <th>Holiday</th>\n",
              "      <th>Weather</th>\n",
              "      <th>Temp</th>\n",
              "      <th>Feel_Temp</th>\n",
              "      <th>Hum</th>\n",
              "      <th>Wind</th>\n",
              "      <th>Casual</th>\n",
              "      <th>Registered</th>\n",
              "      <th>cnt</th>\n",
              "    </tr>\n",
              "  </thead>\n",
              "  <tbody>\n",
              "    <tr>\n",
              "      <th>0</th>\n",
              "      <td>1</td>\n",
              "      <td>1/01/2020</td>\n",
              "      <td>Springer</td>\n",
              "      <td>No</td>\n",
              "      <td>Mist + Cloudy</td>\n",
              "      <td>8.175849</td>\n",
              "      <td>9.090375</td>\n",
              "      <td>0.805833</td>\n",
              "      <td>10.749882</td>\n",
              "      <td>331</td>\n",
              "      <td>654</td>\n",
              "      <td>985</td>\n",
              "    </tr>\n",
              "    <tr>\n",
              "      <th>1</th>\n",
              "      <td>2</td>\n",
              "      <td>2/01/2020</td>\n",
              "      <td>Springer</td>\n",
              "      <td>No</td>\n",
              "      <td>Mist + Cloudy</td>\n",
              "      <td>9.083466</td>\n",
              "      <td>8.625733</td>\n",
              "      <td>0.696087</td>\n",
              "      <td>-16.652113</td>\n",
              "      <td>131</td>\n",
              "      <td>670</td>\n",
              "      <td>801</td>\n",
              "    </tr>\n",
              "    <tr>\n",
              "      <th>2</th>\n",
              "      <td>3</td>\n",
              "      <td>3/01/2020</td>\n",
              "      <td>Springer</td>\n",
              "      <td>No</td>\n",
              "      <td>Few clouds</td>\n",
              "      <td>1.229108</td>\n",
              "      <td>0.902035</td>\n",
              "      <td>0.437273</td>\n",
              "      <td>16.636703</td>\n",
              "      <td>120</td>\n",
              "      <td>1229</td>\n",
              "      <td>1349</td>\n",
              "    </tr>\n",
              "    <tr>\n",
              "      <th>3</th>\n",
              "      <td>4</td>\n",
              "      <td>4/01/2020</td>\n",
              "      <td>Springer</td>\n",
              "      <td>No</td>\n",
              "      <td>Few clouds</td>\n",
              "      <td>1.400000</td>\n",
              "      <td>1.969734</td>\n",
              "      <td>0.590435</td>\n",
              "      <td>10.739832</td>\n",
              "      <td>108</td>\n",
              "      <td>1454</td>\n",
              "      <td>1562</td>\n",
              "    </tr>\n",
              "    <tr>\n",
              "      <th>4</th>\n",
              "      <td>5</td>\n",
              "      <td>5/01/2020</td>\n",
              "      <td>Springer</td>\n",
              "      <td>No</td>\n",
              "      <td>Partly    cloudy</td>\n",
              "      <td>2.666979</td>\n",
              "      <td>2.775690</td>\n",
              "      <td>0.436957</td>\n",
              "      <td>12.522300</td>\n",
              "      <td>82</td>\n",
              "      <td>1518</td>\n",
              "      <td>1600</td>\n",
              "    </tr>\n",
              "  </tbody>\n",
              "</table>\n",
              "</div>\n",
              "      <button class=\"colab-df-convert\" onclick=\"convertToInteractive('df-dcba1dac-2449-448d-9299-e0888c3d5121')\"\n",
              "              title=\"Convert this dataframe to an interactive table.\"\n",
              "              style=\"display:none;\">\n",
              "        \n",
              "  <svg xmlns=\"http://www.w3.org/2000/svg\" height=\"24px\"viewBox=\"0 0 24 24\"\n",
              "       width=\"24px\">\n",
              "    <path d=\"M0 0h24v24H0V0z\" fill=\"none\"/>\n",
              "    <path d=\"M18.56 5.44l.94 2.06.94-2.06 2.06-.94-2.06-.94-.94-2.06-.94 2.06-2.06.94zm-11 1L8.5 8.5l.94-2.06 2.06-.94-2.06-.94L8.5 2.5l-.94 2.06-2.06.94zm10 10l.94 2.06.94-2.06 2.06-.94-2.06-.94-.94-2.06-.94 2.06-2.06.94z\"/><path d=\"M17.41 7.96l-1.37-1.37c-.4-.4-.92-.59-1.43-.59-.52 0-1.04.2-1.43.59L10.3 9.45l-7.72 7.72c-.78.78-.78 2.05 0 2.83L4 21.41c.39.39.9.59 1.41.59.51 0 1.02-.2 1.41-.59l7.78-7.78 2.81-2.81c.8-.78.8-2.07 0-2.86zM5.41 20L4 18.59l7.72-7.72 1.47 1.35L5.41 20z\"/>\n",
              "  </svg>\n",
              "      </button>\n",
              "      \n",
              "  <style>\n",
              "    .colab-df-container {\n",
              "      display:flex;\n",
              "      flex-wrap:wrap;\n",
              "      gap: 12px;\n",
              "    }\n",
              "\n",
              "    .colab-df-convert {\n",
              "      background-color: #E8F0FE;\n",
              "      border: none;\n",
              "      border-radius: 50%;\n",
              "      cursor: pointer;\n",
              "      display: none;\n",
              "      fill: #1967D2;\n",
              "      height: 32px;\n",
              "      padding: 0 0 0 0;\n",
              "      width: 32px;\n",
              "    }\n",
              "\n",
              "    .colab-df-convert:hover {\n",
              "      background-color: #E2EBFA;\n",
              "      box-shadow: 0px 1px 2px rgba(60, 64, 67, 0.3), 0px 1px 3px 1px rgba(60, 64, 67, 0.15);\n",
              "      fill: #174EA6;\n",
              "    }\n",
              "\n",
              "    [theme=dark] .colab-df-convert {\n",
              "      background-color: #3B4455;\n",
              "      fill: #D2E3FC;\n",
              "    }\n",
              "\n",
              "    [theme=dark] .colab-df-convert:hover {\n",
              "      background-color: #434B5C;\n",
              "      box-shadow: 0px 1px 3px 1px rgba(0, 0, 0, 0.15);\n",
              "      filter: drop-shadow(0px 1px 2px rgba(0, 0, 0, 0.3));\n",
              "      fill: #FFFFFF;\n",
              "    }\n",
              "  </style>\n",
              "\n",
              "      <script>\n",
              "        const buttonEl =\n",
              "          document.querySelector('#df-dcba1dac-2449-448d-9299-e0888c3d5121 button.colab-df-convert');\n",
              "        buttonEl.style.display =\n",
              "          google.colab.kernel.accessAllowed ? 'block' : 'none';\n",
              "\n",
              "        async function convertToInteractive(key) {\n",
              "          const element = document.querySelector('#df-dcba1dac-2449-448d-9299-e0888c3d5121');\n",
              "          const dataTable =\n",
              "            await google.colab.kernel.invokeFunction('convertToInteractive',\n",
              "                                                     [key], {});\n",
              "          if (!dataTable) return;\n",
              "\n",
              "          const docLinkHtml = 'Like what you see? Visit the ' +\n",
              "            '<a target=\"_blank\" href=https://colab.research.google.com/notebooks/data_table.ipynb>data table notebook</a>'\n",
              "            + ' to learn more about interactive tables.';\n",
              "          element.innerHTML = '';\n",
              "          dataTable['output_type'] = 'display_data';\n",
              "          await google.colab.output.renderOutput(dataTable, element);\n",
              "          const docLink = document.createElement('div');\n",
              "          docLink.innerHTML = docLinkHtml;\n",
              "          element.appendChild(docLink);\n",
              "        }\n",
              "      </script>\n",
              "    </div>\n",
              "  </div>\n",
              "  "
            ]
          },
          "metadata": {},
          "execution_count": 607
        }
      ]
    },
    {
      "cell_type": "code",
      "source": [
        "df_ciudad.shape"
      ],
      "metadata": {
        "colab": {
          "base_uri": "https://localhost:8080/"
        },
        "id": "KnJfbbY4GGDF",
        "outputId": "414f920c-71bc-4168-89b3-aaeda70f4196"
      },
      "execution_count": 608,
      "outputs": [
        {
          "output_type": "execute_result",
          "data": {
            "text/plain": [
              "(731, 12)"
            ]
          },
          "metadata": {},
          "execution_count": 608
        }
      ]
    },
    {
      "cell_type": "markdown",
      "source": [
        "## Limpieza, preparación de datos y Análisis de datos."
      ],
      "metadata": {
        "id": "8VVo5nzxCYhO"
      }
    },
    {
      "cell_type": "code",
      "source": [
        "df_ciudad.info()"
      ],
      "metadata": {
        "colab": {
          "base_uri": "https://localhost:8080/"
        },
        "id": "pmUSUKPEGBML",
        "outputId": "aebf4a86-754d-44b1-e061-4fe573303ba5"
      },
      "execution_count": 609,
      "outputs": [
        {
          "output_type": "stream",
          "name": "stdout",
          "text": [
            "<class 'pandas.core.frame.DataFrame'>\n",
            "RangeIndex: 731 entries, 0 to 730\n",
            "Data columns (total 12 columns):\n",
            " #   Column      Non-Null Count  Dtype  \n",
            "---  ------      --------------  -----  \n",
            " 0   instant     731 non-null    int64  \n",
            " 1   Date        731 non-null    object \n",
            " 2   Season      731 non-null    object \n",
            " 3   Holiday     731 non-null    object \n",
            " 4   Weather     731 non-null    object \n",
            " 5   Temp        727 non-null    float64\n",
            " 6   Feel_Temp   731 non-null    float64\n",
            " 7   Hum         731 non-null    float64\n",
            " 8   Wind        731 non-null    float64\n",
            " 9   Casual      731 non-null    int64  \n",
            " 10  Registered  731 non-null    int64  \n",
            " 11  cnt         731 non-null    int64  \n",
            "dtypes: float64(4), int64(4), object(4)\n",
            "memory usage: 68.7+ KB\n"
          ]
        }
      ]
    },
    {
      "cell_type": "markdown",
      "source": [
        "De la información del dataframe encontramos que la única columna con valores nulos es Temp. Por otra parte, toca cambiar la columna de Date al formato de fecha."
      ],
      "metadata": {
        "id": "wEduJNOeGLev"
      }
    },
    {
      "cell_type": "markdown",
      "source": [
        "### Date"
      ],
      "metadata": {
        "id": "_X9dcqOUOwI2"
      }
    },
    {
      "cell_type": "markdown",
      "source": [
        "La columna date tinee un error porque existe una observación con una fecha que no existe (2021-02-29) por lo que esta fila se borrará."
      ],
      "metadata": {
        "id": "uNBzFck2OzuN"
      }
    },
    {
      "cell_type": "code",
      "source": [
        "df_ciudad['Date'] = pd.to_datetime(df_ciudad['Date'], format='%d/%m/%Y', errors='coerce')\n",
        "df_ciudad['Date'] = df_ciudad['Date'].dt.date"
      ],
      "metadata": {
        "id": "XQ8JqS0HGtQ8"
      },
      "execution_count": 610,
      "outputs": []
    },
    {
      "cell_type": "code",
      "source": [
        "df_ciudad = df_ciudad.dropna(subset=['Date'])"
      ],
      "metadata": {
        "id": "h8ojLJ56JoYu"
      },
      "execution_count": 611,
      "outputs": []
    },
    {
      "cell_type": "code",
      "source": [
        "df_ciudad['Date'] = pd.to_datetime(df_ciudad['Date'], format='%Y-%m-%d')"
      ],
      "metadata": {
        "id": "ZK5qzRh6ArCe"
      },
      "execution_count": 612,
      "outputs": []
    },
    {
      "cell_type": "markdown",
      "source": [
        "### Season"
      ],
      "metadata": {
        "id": "74fSbGN6QE7V"
      }
    },
    {
      "cell_type": "markdown",
      "source": [
        "Hay una estación que tiene mal el nombre y este se corrigirá (Springer -> Spring)"
      ],
      "metadata": {
        "id": "LtDs6-GhQI9E"
      }
    },
    {
      "cell_type": "code",
      "source": [
        "df_ciudad['Season'].unique()"
      ],
      "metadata": {
        "colab": {
          "base_uri": "https://localhost:8080/"
        },
        "id": "aIDkomI-QIEg",
        "outputId": "64106f64-d220-4c31-9da8-183d6a1ee361"
      },
      "execution_count": 613,
      "outputs": [
        {
          "output_type": "execute_result",
          "data": {
            "text/plain": [
              "array(['Springer', 'Summer', 'Fall', 'Winter'], dtype=object)"
            ]
          },
          "metadata": {},
          "execution_count": 613
        }
      ]
    },
    {
      "cell_type": "code",
      "source": [
        "df_ciudad['Season'] = df_ciudad['Season'].replace({'Springer':'Spring'})"
      ],
      "metadata": {
        "id": "B6N_g103Qd1g"
      },
      "execution_count": 614,
      "outputs": []
    },
    {
      "cell_type": "code",
      "source": [
        "sns.catplot(x='Season',kind='count',data=df_ciudad)"
      ],
      "metadata": {
        "colab": {
          "base_uri": "https://localhost:8080/",
          "height": 0
        },
        "id": "qEazHSRPBmbQ",
        "outputId": "0e58bcbf-513b-4b68-f83d-1ce0bcdcd9cb"
      },
      "execution_count": 615,
      "outputs": [
        {
          "output_type": "execute_result",
          "data": {
            "text/plain": [
              "<seaborn.axisgrid.FacetGrid at 0x7f0f7824d9d0>"
            ]
          },
          "metadata": {},
          "execution_count": 615
        },
        {
          "output_type": "display_data",
          "data": {
            "text/plain": [
              "<Figure size 360x360 with 1 Axes>"
            ],
            "image/png": "[encoded data removed]"
          },
          "metadata": {
            "needs_background": "light"
          }
        }
      ]
    },
    {
      "cell_type": "markdown",
      "source": [
        "### Holiday"
      ],
      "metadata": {
        "id": "b38khz8TQlM2"
      }
    },
    {
      "cell_type": "markdown",
      "source": [
        "No hay nada erroneo en la columna de identificación de si es un festivo o no."
      ],
      "metadata": {
        "id": "EKiIIG0SQrAN"
      }
    },
    {
      "cell_type": "code",
      "source": [
        "df_ciudad['Holiday'].unique()"
      ],
      "metadata": {
        "colab": {
          "base_uri": "https://localhost:8080/"
        },
        "id": "NmxQ6IXaQnMS",
        "outputId": "1180b38e-00c5-4268-acad-0814d3852810"
      },
      "execution_count": 616,
      "outputs": [
        {
          "output_type": "execute_result",
          "data": {
            "text/plain": [
              "array(['No', 'Yes'], dtype=object)"
            ]
          },
          "metadata": {},
          "execution_count": 616
        }
      ]
    },
    {
      "cell_type": "code",
      "source": [
        "sns.catplot(x='Holiday',kind='count',data=df_ciudad)"
      ],
      "metadata": {
        "colab": {
          "base_uri": "https://localhost:8080/",
          "height": 0
        },
        "id": "qYY2mu84CeUW",
        "outputId": "9cb964e5-8399-4c92-da2d-764fdd9bb712"
      },
      "execution_count": 617,
      "outputs": [
        {
          "output_type": "execute_result",
          "data": {
            "text/plain": [
              "<seaborn.axisgrid.FacetGrid at 0x7f0f78116550>"
            ]
          },
          "metadata": {},
          "execution_count": 617
        },
        {
          "output_type": "display_data",
          "data": {
            "text/plain": [
              "<Figure size 360x360 with 1 Axes>"
            ],
            "image/png": "[encoded data removed]"
          },
          "metadata": {
            "needs_background": "light"
          }
        }
      ]
    },
    {
      "cell_type": "markdown",
      "source": [
        "### Weather"
      ],
      "metadata": {
        "id": "I3B-camrQw1C"
      }
    },
    {
      "cell_type": "markdown",
      "source": [
        "Se arreglará el valor de ' Partly    cloudy' para eliminar los espacios que sobra."
      ],
      "metadata": {
        "id": "c4l8svR_SUL0"
      }
    },
    {
      "cell_type": "code",
      "source": [
        "df_ciudad['Weather'].unique()"
      ],
      "metadata": {
        "colab": {
          "base_uri": "https://localhost:8080/"
        },
        "id": "gmM5ewgIQ0eo",
        "outputId": "d4c45fe7-46c9-4854-84af-67632627192e"
      },
      "execution_count": 618,
      "outputs": [
        {
          "output_type": "execute_result",
          "data": {
            "text/plain": [
              "array(['Mist + Cloudy', 'Few clouds', ' Partly    cloudy', 'Clear',\n",
              "       'Mist', 'Mist + Broken clouds', ' Partly cloudy',\n",
              "       'Mist + Few clouds', 'Rain + Thunderstorm',\n",
              "       'Light Rain + Scattered clouds', 'Snow'], dtype=object)"
            ]
          },
          "metadata": {},
          "execution_count": 618
        }
      ]
    },
    {
      "cell_type": "code",
      "source": [
        "df_ciudad['Weather'] = df_ciudad['Weather'].replace({' Partly    cloudy':'Partly cloudy',\n",
        "                                                     ' Partly cloudy':'Partly cloudy'})"
      ],
      "metadata": {
        "id": "JqDBS-J0SRRb"
      },
      "execution_count": 619,
      "outputs": []
    },
    {
      "cell_type": "markdown",
      "source": [
        "Segun el comentario del meteorólogo se cambian todas a las siguientes 3 opciones:\n",
        "\n",
        "1. Precipitation: Rain + Thunderstorm, Light Rain + Scattered clouds, Snow\n",
        "2. Mist: Mist + Cloudy, Mist + Broken clouds, Mist + Few clouds, Mist\n",
        "3. Cloudy: Few clouds, Partly cloudy, Clear"
      ],
      "metadata": {
        "id": "QsHFwUhQct7_"
      }
    },
    {
      "cell_type": "code",
      "source": [
        "dict_weather = {'Mist + Cloudy':'Mist','Few clouds':'Cloudy','Partly cloudy':'Cloudy',\n",
        "                'Clear':'Cloudy','Mist + Broken clouds':'Mist','Mist + Few clouds':'Mist',\n",
        "                'Rain + Thunderstorm':'Precipitation',\n",
        "                'Light Rain + Scattered clouds':'Precipitation','Snow':'Precipitation'}\n",
        "df_ciudad['Weather'] = df_ciudad['Weather'].replace(dict_weather)"
      ],
      "metadata": {
        "id": "jYcb6Zqleql1"
      },
      "execution_count": 620,
      "outputs": []
    },
    {
      "cell_type": "code",
      "source": [
        "df_ciudad['Weather'].unique()"
      ],
      "metadata": {
        "colab": {
          "base_uri": "https://localhost:8080/"
        },
        "id": "wNkHVV-afeJO",
        "outputId": "b6155f1b-6c9a-4239-f63e-8dda9ed215b1"
      },
      "execution_count": 621,
      "outputs": [
        {
          "output_type": "execute_result",
          "data": {
            "text/plain": [
              "array(['Mist', 'Cloudy', 'Precipitation'], dtype=object)"
            ]
          },
          "metadata": {},
          "execution_count": 621
        }
      ]
    },
    {
      "cell_type": "code",
      "source": [
        "sns.catplot(x='Weather',kind='count',data=df_ciudad, aspect=2)\n",
        "plt.xticks(rotation=45)\n",
        "plt.show()"
      ],
      "metadata": {
        "colab": {
          "base_uri": "https://localhost:8080/",
          "height": 0
        },
        "id": "ZAWBPIU3Chyx",
        "outputId": "3565f94c-ab45-4c5f-8dc6-551d57c53a56"
      },
      "execution_count": 622,
      "outputs": [
        {
          "output_type": "display_data",
          "data": {
            "text/plain": [
              "<Figure size 720x360 with 1 Axes>"
            ],
            "image/png": "[encoded data removed]"
          },
          "metadata": {
            "needs_background": "light"
          }
        }
      ]
    },
    {
      "cell_type": "markdown",
      "source": [
        "### Columnas cuantitativas."
      ],
      "metadata": {
        "id": "zgvNAeukkjzt"
      }
    },
    {
      "cell_type": "code",
      "source": [
        "df_ciudad.describe()"
      ],
      "metadata": {
        "colab": {
          "base_uri": "https://localhost:8080/",
          "height": 364
        },
        "id": "pR5vGCQ2krqG",
        "outputId": "0fbf1156-2d62-4b1c-e885-f185c86f5888"
      },
      "execution_count": 623,
      "outputs": [
        {
          "output_type": "execute_result",
          "data": {
            "text/plain": [
              "          instant        Temp   Feel_Temp         Hum        Wind  \\\n",
              "count  730.000000  726.000000  730.000000  730.000000  730.000000   \n",
              "mean   365.919178   15.280824   14.302742    0.682446   12.669707   \n",
              "std    211.299280    8.597859    7.661289    0.751180    5.421121   \n",
              "min      1.000000   -5.220871   -4.283729    0.000000  -16.652113   \n",
              "25%    183.250000    7.833137    7.876330    0.522187    9.000663   \n",
              "50%    365.500000   15.460826   14.906132    0.628333   12.125057   \n",
              "75%    548.750000   22.785000   20.619028    0.732187   15.624869   \n",
              "max    731.000000   32.498349   31.522112   10.867083   34.000021   \n",
              "\n",
              "            Casual   Registered          cnt  \n",
              "count   730.000000   730.000000   730.000000  \n",
              "mean    849.249315  3658.757534  4508.006849  \n",
              "std     686.479875  1559.758728  1936.011647  \n",
              "min       2.000000    20.000000    22.000000  \n",
              "25%     316.250000  2502.250000  3169.750000  \n",
              "50%     717.000000  3664.500000  4548.500000  \n",
              "75%    1096.500000  4783.250000  5966.000000  \n",
              "max    3410.000000  6946.000000  8714.000000  "
            ],
            "text/html": [
              "\n",
              "  <div id=\"df-8521250b-6ae2-4160-b870-f72dc4dd121e\">\n",
              "    <div class=\"colab-df-container\">\n",
              "      <div>\n",
              "<style scoped>\n",
              "    .dataframe tbody tr th:only-of-type {\n",
              "        vertical-align: middle;\n",
              "    }\n",
              "\n",
              "    .dataframe tbody tr th {\n",
              "        vertical-align: top;\n",
              "    }\n",
              "\n",
              "    .dataframe thead th {\n",
              "        text-align: right;\n",
              "    }\n",
              "</style>\n",
              "<table border=\"1\" class=\"dataframe\">\n",
              "  <thead>\n",
              "    <tr style=\"text-align: right;\">\n",
              "      <th></th>\n",
              "      <th>instant</th>\n",
              "      <th>Temp</th>\n",
              "      <th>Feel_Temp</th>\n",
              "      <th>Hum</th>\n",
              "      <th>Wind</th>\n",
              "      <th>Casual</th>\n",
              "      <th>Registered</th>\n",
              "      <th>cnt</th>\n",
              "    </tr>\n",
              "  </thead>\n",
              "  <tbody>\n",
              "    <tr>\n",
              "      <th>count</th>\n",
              "      <td>730.000000</td>\n",
              "      <td>726.000000</td>\n",
              "      <td>730.000000</td>\n",
              "      <td>730.000000</td>\n",
              "      <td>730.000000</td>\n",
              "      <td>730.000000</td>\n",
              "      <td>730.000000</td>\n",
              "      <td>730.000000</td>\n",
              "    </tr>\n",
              "    <tr>\n",
              "      <th>mean</th>\n",
              "      <td>365.919178</td>\n",
              "      <td>15.280824</td>\n",
              "      <td>14.302742</td>\n",
              "      <td>0.682446</td>\n",
              "      <td>12.669707</td>\n",
              "      <td>849.249315</td>\n",
              "      <td>3658.757534</td>\n",
              "      <td>4508.006849</td>\n",
              "    </tr>\n",
              "    <tr>\n",
              "      <th>std</th>\n",
              "      <td>211.299280</td>\n",
              "      <td>8.597859</td>\n",
              "      <td>7.661289</td>\n",
              "      <td>0.751180</td>\n",
              "      <td>5.421121</td>\n",
              "      <td>686.479875</td>\n",
              "      <td>1559.758728</td>\n",
              "      <td>1936.011647</td>\n",
              "    </tr>\n",
              "    <tr>\n",
              "      <th>min</th>\n",
              "      <td>1.000000</td>\n",
              "      <td>-5.220871</td>\n",
              "      <td>-4.283729</td>\n",
              "      <td>0.000000</td>\n",
              "      <td>-16.652113</td>\n",
              "      <td>2.000000</td>\n",
              "      <td>20.000000</td>\n",
              "      <td>22.000000</td>\n",
              "    </tr>\n",
              "    <tr>\n",
              "      <th>25%</th>\n",
              "      <td>183.250000</td>\n",
              "      <td>7.833137</td>\n",
              "      <td>7.876330</td>\n",
              "      <td>0.522187</td>\n",
              "      <td>9.000663</td>\n",
              "      <td>316.250000</td>\n",
              "      <td>2502.250000</td>\n",
              "      <td>3169.750000</td>\n",
              "    </tr>\n",
              "    <tr>\n",
              "      <th>50%</th>\n",
              "      <td>365.500000</td>\n",
              "      <td>15.460826</td>\n",
              "      <td>14.906132</td>\n",
              "      <td>0.628333</td>\n",
              "      <td>12.125057</td>\n",
              "      <td>717.000000</td>\n",
              "      <td>3664.500000</td>\n",
              "      <td>4548.500000</td>\n",
              "    </tr>\n",
              "    <tr>\n",
              "      <th>75%</th>\n",
              "      <td>548.750000</td>\n",
              "      <td>22.785000</td>\n",
              "      <td>20.619028</td>\n",
              "      <td>0.732187</td>\n",
              "      <td>15.624869</td>\n",
              "      <td>1096.500000</td>\n",
              "      <td>4783.250000</td>\n",
              "      <td>5966.000000</td>\n",
              "    </tr>\n",
              "    <tr>\n",
              "      <th>max</th>\n",
              "      <td>731.000000</td>\n",
              "      <td>32.498349</td>\n",
              "      <td>31.522112</td>\n",
              "      <td>10.867083</td>\n",
              "      <td>34.000021</td>\n",
              "      <td>3410.000000</td>\n",
              "      <td>6946.000000</td>\n",
              "      <td>8714.000000</td>\n",
              "    </tr>\n",
              "  </tbody>\n",
              "</table>\n",
              "</div>\n",
              "      <button class=\"colab-df-convert\" onclick=\"convertToInteractive('df-8521250b-6ae2-4160-b870-f72dc4dd121e')\"\n",
              "              title=\"Convert this dataframe to an interactive table.\"\n",
              "              style=\"display:none;\">\n",
              "        \n",
              "  <svg xmlns=\"http://www.w3.org/2000/svg\" height=\"24px\"viewBox=\"0 0 24 24\"\n",
              "       width=\"24px\">\n",
              "    <path d=\"M0 0h24v24H0V0z\" fill=\"none\"/>\n",
              "    <path d=\"M18.56 5.44l.94 2.06.94-2.06 2.06-.94-2.06-.94-.94-2.06-.94 2.06-2.06.94zm-11 1L8.5 8.5l.94-2.06 2.06-.94-2.06-.94L8.5 2.5l-.94 2.06-2.06.94zm10 10l.94 2.06.94-2.06 2.06-.94-2.06-.94-.94-2.06-.94 2.06-2.06.94z\"/><path d=\"M17.41 7.96l-1.37-1.37c-.4-.4-.92-.59-1.43-.59-.52 0-1.04.2-1.43.59L10.3 9.45l-7.72 7.72c-.78.78-.78 2.05 0 2.83L4 21.41c.39.39.9.59 1.41.59.51 0 1.02-.2 1.41-.59l7.78-7.78 2.81-2.81c.8-.78.8-2.07 0-2.86zM5.41 20L4 18.59l7.72-7.72 1.47 1.35L5.41 20z\"/>\n",
              "  </svg>\n",
              "      </button>\n",
              "      \n",
              "  <style>\n",
              "    .colab-df-container {\n",
              "      display:flex;\n",
              "      flex-wrap:wrap;\n",
              "      gap: 12px;\n",
              "    }\n",
              "\n",
              "    .colab-df-convert {\n",
              "      background-color: #E8F0FE;\n",
              "      border: none;\n",
              "      border-radius: 50%;\n",
              "      cursor: pointer;\n",
              "      display: none;\n",
              "      fill: #1967D2;\n",
              "      height: 32px;\n",
              "      padding: 0 0 0 0;\n",
              "      width: 32px;\n",
              "    }\n",
              "\n",
              "    .colab-df-convert:hover {\n",
              "      background-color: #E2EBFA;\n",
              "      box-shadow: 0px 1px 2px rgba(60, 64, 67, 0.3), 0px 1px 3px 1px rgba(60, 64, 67, 0.15);\n",
              "      fill: #174EA6;\n",
              "    }\n",
              "\n",
              "    [theme=dark] .colab-df-convert {\n",
              "      background-color: #3B4455;\n",
              "      fill: #D2E3FC;\n",
              "    }\n",
              "\n",
              "    [theme=dark] .colab-df-convert:hover {\n",
              "      background-color: #434B5C;\n",
              "      box-shadow: 0px 1px 3px 1px rgba(0, 0, 0, 0.15);\n",
              "      filter: drop-shadow(0px 1px 2px rgba(0, 0, 0, 0.3));\n",
              "      fill: #FFFFFF;\n",
              "    }\n",
              "  </style>\n",
              "\n",
              "      <script>\n",
              "        const buttonEl =\n",
              "          document.querySelector('#df-8521250b-6ae2-4160-b870-f72dc4dd121e button.colab-df-convert');\n",
              "        buttonEl.style.display =\n",
              "          google.colab.kernel.accessAllowed ? 'block' : 'none';\n",
              "\n",
              "        async function convertToInteractive(key) {\n",
              "          const element = document.querySelector('#df-8521250b-6ae2-4160-b870-f72dc4dd121e');\n",
              "          const dataTable =\n",
              "            await google.colab.kernel.invokeFunction('convertToInteractive',\n",
              "                                                     [key], {});\n",
              "          if (!dataTable) return;\n",
              "\n",
              "          const docLinkHtml = 'Like what you see? Visit the ' +\n",
              "            '<a target=\"_blank\" href=https://colab.research.google.com/notebooks/data_table.ipynb>data table notebook</a>'\n",
              "            + ' to learn more about interactive tables.';\n",
              "          element.innerHTML = '';\n",
              "          dataTable['output_type'] = 'display_data';\n",
              "          await google.colab.output.renderOutput(dataTable, element);\n",
              "          const docLink = document.createElement('div');\n",
              "          docLink.innerHTML = docLinkHtml;\n",
              "          element.appendChild(docLink);\n",
              "        }\n",
              "      </script>\n",
              "    </div>\n",
              "  </div>\n",
              "  "
            ]
          },
          "metadata": {},
          "execution_count": 623
        }
      ]
    },
    {
      "cell_type": "markdown",
      "source": [
        "#### Temp"
      ],
      "metadata": {
        "id": "7xFpi-6NrviY"
      }
    },
    {
      "cell_type": "markdown",
      "source": [
        "Una posibilidad para imputar valores en la columna de Temp es utilizar la columna de Feel_Temp."
      ],
      "metadata": {
        "id": "YUsEulkdlS5U"
      }
    },
    {
      "cell_type": "code",
      "source": [
        "df_ciudad.loc[df_ciudad['Temp'].isna()]"
      ],
      "metadata": {
        "colab": {
          "base_uri": "https://localhost:8080/",
          "height": 0
        },
        "id": "OxBcjBWTk1cB",
        "outputId": "b698c6d7-a52c-48ba-a76f-396e3033748a"
      },
      "execution_count": 624,
      "outputs": [
        {
          "output_type": "execute_result",
          "data": {
            "text/plain": [
              "     instant       Date  Season Holiday Weather  Temp  Feel_Temp        Hum  \\\n",
              "99       100 2020-04-10  Summer      No    Mist   NaN  12.056639   0.857500   \n",
              "229      230 2020-08-18    Fall      No  Cloudy   NaN  23.126126   0.654583   \n",
              "562      563 2021-07-16    Fall      No  Cloudy   NaN  26.033875   0.645000   \n",
              "721      722 2021-12-22  Spring      No  Cloudy   NaN   3.097311  10.441250   \n",
              "\n",
              "          Wind  Casual  Registered   cnt  \n",
              "99    9.833389    1188        1707  2895  \n",
              "229  15.624936     639        3166  3805  \n",
              "562  11.000529    1088        5742  6830  \n",
              "721  27.292182     205        1544  1749  "
            ],
            "text/html": [
              "\n",
              "  <div id=\"df-9e549ffb-144c-456a-a980-a1aed4175c16\">\n",
              "    <div class=\"colab-df-container\">\n",
              "      <div>\n",
              "<style scoped>\n",
              "    .dataframe tbody tr th:only-of-type {\n",
              "        vertical-align: middle;\n",
              "    }\n",
              "\n",
              "    .dataframe tbody tr th {\n",
              "        vertical-align: top;\n",
              "    }\n",
              "\n",
              "    .dataframe thead th {\n",
              "        text-align: right;\n",
              "    }\n",
              "</style>\n",
              "<table border=\"1\" class=\"dataframe\">\n",
              "  <thead>\n",
              "    <tr style=\"text-align: right;\">\n",
              "      <th></th>\n",
              "      <th>instant</th>\n",
              "      <th>Date</th>\n",
              "      <th>Season</th>\n",
              "      <th>Holiday</th>\n",
              "      <th>Weather</th>\n",
              "      <th>Temp</th>\n",
              "      <th>Feel_Temp</th>\n",
              "      <th>Hum</th>\n",
              "      <th>Wind</th>\n",
              "      <th>Casual</th>\n",
              "      <th>Registered</th>\n",
              "      <th>cnt</th>\n",
              "    </tr>\n",
              "  </thead>\n",
              "  <tbody>\n",
              "    <tr>\n",
              "      <th>99</th>\n",
              "      <td>100</td>\n",
              "      <td>2020-04-10</td>\n",
              "      <td>Summer</td>\n",
              "      <td>No</td>\n",
              "      <td>Mist</td>\n",
              "      <td>NaN</td>\n",
              "      <td>12.056639</td>\n",
              "      <td>0.857500</td>\n",
              "      <td>9.833389</td>\n",
              "      <td>1188</td>\n",
              "      <td>1707</td>\n",
              "      <td>2895</td>\n",
              "    </tr>\n",
              "    <tr>\n",
              "      <th>229</th>\n",
              "      <td>230</td>\n",
              "      <td>2020-08-18</td>\n",
              "      <td>Fall</td>\n",
              "      <td>No</td>\n",
              "      <td>Cloudy</td>\n",
              "      <td>NaN</td>\n",
              "      <td>23.126126</td>\n",
              "      <td>0.654583</td>\n",
              "      <td>15.624936</td>\n",
              "      <td>639</td>\n",
              "      <td>3166</td>\n",
              "      <td>3805</td>\n",
              "    </tr>\n",
              "    <tr>\n",
              "      <th>562</th>\n",
              "      <td>563</td>\n",
              "      <td>2021-07-16</td>\n",
              "      <td>Fall</td>\n",
              "      <td>No</td>\n",
              "      <td>Cloudy</td>\n",
              "      <td>NaN</td>\n",
              "      <td>26.033875</td>\n",
              "      <td>0.645000</td>\n",
              "      <td>11.000529</td>\n",
              "      <td>1088</td>\n",
              "      <td>5742</td>\n",
              "      <td>6830</td>\n",
              "    </tr>\n",
              "    <tr>\n",
              "      <th>721</th>\n",
              "      <td>722</td>\n",
              "      <td>2021-12-22</td>\n",
              "      <td>Spring</td>\n",
              "      <td>No</td>\n",
              "      <td>Cloudy</td>\n",
              "      <td>NaN</td>\n",
              "      <td>3.097311</td>\n",
              "      <td>10.441250</td>\n",
              "      <td>27.292182</td>\n",
              "      <td>205</td>\n",
              "      <td>1544</td>\n",
              "      <td>1749</td>\n",
              "    </tr>\n",
              "  </tbody>\n",
              "</table>\n",
              "</div>\n",
              "      <button class=\"colab-df-convert\" onclick=\"convertToInteractive('df-9e549ffb-144c-456a-a980-a1aed4175c16')\"\n",
              "              title=\"Convert this dataframe to an interactive table.\"\n",
              "              style=\"display:none;\">\n",
              "        \n",
              "  <svg xmlns=\"http://www.w3.org/2000/svg\" height=\"24px\"viewBox=\"0 0 24 24\"\n",
              "       width=\"24px\">\n",
              "    <path d=\"M0 0h24v24H0V0z\" fill=\"none\"/>\n",
              "    <path d=\"M18.56 5.44l.94 2.06.94-2.06 2.06-.94-2.06-.94-.94-2.06-.94 2.06-2.06.94zm-11 1L8.5 8.5l.94-2.06 2.06-.94-2.06-.94L8.5 2.5l-.94 2.06-2.06.94zm10 10l.94 2.06.94-2.06 2.06-.94-2.06-.94-.94-2.06-.94 2.06-2.06.94z\"/><path d=\"M17.41 7.96l-1.37-1.37c-.4-.4-.92-.59-1.43-.59-.52 0-1.04.2-1.43.59L10.3 9.45l-7.72 7.72c-.78.78-.78 2.05 0 2.83L4 21.41c.39.39.9.59 1.41.59.51 0 1.02-.2 1.41-.59l7.78-7.78 2.81-2.81c.8-.78.8-2.07 0-2.86zM5.41 20L4 18.59l7.72-7.72 1.47 1.35L5.41 20z\"/>\n",
              "  </svg>\n",
              "      </button>\n",
              "      \n",
              "  <style>\n",
              "    .colab-df-container {\n",
              "      display:flex;\n",
              "      flex-wrap:wrap;\n",
              "      gap: 12px;\n",
              "    }\n",
              "\n",
              "    .colab-df-convert {\n",
              "      background-color: #E8F0FE;\n",
              "      border: none;\n",
              "      border-radius: 50%;\n",
              "      cursor: pointer;\n",
              "      display: none;\n",
              "      fill: #1967D2;\n",
              "      height: 32px;\n",
              "      padding: 0 0 0 0;\n",
              "      width: 32px;\n",
              "    }\n",
              "\n",
              "    .colab-df-convert:hover {\n",
              "      background-color: #E2EBFA;\n",
              "      box-shadow: 0px 1px 2px rgba(60, 64, 67, 0.3), 0px 1px 3px 1px rgba(60, 64, 67, 0.15);\n",
              "      fill: #174EA6;\n",
              "    }\n",
              "\n",
              "    [theme=dark] .colab-df-convert {\n",
              "      background-color: #3B4455;\n",
              "      fill: #D2E3FC;\n",
              "    }\n",
              "\n",
              "    [theme=dark] .colab-df-convert:hover {\n",
              "      background-color: #434B5C;\n",
              "      box-shadow: 0px 1px 3px 1px rgba(0, 0, 0, 0.15);\n",
              "      filter: drop-shadow(0px 1px 2px rgba(0, 0, 0, 0.3));\n",
              "      fill: #FFFFFF;\n",
              "    }\n",
              "  </style>\n",
              "\n",
              "      <script>\n",
              "        const buttonEl =\n",
              "          document.querySelector('#df-9e549ffb-144c-456a-a980-a1aed4175c16 button.colab-df-convert');\n",
              "        buttonEl.style.display =\n",
              "          google.colab.kernel.accessAllowed ? 'block' : 'none';\n",
              "\n",
              "        async function convertToInteractive(key) {\n",
              "          const element = document.querySelector('#df-9e549ffb-144c-456a-a980-a1aed4175c16');\n",
              "          const dataTable =\n",
              "            await google.colab.kernel.invokeFunction('convertToInteractive',\n",
              "                                                     [key], {});\n",
              "          if (!dataTable) return;\n",
              "\n",
              "          const docLinkHtml = 'Like what you see? Visit the ' +\n",
              "            '<a target=\"_blank\" href=https://colab.research.google.com/notebooks/data_table.ipynb>data table notebook</a>'\n",
              "            + ' to learn more about interactive tables.';\n",
              "          element.innerHTML = '';\n",
              "          dataTable['output_type'] = 'display_data';\n",
              "          await google.colab.output.renderOutput(dataTable, element);\n",
              "          const docLink = document.createElement('div');\n",
              "          docLink.innerHTML = docLinkHtml;\n",
              "          element.appendChild(docLink);\n",
              "        }\n",
              "      </script>\n",
              "    </div>\n",
              "  </div>\n",
              "  "
            ]
          },
          "metadata": {},
          "execution_count": 624
        }
      ]
    },
    {
      "cell_type": "markdown",
      "source": [
        "Se define una función que calcule el valor de la temperatura de acuerdo a la columna Feel_Temp."
      ],
      "metadata": {
        "id": "H-RK94hSouTQ"
      }
    },
    {
      "cell_type": "code",
      "source": [
        "def imp_temp(row):\n",
        "    pos_sign = [1,-1]\n",
        "    pos_mult = [0.1,0.075,0.05]\n",
        "    multiplier = random.choice(pos_sign) * random.choice(pos_mult)\n",
        "    return row * multiplier + row"
      ],
      "metadata": {
        "id": "AXeXND6HnUff"
      },
      "execution_count": 625,
      "outputs": []
    },
    {
      "cell_type": "code",
      "source": [
        "df_ciudad['Temp'].loc[df_ciudad['Temp'].isna()] = imp_temp(df_ciudad['Feel_Temp'].loc[df_ciudad['Temp'].isna()])\n",
        "df_ciudad.iloc[[99,229,562,721]]"
      ],
      "metadata": {
        "colab": {
          "base_uri": "https://localhost:8080/",
          "height": 0
        },
        "id": "PNVbtg_kpzIu",
        "outputId": "f683a127-cdc4-4f8d-97c4-ea10795e9ae9"
      },
      "execution_count": 626,
      "outputs": [
        {
          "output_type": "stream",
          "name": "stderr",
          "text": [
            "/usr/local/lib/python3.7/dist-packages/pandas/core/indexing.py:1732: SettingWithCopyWarning: \n",
            "A value is trying to be set on a copy of a slice from a DataFrame\n",
            "\n",
            "See the caveats in the documentation: https://pandas.pydata.org/pandas-docs/stable/user_guide/indexing.html#returning-a-view-versus-a-copy\n",
            "  self._setitem_single_block(indexer, value, name)\n"
          ]
        },
        {
          "output_type": "execute_result",
          "data": {
            "text/plain": [
              "     instant       Date  Season Holiday Weather       Temp  Feel_Temp  \\\n",
              "99       100 2020-04-10  Summer      No    Mist  12.659471  12.056639   \n",
              "229      230 2020-08-18    Fall      No  Cloudy  24.282432  23.126126   \n",
              "563      564 2021-07-17    Fall      No  Cloudy  30.461651  27.517101   \n",
              "722      723 2021-12-23  Spring      No  Cloudy   3.554151   4.195137   \n",
              "\n",
              "          Hum       Wind  Casual  Registered   cnt  \n",
              "99   0.857500   9.833389    1188        1707  2895  \n",
              "229  0.654583  15.624936     639        3166  3805  \n",
              "563  0.505833   7.666743     921        5865  6786  \n",
              "722  0.515417   8.916561     408        1379  1787  "
            ],
            "text/html": [
              "\n",
              "  <div id=\"df-f5416837-f080-4457-a8f1-82dc8f03ffec\">\n",
              "    <div class=\"colab-df-container\">\n",
              "      <div>\n",
              "<style scoped>\n",
              "    .dataframe tbody tr th:only-of-type {\n",
              "        vertical-align: middle;\n",
              "    }\n",
              "\n",
              "    .dataframe tbody tr th {\n",
              "        vertical-align: top;\n",
              "    }\n",
              "\n",
              "    .dataframe thead th {\n",
              "        text-align: right;\n",
              "    }\n",
              "</style>\n",
              "<table border=\"1\" class=\"dataframe\">\n",
              "  <thead>\n",
              "    <tr style=\"text-align: right;\">\n",
              "      <th></th>\n",
              "      <th>instant</th>\n",
              "      <th>Date</th>\n",
              "      <th>Season</th>\n",
              "      <th>Holiday</th>\n",
              "      <th>Weather</th>\n",
              "      <th>Temp</th>\n",
              "      <th>Feel_Temp</th>\n",
              "      <th>Hum</th>\n",
              "      <th>Wind</th>\n",
              "      <th>Casual</th>\n",
              "      <th>Registered</th>\n",
              "      <th>cnt</th>\n",
              "    </tr>\n",
              "  </thead>\n",
              "  <tbody>\n",
              "    <tr>\n",
              "      <th>99</th>\n",
              "      <td>100</td>\n",
              "      <td>2020-04-10</td>\n",
              "      <td>Summer</td>\n",
              "      <td>No</td>\n",
              "      <td>Mist</td>\n",
              "      <td>12.659471</td>\n",
              "      <td>12.056639</td>\n",
              "      <td>0.857500</td>\n",
              "      <td>9.833389</td>\n",
              "      <td>1188</td>\n",
              "      <td>1707</td>\n",
              "      <td>2895</td>\n",
              "    </tr>\n",
              "    <tr>\n",
              "      <th>229</th>\n",
              "      <td>230</td>\n",
              "      <td>2020-08-18</td>\n",
              "      <td>Fall</td>\n",
              "      <td>No</td>\n",
              "      <td>Cloudy</td>\n",
              "      <td>24.282432</td>\n",
              "      <td>23.126126</td>\n",
              "      <td>0.654583</td>\n",
              "      <td>15.624936</td>\n",
              "      <td>639</td>\n",
              "      <td>3166</td>\n",
              "      <td>3805</td>\n",
              "    </tr>\n",
              "    <tr>\n",
              "      <th>563</th>\n",
              "      <td>564</td>\n",
              "      <td>2021-07-17</td>\n",
              "      <td>Fall</td>\n",
              "      <td>No</td>\n",
              "      <td>Cloudy</td>\n",
              "      <td>30.461651</td>\n",
              "      <td>27.517101</td>\n",
              "      <td>0.505833</td>\n",
              "      <td>7.666743</td>\n",
              "      <td>921</td>\n",
              "      <td>5865</td>\n",
              "      <td>6786</td>\n",
              "    </tr>\n",
              "    <tr>\n",
              "      <th>722</th>\n",
              "      <td>723</td>\n",
              "      <td>2021-12-23</td>\n",
              "      <td>Spring</td>\n",
              "      <td>No</td>\n",
              "      <td>Cloudy</td>\n",
              "      <td>3.554151</td>\n",
              "      <td>4.195137</td>\n",
              "      <td>0.515417</td>\n",
              "      <td>8.916561</td>\n",
              "      <td>408</td>\n",
              "      <td>1379</td>\n",
              "      <td>1787</td>\n",
              "    </tr>\n",
              "  </tbody>\n",
              "</table>\n",
              "</div>\n",
              "      <button class=\"colab-df-convert\" onclick=\"convertToInteractive('df-f5416837-f080-4457-a8f1-82dc8f03ffec')\"\n",
              "              title=\"Convert this dataframe to an interactive table.\"\n",
              "              style=\"display:none;\">\n",
              "        \n",
              "  <svg xmlns=\"http://www.w3.org/2000/svg\" height=\"24px\"viewBox=\"0 0 24 24\"\n",
              "       width=\"24px\">\n",
              "    <path d=\"M0 0h24v24H0V0z\" fill=\"none\"/>\n",
              "    <path d=\"M18.56 5.44l.94 2.06.94-2.06 2.06-.94-2.06-.94-.94-2.06-.94 2.06-2.06.94zm-11 1L8.5 8.5l.94-2.06 2.06-.94-2.06-.94L8.5 2.5l-.94 2.06-2.06.94zm10 10l.94 2.06.94-2.06 2.06-.94-2.06-.94-.94-2.06-.94 2.06-2.06.94z\"/><path d=\"M17.41 7.96l-1.37-1.37c-.4-.4-.92-.59-1.43-.59-.52 0-1.04.2-1.43.59L10.3 9.45l-7.72 7.72c-.78.78-.78 2.05 0 2.83L4 21.41c.39.39.9.59 1.41.59.51 0 1.02-.2 1.41-.59l7.78-7.78 2.81-2.81c.8-.78.8-2.07 0-2.86zM5.41 20L4 18.59l7.72-7.72 1.47 1.35L5.41 20z\"/>\n",
              "  </svg>\n",
              "      </button>\n",
              "      \n",
              "  <style>\n",
              "    .colab-df-container {\n",
              "      display:flex;\n",
              "      flex-wrap:wrap;\n",
              "      gap: 12px;\n",
              "    }\n",
              "\n",
              "    .colab-df-convert {\n",
              "      background-color: #E8F0FE;\n",
              "      border: none;\n",
              "      border-radius: 50%;\n",
              "      cursor: pointer;\n",
              "      display: none;\n",
              "      fill: #1967D2;\n",
              "      height: 32px;\n",
              "      padding: 0 0 0 0;\n",
              "      width: 32px;\n",
              "    }\n",
              "\n",
              "    .colab-df-convert:hover {\n",
              "      background-color: #E2EBFA;\n",
              "      box-shadow: 0px 1px 2px rgba(60, 64, 67, 0.3), 0px 1px 3px 1px rgba(60, 64, 67, 0.15);\n",
              "      fill: #174EA6;\n",
              "    }\n",
              "\n",
              "    [theme=dark] .colab-df-convert {\n",
              "      background-color: #3B4455;\n",
              "      fill: #D2E3FC;\n",
              "    }\n",
              "\n",
              "    [theme=dark] .colab-df-convert:hover {\n",
              "      background-color: #434B5C;\n",
              "      box-shadow: 0px 1px 3px 1px rgba(0, 0, 0, 0.15);\n",
              "      filter: drop-shadow(0px 1px 2px rgba(0, 0, 0, 0.3));\n",
              "      fill: #FFFFFF;\n",
              "    }\n",
              "  </style>\n",
              "\n",
              "      <script>\n",
              "        const buttonEl =\n",
              "          document.querySelector('#df-f5416837-f080-4457-a8f1-82dc8f03ffec button.colab-df-convert');\n",
              "        buttonEl.style.display =\n",
              "          google.colab.kernel.accessAllowed ? 'block' : 'none';\n",
              "\n",
              "        async function convertToInteractive(key) {\n",
              "          const element = document.querySelector('#df-f5416837-f080-4457-a8f1-82dc8f03ffec');\n",
              "          const dataTable =\n",
              "            await google.colab.kernel.invokeFunction('convertToInteractive',\n",
              "                                                     [key], {});\n",
              "          if (!dataTable) return;\n",
              "\n",
              "          const docLinkHtml = 'Like what you see? Visit the ' +\n",
              "            '<a target=\"_blank\" href=https://colab.research.google.com/notebooks/data_table.ipynb>data table notebook</a>'\n",
              "            + ' to learn more about interactive tables.';\n",
              "          element.innerHTML = '';\n",
              "          dataTable['output_type'] = 'display_data';\n",
              "          await google.colab.output.renderOutput(dataTable, element);\n",
              "          const docLink = document.createElement('div');\n",
              "          docLink.innerHTML = docLinkHtml;\n",
              "          element.appendChild(docLink);\n",
              "        }\n",
              "      </script>\n",
              "    </div>\n",
              "  </div>\n",
              "  "
            ]
          },
          "metadata": {},
          "execution_count": 626
        }
      ]
    },
    {
      "cell_type": "code",
      "source": [
        "sns.distplot(df_ciudad['Temp'])"
      ],
      "metadata": {
        "colab": {
          "base_uri": "https://localhost:8080/",
          "height": 0
        },
        "id": "h6mrpip6sFQC",
        "outputId": "36607e3b-2ec8-47d8-b329-36564a2c963a"
      },
      "execution_count": 627,
      "outputs": [
        {
          "output_type": "stream",
          "name": "stderr",
          "text": [
            "/usr/local/lib/python3.7/dist-packages/seaborn/distributions.py:2619: FutureWarning: `distplot` is a deprecated function and will be removed in a future version. Please adapt your code to use either `displot` (a figure-level function with similar flexibility) or `histplot` (an axes-level function for histograms).\n",
            "  warnings.warn(msg, FutureWarning)\n"
          ]
        },
        {
          "output_type": "execute_result",
          "data": {
            "text/plain": [
              "<matplotlib.axes._subplots.AxesSubplot at 0x7f0f78000950>"
            ]
          },
          "metadata": {},
          "execution_count": 627
        },
        {
          "output_type": "display_data",
          "data": {
            "text/plain": [
              "<Figure size 432x288 with 1 Axes>"
            ],
            "image/png": "[encoded data removed]"
          },
          "metadata": {
            "needs_background": "light"
          }
        }
      ]
    },
    {
      "cell_type": "markdown",
      "source": [
        "#### Hum"
      ],
      "metadata": {
        "id": "o6mf0oJPsEP5"
      }
    },
    {
      "cell_type": "code",
      "source": [
        "sns.boxplot(df_ciudad['Hum'])"
      ],
      "metadata": {
        "colab": {
          "base_uri": "https://localhost:8080/",
          "height": 0
        },
        "id": "dVhbZhLvypXO",
        "outputId": "389ac461-0fb0-49f1-c286-c41b162ad198"
      },
      "execution_count": 628,
      "outputs": [
        {
          "output_type": "stream",
          "name": "stderr",
          "text": [
            "/usr/local/lib/python3.7/dist-packages/seaborn/_decorators.py:43: FutureWarning: Pass the following variable as a keyword arg: x. From version 0.12, the only valid positional argument will be `data`, and passing other arguments without an explicit keyword will result in an error or misinterpretation.\n",
            "  FutureWarning\n"
          ]
        },
        {
          "output_type": "execute_result",
          "data": {
            "text/plain": [
              "<matplotlib.axes._subplots.AxesSubplot at 0x7f0f77f84510>"
            ]
          },
          "metadata": {},
          "execution_count": 628
        },
        {
          "output_type": "display_data",
          "data": {
            "text/plain": [
              "<Figure size 432x288 with 1 Axes>"
            ],
            "image/png": "[encoded data removed]"
          },
          "metadata": {
            "needs_background": "light"
          }
        }
      ]
    },
    {
      "cell_type": "code",
      "source": [
        "sns.distplot(df_ciudad['Hum'])"
      ],
      "metadata": {
        "colab": {
          "base_uri": "https://localhost:8080/",
          "height": 0
        },
        "id": "yfvbzFkxsDDf",
        "outputId": "234e8bc6-c9ed-4dfc-efa2-bca788147486"
      },
      "execution_count": 629,
      "outputs": [
        {
          "output_type": "stream",
          "name": "stderr",
          "text": [
            "/usr/local/lib/python3.7/dist-packages/seaborn/distributions.py:2619: FutureWarning: `distplot` is a deprecated function and will be removed in a future version. Please adapt your code to use either `displot` (a figure-level function with similar flexibility) or `histplot` (an axes-level function for histograms).\n",
            "  warnings.warn(msg, FutureWarning)\n"
          ]
        },
        {
          "output_type": "execute_result",
          "data": {
            "text/plain": [
              "<matplotlib.axes._subplots.AxesSubplot at 0x7f0f77ef2450>"
            ]
          },
          "metadata": {},
          "execution_count": 629
        },
        {
          "output_type": "display_data",
          "data": {
            "text/plain": [
              "<Figure size 432x288 with 1 Axes>"
            ],
            "image/png": "[encoded data removed]"
          },
          "metadata": {
            "needs_background": "light"
          }
        }
      ]
    },
    {
      "cell_type": "markdown",
      "source": [
        "Para la humedad, se tiene un valores muy grandes por fuera de la distribución de la mayoria de datos. Para cambiar esto, se cambiaran estos valores por la moda, para valores por fuera de la media más o menos 3 sigma."
      ],
      "metadata": {
        "id": "5KcQXTROyiY4"
      }
    },
    {
      "cell_type": "code",
      "source": [
        "upper_tail = df_ciudad['Hum'].mean() + 3*df_ciudad['Hum'].std()\n",
        "lower_tail = df_ciudad['Hum'].mean() - 3*df_ciudad['Hum'].std()\n",
        "mode_hum = df_ciudad['Hum'].mode()[0]\n",
        "\n",
        "def change_hum(row):\n",
        "    if row > upper_tail or row < lower_tail:\n",
        "        return float(mode_hum)\n",
        "    else:\n",
        "        return float(row)"
      ],
      "metadata": {
        "id": "yXWsMtNbzQVy"
      },
      "execution_count": 630,
      "outputs": []
    },
    {
      "cell_type": "code",
      "source": [
        "df_ciudad['Hum'] = df_ciudad['Hum'].apply(change_hum)"
      ],
      "metadata": {
        "id": "rKLvm7xwz3Vp"
      },
      "execution_count": 631,
      "outputs": []
    },
    {
      "cell_type": "code",
      "source": [
        "sns.boxplot(df_ciudad['Hum'])"
      ],
      "metadata": {
        "colab": {
          "base_uri": "https://localhost:8080/",
          "height": 0
        },
        "id": "_nAzS72bz7rr",
        "outputId": "3ad57f93-4152-4b22-d0c0-28c6532fad94"
      },
      "execution_count": 632,
      "outputs": [
        {
          "output_type": "stream",
          "name": "stderr",
          "text": [
            "/usr/local/lib/python3.7/dist-packages/seaborn/_decorators.py:43: FutureWarning: Pass the following variable as a keyword arg: x. From version 0.12, the only valid positional argument will be `data`, and passing other arguments without an explicit keyword will result in an error or misinterpretation.\n",
            "  FutureWarning\n"
          ]
        },
        {
          "output_type": "execute_result",
          "data": {
            "text/plain": [
              "<matplotlib.axes._subplots.AxesSubplot at 0x7f0f77e257d0>"
            ]
          },
          "metadata": {},
          "execution_count": 632
        },
        {
          "output_type": "display_data",
          "data": {
            "text/plain": [
              "<Figure size 432x288 with 1 Axes>"
            ],
            "image/png": "[encoded data removed]"
          },
          "metadata": {
            "needs_background": "light"
          }
        }
      ]
    },
    {
      "cell_type": "code",
      "source": [
        "sns.distplot(df_ciudad['Hum'])"
      ],
      "metadata": {
        "colab": {
          "base_uri": "https://localhost:8080/",
          "height": 0
        },
        "id": "tNub4YgF0cy8",
        "outputId": "fcc4d579-5f30-44ba-b52b-e7eb90e2d7be"
      },
      "execution_count": 633,
      "outputs": [
        {
          "output_type": "stream",
          "name": "stderr",
          "text": [
            "/usr/local/lib/python3.7/dist-packages/seaborn/distributions.py:2619: FutureWarning: `distplot` is a deprecated function and will be removed in a future version. Please adapt your code to use either `displot` (a figure-level function with similar flexibility) or `histplot` (an axes-level function for histograms).\n",
            "  warnings.warn(msg, FutureWarning)\n"
          ]
        },
        {
          "output_type": "execute_result",
          "data": {
            "text/plain": [
              "<matplotlib.axes._subplots.AxesSubplot at 0x7f0f77da7a10>"
            ]
          },
          "metadata": {},
          "execution_count": 633
        },
        {
          "output_type": "display_data",
          "data": {
            "text/plain": [
              "<Figure size 432x288 with 1 Axes>"
            ],
            "image/png": "[encoded data removed]"
          },
          "metadata": {
            "needs_background": "light"
          }
        }
      ]
    },
    {
      "cell_type": "markdown",
      "source": [
        "#### Wind"
      ],
      "metadata": {
        "id": "nIe_fTresY9T"
      }
    },
    {
      "cell_type": "code",
      "source": [
        "sns.boxplot(df_ciudad['Wind'])"
      ],
      "metadata": {
        "colab": {
          "base_uri": "https://localhost:8080/",
          "height": 0
        },
        "id": "2Bvi2w6W1vzy",
        "outputId": "f3775fbb-692e-4028-d164-19c039348820"
      },
      "execution_count": 634,
      "outputs": [
        {
          "output_type": "stream",
          "name": "stderr",
          "text": [
            "/usr/local/lib/python3.7/dist-packages/seaborn/_decorators.py:43: FutureWarning: Pass the following variable as a keyword arg: x. From version 0.12, the only valid positional argument will be `data`, and passing other arguments without an explicit keyword will result in an error or misinterpretation.\n",
            "  FutureWarning\n"
          ]
        },
        {
          "output_type": "execute_result",
          "data": {
            "text/plain": [
              "<matplotlib.axes._subplots.AxesSubplot at 0x7f0f77d0c810>"
            ]
          },
          "metadata": {},
          "execution_count": 634
        },
        {
          "output_type": "display_data",
          "data": {
            "text/plain": [
              "<Figure size 432x288 with 1 Axes>"
            ],
            "image/png": "[encoded data removed]"
          },
          "metadata": {
            "needs_background": "light"
          }
        }
      ]
    },
    {
      "cell_type": "code",
      "source": [
        "sns.distplot(df_ciudad['Wind'])"
      ],
      "metadata": {
        "colab": {
          "base_uri": "https://localhost:8080/",
          "height": 0
        },
        "id": "RB502OUXsde9",
        "outputId": "2ac326f1-b42b-49d2-ab9b-b55843f7680a"
      },
      "execution_count": 635,
      "outputs": [
        {
          "output_type": "stream",
          "name": "stderr",
          "text": [
            "/usr/local/lib/python3.7/dist-packages/seaborn/distributions.py:2619: FutureWarning: `distplot` is a deprecated function and will be removed in a future version. Please adapt your code to use either `displot` (a figure-level function with similar flexibility) or `histplot` (an axes-level function for histograms).\n",
            "  warnings.warn(msg, FutureWarning)\n"
          ]
        },
        {
          "output_type": "execute_result",
          "data": {
            "text/plain": [
              "<matplotlib.axes._subplots.AxesSubplot at 0x7f0f77c61550>"
            ]
          },
          "metadata": {},
          "execution_count": 635
        },
        {
          "output_type": "display_data",
          "data": {
            "text/plain": [
              "<Figure size 432x288 with 1 Axes>"
            ],
            "image/png": "[encoded data removed]"
          },
          "metadata": {
            "needs_background": "light"
          }
        }
      ]
    },
    {
      "cell_type": "markdown",
      "source": [
        "Como se tienen valores negativos para la velocidad del viento, primero se le aplica la función de abs() para cambiar esos valroees por negativos. Despues, se hace el mismo procedimiento de cambiar los valores por fuera de 3 sigmas desde la media por la moda."
      ],
      "metadata": {
        "id": "ynehvZPs0jsB"
      }
    },
    {
      "cell_type": "code",
      "source": [
        "df_ciudad['Wind'] = df_ciudad['Wind'].abs()"
      ],
      "metadata": {
        "id": "z92M84lc0jeJ"
      },
      "execution_count": 636,
      "outputs": []
    },
    {
      "cell_type": "code",
      "source": [
        "upper_tail = df_ciudad['Wind'].mean() + 3*df_ciudad['Wind'].std()\n",
        "lower_tail = df_ciudad['Wind'].mean() - 3*df_ciudad['Wind'].std()\n",
        "mode_wind = df_ciudad['Wind'].mode()[0]\n",
        "\n",
        "def change_wind(row):\n",
        "    if row > upper_tail or row < lower_tail:\n",
        "        return float(mode_wind)\n",
        "    else:\n",
        "        return float(row)"
      ],
      "metadata": {
        "id": "Tt9k3t7S1n2j"
      },
      "execution_count": 637,
      "outputs": []
    },
    {
      "cell_type": "code",
      "source": [
        "df_ciudad['Wind'] = df_ciudad['Wind'].apply(change_wind)"
      ],
      "metadata": {
        "id": "m8qY_lvs2X6i"
      },
      "execution_count": 638,
      "outputs": []
    },
    {
      "cell_type": "code",
      "source": [
        "sns.boxplot(df_ciudad['Wind'])"
      ],
      "metadata": {
        "colab": {
          "base_uri": "https://localhost:8080/",
          "height": 0
        },
        "id": "-eAvnx-c34rm",
        "outputId": "b29ff671-3ee7-4ad9-b825-2d975080ec59"
      },
      "execution_count": 639,
      "outputs": [
        {
          "output_type": "stream",
          "name": "stderr",
          "text": [
            "/usr/local/lib/python3.7/dist-packages/seaborn/_decorators.py:43: FutureWarning: Pass the following variable as a keyword arg: x. From version 0.12, the only valid positional argument will be `data`, and passing other arguments without an explicit keyword will result in an error or misinterpretation.\n",
            "  FutureWarning\n"
          ]
        },
        {
          "output_type": "execute_result",
          "data": {
            "text/plain": [
              "<matplotlib.axes._subplots.AxesSubplot at 0x7f0f780f2b10>"
            ]
          },
          "metadata": {},
          "execution_count": 639
        },
        {
          "output_type": "display_data",
          "data": {
            "text/plain": [
              "<Figure size 432x288 with 1 Axes>"
            ],
            "image/png": "[encoded data removed]"
          },
          "metadata": {
            "needs_background": "light"
          }
        }
      ]
    },
    {
      "cell_type": "code",
      "source": [
        "sns.distplot(df_ciudad['Wind'])"
      ],
      "metadata": {
        "colab": {
          "base_uri": "https://localhost:8080/",
          "height": 0
        },
        "id": "f_5Id9jy45Bp",
        "outputId": "0aa381d4-c248-4d5c-b73d-d17f39ede08e"
      },
      "execution_count": 640,
      "outputs": [
        {
          "output_type": "stream",
          "name": "stderr",
          "text": [
            "/usr/local/lib/python3.7/dist-packages/seaborn/distributions.py:2619: FutureWarning: `distplot` is a deprecated function and will be removed in a future version. Please adapt your code to use either `displot` (a figure-level function with similar flexibility) or `histplot` (an axes-level function for histograms).\n",
            "  warnings.warn(msg, FutureWarning)\n"
          ]
        },
        {
          "output_type": "execute_result",
          "data": {
            "text/plain": [
              "<matplotlib.axes._subplots.AxesSubplot at 0x7f0f78109850>"
            ]
          },
          "metadata": {},
          "execution_count": 640
        },
        {
          "output_type": "display_data",
          "data": {
            "text/plain": [
              "<Figure size 432x288 with 1 Axes>"
            ],
            "image/png": "[encoded data removed]"
          },
          "metadata": {
            "needs_background": "light"
          }
        }
      ]
    },
    {
      "cell_type": "markdown",
      "source": [
        "### Análisis bivariado"
      ],
      "metadata": {
        "id": "93raPDmk6-8x"
      }
    },
    {
      "cell_type": "markdown",
      "source": [
        "Primero se eliminaran las columnas que no se usaran para hacer el modelo de rregresion. Estas son: instant (identificador), Casual (Número de usuarios casuales) y Registered (Número de usuarios registrados)."
      ],
      "metadata": {
        "id": "hOmJWiOF7yhb"
      }
    },
    {
      "cell_type": "code",
      "source": [
        "df_ciudad = df_ciudad.drop(['instant','Casual','Registered'], axis=1)"
      ],
      "metadata": {
        "id": "rhtOygb58HS5"
      },
      "execution_count": 641,
      "outputs": []
    },
    {
      "cell_type": "code",
      "source": [
        "df_ciudad.corr()"
      ],
      "metadata": {
        "colab": {
          "base_uri": "https://localhost:8080/",
          "height": 206
        },
        "id": "cNTotT1z6-1G",
        "outputId": "7f46cb58-e950-4e65-9154-bc91fa712e22"
      },
      "execution_count": 642,
      "outputs": [
        {
          "output_type": "execute_result",
          "data": {
            "text/plain": [
              "               Temp  Feel_Temp       Hum      Wind       cnt\n",
              "Temp       1.000000   0.991711  0.125737 -0.158929  0.627273\n",
              "Feel_Temp  0.991711   1.000000  0.138185 -0.185279  0.630685\n",
              "Hum        0.125737   0.138185  1.000000 -0.221589 -0.100890\n",
              "Wind      -0.158929  -0.185279 -0.221589  1.000000 -0.231273\n",
              "cnt        0.627273   0.630685 -0.100890 -0.231273  1.000000"
            ],
            "text/html": [
              "\n",
              "  <div id=\"df-9100c430-5780-442b-b5cb-2e08365fe892\">\n",
              "    <div class=\"colab-df-container\">\n",
              "      <div>\n",
              "<style scoped>\n",
              "    .dataframe tbody tr th:only-of-type {\n",
              "        vertical-align: middle;\n",
              "    }\n",
              "\n",
              "    .dataframe tbody tr th {\n",
              "        vertical-align: top;\n",
              "    }\n",
              "\n",
              "    .dataframe thead th {\n",
              "        text-align: right;\n",
              "    }\n",
              "</style>\n",
              "<table border=\"1\" class=\"dataframe\">\n",
              "  <thead>\n",
              "    <tr style=\"text-align: right;\">\n",
              "      <th></th>\n",
              "      <th>Temp</th>\n",
              "      <th>Feel_Temp</th>\n",
              "      <th>Hum</th>\n",
              "      <th>Wind</th>\n",
              "      <th>cnt</th>\n",
              "    </tr>\n",
              "  </thead>\n",
              "  <tbody>\n",
              "    <tr>\n",
              "      <th>Temp</th>\n",
              "      <td>1.000000</td>\n",
              "      <td>0.991711</td>\n",
              "      <td>0.125737</td>\n",
              "      <td>-0.158929</td>\n",
              "      <td>0.627273</td>\n",
              "    </tr>\n",
              "    <tr>\n",
              "      <th>Feel_Temp</th>\n",
              "      <td>0.991711</td>\n",
              "      <td>1.000000</td>\n",
              "      <td>0.138185</td>\n",
              "      <td>-0.185279</td>\n",
              "      <td>0.630685</td>\n",
              "    </tr>\n",
              "    <tr>\n",
              "      <th>Hum</th>\n",
              "      <td>0.125737</td>\n",
              "      <td>0.138185</td>\n",
              "      <td>1.000000</td>\n",
              "      <td>-0.221589</td>\n",
              "      <td>-0.100890</td>\n",
              "    </tr>\n",
              "    <tr>\n",
              "      <th>Wind</th>\n",
              "      <td>-0.158929</td>\n",
              "      <td>-0.185279</td>\n",
              "      <td>-0.221589</td>\n",
              "      <td>1.000000</td>\n",
              "      <td>-0.231273</td>\n",
              "    </tr>\n",
              "    <tr>\n",
              "      <th>cnt</th>\n",
              "      <td>0.627273</td>\n",
              "      <td>0.630685</td>\n",
              "      <td>-0.100890</td>\n",
              "      <td>-0.231273</td>\n",
              "      <td>1.000000</td>\n",
              "    </tr>\n",
              "  </tbody>\n",
              "</table>\n",
              "</div>\n",
              "      <button class=\"colab-df-convert\" onclick=\"convertToInteractive('df-9100c430-5780-442b-b5cb-2e08365fe892')\"\n",
              "              title=\"Convert this dataframe to an interactive table.\"\n",
              "              style=\"display:none;\">\n",
              "        \n",
              "  <svg xmlns=\"http://www.w3.org/2000/svg\" height=\"24px\"viewBox=\"0 0 24 24\"\n",
              "       width=\"24px\">\n",
              "    <path d=\"M0 0h24v24H0V0z\" fill=\"none\"/>\n",
              "    <path d=\"M18.56 5.44l.94 2.06.94-2.06 2.06-.94-2.06-.94-.94-2.06-.94 2.06-2.06.94zm-11 1L8.5 8.5l.94-2.06 2.06-.94-2.06-.94L8.5 2.5l-.94 2.06-2.06.94zm10 10l.94 2.06.94-2.06 2.06-.94-2.06-.94-.94-2.06-.94 2.06-2.06.94z\"/><path d=\"M17.41 7.96l-1.37-1.37c-.4-.4-.92-.59-1.43-.59-.52 0-1.04.2-1.43.59L10.3 9.45l-7.72 7.72c-.78.78-.78 2.05 0 2.83L4 21.41c.39.39.9.59 1.41.59.51 0 1.02-.2 1.41-.59l7.78-7.78 2.81-2.81c.8-.78.8-2.07 0-2.86zM5.41 20L4 18.59l7.72-7.72 1.47 1.35L5.41 20z\"/>\n",
              "  </svg>\n",
              "      </button>\n",
              "      \n",
              "  <style>\n",
              "    .colab-df-container {\n",
              "      display:flex;\n",
              "      flex-wrap:wrap;\n",
              "      gap: 12px;\n",
              "    }\n",
              "\n",
              "    .colab-df-convert {\n",
              "      background-color: #E8F0FE;\n",
              "      border: none;\n",
              "      border-radius: 50%;\n",
              "      cursor: pointer;\n",
              "      display: none;\n",
              "      fill: #1967D2;\n",
              "      height: 32px;\n",
              "      padding: 0 0 0 0;\n",
              "      width: 32px;\n",
              "    }\n",
              "\n",
              "    .colab-df-convert:hover {\n",
              "      background-color: #E2EBFA;\n",
              "      box-shadow: 0px 1px 2px rgba(60, 64, 67, 0.3), 0px 1px 3px 1px rgba(60, 64, 67, 0.15);\n",
              "      fill: #174EA6;\n",
              "    }\n",
              "\n",
              "    [theme=dark] .colab-df-convert {\n",
              "      background-color: #3B4455;\n",
              "      fill: #D2E3FC;\n",
              "    }\n",
              "\n",
              "    [theme=dark] .colab-df-convert:hover {\n",
              "      background-color: #434B5C;\n",
              "      box-shadow: 0px 1px 3px 1px rgba(0, 0, 0, 0.15);\n",
              "      filter: drop-shadow(0px 1px 2px rgba(0, 0, 0, 0.3));\n",
              "      fill: #FFFFFF;\n",
              "    }\n",
              "  </style>\n",
              "\n",
              "      <script>\n",
              "        const buttonEl =\n",
              "          document.querySelector('#df-9100c430-5780-442b-b5cb-2e08365fe892 button.colab-df-convert');\n",
              "        buttonEl.style.display =\n",
              "          google.colab.kernel.accessAllowed ? 'block' : 'none';\n",
              "\n",
              "        async function convertToInteractive(key) {\n",
              "          const element = document.querySelector('#df-9100c430-5780-442b-b5cb-2e08365fe892');\n",
              "          const dataTable =\n",
              "            await google.colab.kernel.invokeFunction('convertToInteractive',\n",
              "                                                     [key], {});\n",
              "          if (!dataTable) return;\n",
              "\n",
              "          const docLinkHtml = 'Like what you see? Visit the ' +\n",
              "            '<a target=\"_blank\" href=https://colab.research.google.com/notebooks/data_table.ipynb>data table notebook</a>'\n",
              "            + ' to learn more about interactive tables.';\n",
              "          element.innerHTML = '';\n",
              "          dataTable['output_type'] = 'display_data';\n",
              "          await google.colab.output.renderOutput(dataTable, element);\n",
              "          const docLink = document.createElement('div');\n",
              "          docLink.innerHTML = docLinkHtml;\n",
              "          element.appendChild(docLink);\n",
              "        }\n",
              "      </script>\n",
              "    </div>\n",
              "  </div>\n",
              "  "
            ]
          },
          "metadata": {},
          "execution_count": 642
        }
      ]
    },
    {
      "cell_type": "code",
      "source": [
        "plt.figure(2,figsize=(12,10))\n",
        "sns.heatmap(df_ciudad.corr(), cmap='Blues')"
      ],
      "metadata": {
        "colab": {
          "base_uri": "https://localhost:8080/",
          "height": 614
        },
        "id": "cEILrjuu6413",
        "outputId": "a1b28697-afe4-4f6e-d691-2c669d589c30"
      },
      "execution_count": 643,
      "outputs": [
        {
          "output_type": "execute_result",
          "data": {
            "text/plain": [
              "<matplotlib.axes._subplots.AxesSubplot at 0x7f0f77adac10>"
            ]
          },
          "metadata": {},
          "execution_count": 643
        },
        {
          "output_type": "display_data",
          "data": {
            "text/plain": [
              "<Figure size 864x720 with 2 Axes>"
            ],
            "image/png": "[encoded data removed]"
          },
          "metadata": {
            "needs_background": "light"
          }
        }
      ]
    },
    {
      "cell_type": "markdown",
      "source": [
        "De la matriz de correlación y el mapa de calor se encuentra que las variables con mayor relación son las columnas de Temp y Feel_Temp, lo cual era lo esperado. Seguidamente, se puede ver que existe una relación alta entre la temperatura y sensación termica con la variable objetivo cnt, número total de bicicletas rentadas."
      ],
      "metadata": {
        "id": "CV5yjvHL8war"
      }
    },
    {
      "cell_type": "markdown",
      "source": [
        "## Desarrollo de modelos de regresión"
      ],
      "metadata": {
        "id": "2ADajkYDCdxh"
      }
    },
    {
      "cell_type": "markdown",
      "source": [
        "Primero se cambiaran las variables categoricas por digitos con la función dummies y cambiando No y Yes por 1 y 0 respectivamente para la variable Holiday. Por otra parte, se agregan nuevas columnas para la fecha como mes y día."
      ],
      "metadata": {
        "id": "aUceUsa7FQAf"
      }
    },
    {
      "cell_type": "code",
      "source": [
        "df_ciudad_reg = df_ciudad.copy()"
      ],
      "metadata": {
        "id": "iotYpUPLGj6y"
      },
      "execution_count": 644,
      "outputs": []
    },
    {
      "cell_type": "code",
      "source": [
        "df_ciudad_reg['Month'] = df_ciudad_reg['Date'].dt.month\n",
        "df_ciudad_reg['Day_week'] = df_ciudad_reg['Date'].dt.dayofweek\n",
        "df_ciudad_reg = df_ciudad_reg.drop('Date',axis=1)"
      ],
      "metadata": {
        "id": "dWlNaRUCA8yG"
      },
      "execution_count": 645,
      "outputs": []
    },
    {
      "cell_type": "code",
      "source": [
        "df_ciudad_reg['Holiday'] = df_ciudad_reg['Holiday'].replace({'No':'1','Yes':'0'})"
      ],
      "metadata": {
        "id": "X3Twb8BlHA1R"
      },
      "execution_count": 646,
      "outputs": []
    },
    {
      "cell_type": "code",
      "source": [
        "df_season = pd.get_dummies(df_ciudad_reg['Season'])\n",
        "df_ciudad_reg = pd.concat([df_ciudad_reg,df_season], axis = 1).drop('Season',axis=1)"
      ],
      "metadata": {
        "id": "SsLQyPClGQ-o"
      },
      "execution_count": 647,
      "outputs": []
    },
    {
      "cell_type": "code",
      "source": [
        "df_weather = pd.get_dummies(df_ciudad_reg['Weather'])\n",
        "df_ciudad_reg = pd.concat([df_ciudad_reg,df_weather], axis = 1).drop('Weather',axis=1)"
      ],
      "metadata": {
        "id": "I-vjBNqXG_ZU"
      },
      "execution_count": 648,
      "outputs": []
    },
    {
      "cell_type": "code",
      "source": [
        "df_ciudad_reg.head()"
      ],
      "metadata": {
        "colab": {
          "base_uri": "https://localhost:8080/",
          "height": 270
        },
        "id": "v3OXL0xh-ERm",
        "outputId": "b163b9f5-034e-46cb-82f8-3aa2f1368b3c"
      },
      "execution_count": 649,
      "outputs": [
        {
          "output_type": "execute_result",
          "data": {
            "text/plain": [
              "  Holiday      Temp  Feel_Temp       Hum       Wind   cnt  Month  Day_week  \\\n",
              "0       1  8.175849   9.090375  0.805833  10.749882   985      1         2   \n",
              "1       1  9.083466   8.625733  0.696087  16.652113   801      1         3   \n",
              "2       1  1.229108   0.902035  0.437273  16.636703  1349      1         4   \n",
              "3       1  1.400000   1.969734  0.590435  10.739832  1562      1         5   \n",
              "4       1  2.666979   2.775690  0.436957  12.522300  1600      1         6   \n",
              "\n",
              "   Fall  Spring  Summer  Winter  Cloudy  Mist  Precipitation  \n",
              "0     0       1       0       0       0     1              0  \n",
              "1     0       1       0       0       0     1              0  \n",
              "2     0       1       0       0       1     0              0  \n",
              "3     0       1       0       0       1     0              0  \n",
              "4     0       1       0       0       1     0              0  "
            ],
            "text/html": [
              "\n",
              "  <div id=\"df-aa3d2537-4a8a-45f1-b29f-bc16239b318a\">\n",
              "    <div class=\"colab-df-container\">\n",
              "      <div>\n",
              "<style scoped>\n",
              "    .dataframe tbody tr th:only-of-type {\n",
              "        vertical-align: middle;\n",
              "    }\n",
              "\n",
              "    .dataframe tbody tr th {\n",
              "        vertical-align: top;\n",
              "    }\n",
              "\n",
              "    .dataframe thead th {\n",
              "        text-align: right;\n",
              "    }\n",
              "</style>\n",
              "<table border=\"1\" class=\"dataframe\">\n",
              "  <thead>\n",
              "    <tr style=\"text-align: right;\">\n",
              "      <th></th>\n",
              "      <th>Holiday</th>\n",
              "      <th>Temp</th>\n",
              "      <th>Feel_Temp</th>\n",
              "      <th>Hum</th>\n",
              "      <th>Wind</th>\n",
              "      <th>cnt</th>\n",
              "      <th>Month</th>\n",
              "      <th>Day_week</th>\n",
              "      <th>Fall</th>\n",
              "      <th>Spring</th>\n",
              "      <th>Summer</th>\n",
              "      <th>Winter</th>\n",
              "      <th>Cloudy</th>\n",
              "      <th>Mist</th>\n",
              "      <th>Precipitation</th>\n",
              "    </tr>\n",
              "  </thead>\n",
              "  <tbody>\n",
              "    <tr>\n",
              "      <th>0</th>\n",
              "      <td>1</td>\n",
              "      <td>8.175849</td>\n",
              "      <td>9.090375</td>\n",
              "      <td>0.805833</td>\n",
              "      <td>10.749882</td>\n",
              "      <td>985</td>\n",
              "      <td>1</td>\n",
              "      <td>2</td>\n",
              "      <td>0</td>\n",
              "      <td>1</td>\n",
              "      <td>0</td>\n",
              "      <td>0</td>\n",
              "      <td>0</td>\n",
              "      <td>1</td>\n",
              "      <td>0</td>\n",
              "    </tr>\n",
              "    <tr>\n",
              "      <th>1</th>\n",
              "      <td>1</td>\n",
              "      <td>9.083466</td>\n",
              "      <td>8.625733</td>\n",
              "      <td>0.696087</td>\n",
              "      <td>16.652113</td>\n",
              "      <td>801</td>\n",
              "      <td>1</td>\n",
              "      <td>3</td>\n",
              "      <td>0</td>\n",
              "      <td>1</td>\n",
              "      <td>0</td>\n",
              "      <td>0</td>\n",
              "      <td>0</td>\n",
              "      <td>1</td>\n",
              "      <td>0</td>\n",
              "    </tr>\n",
              "    <tr>\n",
              "      <th>2</th>\n",
              "      <td>1</td>\n",
              "      <td>1.229108</td>\n",
              "      <td>0.902035</td>\n",
              "      <td>0.437273</td>\n",
              "      <td>16.636703</td>\n",
              "      <td>1349</td>\n",
              "      <td>1</td>\n",
              "      <td>4</td>\n",
              "      <td>0</td>\n",
              "      <td>1</td>\n",
              "      <td>0</td>\n",
              "      <td>0</td>\n",
              "      <td>1</td>\n",
              "      <td>0</td>\n",
              "      <td>0</td>\n",
              "    </tr>\n",
              "    <tr>\n",
              "      <th>3</th>\n",
              "      <td>1</td>\n",
              "      <td>1.400000</td>\n",
              "      <td>1.969734</td>\n",
              "      <td>0.590435</td>\n",
              "      <td>10.739832</td>\n",
              "      <td>1562</td>\n",
              "      <td>1</td>\n",
              "      <td>5</td>\n",
              "      <td>0</td>\n",
              "      <td>1</td>\n",
              "      <td>0</td>\n",
              "      <td>0</td>\n",
              "      <td>1</td>\n",
              "      <td>0</td>\n",
              "      <td>0</td>\n",
              "    </tr>\n",
              "    <tr>\n",
              "      <th>4</th>\n",
              "      <td>1</td>\n",
              "      <td>2.666979</td>\n",
              "      <td>2.775690</td>\n",
              "      <td>0.436957</td>\n",
              "      <td>12.522300</td>\n",
              "      <td>1600</td>\n",
              "      <td>1</td>\n",
              "      <td>6</td>\n",
              "      <td>0</td>\n",
              "      <td>1</td>\n",
              "      <td>0</td>\n",
              "      <td>0</td>\n",
              "      <td>1</td>\n",
              "      <td>0</td>\n",
              "      <td>0</td>\n",
              "    </tr>\n",
              "  </tbody>\n",
              "</table>\n",
              "</div>\n",
              "      <button class=\"colab-df-convert\" onclick=\"convertToInteractive('df-aa3d2537-4a8a-45f1-b29f-bc16239b318a')\"\n",
              "              title=\"Convert this dataframe to an interactive table.\"\n",
              "              style=\"display:none;\">\n",
              "        \n",
              "  <svg xmlns=\"http://www.w3.org/2000/svg\" height=\"24px\"viewBox=\"0 0 24 24\"\n",
              "       width=\"24px\">\n",
              "    <path d=\"M0 0h24v24H0V0z\" fill=\"none\"/>\n",
              "    <path d=\"M18.56 5.44l.94 2.06.94-2.06 2.06-.94-2.06-.94-.94-2.06-.94 2.06-2.06.94zm-11 1L8.5 8.5l.94-2.06 2.06-.94-2.06-.94L8.5 2.5l-.94 2.06-2.06.94zm10 10l.94 2.06.94-2.06 2.06-.94-2.06-.94-.94-2.06-.94 2.06-2.06.94z\"/><path d=\"M17.41 7.96l-1.37-1.37c-.4-.4-.92-.59-1.43-.59-.52 0-1.04.2-1.43.59L10.3 9.45l-7.72 7.72c-.78.78-.78 2.05 0 2.83L4 21.41c.39.39.9.59 1.41.59.51 0 1.02-.2 1.41-.59l7.78-7.78 2.81-2.81c.8-.78.8-2.07 0-2.86zM5.41 20L4 18.59l7.72-7.72 1.47 1.35L5.41 20z\"/>\n",
              "  </svg>\n",
              "      </button>\n",
              "      \n",
              "  <style>\n",
              "    .colab-df-container {\n",
              "      display:flex;\n",
              "      flex-wrap:wrap;\n",
              "      gap: 12px;\n",
              "    }\n",
              "\n",
              "    .colab-df-convert {\n",
              "      background-color: #E8F0FE;\n",
              "      border: none;\n",
              "      border-radius: 50%;\n",
              "      cursor: pointer;\n",
              "      display: none;\n",
              "      fill: #1967D2;\n",
              "      height: 32px;\n",
              "      padding: 0 0 0 0;\n",
              "      width: 32px;\n",
              "    }\n",
              "\n",
              "    .colab-df-convert:hover {\n",
              "      background-color: #E2EBFA;\n",
              "      box-shadow: 0px 1px 2px rgba(60, 64, 67, 0.3), 0px 1px 3px 1px rgba(60, 64, 67, 0.15);\n",
              "      fill: #174EA6;\n",
              "    }\n",
              "\n",
              "    [theme=dark] .colab-df-convert {\n",
              "      background-color: #3B4455;\n",
              "      fill: #D2E3FC;\n",
              "    }\n",
              "\n",
              "    [theme=dark] .colab-df-convert:hover {\n",
              "      background-color: #434B5C;\n",
              "      box-shadow: 0px 1px 3px 1px rgba(0, 0, 0, 0.15);\n",
              "      filter: drop-shadow(0px 1px 2px rgba(0, 0, 0, 0.3));\n",
              "      fill: #FFFFFF;\n",
              "    }\n",
              "  </style>\n",
              "\n",
              "      <script>\n",
              "        const buttonEl =\n",
              "          document.querySelector('#df-aa3d2537-4a8a-45f1-b29f-bc16239b318a button.colab-df-convert');\n",
              "        buttonEl.style.display =\n",
              "          google.colab.kernel.accessAllowed ? 'block' : 'none';\n",
              "\n",
              "        async function convertToInteractive(key) {\n",
              "          const element = document.querySelector('#df-aa3d2537-4a8a-45f1-b29f-bc16239b318a');\n",
              "          const dataTable =\n",
              "            await google.colab.kernel.invokeFunction('convertToInteractive',\n",
              "                                                     [key], {});\n",
              "          if (!dataTable) return;\n",
              "\n",
              "          const docLinkHtml = 'Like what you see? Visit the ' +\n",
              "            '<a target=\"_blank\" href=https://colab.research.google.com/notebooks/data_table.ipynb>data table notebook</a>'\n",
              "            + ' to learn more about interactive tables.';\n",
              "          element.innerHTML = '';\n",
              "          dataTable['output_type'] = 'display_data';\n",
              "          await google.colab.output.renderOutput(dataTable, element);\n",
              "          const docLink = document.createElement('div');\n",
              "          docLink.innerHTML = docLinkHtml;\n",
              "          element.appendChild(docLink);\n",
              "        }\n",
              "      </script>\n",
              "    </div>\n",
              "  </div>\n",
              "  "
            ]
          },
          "metadata": {},
          "execution_count": 649
        }
      ]
    },
    {
      "cell_type": "markdown",
      "source": [
        "Despues de tener todas las variables representadas cuantitativamente se prosigue a definir las variables para el modelo X y Y."
      ],
      "metadata": {
        "id": "uv6wWtDDI9W8"
      }
    },
    {
      "cell_type": "code",
      "source": [
        "df_ciudad_reg.shape"
      ],
      "metadata": {
        "colab": {
          "base_uri": "https://localhost:8080/"
        },
        "id": "ZNakwexlHdYI",
        "outputId": "1fe17b75-1aed-4757-b778-e839ab74f847"
      },
      "execution_count": 650,
      "outputs": [
        {
          "output_type": "execute_result",
          "data": {
            "text/plain": [
              "(730, 15)"
            ]
          },
          "metadata": {},
          "execution_count": 650
        }
      ]
    },
    {
      "cell_type": "code",
      "source": [
        "from sklearn.linear_model import LinearRegression, Ridge, Lasso\n",
        "from sklearn.compose import make_column_transformer\n",
        "from sklearn.model_selection import train_test_split\n",
        "from sklearn.preprocessing import StandardScaler, PolynomialFeatures, OneHotEncoder\n",
        "from sklearn.metrics import mean_squared_error, mean_absolute_error"
      ],
      "metadata": {
        "id": "h9R1uECuIeB5"
      },
      "execution_count": 651,
      "outputs": []
    },
    {
      "cell_type": "code",
      "source": [
        "X = df_ciudad_reg.drop('cnt',axis=1)\n",
        "Y = df_ciudad_reg['cnt']"
      ],
      "metadata": {
        "id": "8_k4Zi7GIfZP"
      },
      "execution_count": 652,
      "outputs": []
    },
    {
      "cell_type": "code",
      "source": [
        "X.columns"
      ],
      "metadata": {
        "colab": {
          "base_uri": "https://localhost:8080/"
        },
        "id": "lxkgLEuPIp0n",
        "outputId": "43b50de1-3a2c-42d6-aeda-0d92c06504ed"
      },
      "execution_count": 653,
      "outputs": [
        {
          "output_type": "execute_result",
          "data": {
            "text/plain": [
              "Index(['Holiday', 'Temp', 'Feel_Temp', 'Hum', 'Wind', 'Month', 'Day_week',\n",
              "       'Fall', 'Spring', 'Summer', 'Winter', 'Cloudy', 'Mist',\n",
              "       'Precipitation'],\n",
              "      dtype='object')"
            ]
          },
          "metadata": {},
          "execution_count": 653
        }
      ]
    },
    {
      "cell_type": "markdown",
      "source": [
        "Despues se definen los datos de entrenamiento y prueba."
      ],
      "metadata": {
        "id": "cZLg13VBJXrn"
      }
    },
    {
      "cell_type": "code",
      "source": [
        "X_train, X_test, Y_train, Y_test = train_test_split(X,Y, test_size=0.2, random_state=1)"
      ],
      "metadata": {
        "id": "KPlHiKdqIrHe"
      },
      "execution_count": 654,
      "outputs": []
    },
    {
      "cell_type": "markdown",
      "source": [
        "Por último, se normalizan los datos de X."
      ],
      "metadata": {
        "id": "RdxHbFoxJhSJ"
      }
    },
    {
      "cell_type": "code",
      "source": [
        "scaler = StandardScaler()\n",
        "X_train_scaled = scaler.fit_transform(X_train)\n",
        "X_test_scaled = scaler.transform(X_test)"
      ],
      "metadata": {
        "id": "co17_DyBJXDB"
      },
      "execution_count": 655,
      "outputs": []
    },
    {
      "cell_type": "markdown",
      "source": [
        "Se realizan 6 modelos:\n",
        "1. Regresión lineal normal.\n",
        "2. Regresión lineal normal con transformación polinomial grado 2.\n",
        "3. Regresión lineal normal con transformación polinomial grado 3.\n",
        "4. Regresión lineal normal con transformación polinomial grado 2 con regularización Ridge variando alpha.\n",
        "5. Regresión lineal normal con transformación polinomial grado 3 regularización Ridge variando alpha."
      ],
      "metadata": {
        "id": "jbF-_pegI8EG"
      }
    },
    {
      "cell_type": "code",
      "source": [
        "lin_reg = LinearRegression()\n",
        "model_reg = lin_reg.fit(X_train_scaled,Y_train)\n",
        "\n",
        "print('intercept: {}'.format(model_reg.intercept_))\n",
        "\n",
        "print('coefficients: {}'.format(model_reg.coef_))"
      ],
      "metadata": {
        "colab": {
          "base_uri": "https://localhost:8080/"
        },
        "id": "9bM6fvF4UlXH",
        "outputId": "4de5e2cc-b4bf-4e38-bfc6-015b03973ed8"
      },
      "execution_count": 690,
      "outputs": [
        {
          "output_type": "stream",
          "name": "stdout",
          "text": [
            "intercept: 4547.921232876713\n",
            "coefficients: [ 106.8563901  1099.29712852  -64.04094499 -370.83358916 -246.19685872\n",
            "   10.80568083  -36.02048493  -82.02285162 -321.87361231  117.7776891\n",
            "  279.84249481   86.65173659   23.6624917  -313.2078967 ]\n"
          ]
        }
      ]
    },
    {
      "cell_type": "markdown",
      "source": [
        "De esto conocemos que las variables que más afectan a la cantidad total de bicicletas rentadas son:\n",
        "1. La temperatura del día (directamente)\n",
        "2. La Humedad del día (inversamente)\n",
        "3. Si es Primavera (inversamente)"
      ],
      "metadata": {
        "id": "pAxoGtw4hyAz"
      }
    },
    {
      "cell_type": "code",
      "source": [
        "preds_train = model_reg.predict(X_train_scaled)\n",
        "preds_test = model_reg.predict(X_test_scaled)"
      ],
      "metadata": {
        "id": "z9HJgiJSWwko"
      },
      "execution_count": 691,
      "outputs": []
    },
    {
      "cell_type": "code",
      "source": [
        "print('Regresión Lineal normal')\n",
        "print('MAE train:',mean_absolute_error(Y_train, preds_train), 'MAE test:',mean_absolute_error(Y_test, preds_test))\n",
        "print('RSEM train:',np.sqrt(mean_squared_error(Y_train, preds_train)), 'RSEM test:', np.sqrt(mean_squared_error(Y_test, preds_test)))"
      ],
      "metadata": {
        "colab": {
          "base_uri": "https://localhost:8080/"
        },
        "id": "OZqtFIeVWw8x",
        "outputId": "df50449b-ecf2-49e1-f25e-2b6a592986ac"
      },
      "execution_count": 692,
      "outputs": [
        {
          "output_type": "stream",
          "name": "stdout",
          "text": [
            "Regresión Lineal normal\n",
            "MAE train: 1108.601812465836 MAE test: 1094.1932374649602\n",
            "RSEM train: 1304.3809506481457 RSEM test: 1236.8567058965466\n"
          ]
        }
      ]
    },
    {
      "cell_type": "markdown",
      "source": [
        "De los resultados de error entre los sets de entrenamiento y prueba, se obtienen mejores valores de error para el set de prueba por lo que se descarta el overfitting. Por otro lado, los errores son muy altos,  no se puede concluir si hay underfitting porque la descripción de la variable tambien presenta una variación mayor a 1500."
      ],
      "metadata": {
        "id": "eFjRfkTujIhg"
      }
    },
    {
      "cell_type": "markdown",
      "source": [
        "Se prosigue con los demás modelos."
      ],
      "metadata": {
        "id": "F76UrRURk02D"
      }
    },
    {
      "cell_type": "code",
      "source": [
        "poly_features_2 = PolynomialFeatures(degree=2, include_bias=False)\n",
        "poly_features_3 = PolynomialFeatures(degree=3, include_bias=False)\n",
        "\n",
        "X_poly_2_train = poly_features_2.fit_transform(X_train_scaled)\n",
        "X_poly_3_train = poly_features_3.fit_transform(X_train_scaled)\n",
        "\n",
        "X_poly_2_test = poly_features_2.fit_transform(X_test_scaled)\n",
        "X_poly_3_test = poly_features_3.fit_transform(X_test_scaled)"
      ],
      "metadata": {
        "id": "ntEQcCD0k2p5"
      },
      "execution_count": 659,
      "outputs": []
    },
    {
      "cell_type": "code",
      "source": [
        "# Regresión Lineal Poly 2\n",
        "lin_reg = LinearRegression()\n",
        "model = lin_reg.fit(X_poly_2_train,Y_train)\n",
        "\n",
        "preds_train_r_2 = model.predict(X_poly_2_train)\n",
        "preds_test_r_2 = model.predict(X_poly_2_test)\n",
        "\n",
        "print('Regresión Lineal normal para una transformación polinómica grado 2')\n",
        "print('MAE train:',mean_absolute_error(Y_train, preds_train_r_2), 'MAE test:',mean_absolute_error(Y_test, preds_test_r_2))\n",
        "print('RSEM train:',np.sqrt(mean_squared_error(Y_train, preds_train_r_2)), 'RSEM test:', np.sqrt(mean_squared_error(Y_test, preds_test_r_2)))"
      ],
      "metadata": {
        "colab": {
          "base_uri": "https://localhost:8080/"
        },
        "id": "2XxuBOOLkzb-",
        "outputId": "47e9fd78-d527-43d6-cc1f-a28aea89a7d7"
      },
      "execution_count": 668,
      "outputs": [
        {
          "output_type": "stream",
          "name": "stdout",
          "text": [
            "Regresión Lineal normal para una transformación polinómica grado 2\n",
            "MAE train: 929.576198630137 MAE test: 1135.8321917808219\n",
            "RSEM train: 1082.7913348906998 RSEM test: 1292.7891829588236\n"
          ]
        }
      ]
    },
    {
      "cell_type": "code",
      "source": [
        "# Regresión Lineal Poly 3\n",
        "lin_reg = LinearRegression()\n",
        "model = lin_reg.fit(X_poly_3_train,Y_train)\n",
        "\n",
        "preds_train_r_3 = model.predict(X_poly_3_train)\n",
        "preds_test_r_3 = model.predict(X_poly_3_test)\n",
        "\n",
        "print('Regresión Lineal normal para una transformación polinómica grado 3')\n",
        "print('MAE train:',mean_absolute_error(Y_train, preds_train_r_3), 'MAE test:',mean_absolute_error(Y_test, preds_test_r_3))\n",
        "print('RSEM train:',np.sqrt(mean_squared_error(Y_train, preds_train_r_3)), 'RSEM test:', np.sqrt(mean_squared_error(Y_test, preds_test_r_3)))"
      ],
      "metadata": {
        "colab": {
          "base_uri": "https://localhost:8080/"
        },
        "id": "bc7QVMGllWjl",
        "outputId": "56b72cfe-46af-438f-b07c-ac0a88dd0e5d"
      },
      "execution_count": 669,
      "outputs": [
        {
          "output_type": "stream",
          "name": "stdout",
          "text": [
            "Regresión Lineal normal para una transformación polinómica grado 3\n",
            "MAE train: 697.601535744863 MAE test: 108843977693999.56\n",
            "RSEM train: 869.294265256451 RSEM test: 727981872822601.8\n"
          ]
        }
      ]
    },
    {
      "cell_type": "code",
      "source": [
        "alphas = [93,94,95,96,97]\n",
        "\n",
        "# Poly 2\n",
        "for alpha in alphas:\n",
        "    print('Ridge para un alpha = {}'.format(alpha))\n",
        "    ridge_reg = Ridge(alpha=alpha, solver='cholesky')\n",
        "    ridge_reg.fit(X_poly_2_train,Y_train)\n",
        "\n",
        "    preds_train = ridge_reg.predict(X_poly_2_train)\n",
        "    preds_test = ridge_reg.predict(X_poly_2_test)\n",
        "\n",
        "    print('MAE train = {}'.format(mean_absolute_error(Y_train, preds_train)))\n",
        "    print('MAE test = {}'.format(mean_absolute_error(Y_test, preds_test)))\n",
        "    print('RMSE train = {}'.format(np.sqrt(mean_squared_error(Y_train, preds_train))))\n",
        "    print('RMSE test = {}'.format(np.sqrt(mean_squared_error(Y_test, preds_test))))\n",
        "    print('\\n')"
      ],
      "metadata": {
        "colab": {
          "base_uri": "https://localhost:8080/"
        },
        "id": "ZTsxud8Nk9TS",
        "outputId": "33e229e9-d89f-4b55-976e-c6288f1a00e0"
      },
      "execution_count": 678,
      "outputs": [
        {
          "output_type": "stream",
          "name": "stdout",
          "text": [
            "Ridge para un alpha = 93\n",
            "MAE train = 984.0381571216321\n",
            "MAE test = 1106.4418767850175\n",
            "RMSE train = 1128.8035549059693\n",
            "RMSE test = 1242.25010801899\n",
            "\n",
            "\n",
            "Ridge para un alpha = 94\n",
            "MAE train = 984.2614191648142\n",
            "MAE test = 1106.5456069936617\n",
            "RMSE train = 1129.0274523916146\n",
            "RMSE test = 1242.2474385084552\n",
            "\n",
            "\n",
            "Ridge para un alpha = 95\n",
            "MAE train = 984.4827733198649\n",
            "MAE test = 1106.6486182967901\n",
            "RMSE train = 1129.2508240109607\n",
            "RMSE test = 1242.246703190835\n",
            "\n",
            "\n",
            "Ridge para un alpha = 96\n",
            "MAE train = 984.7022519207602\n",
            "MAE test = 1106.7509210346677\n",
            "RMSE train = 1129.473675331563\n",
            "RMSE test = 1242.2478638918676\n",
            "\n",
            "\n",
            "Ridge para un alpha = 97\n",
            "MAE train = 984.9198864410213\n",
            "MAE test = 1106.8525253379844\n",
            "RMSE train = 1129.6960117405247\n",
            "RMSE test = 1242.2508834590817\n",
            "\n",
            "\n"
          ]
        }
      ]
    },
    {
      "cell_type": "code",
      "source": [
        "alphas = [159,160,161,162,163]\n",
        "\n",
        "# Poly 3\n",
        "for alpha in alphas:\n",
        "    print('Ridge para un alpha = {}'.format(alpha))\n",
        "    ridge_reg = Ridge(alpha=alpha, solver='cholesky')\n",
        "    ridge_reg.fit(X_poly_3_train,Y_train)\n",
        "\n",
        "    preds_train = ridge_reg.predict(X_poly_3_train)\n",
        "    preds_test = ridge_reg.predict(X_poly_3_test)\n",
        "\n",
        "    print('MAE train = {}'.format(mean_absolute_error(Y_train, preds_train)))\n",
        "    print('MAE test = {}'.format(mean_absolute_error(Y_test, preds_test)))\n",
        "    print('RMSE train = {}'.format(np.sqrt(mean_squared_error(Y_train, preds_train))))\n",
        "    print('RMSE test = {}'.format(np.sqrt(mean_squared_error(Y_test, preds_test))))\n",
        "    print('\\n')"
      ],
      "metadata": {
        "colab": {
          "base_uri": "https://localhost:8080/"
        },
        "id": "apM6VdY5k-JH",
        "outputId": "b7f8c319-e6e2-4e14-cd62-950816b9a9bb"
      },
      "execution_count": 686,
      "outputs": [
        {
          "output_type": "stream",
          "name": "stdout",
          "text": [
            "Ridge para un alpha = 159\n",
            "MAE train = 862.8698619259246\n",
            "MAE test = 1035.5942115737275\n",
            "RMSE train = 1011.0472698552167\n",
            "RMSE test = 1177.249053210452\n",
            "\n",
            "\n",
            "Ridge para un alpha = 160\n",
            "MAE train = 863.1076185379671\n",
            "MAE test = 1035.6238230830977\n",
            "RMSE train = 1011.2600021049584\n",
            "RMSE test = 1177.2480920759933\n",
            "\n",
            "\n",
            "Ridge para un alpha = 161\n",
            "MAE train = 863.3439582662602\n",
            "MAE test = 1035.6532766831303\n",
            "RMSE train = 1011.4718832662605\n",
            "RMSE test = 1177.2481646781434\n",
            "\n",
            "\n",
            "Ridge para un alpha = 162\n",
            "MAE train = 863.5788971008026\n",
            "MAE test = 1035.6825760647878\n",
            "RMSE train = 1011.6829214203034\n",
            "RMSE test = 1177.249250280238\n",
            "\n",
            "\n",
            "Ridge para un alpha = 163\n",
            "MAE train = 863.8127070456441\n",
            "MAE test = 1035.7117248053617\n",
            "RMSE train = 1011.8931245251038\n",
            "RMSE test = 1177.2513286113342\n",
            "\n",
            "\n"
          ]
        }
      ]
    },
    {
      "cell_type": "markdown",
      "source": [
        "## Evalucación de modelos"
      ],
      "metadata": {
        "id": "ZoLjMV2pCgZW"
      }
    },
    {
      "cell_type": "markdown",
      "source": [
        "El mejor modelo encontrado fue para una transformación polinómica de grado 3 con regularización Ridge con alpha igual a 160. Para comparar los modelos se utilizó los valores de RSME para el set de prueba."
      ],
      "metadata": {
        "id": "w6QLjNO6rZQ2"
      }
    },
    {
      "cell_type": "markdown",
      "source": [
        "## Interpretación"
      ],
      "metadata": {
        "id": "XhhGp2tkCjOP"
      }
    },
    {
      "cell_type": "markdown",
      "source": [
        "El día de la presentación de resultados, una persona de la alcaldía le hace las siguientes\n",
        "preguntas:\n",
        "* ¿Cuáles son las 3 variables más importantes para la predicción de la cantidad de\n",
        "usuarios?\n",
        "\n",
        "* Describa cual es el escenario ideal para el incremento de usuarios.\n",
        "\n",
        "* ¿Qué pasos adicionales deberían tener en cuenta para una próxima\n",
        "iteración/mejora del modelo?\n"
      ],
      "metadata": {
        "id": "B-YKLh1gtZZ7"
      }
    },
    {
      "cell_type": "code",
      "source": [
        "coeficientes = pd.DataFrame()\n",
        "coeficientes['features'] = X.columns\n",
        "coeficientes['coeficiente'] = model_reg.coef_\n",
        "coeficientes.sort_values('coeficiente')"
      ],
      "metadata": {
        "colab": {
          "base_uri": "https://localhost:8080/",
          "height": 488
        },
        "id": "6J2iKb77uzeJ",
        "outputId": "f7817139-5713-4e26-c71a-49ef8c20c91b"
      },
      "execution_count": 695,
      "outputs": [
        {
          "output_type": "execute_result",
          "data": {
            "text/plain": [
              "         features  coeficiente\n",
              "3             Hum  -370.833589\n",
              "8          Spring  -321.873612\n",
              "13  Precipitation  -313.207897\n",
              "4            Wind  -246.196859\n",
              "7            Fall   -82.022852\n",
              "2       Feel_Temp   -64.040945\n",
              "6        Day_week   -36.020485\n",
              "5           Month    10.805681\n",
              "12           Mist    23.662492\n",
              "11         Cloudy    86.651737\n",
              "0         Holiday   106.856390\n",
              "9          Summer   117.777689\n",
              "10         Winter   279.842495\n",
              "1            Temp  1099.297129"
            ],
            "text/html": [
              "\n",
              "  <div id=\"df-80e46fc2-a319-48d0-b217-e9ac283d7aea\">\n",
              "    <div class=\"colab-df-container\">\n",
              "      <div>\n",
              "<style scoped>\n",
              "    .dataframe tbody tr th:only-of-type {\n",
              "        vertical-align: middle;\n",
              "    }\n",
              "\n",
              "    .dataframe tbody tr th {\n",
              "        vertical-align: top;\n",
              "    }\n",
              "\n",
              "    .dataframe thead th {\n",
              "        text-align: right;\n",
              "    }\n",
              "</style>\n",
              "<table border=\"1\" class=\"dataframe\">\n",
              "  <thead>\n",
              "    <tr style=\"text-align: right;\">\n",
              "      <th></th>\n",
              "      <th>features</th>\n",
              "      <th>coeficiente</th>\n",
              "    </tr>\n",
              "  </thead>\n",
              "  <tbody>\n",
              "    <tr>\n",
              "      <th>3</th>\n",
              "      <td>Hum</td>\n",
              "      <td>-370.833589</td>\n",
              "    </tr>\n",
              "    <tr>\n",
              "      <th>8</th>\n",
              "      <td>Spring</td>\n",
              "      <td>-321.873612</td>\n",
              "    </tr>\n",
              "    <tr>\n",
              "      <th>13</th>\n",
              "      <td>Precipitation</td>\n",
              "      <td>-313.207897</td>\n",
              "    </tr>\n",
              "    <tr>\n",
              "      <th>4</th>\n",
              "      <td>Wind</td>\n",
              "      <td>-246.196859</td>\n",
              "    </tr>\n",
              "    <tr>\n",
              "      <th>7</th>\n",
              "      <td>Fall</td>\n",
              "      <td>-82.022852</td>\n",
              "    </tr>\n",
              "    <tr>\n",
              "      <th>2</th>\n",
              "      <td>Feel_Temp</td>\n",
              "      <td>-64.040945</td>\n",
              "    </tr>\n",
              "    <tr>\n",
              "      <th>6</th>\n",
              "      <td>Day_week</td>\n",
              "      <td>-36.020485</td>\n",
              "    </tr>\n",
              "    <tr>\n",
              "      <th>5</th>\n",
              "      <td>Month</td>\n",
              "      <td>10.805681</td>\n",
              "    </tr>\n",
              "    <tr>\n",
              "      <th>12</th>\n",
              "      <td>Mist</td>\n",
              "      <td>23.662492</td>\n",
              "    </tr>\n",
              "    <tr>\n",
              "      <th>11</th>\n",
              "      <td>Cloudy</td>\n",
              "      <td>86.651737</td>\n",
              "    </tr>\n",
              "    <tr>\n",
              "      <th>0</th>\n",
              "      <td>Holiday</td>\n",
              "      <td>106.856390</td>\n",
              "    </tr>\n",
              "    <tr>\n",
              "      <th>9</th>\n",
              "      <td>Summer</td>\n",
              "      <td>117.777689</td>\n",
              "    </tr>\n",
              "    <tr>\n",
              "      <th>10</th>\n",
              "      <td>Winter</td>\n",
              "      <td>279.842495</td>\n",
              "    </tr>\n",
              "    <tr>\n",
              "      <th>1</th>\n",
              "      <td>Temp</td>\n",
              "      <td>1099.297129</td>\n",
              "    </tr>\n",
              "  </tbody>\n",
              "</table>\n",
              "</div>\n",
              "      <button class=\"colab-df-convert\" onclick=\"convertToInteractive('df-80e46fc2-a319-48d0-b217-e9ac283d7aea')\"\n",
              "              title=\"Convert this dataframe to an interactive table.\"\n",
              "              style=\"display:none;\">\n",
              "        \n",
              "  <svg xmlns=\"http://www.w3.org/2000/svg\" height=\"24px\"viewBox=\"0 0 24 24\"\n",
              "       width=\"24px\">\n",
              "    <path d=\"M0 0h24v24H0V0z\" fill=\"none\"/>\n",
              "    <path d=\"M18.56 5.44l.94 2.06.94-2.06 2.06-.94-2.06-.94-.94-2.06-.94 2.06-2.06.94zm-11 1L8.5 8.5l.94-2.06 2.06-.94-2.06-.94L8.5 2.5l-.94 2.06-2.06.94zm10 10l.94 2.06.94-2.06 2.06-.94-2.06-.94-.94-2.06-.94 2.06-2.06.94z\"/><path d=\"M17.41 7.96l-1.37-1.37c-.4-.4-.92-.59-1.43-.59-.52 0-1.04.2-1.43.59L10.3 9.45l-7.72 7.72c-.78.78-.78 2.05 0 2.83L4 21.41c.39.39.9.59 1.41.59.51 0 1.02-.2 1.41-.59l7.78-7.78 2.81-2.81c.8-.78.8-2.07 0-2.86zM5.41 20L4 18.59l7.72-7.72 1.47 1.35L5.41 20z\"/>\n",
              "  </svg>\n",
              "      </button>\n",
              "      \n",
              "  <style>\n",
              "    .colab-df-container {\n",
              "      display:flex;\n",
              "      flex-wrap:wrap;\n",
              "      gap: 12px;\n",
              "    }\n",
              "\n",
              "    .colab-df-convert {\n",
              "      background-color: #E8F0FE;\n",
              "      border: none;\n",
              "      border-radius: 50%;\n",
              "      cursor: pointer;\n",
              "      display: none;\n",
              "      fill: #1967D2;\n",
              "      height: 32px;\n",
              "      padding: 0 0 0 0;\n",
              "      width: 32px;\n",
              "    }\n",
              "\n",
              "    .colab-df-convert:hover {\n",
              "      background-color: #E2EBFA;\n",
              "      box-shadow: 0px 1px 2px rgba(60, 64, 67, 0.3), 0px 1px 3px 1px rgba(60, 64, 67, 0.15);\n",
              "      fill: #174EA6;\n",
              "    }\n",
              "\n",
              "    [theme=dark] .colab-df-convert {\n",
              "      background-color: #3B4455;\n",
              "      fill: #D2E3FC;\n",
              "    }\n",
              "\n",
              "    [theme=dark] .colab-df-convert:hover {\n",
              "      background-color: #434B5C;\n",
              "      box-shadow: 0px 1px 3px 1px rgba(0, 0, 0, 0.15);\n",
              "      filter: drop-shadow(0px 1px 2px rgba(0, 0, 0, 0.3));\n",
              "      fill: #FFFFFF;\n",
              "    }\n",
              "  </style>\n",
              "\n",
              "      <script>\n",
              "        const buttonEl =\n",
              "          document.querySelector('#df-80e46fc2-a319-48d0-b217-e9ac283d7aea button.colab-df-convert');\n",
              "        buttonEl.style.display =\n",
              "          google.colab.kernel.accessAllowed ? 'block' : 'none';\n",
              "\n",
              "        async function convertToInteractive(key) {\n",
              "          const element = document.querySelector('#df-80e46fc2-a319-48d0-b217-e9ac283d7aea');\n",
              "          const dataTable =\n",
              "            await google.colab.kernel.invokeFunction('convertToInteractive',\n",
              "                                                     [key], {});\n",
              "          if (!dataTable) return;\n",
              "\n",
              "          const docLinkHtml = 'Like what you see? Visit the ' +\n",
              "            '<a target=\"_blank\" href=https://colab.research.google.com/notebooks/data_table.ipynb>data table notebook</a>'\n",
              "            + ' to learn more about interactive tables.';\n",
              "          element.innerHTML = '';\n",
              "          dataTable['output_type'] = 'display_data';\n",
              "          await google.colab.output.renderOutput(dataTable, element);\n",
              "          const docLink = document.createElement('div');\n",
              "          docLink.innerHTML = docLinkHtml;\n",
              "          element.appendChild(docLink);\n",
              "        }\n",
              "      </script>\n",
              "    </div>\n",
              "  </div>\n",
              "  "
            ]
          },
          "metadata": {},
          "execution_count": 695
        }
      ]
    },
    {
      "cell_type": "markdown",
      "source": [
        "De acuerdo a los coeficientes de cada variable, las más importantes son:\n",
        "\n",
        "1. La temperatura con un peso de $1099.297$ y la relación es directa, ambas crecen.\n",
        "\n",
        "2. La humedad con un peso de $-370.834$ y la relación es inversa. Si la humedad aumenta, el número total de bicicletas rentadas es menor.\n",
        "\n",
        "3. Si la estación es primavera con un peso de $-321.874$ y la relación es inversa. Si es primavera, el número total de bicicletas rentadas es menor."
      ],
      "metadata": {
        "id": "1noQxmfDwlL9"
      }
    },
    {
      "cell_type": "markdown",
      "source": [
        "El escenario ideal para incrementar el número de usuarios seria tener un día con alta temperatura, baja humedad, que no sea primavera (preferiblemente Invierno) y que el clima no sea de precipitación."
      ],
      "metadata": {
        "id": "4kZdFGrc0WB5"
      }
    },
    {
      "cell_type": "markdown",
      "source": [
        "Para una próxima iteración podría ser bueno agregar variables como la zona en donde se hace el alquiler de la bicicleta para disponer más bicicletas para las zonas que más usuarios tienen y tener un número mayor de bicicletas al mismo tiempo. Por otra parte, también se podría implementar una variable de hora en el que se hizo el alquiler de la bicicleta para encontrar los horarios en los que se movilizan mas usuarios. Finalmente, para mejorar el modelo se puede escoger por uno no lineal como una red neuronal, o si se sigue con un modelo de regresión lineal, probar otros métodos de regularización y mas transformaciones."
      ],
      "metadata": {
        "id": "99yBLyWd2aXp"
      }
    }
  ]
}