{
  "nbformat": 4,
  "nbformat_minor": 0,
  "metadata": {
    "colab": {
      "provenance": [],
      "collapsed_sections": [
        "H20JgVWe4_B8",
        "iS1IXwCO5AsL",
        "F3oomrR95F4b",
        "fPfoo5FiCf-p",
        "MqSaJ8oK5UfF",
        "C6z8GOb_5YCH",
        "8ZBUnCyCCqmT",
        "ndB-eiNoByw1",
        "docCFC_mB9E5",
        "TPGdYRa2Yre4",
        "Mh4B2JAFCAYL",
        "KqKsHCreEbjk",
        "q2y9r5REKVmX",
        "cnUIUUmj6l9V",
        "lWBz9HuM6ovi",
        "Z4HjY58h6qdC",
        "prPY5cX76sEb",
        "cd-AGQmw6uf1",
        "hyaUDgnx6wZf",
        "jhHM-ECK6yQV",
        "qQUY__1p6z3U",
        "0lIj99uU61Tb",
        "l6jx0ksK7WIB",
        "ocGhkQkV9ms8",
        "3UAbzA8S9s3p",
        "wYTRd76P9xUf",
        "tNFUYPxQ913F",
        "uYBOIyk4-Fso"
      ]
    },
    "kernelspec": {
      "name": "python3",
      "display_name": "Python 3"
    },
    "language_info": {
      "name": "python"
    }
  },
  "cells": [
    {
      "cell_type": "markdown",
      "source": [
        "# Taller 1 - ciencia de Datos Aplicada\n",
        "\n",
        "Juan Felipe Palacios - 201616389"
      ],
      "metadata": {
        "id": "_3Isyqpu40_6"
      }
    },
    {
      "cell_type": "markdown",
      "source": [
        "## Librerias"
      ],
      "metadata": {
        "id": "H20JgVWe4_B8"
      }
    },
    {
      "cell_type": "code",
      "execution_count": 621,
      "metadata": {
        "id": "Y2ug0DpG1LOC"
      },
      "outputs": [],
      "source": [
        "import pandas as pd\n",
        "import numpy as np\n",
        "import matplotlib.pyplot as plt\n",
        "import seaborn as sns\n",
        "from datetime import datetime \n",
        "import urllib"
      ]
    },
    {
      "cell_type": "markdown",
      "source": [
        "## Punto 1\n",
        "Describa el conjunto de datos, tipos de variables y destaque cualquier problema de calidad de datos y procesos de limpieza que deba implementar.\n",
        "\n"
      ],
      "metadata": {
        "id": "iS1IXwCO5AsL"
      }
    },
    {
      "cell_type": "markdown",
      "source": [
        "### Lectura del archivo con los datos"
      ],
      "metadata": {
        "id": "F3oomrR95F4b"
      }
    },
    {
      "cell_type": "markdown",
      "source": [
        "#### Intetar leer el archivo"
      ],
      "metadata": {
        "id": "fPfoo5FiCf-p"
      }
    },
    {
      "cell_type": "code",
      "source": [
        "# Se leen los datos\n",
        "# df_spotify = pd.read_csv('https://raw.githubusercontent.com/jufepalacios/Ciencia_Datos_Aplicada/main/Taller_1/data/Data_Taller_1.csv')"
      ],
      "metadata": {
        "id": "XFDWO2zsFP_y"
      },
      "execution_count": 622,
      "outputs": []
    },
    {
      "cell_type": "markdown",
      "source": [
        "Para ignorar este error se usa \"error_bad_lines=False\" y para conocer el error -> \"warn_bad_lines=True\"\n"
      ],
      "metadata": {
        "id": "NMIDGWu2HB1Q"
      }
    },
    {
      "cell_type": "code",
      "source": [
        "# df_spotify = pd.read_csv('https://raw.githubusercontent.com/jufepalacios/Ciencia_Datos_Aplicada/main/Taller_1/data/Data_Taller_1.csv',error_bad_lines=False, warn_bad_lines=True)"
      ],
      "metadata": {
        "id": "B6ryCFEDFTkO"
      },
      "execution_count": 623,
      "outputs": []
    },
    {
      "cell_type": "markdown",
      "source": [
        "Para arreglar este error se utiliza el parámetro de *quoting=3* para que el reader no ponga comillas y agregamos más columnas. Por otra parte, se utiliza el parámetro *skipinitialspace* para quitar espacios entre comas."
      ],
      "metadata": {
        "id": "7hcpHZsbOQSu"
      }
    },
    {
      "cell_type": "code",
      "source": [
        "df_spotify = pd.read_csv('https://raw.githubusercontent.com/jufepalacios/Ciencia_Datos_Aplicada/main/Taller_1/data/Data_Taller_1.csv',names=range(23),quoting=3,skipinitialspace=True)\n",
        "df_spotify.head()"
      ],
      "metadata": {
        "colab": {
          "base_uri": "https://localhost:8080/",
          "height": 0
        },
        "id": "-HFDE7E1C8tu",
        "outputId": "8256eb3b-3083-4cef-f207-f8eaa916221a"
      },
      "execution_count": 624,
      "outputs": [
        {
          "output_type": "execute_result",
          "data": {
            "text/plain": [
              "               0                       1            2         3     4   \\\n",
              "0          artist                    song  duration_ms  explicit  year   \n",
              "1  Britney Spears  Oops!...I Did It Again       211160     False  2000   \n",
              "2      \"blink-182    All The Small Things       167066     False  1999   \n",
              "3     \"Faith Hill                 Breathe       250546     False  1999   \n",
              "4       \"Bon Jovi            It's My Life       224493     False  2000   \n",
              "\n",
              "           5             6       7    8         9   ...                13  \\\n",
              "0  popularity  danceability  energy  key  loudness  ...  instrumentalness   \n",
              "1          77         0.751   0.834    1    -5.444  ...          1.77e-05   \n",
              "2          79         0.434   0.897    0    -4.918  ...               0.0   \n",
              "3          66         0.529   0.496    7    -9.007  ...               0.0   \n",
              "4          78         0.551   0.913    0    -4.063  ...          1.35e-05   \n",
              "\n",
              "         14       15       16      17           18   19   20   21  22  \n",
              "0  liveness  valence    tempo  genre;          NaN  NaN  NaN  NaN NaN  \n",
              "1     0.355    0.894   95.053    pop;          NaN  NaN  NaN  NaN NaN  \n",
              "2     0.612    0.684  148.726  \"\"rock      pop\"\"\";  NaN  NaN  NaN NaN  \n",
              "3     0.251    0.278  136.859   \"\"pop  country\"\"\";  NaN  NaN  NaN NaN  \n",
              "4     0.347    0.544  119.992  \"\"rock    metal\"\"\";  NaN  NaN  NaN NaN  \n",
              "\n",
              "[5 rows x 23 columns]"
            ],
            "text/html": [
              "\n",
              "  <div id=\"df-4698f042-53e2-4d69-8f54-cce9200783d3\">\n",
              "    <div class=\"colab-df-container\">\n",
              "      <div>\n",
              "<style scoped>\n",
              "    .dataframe tbody tr th:only-of-type {\n",
              "        vertical-align: middle;\n",
              "    }\n",
              "\n",
              "    .dataframe tbody tr th {\n",
              "        vertical-align: top;\n",
              "    }\n",
              "\n",
              "    .dataframe thead th {\n",
              "        text-align: right;\n",
              "    }\n",
              "</style>\n",
              "<table border=\"1\" class=\"dataframe\">\n",
              "  <thead>\n",
              "    <tr style=\"text-align: right;\">\n",
              "      <th></th>\n",
              "      <th>0</th>\n",
              "      <th>1</th>\n",
              "      <th>2</th>\n",
              "      <th>3</th>\n",
              "      <th>4</th>\n",
              "      <th>5</th>\n",
              "      <th>6</th>\n",
              "      <th>7</th>\n",
              "      <th>8</th>\n",
              "      <th>9</th>\n",
              "      <th>...</th>\n",
              "      <th>13</th>\n",
              "      <th>14</th>\n",
              "      <th>15</th>\n",
              "      <th>16</th>\n",
              "      <th>17</th>\n",
              "      <th>18</th>\n",
              "      <th>19</th>\n",
              "      <th>20</th>\n",
              "      <th>21</th>\n",
              "      <th>22</th>\n",
              "    </tr>\n",
              "  </thead>\n",
              "  <tbody>\n",
              "    <tr>\n",
              "      <th>0</th>\n",
              "      <td>artist</td>\n",
              "      <td>song</td>\n",
              "      <td>duration_ms</td>\n",
              "      <td>explicit</td>\n",
              "      <td>year</td>\n",
              "      <td>popularity</td>\n",
              "      <td>danceability</td>\n",
              "      <td>energy</td>\n",
              "      <td>key</td>\n",
              "      <td>loudness</td>\n",
              "      <td>...</td>\n",
              "      <td>instrumentalness</td>\n",
              "      <td>liveness</td>\n",
              "      <td>valence</td>\n",
              "      <td>tempo</td>\n",
              "      <td>genre;</td>\n",
              "      <td>NaN</td>\n",
              "      <td>NaN</td>\n",
              "      <td>NaN</td>\n",
              "      <td>NaN</td>\n",
              "      <td>NaN</td>\n",
              "    </tr>\n",
              "    <tr>\n",
              "      <th>1</th>\n",
              "      <td>Britney Spears</td>\n",
              "      <td>Oops!...I Did It Again</td>\n",
              "      <td>211160</td>\n",
              "      <td>False</td>\n",
              "      <td>2000</td>\n",
              "      <td>77</td>\n",
              "      <td>0.751</td>\n",
              "      <td>0.834</td>\n",
              "      <td>1</td>\n",
              "      <td>-5.444</td>\n",
              "      <td>...</td>\n",
              "      <td>1.77e-05</td>\n",
              "      <td>0.355</td>\n",
              "      <td>0.894</td>\n",
              "      <td>95.053</td>\n",
              "      <td>pop;</td>\n",
              "      <td>NaN</td>\n",
              "      <td>NaN</td>\n",
              "      <td>NaN</td>\n",
              "      <td>NaN</td>\n",
              "      <td>NaN</td>\n",
              "    </tr>\n",
              "    <tr>\n",
              "      <th>2</th>\n",
              "      <td>\"blink-182</td>\n",
              "      <td>All The Small Things</td>\n",
              "      <td>167066</td>\n",
              "      <td>False</td>\n",
              "      <td>1999</td>\n",
              "      <td>79</td>\n",
              "      <td>0.434</td>\n",
              "      <td>0.897</td>\n",
              "      <td>0</td>\n",
              "      <td>-4.918</td>\n",
              "      <td>...</td>\n",
              "      <td>0.0</td>\n",
              "      <td>0.612</td>\n",
              "      <td>0.684</td>\n",
              "      <td>148.726</td>\n",
              "      <td>\"\"rock</td>\n",
              "      <td>pop\"\"\";</td>\n",
              "      <td>NaN</td>\n",
              "      <td>NaN</td>\n",
              "      <td>NaN</td>\n",
              "      <td>NaN</td>\n",
              "    </tr>\n",
              "    <tr>\n",
              "      <th>3</th>\n",
              "      <td>\"Faith Hill</td>\n",
              "      <td>Breathe</td>\n",
              "      <td>250546</td>\n",
              "      <td>False</td>\n",
              "      <td>1999</td>\n",
              "      <td>66</td>\n",
              "      <td>0.529</td>\n",
              "      <td>0.496</td>\n",
              "      <td>7</td>\n",
              "      <td>-9.007</td>\n",
              "      <td>...</td>\n",
              "      <td>0.0</td>\n",
              "      <td>0.251</td>\n",
              "      <td>0.278</td>\n",
              "      <td>136.859</td>\n",
              "      <td>\"\"pop</td>\n",
              "      <td>country\"\"\";</td>\n",
              "      <td>NaN</td>\n",
              "      <td>NaN</td>\n",
              "      <td>NaN</td>\n",
              "      <td>NaN</td>\n",
              "    </tr>\n",
              "    <tr>\n",
              "      <th>4</th>\n",
              "      <td>\"Bon Jovi</td>\n",
              "      <td>It's My Life</td>\n",
              "      <td>224493</td>\n",
              "      <td>False</td>\n",
              "      <td>2000</td>\n",
              "      <td>78</td>\n",
              "      <td>0.551</td>\n",
              "      <td>0.913</td>\n",
              "      <td>0</td>\n",
              "      <td>-4.063</td>\n",
              "      <td>...</td>\n",
              "      <td>1.35e-05</td>\n",
              "      <td>0.347</td>\n",
              "      <td>0.544</td>\n",
              "      <td>119.992</td>\n",
              "      <td>\"\"rock</td>\n",
              "      <td>metal\"\"\";</td>\n",
              "      <td>NaN</td>\n",
              "      <td>NaN</td>\n",
              "      <td>NaN</td>\n",
              "      <td>NaN</td>\n",
              "    </tr>\n",
              "  </tbody>\n",
              "</table>\n",
              "<p>5 rows × 23 columns</p>\n",
              "</div>\n",
              "      <button class=\"colab-df-convert\" onclick=\"convertToInteractive('df-4698f042-53e2-4d69-8f54-cce9200783d3')\"\n",
              "              title=\"Convert this dataframe to an interactive table.\"\n",
              "              style=\"display:none;\">\n",
              "        \n",
              "  <svg xmlns=\"http://www.w3.org/2000/svg\" height=\"24px\"viewBox=\"0 0 24 24\"\n",
              "       width=\"24px\">\n",
              "    <path d=\"M0 0h24v24H0V0z\" fill=\"none\"/>\n",
              "    <path d=\"M18.56 5.44l.94 2.06.94-2.06 2.06-.94-2.06-.94-.94-2.06-.94 2.06-2.06.94zm-11 1L8.5 8.5l.94-2.06 2.06-.94-2.06-.94L8.5 2.5l-.94 2.06-2.06.94zm10 10l.94 2.06.94-2.06 2.06-.94-2.06-.94-.94-2.06-.94 2.06-2.06.94z\"/><path d=\"M17.41 7.96l-1.37-1.37c-.4-.4-.92-.59-1.43-.59-.52 0-1.04.2-1.43.59L10.3 9.45l-7.72 7.72c-.78.78-.78 2.05 0 2.83L4 21.41c.39.39.9.59 1.41.59.51 0 1.02-.2 1.41-.59l7.78-7.78 2.81-2.81c.8-.78.8-2.07 0-2.86zM5.41 20L4 18.59l7.72-7.72 1.47 1.35L5.41 20z\"/>\n",
              "  </svg>\n",
              "      </button>\n",
              "      \n",
              "  <style>\n",
              "    .colab-df-container {\n",
              "      display:flex;\n",
              "      flex-wrap:wrap;\n",
              "      gap: 12px;\n",
              "    }\n",
              "\n",
              "    .colab-df-convert {\n",
              "      background-color: #E8F0FE;\n",
              "      border: none;\n",
              "      border-radius: 50%;\n",
              "      cursor: pointer;\n",
              "      display: none;\n",
              "      fill: #1967D2;\n",
              "      height: 32px;\n",
              "      padding: 0 0 0 0;\n",
              "      width: 32px;\n",
              "    }\n",
              "\n",
              "    .colab-df-convert:hover {\n",
              "      background-color: #E2EBFA;\n",
              "      box-shadow: 0px 1px 2px rgba(60, 64, 67, 0.3), 0px 1px 3px 1px rgba(60, 64, 67, 0.15);\n",
              "      fill: #174EA6;\n",
              "    }\n",
              "\n",
              "    [theme=dark] .colab-df-convert {\n",
              "      background-color: #3B4455;\n",
              "      fill: #D2E3FC;\n",
              "    }\n",
              "\n",
              "    [theme=dark] .colab-df-convert:hover {\n",
              "      background-color: #434B5C;\n",
              "      box-shadow: 0px 1px 3px 1px rgba(0, 0, 0, 0.15);\n",
              "      filter: drop-shadow(0px 1px 2px rgba(0, 0, 0, 0.3));\n",
              "      fill: #FFFFFF;\n",
              "    }\n",
              "  </style>\n",
              "\n",
              "      <script>\n",
              "        const buttonEl =\n",
              "          document.querySelector('#df-4698f042-53e2-4d69-8f54-cce9200783d3 button.colab-df-convert');\n",
              "        buttonEl.style.display =\n",
              "          google.colab.kernel.accessAllowed ? 'block' : 'none';\n",
              "\n",
              "        async function convertToInteractive(key) {\n",
              "          const element = document.querySelector('#df-4698f042-53e2-4d69-8f54-cce9200783d3');\n",
              "          const dataTable =\n",
              "            await google.colab.kernel.invokeFunction('convertToInteractive',\n",
              "                                                     [key], {});\n",
              "          if (!dataTable) return;\n",
              "\n",
              "          const docLinkHtml = 'Like what you see? Visit the ' +\n",
              "            '<a target=\"_blank\" href=https://colab.research.google.com/notebooks/data_table.ipynb>data table notebook</a>'\n",
              "            + ' to learn more about interactive tables.';\n",
              "          element.innerHTML = '';\n",
              "          dataTable['output_type'] = 'display_data';\n",
              "          await google.colab.output.renderOutput(dataTable, element);\n",
              "          const docLink = document.createElement('div');\n",
              "          docLink.innerHTML = docLinkHtml;\n",
              "          element.appendChild(docLink);\n",
              "        }\n",
              "      </script>\n",
              "    </div>\n",
              "  </div>\n",
              "  "
            ]
          },
          "metadata": {},
          "execution_count": 624
        }
      ]
    },
    {
      "cell_type": "markdown",
      "source": [
        "Que encontramos con el anterior resultado:\n",
        "\n",
        "1. Cuando una canción tiene más de un género, la línea en el archivo .csv empieza y termina en comillas.\n",
        "2. Si tiene más de un género, los géneros se encierran con doble comilla \"\"género\"\".\n",
        "3. El separador de líneas es ;\n",
        "4. Hay artistas y canciones con coma en el nombre que para que la función de read los lea como solo una columna deberían estar encerrados en comillas. Para solucionar esto, el artista, la canción y los géneros no serán encerrados en comillas, pero se reemplazará ', ' por ';' para hacer más fácil el proceso."
      ],
      "metadata": {
        "id": "xvxAGiGjKOZk"
      }
    },
    {
      "cell_type": "markdown",
      "source": [
        "#### Proceso de limpieza"
      ],
      "metadata": {
        "id": "MqSaJ8oK5UfF"
      }
    },
    {
      "cell_type": "code",
      "source": [
        "new_file = []\n",
        "data = urllib.request.urlopen('https://raw.githubusercontent.com/jufepalacios/Ciencia_Datos_Aplicada/main/Taller_1/data/Data_Taller_1.csv')\n",
        "\n",
        "for line in data:\n",
        "  line = line.decode('utf-8')\n",
        "  line = line.replace(';','')\n",
        "  line = line.replace('\"','')\n",
        "  line = line.replace(', ',';')\n",
        "  new_file.append(line)\n",
        "\n",
        "with open('./Data_Taller_1_new.csv','w') as file:\n",
        "  for line in new_file:\n",
        "    file.write(line)"
      ],
      "metadata": {
        "id": "gLPdRG60uEa7"
      },
      "execution_count": 625,
      "outputs": []
    },
    {
      "cell_type": "markdown",
      "source": [
        "Se procede a leer el nuevo archivo."
      ],
      "metadata": {
        "id": "19qC9sYa59VX"
      }
    },
    {
      "cell_type": "code",
      "source": [
        "df_spotify = pd.read_csv('Data_Taller_1_new.csv')\n",
        "df_spotify.head()"
      ],
      "metadata": {
        "colab": {
          "base_uri": "https://localhost:8080/",
          "height": 0
        },
        "id": "0EMMFCP-vgm_",
        "outputId": "0b4b2219-3097-47b5-faf9-ce82a26fa2bc"
      },
      "execution_count": 626,
      "outputs": [
        {
          "output_type": "execute_result",
          "data": {
            "text/plain": [
              "           artist                    song  duration_ms explicit  year  \\\n",
              "0  Britney Spears  Oops!...I Did It Again     211160.0    False  2000   \n",
              "1       blink-182    All The Small Things     167066.0    False  1999   \n",
              "2      Faith Hill                 Breathe     250546.0    False  1999   \n",
              "3        Bon Jovi            It's My Life     224493.0    False  2000   \n",
              "4          *NSYNC             Bye Bye Bye     200560.0    False  2000   \n",
              "\n",
              "   popularity  danceability  energy  key  loudness  mode  speechiness  \\\n",
              "0        77.0         0.751   0.834    1    -5.444     0       0.0437   \n",
              "1        79.0         0.434   0.897    0    -4.918     1       0.0488   \n",
              "2        66.0         0.529   0.496    7    -9.007     1       0.0290   \n",
              "3        78.0         0.551   0.913    0    -4.063     0       0.0466   \n",
              "4         NaN         0.614   0.928    8    -4.806     0       0.0516   \n",
              "\n",
              "   acousticness  instrumentalness  liveness  valence    tempo        genre  \n",
              "0        0.3000          0.000018    0.3550    0.894   95.053          pop  \n",
              "1        0.0103          0.000000    0.6120    0.684  148.726     rock;pop  \n",
              "2        0.1730          0.000000    0.2510    0.278  136.859  pop;country  \n",
              "3        0.0263          0.000013    0.3470    0.544  119.992   rock;metal  \n",
              "4        0.0408          0.001040    0.0845    0.879  172.656          pop  "
            ],
            "text/html": [
              "\n",
              "  <div id=\"df-1d11cc0f-1211-4a8c-821f-739c5b6a7b06\">\n",
              "    <div class=\"colab-df-container\">\n",
              "      <div>\n",
              "<style scoped>\n",
              "    .dataframe tbody tr th:only-of-type {\n",
              "        vertical-align: middle;\n",
              "    }\n",
              "\n",
              "    .dataframe tbody tr th {\n",
              "        vertical-align: top;\n",
              "    }\n",
              "\n",
              "    .dataframe thead th {\n",
              "        text-align: right;\n",
              "    }\n",
              "</style>\n",
              "<table border=\"1\" class=\"dataframe\">\n",
              "  <thead>\n",
              "    <tr style=\"text-align: right;\">\n",
              "      <th></th>\n",
              "      <th>artist</th>\n",
              "      <th>song</th>\n",
              "      <th>duration_ms</th>\n",
              "      <th>explicit</th>\n",
              "      <th>year</th>\n",
              "      <th>popularity</th>\n",
              "      <th>danceability</th>\n",
              "      <th>energy</th>\n",
              "      <th>key</th>\n",
              "      <th>loudness</th>\n",
              "      <th>mode</th>\n",
              "      <th>speechiness</th>\n",
              "      <th>acousticness</th>\n",
              "      <th>instrumentalness</th>\n",
              "      <th>liveness</th>\n",
              "      <th>valence</th>\n",
              "      <th>tempo</th>\n",
              "      <th>genre</th>\n",
              "    </tr>\n",
              "  </thead>\n",
              "  <tbody>\n",
              "    <tr>\n",
              "      <th>0</th>\n",
              "      <td>Britney Spears</td>\n",
              "      <td>Oops!...I Did It Again</td>\n",
              "      <td>211160.0</td>\n",
              "      <td>False</td>\n",
              "      <td>2000</td>\n",
              "      <td>77.0</td>\n",
              "      <td>0.751</td>\n",
              "      <td>0.834</td>\n",
              "      <td>1</td>\n",
              "      <td>-5.444</td>\n",
              "      <td>0</td>\n",
              "      <td>0.0437</td>\n",
              "      <td>0.3000</td>\n",
              "      <td>0.000018</td>\n",
              "      <td>0.3550</td>\n",
              "      <td>0.894</td>\n",
              "      <td>95.053</td>\n",
              "      <td>pop</td>\n",
              "    </tr>\n",
              "    <tr>\n",
              "      <th>1</th>\n",
              "      <td>blink-182</td>\n",
              "      <td>All The Small Things</td>\n",
              "      <td>167066.0</td>\n",
              "      <td>False</td>\n",
              "      <td>1999</td>\n",
              "      <td>79.0</td>\n",
              "      <td>0.434</td>\n",
              "      <td>0.897</td>\n",
              "      <td>0</td>\n",
              "      <td>-4.918</td>\n",
              "      <td>1</td>\n",
              "      <td>0.0488</td>\n",
              "      <td>0.0103</td>\n",
              "      <td>0.000000</td>\n",
              "      <td>0.6120</td>\n",
              "      <td>0.684</td>\n",
              "      <td>148.726</td>\n",
              "      <td>rock;pop</td>\n",
              "    </tr>\n",
              "    <tr>\n",
              "      <th>2</th>\n",
              "      <td>Faith Hill</td>\n",
              "      <td>Breathe</td>\n",
              "      <td>250546.0</td>\n",
              "      <td>False</td>\n",
              "      <td>1999</td>\n",
              "      <td>66.0</td>\n",
              "      <td>0.529</td>\n",
              "      <td>0.496</td>\n",
              "      <td>7</td>\n",
              "      <td>-9.007</td>\n",
              "      <td>1</td>\n",
              "      <td>0.0290</td>\n",
              "      <td>0.1730</td>\n",
              "      <td>0.000000</td>\n",
              "      <td>0.2510</td>\n",
              "      <td>0.278</td>\n",
              "      <td>136.859</td>\n",
              "      <td>pop;country</td>\n",
              "    </tr>\n",
              "    <tr>\n",
              "      <th>3</th>\n",
              "      <td>Bon Jovi</td>\n",
              "      <td>It's My Life</td>\n",
              "      <td>224493.0</td>\n",
              "      <td>False</td>\n",
              "      <td>2000</td>\n",
              "      <td>78.0</td>\n",
              "      <td>0.551</td>\n",
              "      <td>0.913</td>\n",
              "      <td>0</td>\n",
              "      <td>-4.063</td>\n",
              "      <td>0</td>\n",
              "      <td>0.0466</td>\n",
              "      <td>0.0263</td>\n",
              "      <td>0.000013</td>\n",
              "      <td>0.3470</td>\n",
              "      <td>0.544</td>\n",
              "      <td>119.992</td>\n",
              "      <td>rock;metal</td>\n",
              "    </tr>\n",
              "    <tr>\n",
              "      <th>4</th>\n",
              "      <td>*NSYNC</td>\n",
              "      <td>Bye Bye Bye</td>\n",
              "      <td>200560.0</td>\n",
              "      <td>False</td>\n",
              "      <td>2000</td>\n",
              "      <td>NaN</td>\n",
              "      <td>0.614</td>\n",
              "      <td>0.928</td>\n",
              "      <td>8</td>\n",
              "      <td>-4.806</td>\n",
              "      <td>0</td>\n",
              "      <td>0.0516</td>\n",
              "      <td>0.0408</td>\n",
              "      <td>0.001040</td>\n",
              "      <td>0.0845</td>\n",
              "      <td>0.879</td>\n",
              "      <td>172.656</td>\n",
              "      <td>pop</td>\n",
              "    </tr>\n",
              "  </tbody>\n",
              "</table>\n",
              "</div>\n",
              "      <button class=\"colab-df-convert\" onclick=\"convertToInteractive('df-1d11cc0f-1211-4a8c-821f-739c5b6a7b06')\"\n",
              "              title=\"Convert this dataframe to an interactive table.\"\n",
              "              style=\"display:none;\">\n",
              "        \n",
              "  <svg xmlns=\"http://www.w3.org/2000/svg\" height=\"24px\"viewBox=\"0 0 24 24\"\n",
              "       width=\"24px\">\n",
              "    <path d=\"M0 0h24v24H0V0z\" fill=\"none\"/>\n",
              "    <path d=\"M18.56 5.44l.94 2.06.94-2.06 2.06-.94-2.06-.94-.94-2.06-.94 2.06-2.06.94zm-11 1L8.5 8.5l.94-2.06 2.06-.94-2.06-.94L8.5 2.5l-.94 2.06-2.06.94zm10 10l.94 2.06.94-2.06 2.06-.94-2.06-.94-.94-2.06-.94 2.06-2.06.94z\"/><path d=\"M17.41 7.96l-1.37-1.37c-.4-.4-.92-.59-1.43-.59-.52 0-1.04.2-1.43.59L10.3 9.45l-7.72 7.72c-.78.78-.78 2.05 0 2.83L4 21.41c.39.39.9.59 1.41.59.51 0 1.02-.2 1.41-.59l7.78-7.78 2.81-2.81c.8-.78.8-2.07 0-2.86zM5.41 20L4 18.59l7.72-7.72 1.47 1.35L5.41 20z\"/>\n",
              "  </svg>\n",
              "      </button>\n",
              "      \n",
              "  <style>\n",
              "    .colab-df-container {\n",
              "      display:flex;\n",
              "      flex-wrap:wrap;\n",
              "      gap: 12px;\n",
              "    }\n",
              "\n",
              "    .colab-df-convert {\n",
              "      background-color: #E8F0FE;\n",
              "      border: none;\n",
              "      border-radius: 50%;\n",
              "      cursor: pointer;\n",
              "      display: none;\n",
              "      fill: #1967D2;\n",
              "      height: 32px;\n",
              "      padding: 0 0 0 0;\n",
              "      width: 32px;\n",
              "    }\n",
              "\n",
              "    .colab-df-convert:hover {\n",
              "      background-color: #E2EBFA;\n",
              "      box-shadow: 0px 1px 2px rgba(60, 64, 67, 0.3), 0px 1px 3px 1px rgba(60, 64, 67, 0.15);\n",
              "      fill: #174EA6;\n",
              "    }\n",
              "\n",
              "    [theme=dark] .colab-df-convert {\n",
              "      background-color: #3B4455;\n",
              "      fill: #D2E3FC;\n",
              "    }\n",
              "\n",
              "    [theme=dark] .colab-df-convert:hover {\n",
              "      background-color: #434B5C;\n",
              "      box-shadow: 0px 1px 3px 1px rgba(0, 0, 0, 0.15);\n",
              "      filter: drop-shadow(0px 1px 2px rgba(0, 0, 0, 0.3));\n",
              "      fill: #FFFFFF;\n",
              "    }\n",
              "  </style>\n",
              "\n",
              "      <script>\n",
              "        const buttonEl =\n",
              "          document.querySelector('#df-1d11cc0f-1211-4a8c-821f-739c5b6a7b06 button.colab-df-convert');\n",
              "        buttonEl.style.display =\n",
              "          google.colab.kernel.accessAllowed ? 'block' : 'none';\n",
              "\n",
              "        async function convertToInteractive(key) {\n",
              "          const element = document.querySelector('#df-1d11cc0f-1211-4a8c-821f-739c5b6a7b06');\n",
              "          const dataTable =\n",
              "            await google.colab.kernel.invokeFunction('convertToInteractive',\n",
              "                                                     [key], {});\n",
              "          if (!dataTable) return;\n",
              "\n",
              "          const docLinkHtml = 'Like what you see? Visit the ' +\n",
              "            '<a target=\"_blank\" href=https://colab.research.google.com/notebooks/data_table.ipynb>data table notebook</a>'\n",
              "            + ' to learn more about interactive tables.';\n",
              "          element.innerHTML = '';\n",
              "          dataTable['output_type'] = 'display_data';\n",
              "          await google.colab.output.renderOutput(dataTable, element);\n",
              "          const docLink = document.createElement('div');\n",
              "          docLink.innerHTML = docLinkHtml;\n",
              "          element.appendChild(docLink);\n",
              "        }\n",
              "      </script>\n",
              "    </div>\n",
              "  </div>\n",
              "  "
            ]
          },
          "metadata": {},
          "execution_count": 626
        }
      ]
    },
    {
      "cell_type": "markdown",
      "source": [
        "Ahora no hay problemas leyendo el archivo y se tiene toda la información en las columnas necesarias.\n",
        "\n",
        "Se volverán a cambiar los ';' por ', '."
      ],
      "metadata": {
        "id": "jsokgcOY8Xng"
      }
    },
    {
      "cell_type": "code",
      "source": [
        "df_spotify.replace(regex=';',value=', ',inplace=True)\n",
        "df_spotify.head()"
      ],
      "metadata": {
        "id": "_qfjKMc_8zCg",
        "colab": {
          "base_uri": "https://localhost:8080/",
          "height": 0
        },
        "outputId": "d803aa27-c8be-4409-a182-d1f60acf333a"
      },
      "execution_count": 627,
      "outputs": [
        {
          "output_type": "execute_result",
          "data": {
            "text/plain": [
              "           artist                    song  duration_ms explicit  year  \\\n",
              "0  Britney Spears  Oops!...I Did It Again     211160.0    False  2000   \n",
              "1       blink-182    All The Small Things     167066.0    False  1999   \n",
              "2      Faith Hill                 Breathe     250546.0    False  1999   \n",
              "3        Bon Jovi            It's My Life     224493.0    False  2000   \n",
              "4          *NSYNC             Bye Bye Bye     200560.0    False  2000   \n",
              "\n",
              "   popularity  danceability  energy  key  loudness  mode  speechiness  \\\n",
              "0        77.0         0.751   0.834    1    -5.444     0       0.0437   \n",
              "1        79.0         0.434   0.897    0    -4.918     1       0.0488   \n",
              "2        66.0         0.529   0.496    7    -9.007     1       0.0290   \n",
              "3        78.0         0.551   0.913    0    -4.063     0       0.0466   \n",
              "4         NaN         0.614   0.928    8    -4.806     0       0.0516   \n",
              "\n",
              "   acousticness  instrumentalness  liveness  valence    tempo         genre  \n",
              "0        0.3000          0.000018    0.3550    0.894   95.053           pop  \n",
              "1        0.0103          0.000000    0.6120    0.684  148.726     rock, pop  \n",
              "2        0.1730          0.000000    0.2510    0.278  136.859  pop, country  \n",
              "3        0.0263          0.000013    0.3470    0.544  119.992   rock, metal  \n",
              "4        0.0408          0.001040    0.0845    0.879  172.656           pop  "
            ],
            "text/html": [
              "\n",
              "  <div id=\"df-e6d9e9e4-b701-40f7-97c1-28af1e5251b1\">\n",
              "    <div class=\"colab-df-container\">\n",
              "      <div>\n",
              "<style scoped>\n",
              "    .dataframe tbody tr th:only-of-type {\n",
              "        vertical-align: middle;\n",
              "    }\n",
              "\n",
              "    .dataframe tbody tr th {\n",
              "        vertical-align: top;\n",
              "    }\n",
              "\n",
              "    .dataframe thead th {\n",
              "        text-align: right;\n",
              "    }\n",
              "</style>\n",
              "<table border=\"1\" class=\"dataframe\">\n",
              "  <thead>\n",
              "    <tr style=\"text-align: right;\">\n",
              "      <th></th>\n",
              "      <th>artist</th>\n",
              "      <th>song</th>\n",
              "      <th>duration_ms</th>\n",
              "      <th>explicit</th>\n",
              "      <th>year</th>\n",
              "      <th>popularity</th>\n",
              "      <th>danceability</th>\n",
              "      <th>energy</th>\n",
              "      <th>key</th>\n",
              "      <th>loudness</th>\n",
              "      <th>mode</th>\n",
              "      <th>speechiness</th>\n",
              "      <th>acousticness</th>\n",
              "      <th>instrumentalness</th>\n",
              "      <th>liveness</th>\n",
              "      <th>valence</th>\n",
              "      <th>tempo</th>\n",
              "      <th>genre</th>\n",
              "    </tr>\n",
              "  </thead>\n",
              "  <tbody>\n",
              "    <tr>\n",
              "      <th>0</th>\n",
              "      <td>Britney Spears</td>\n",
              "      <td>Oops!...I Did It Again</td>\n",
              "      <td>211160.0</td>\n",
              "      <td>False</td>\n",
              "      <td>2000</td>\n",
              "      <td>77.0</td>\n",
              "      <td>0.751</td>\n",
              "      <td>0.834</td>\n",
              "      <td>1</td>\n",
              "      <td>-5.444</td>\n",
              "      <td>0</td>\n",
              "      <td>0.0437</td>\n",
              "      <td>0.3000</td>\n",
              "      <td>0.000018</td>\n",
              "      <td>0.3550</td>\n",
              "      <td>0.894</td>\n",
              "      <td>95.053</td>\n",
              "      <td>pop</td>\n",
              "    </tr>\n",
              "    <tr>\n",
              "      <th>1</th>\n",
              "      <td>blink-182</td>\n",
              "      <td>All The Small Things</td>\n",
              "      <td>167066.0</td>\n",
              "      <td>False</td>\n",
              "      <td>1999</td>\n",
              "      <td>79.0</td>\n",
              "      <td>0.434</td>\n",
              "      <td>0.897</td>\n",
              "      <td>0</td>\n",
              "      <td>-4.918</td>\n",
              "      <td>1</td>\n",
              "      <td>0.0488</td>\n",
              "      <td>0.0103</td>\n",
              "      <td>0.000000</td>\n",
              "      <td>0.6120</td>\n",
              "      <td>0.684</td>\n",
              "      <td>148.726</td>\n",
              "      <td>rock, pop</td>\n",
              "    </tr>\n",
              "    <tr>\n",
              "      <th>2</th>\n",
              "      <td>Faith Hill</td>\n",
              "      <td>Breathe</td>\n",
              "      <td>250546.0</td>\n",
              "      <td>False</td>\n",
              "      <td>1999</td>\n",
              "      <td>66.0</td>\n",
              "      <td>0.529</td>\n",
              "      <td>0.496</td>\n",
              "      <td>7</td>\n",
              "      <td>-9.007</td>\n",
              "      <td>1</td>\n",
              "      <td>0.0290</td>\n",
              "      <td>0.1730</td>\n",
              "      <td>0.000000</td>\n",
              "      <td>0.2510</td>\n",
              "      <td>0.278</td>\n",
              "      <td>136.859</td>\n",
              "      <td>pop, country</td>\n",
              "    </tr>\n",
              "    <tr>\n",
              "      <th>3</th>\n",
              "      <td>Bon Jovi</td>\n",
              "      <td>It's My Life</td>\n",
              "      <td>224493.0</td>\n",
              "      <td>False</td>\n",
              "      <td>2000</td>\n",
              "      <td>78.0</td>\n",
              "      <td>0.551</td>\n",
              "      <td>0.913</td>\n",
              "      <td>0</td>\n",
              "      <td>-4.063</td>\n",
              "      <td>0</td>\n",
              "      <td>0.0466</td>\n",
              "      <td>0.0263</td>\n",
              "      <td>0.000013</td>\n",
              "      <td>0.3470</td>\n",
              "      <td>0.544</td>\n",
              "      <td>119.992</td>\n",
              "      <td>rock, metal</td>\n",
              "    </tr>\n",
              "    <tr>\n",
              "      <th>4</th>\n",
              "      <td>*NSYNC</td>\n",
              "      <td>Bye Bye Bye</td>\n",
              "      <td>200560.0</td>\n",
              "      <td>False</td>\n",
              "      <td>2000</td>\n",
              "      <td>NaN</td>\n",
              "      <td>0.614</td>\n",
              "      <td>0.928</td>\n",
              "      <td>8</td>\n",
              "      <td>-4.806</td>\n",
              "      <td>0</td>\n",
              "      <td>0.0516</td>\n",
              "      <td>0.0408</td>\n",
              "      <td>0.001040</td>\n",
              "      <td>0.0845</td>\n",
              "      <td>0.879</td>\n",
              "      <td>172.656</td>\n",
              "      <td>pop</td>\n",
              "    </tr>\n",
              "  </tbody>\n",
              "</table>\n",
              "</div>\n",
              "      <button class=\"colab-df-convert\" onclick=\"convertToInteractive('df-e6d9e9e4-b701-40f7-97c1-28af1e5251b1')\"\n",
              "              title=\"Convert this dataframe to an interactive table.\"\n",
              "              style=\"display:none;\">\n",
              "        \n",
              "  <svg xmlns=\"http://www.w3.org/2000/svg\" height=\"24px\"viewBox=\"0 0 24 24\"\n",
              "       width=\"24px\">\n",
              "    <path d=\"M0 0h24v24H0V0z\" fill=\"none\"/>\n",
              "    <path d=\"M18.56 5.44l.94 2.06.94-2.06 2.06-.94-2.06-.94-.94-2.06-.94 2.06-2.06.94zm-11 1L8.5 8.5l.94-2.06 2.06-.94-2.06-.94L8.5 2.5l-.94 2.06-2.06.94zm10 10l.94 2.06.94-2.06 2.06-.94-2.06-.94-.94-2.06-.94 2.06-2.06.94z\"/><path d=\"M17.41 7.96l-1.37-1.37c-.4-.4-.92-.59-1.43-.59-.52 0-1.04.2-1.43.59L10.3 9.45l-7.72 7.72c-.78.78-.78 2.05 0 2.83L4 21.41c.39.39.9.59 1.41.59.51 0 1.02-.2 1.41-.59l7.78-7.78 2.81-2.81c.8-.78.8-2.07 0-2.86zM5.41 20L4 18.59l7.72-7.72 1.47 1.35L5.41 20z\"/>\n",
              "  </svg>\n",
              "      </button>\n",
              "      \n",
              "  <style>\n",
              "    .colab-df-container {\n",
              "      display:flex;\n",
              "      flex-wrap:wrap;\n",
              "      gap: 12px;\n",
              "    }\n",
              "\n",
              "    .colab-df-convert {\n",
              "      background-color: #E8F0FE;\n",
              "      border: none;\n",
              "      border-radius: 50%;\n",
              "      cursor: pointer;\n",
              "      display: none;\n",
              "      fill: #1967D2;\n",
              "      height: 32px;\n",
              "      padding: 0 0 0 0;\n",
              "      width: 32px;\n",
              "    }\n",
              "\n",
              "    .colab-df-convert:hover {\n",
              "      background-color: #E2EBFA;\n",
              "      box-shadow: 0px 1px 2px rgba(60, 64, 67, 0.3), 0px 1px 3px 1px rgba(60, 64, 67, 0.15);\n",
              "      fill: #174EA6;\n",
              "    }\n",
              "\n",
              "    [theme=dark] .colab-df-convert {\n",
              "      background-color: #3B4455;\n",
              "      fill: #D2E3FC;\n",
              "    }\n",
              "\n",
              "    [theme=dark] .colab-df-convert:hover {\n",
              "      background-color: #434B5C;\n",
              "      box-shadow: 0px 1px 3px 1px rgba(0, 0, 0, 0.15);\n",
              "      filter: drop-shadow(0px 1px 2px rgba(0, 0, 0, 0.3));\n",
              "      fill: #FFFFFF;\n",
              "    }\n",
              "  </style>\n",
              "\n",
              "      <script>\n",
              "        const buttonEl =\n",
              "          document.querySelector('#df-e6d9e9e4-b701-40f7-97c1-28af1e5251b1 button.colab-df-convert');\n",
              "        buttonEl.style.display =\n",
              "          google.colab.kernel.accessAllowed ? 'block' : 'none';\n",
              "\n",
              "        async function convertToInteractive(key) {\n",
              "          const element = document.querySelector('#df-e6d9e9e4-b701-40f7-97c1-28af1e5251b1');\n",
              "          const dataTable =\n",
              "            await google.colab.kernel.invokeFunction('convertToInteractive',\n",
              "                                                     [key], {});\n",
              "          if (!dataTable) return;\n",
              "\n",
              "          const docLinkHtml = 'Like what you see? Visit the ' +\n",
              "            '<a target=\"_blank\" href=https://colab.research.google.com/notebooks/data_table.ipynb>data table notebook</a>'\n",
              "            + ' to learn more about interactive tables.';\n",
              "          element.innerHTML = '';\n",
              "          dataTable['output_type'] = 'display_data';\n",
              "          await google.colab.output.renderOutput(dataTable, element);\n",
              "          const docLink = document.createElement('div');\n",
              "          docLink.innerHTML = docLinkHtml;\n",
              "          element.appendChild(docLink);\n",
              "        }\n",
              "      </script>\n",
              "    </div>\n",
              "  </div>\n",
              "  "
            ]
          },
          "metadata": {},
          "execution_count": 627
        }
      ]
    },
    {
      "cell_type": "markdown",
      "source": [
        "### Describir el conjunto de datos"
      ],
      "metadata": {
        "id": "C6z8GOb_5YCH"
      }
    },
    {
      "cell_type": "markdown",
      "source": [
        "#### Análisis general"
      ],
      "metadata": {
        "id": "8ZBUnCyCCqmT"
      }
    },
    {
      "cell_type": "markdown",
      "source": [
        "Se utiliza la función info() para conocer las columnas, cuantos valores son no nulos por columnas y el tipo de variable."
      ],
      "metadata": {
        "id": "xCBlFaYi4YIi"
      }
    },
    {
      "cell_type": "code",
      "source": [
        "df_spotify.info()"
      ],
      "metadata": {
        "id": "xE4U8Soj9I3T",
        "colab": {
          "base_uri": "https://localhost:8080/"
        },
        "outputId": "fde99400-1c77-4e0c-d7ad-3e15e2ff6012"
      },
      "execution_count": 628,
      "outputs": [
        {
          "output_type": "stream",
          "name": "stdout",
          "text": [
            "<class 'pandas.core.frame.DataFrame'>\n",
            "RangeIndex: 2000 entries, 0 to 1999\n",
            "Data columns (total 18 columns):\n",
            " #   Column            Non-Null Count  Dtype  \n",
            "---  ------            --------------  -----  \n",
            " 0   artist            2000 non-null   object \n",
            " 1   song              2000 non-null   object \n",
            " 2   duration_ms       1998 non-null   float64\n",
            " 3   explicit          1999 non-null   object \n",
            " 4   year              2000 non-null   int64  \n",
            " 5   popularity        1997 non-null   float64\n",
            " 6   danceability      1997 non-null   float64\n",
            " 7   energy            2000 non-null   float64\n",
            " 8   key               2000 non-null   int64  \n",
            " 9   loudness          1999 non-null   float64\n",
            " 10  mode              2000 non-null   int64  \n",
            " 11  speechiness       1999 non-null   float64\n",
            " 12  acousticness      1997 non-null   float64\n",
            " 13  instrumentalness  1999 non-null   float64\n",
            " 14  liveness          2000 non-null   float64\n",
            " 15  valence           1999 non-null   float64\n",
            " 16  tempo             1998 non-null   float64\n",
            " 17  genre             1999 non-null   object \n",
            "dtypes: float64(11), int64(3), object(4)\n",
            "memory usage: 281.4+ KB\n"
          ]
        }
      ]
    },
    {
      "cell_type": "markdown",
      "source": [
        "Los datos cuentan con las sigueintes columnas:\n",
        "\n",
        "\n",
        "*   Artista: Nombre del artista (string).\n",
        "*   Canción: Nombre de la canción (string).\n",
        "*   Duración [ms]: Duración de la canción en milisegundos (float).\n",
        "*   Explicit: Indicador de si la canción es explicita o no (string). Puede ser False o True.\n",
        "*   Año: Año de la canción (int).\n",
        "*   Popularidad: Índice de popularidad de la canción (float).\n",
        "*   Bailabilidad: Índice de si la canción es bailable (float).\n",
        "*   Energía: Porcentaje de energía de la canción (float).\n",
        "*   Nota: Nota en la que se encuentra la canción (int).\n",
        "*   Volumen: Volumen de la canción en decibeles (float).\n",
        "*   Modo: Modalidad de la canción (int).\n",
        "*   Speechiness: Índice de presencia de palabras habladas en la canción (float).\n",
        "*   Acústica: Índice de si la canción es acústica (float).\n",
        "*   Instrumentalidad: Índice de si la canción no contiene voces (float).\n",
        "*   Vivacidad: Índice de si existe audiencia en la canción (float).\n",
        "*   Valencia: Índice de que tan positiva es la canción (float).\n",
        "*   Tempo: Índice estimado del tempo de la canción en beats por minuto (float).\n",
        "*   Género: Género o géneros de la canción (string).\n",
        "\n",
        "\\\\\n",
        "\n",
        "Columnas con todos los datos:\n",
        "*   artist, song, year, energy, key, mode, liveness\n",
        "\n",
        "\n",
        "\n",
        "\n",
        "\n"
      ],
      "metadata": {
        "id": "a2qNR6_c64mI"
      }
    },
    {
      "cell_type": "markdown",
      "source": [
        "#### Calidad de datos"
      ],
      "metadata": {
        "id": "qJKgHcP1A00z"
      }
    },
    {
      "cell_type": "markdown",
      "source": [
        "##### Eliminación de duplicados"
      ],
      "metadata": {
        "id": "ndB-eiNoByw1"
      }
    },
    {
      "cell_type": "code",
      "source": [
        "df_spotify.shape"
      ],
      "metadata": {
        "colab": {
          "base_uri": "https://localhost:8080/"
        },
        "id": "qM4171Y5kDxb",
        "outputId": "8cffa01e-a65f-4288-a26a-49f1672a6041"
      },
      "execution_count": 629,
      "outputs": [
        {
          "output_type": "execute_result",
          "data": {
            "text/plain": [
              "(2000, 18)"
            ]
          },
          "metadata": {},
          "execution_count": 629
        }
      ]
    },
    {
      "cell_type": "code",
      "source": [
        "df_spotify = df_spotify.drop_duplicates()"
      ],
      "metadata": {
        "id": "jyUTlKcNkInn"
      },
      "execution_count": 630,
      "outputs": []
    },
    {
      "cell_type": "code",
      "source": [
        "df_spotify.shape"
      ],
      "metadata": {
        "colab": {
          "base_uri": "https://localhost:8080/"
        },
        "id": "IM3P2034k58L",
        "outputId": "fc34844f-05cc-4fe7-c019-1c5657fe7c76"
      },
      "execution_count": 631,
      "outputs": [
        {
          "output_type": "execute_result",
          "data": {
            "text/plain": [
              "(1941, 18)"
            ]
          },
          "metadata": {},
          "execution_count": 631
        }
      ]
    },
    {
      "cell_type": "markdown",
      "source": [
        "##### Columans string (artist, song, explicit, genre)"
      ],
      "metadata": {
        "id": "docCFC_mB9E5"
      }
    },
    {
      "cell_type": "code",
      "source": [
        "df_spotify['artist'].unique()"
      ],
      "metadata": {
        "colab": {
          "base_uri": "https://localhost:8080/"
        },
        "id": "vXvZaPnHBI83",
        "outputId": "d72d5d41-3ee0-4e17-c972-74aa96cb64d2"
      },
      "execution_count": 632,
      "outputs": [
        {
          "output_type": "execute_result",
          "data": {
            "text/plain": [
              "array(['Britney Spears', 'blink-182', 'Faith Hill', 'Bon Jovi', '*NSYNC',\n",
              "       'Sisqo', 'Eminem', 'Robbie Williams', \"Destiny's Child\", 'Modjo',\n",
              "       \"Gigi D'Agostino\", 'Eiffel 65', \"Bomfunk MC's\", 'Sting',\n",
              "       'Melanie C', 'Aaliyah', 'Anastacia', 'Alice Deejay', 'Dr. Dre',\n",
              "       'Linkin Park', 'Tom Jones', 'Sonique', 'M.O.P.', 'Limp Bizkit',\n",
              "       'Darude', 'Da Brat', 'Moloko', 'Chicane', 'DMX', 'Debelah Morgan',\n",
              "       'Madonna', 'Ruff Endz', 'Montell Jordan', 'Kylie Minogue', 'JAY-Z',\n",
              "       'LeAnn Rimes', 'Avant', 'Enrique Iglesias', 'Toni Braxton',\n",
              "       'Bow Wow', 'Missy Elliott', 'Backstreet Boys', 'Samantha Mumba',\n",
              "       'Mýa', 'Mary Mary', 'Next', 'Janet Jackson', 'Ricky Martin',\n",
              "       'Jagged Edge', 'Mariah Carey', 'Baha Men', 'Donell Jones', 'Oasis',\n",
              "       'DJ Ötzi', 'P!nk', 'Craig David', 'Christina Aguilera',\n",
              "       'Red Hot Chili Peppers', 'Sammie', 'Santana', 'Kandi', 'Vengaboys',\n",
              "       'Ronan Keating', 'Madison Avenue', 'Céline Dion', '3 Doors Down',\n",
              "       'Carl Thomas', 'Mystikal', 'Fuel', 'Savage Garden', 'Westlife',\n",
              "       'All Saints', 'Erykah Badu', 'Marc Anthony', 'Matchbox Twenty',\n",
              "       'Gabrielle', 'Creed', 'The Corrs', 'Joe', 'Wheatus', 'Nelly',\n",
              "       'Shaggy', 'Nelly Furtado', 'Shakira', 'Jimmy Eat World', 'Train',\n",
              "       'Geri Halliwell', 'Blu Cantrell', 'Mary J. Blige', 'Faithless',\n",
              "       'Lasgo', 'iio', 'Emma Bunton', '112', 'Blue', 'Jessica Simpson',\n",
              "       'Crazy Town', 'Michael Jackson', 'Eve', 'Jennifer Lopez', 'Brandy',\n",
              "       'Nickelback', 'Daft Punk', 'Outkast', 'Fragma', 'Dido', 'P.O.D.',\n",
              "       'Christina Milian', 'Roger Sanchez', 'Gorillaz', '2Pac', 'Tamia',\n",
              "       'Jamiroquai', 'Case', 'Five', 'Rui Da Silva', 'Alien Ant Farm',\n",
              "       'Erick Sermon', 'D12', 'Usher', 'Atomic Kitten', 'Afroman',\n",
              "       'S Club 7', 'The Supermen Lovers', 'Mis-Teeq', 'Enya', 'Steps',\n",
              "       'Sunshine Anderson', 'Lenny Kravitz', 'Daniel Bedingfield',\n",
              "       'DB Boulevard', 'Ja Rule',\n",
              "       'DJ Pied Piper & The Masters Of Ceremonies', 'Musiq Soulchild',\n",
              "       'So Solid Crew', 'Basement Jaxx', 'Ludacris', 'Trick Daddy',\n",
              "       'Travis', 'OPM', 'K-Ci & JoJo', 'Staind', '3LW', 'Ginuwine',\n",
              "       'Lifehouse', 'Avril Lavigne', 'Vanessa Carlton', 'The Calling',\n",
              "       'No Doubt', 'Truth Hurts', 'Busta Rhymes', 'Diddy',\n",
              "       'Angie Martinez', 'Las Ketchup', 'Holly Valance', 'Sugababes',\n",
              "       'Marilyn Manson', 'Chad Kroeger', 'Scooter',\n",
              "       'Disturbing Tha Peace', 'Khia', 'Tweet', 'Gareth Gates', 'B2K',\n",
              "       'Dirty Vegas', 'Fat Joe', 'Liberty X', 'LL Cool J', 'Sean Paul',\n",
              "       'Faith Evans', 'Charli Baltimore', 'N.O.R.E.', 'Big Brovaz',\n",
              "       'Ashanti', 'Sophie Ellis-Bextor', 'Justin Timberlake', 'A1',\n",
              "       'Delta Goodrem', 'Alicia Keys', 'Coldplay', 'Big Tymers',\n",
              "       'DJ Sammy', 'Cam’ron', 'Elvis Presley', 'Alanis Morissette',\n",
              "       'The Goo Goo Dolls', 'Puddle Of Mudd', \"Blazin' Squad\", 'Default',\n",
              "       'Michelle Branch', '50 Cent', 'Beyoncé', 'Counting Crows',\n",
              "       'Black Eyed Peas', 't.A.T.u.', 'Benny Benassi', 'Panjabi MC',\n",
              "       'Jamelia', 'Evanescence', 'Three Days Grace',\n",
              "       'Lil Jon & The East Side Boyz', 'Baby Bash', 'The White Stripes',\n",
              "       'Youngbloodz', \"Lil' Kim\", 'Trapt', 'Simply Red', 'Lumidee',\n",
              "       'Girls Aloud', 'Room 5', 'Fatman Scoop', 'Pharrell Williams',\n",
              "       'Chingy', 'Ultrabeat', 'Frankie J', 'Snoop Dogg', 'Floetry',\n",
              "       'Electric Six', 'Rachel Stevens', 'Nas', 'Tyrese', 'Amanda Perez',\n",
              "       'Kelly Rowland', 'Junior Senior', 'Audioslave', 'Jaheim', 'Monica',\n",
              "       'The Roots', 'Fabolous', 'Kelly Clarkson', 'Switchfoot',\n",
              "       'Good Charlotte', 'Wayne Wonder', 'The Strokes', 'Will Young',\n",
              "       'Maroon 5', 'Hoobastank', 'Daddy Yankee', 'O-Zone', 'Terror Squad',\n",
              "       'Gwen Stefani', 'The Rasmus', 'Houston', 'Lloyd Banks', 'Akon',\n",
              "       'Jay Sean', 'Mario Winans', 'Eric Prydz', 'Ciara', 'Kelis',\n",
              "       'Spiderbait', 'George Michael', 'Nina Sky', 'Petey Pablo',\n",
              "       'Juanes', 'Ying Yang Twins', 'JoJo', 'The Shapeshifters',\n",
              "       'Kevin Lyttle', 'T.I.', 'DJ Casper', 'Twista', 'N.E.R.D', 'U2',\n",
              "       'Franz Ferdinand', 'J-Kwon', 'G-Unit', \"Lil' Flip\", 'Kanye West',\n",
              "       'Lemar', 'Green Day', 'Scissor Sisters', 'Special D.', 'Eamon',\n",
              "       'Katie Melua', 'Lloyd', 'LMC', 'The Streets', 'JUVENILE',\n",
              "       'Gary Jules', 'Ashlee Simpson', 'Mario', 'Rihanna', 'James Blunt',\n",
              "       'The Pussycat Dolls', 'Daniel Powter', 'Crazy Frog',\n",
              "       'The Chemical Brothers', 'Fort Minor', 'The Game', 'Chris Brown',\n",
              "       'Bodyrockers', 'Jeezy', 'David Banner', 'Trillville', 'D4L',\n",
              "       'Rob Thomas', 'Brian McFadden', 'Bobby V.', 'Pretty Ricky',\n",
              "       'Amerie', 'Natalie Imbruglia', 'Thirty Seconds To Mars',\n",
              "       'Will Smith', 'Kaiser Chiefs', 'Ray J', 'Papa Roach',\n",
              "       'Arctic Monkeys', 'Shayne Ward', 'T-Pain', 'Ryan Cabrera',\n",
              "       'Stereophonics', 'KT Tunstall', 'The All-American Rejects',\n",
              "       'Toby Keith', 'Foo Fighters', 'Amy Winehouse', 'Gnarls Barkley',\n",
              "       'Bob Sinclar', 'Chamillionaire', 'Fedde Le Grand', 'Cherish',\n",
              "       'Muse', 'Infernal', 'Cassie', 'E-40', 'Lil Jon',\n",
              "       'Armand Van Helden', 'The Notorious B.I.G.', 'Yung Joc',\n",
              "       'Take That', 'Fergie', 'Cascada', 'Meck', 'Dem Franchize Boyz',\n",
              "       'Fall Out Boy', 'Leona Lewis', 'Nick Lachey', 'Jibbs',\n",
              "       'Rascal Flatts', 'Keyshia Cole', 'Lily Allen', 'Ne-Yo',\n",
              "       'Bubba Sparxxx', 'Hinder', 'The Raconteurs', 'The Fratellis',\n",
              "       'Panic! At The Disco', 'Keane', 'Orson', 'Natasha Bedingfield',\n",
              "       'Razorlight', 'James Morrison', 'Snow Patrol', 'The Fray',\n",
              "       'Sandi Thom', 'My Chemical Romance', 'The Kooks', 'Mark Ronson',\n",
              "       \"Plain White T's\", 'Timbaland', 'Ida Corr', 'Alex Gaudino',\n",
              "       'September', 'Gym Class Heroes', 'Soulja Boy', 'Camille Jones',\n",
              "       'Shop Boyz', 'Finger Eleven', 'MiMS', 'Seether', 'Calvin Harris',\n",
              "       'Daughtry', 'Unk', 'Klaxons', 'Baby Boy Da Prince', 'Omarion',\n",
              "       'All Time Low', 'T2', 'Robyn', 'Paramore', 'Huey', 'Plies',\n",
              "       'Jim Jones', 'The Red Jumpsuit Apparatus', 'MIKA', 'Sean Kingston',\n",
              "       'Carrie Underwood', 'Just Jack', 'Bone Thugs-N-Harmony',\n",
              "       'Rich Boy', 'Manic Street Preachers', 'Elliott Yamin',\n",
              "       'Wyclef Jean', 'Boys Like Girls', 'J. Holiday', 'Flo Rida',\n",
              "       'Katy Perry', 'Kardinal Offishall', 'Madcon', 'Guru Josh Project',\n",
              "       'Lil Wayne', 'Basshunter', 'will.i.am', \"Colby O'Donis\",\n",
              "       'Miley Cyrus', 'Alesha Dixon', 'Dizzee Rascal', 'Gabriella Cilmi',\n",
              "       'Jack White', 'The Offspring', 'Estelle', 'Saving Abel',\n",
              "       'Pendulum', 'Danity Kane', 'M.I.A.', 'MGMT', 'The Ting Tings',\n",
              "       'The-Dream', 'Wiley', 'Sam Sparro', 'H two O', 'Metro Station',\n",
              "       'Trey Songz', 'OneRepublic', 'Alexandra Burke', 'Jordin Sparks',\n",
              "       'Kings of Leon', 'Duffy', 'David Archuleta', 'Gavin DeGraw',\n",
              "       'Jennifer Hudson', 'John Legend', 'Jonas Brothers', 'Lupe Fiasco',\n",
              "       'Adele', 'Lady Gaga', 'David Guetta', 'Taylor Swift', 'Pitbull',\n",
              "       'Skillet', 'The Prodigy', 'Kid Cudi', 'Agnes', 'Jeremih',\n",
              "       'Kevin Rudolf', 'The xx', 'Keri Hilson', 'Cheryl',\n",
              "       'Tinchy Stryder', 'Pixie Lott', 'JLS', '3OH!3', 'A.R. Rahman',\n",
              "       'Drake', 'Selena Gomez & The Scene', 'The Veronicas',\n",
              "       'Jason Derulo', 'Empire of the Sun', 'Cobra Starship', 'La Roux',\n",
              "       'Kasabian', 'Justin Bieber', 'Jamie Foxx', 'Jason Aldean',\n",
              "       'Shinedown', 'Asher Roth', 'Mumford & Sons', 'Bruno Mars',\n",
              "       'Stromae', 'Kesha', 'Taio Cruz', 'INNA', 'Far East Movement',\n",
              "       'Duck Sauce', 'Lucenzo', 'DJ Fresh', 'Edward Maya',\n",
              "       'Sidney Samson', 'Swedish House Mafia', 'Iyaz',\n",
              "       'Waka Flocka Flame', 'Tinie Tempah', 'Mike Posner',\n",
              "       'Yolanda Be Cool', 'Adam Lambert', 'Tim Berg',\n",
              "       'Cali Swag District', \"K'NAAN\", 'DJ Khaled', 'Aloe Blacc', 'B.o.B',\n",
              "       'Shontelle', 'Example', 'Plan B', 'The Saturdays', 'The Wanted',\n",
              "       'Ellie Goulding', 'Two Door Cinema Club', 'Young Money',\n",
              "       'Scouting For Girls', 'Travie McCoy', 'Owl City', 'Lady A',\n",
              "       'Neon Trees', 'Kris Allen', 'Matt Cardle', 'The Band Perry',\n",
              "       'LMFAO', 'Alexandra Stan', 'Lykke Li', 'Wiz Khalifa', 'Sak Noel',\n",
              "       'Olly Murs', 'Jessie J', 'M83', 'Labrinth', 'Nicole Scherzinger',\n",
              "       'Mann', 'Miguel', 'Diddy - Dirty Money', 'Professor Green',\n",
              "       'Chase & Status', 'Chip', 'Rizzle Kicks', 'Nicki Minaj',\n",
              "       'Mac Miller', 'Foster The People', 'Bad Meets Evil',\n",
              "       'Blake Shelton', 'Hot Chelle Rae', 'Grouplove', 'Christina Perri',\n",
              "       'Charlene Soraia', 'Carly Rae Jepsen', 'fun.', 'DEV', 'Skrillex',\n",
              "       'Kendrick Lamar', 'MARINA', 'PSY', 'Avicii',\n",
              "       'Asaf Avidan & the Mojos', 'Florence + The Machine',\n",
              "       'Azealia Banks', 'James Arthur', 'Michel Teló', 'Otto Knows',\n",
              "       'Icona Pop', 'Tyga', 'Grimes', 'Frank Ocean', 'The Script',\n",
              "       'ScHoolboy Q', 'Rita Ora', 'Alex Clare', 'Alesso', 'Guy Sebastian',\n",
              "       'Gotye', 'One Direction', 'Lana Del Rey', 'Emeli Sandé',\n",
              "       'Disclosure', 'alt-J', 'Rudimental', 'Demi Lovato', 'Little Mix',\n",
              "       'Cher Lloyd', 'Lorde', 'Robin Thicke', 'Imagine Dragons',\n",
              "       'Macklemore & Ryan Lewis', 'Bingo Players', 'Naughty Boy',\n",
              "       'Tom Odell', '2 Chainz', 'Martin Garrix', 'John Newman',\n",
              "       'The Neighbourhood', 'Sebastian Ingrosso', 'Capital Cities',\n",
              "       'Selena Gomez', 'Klangkarussell', 'A$AP Rocky', 'Ylvis', 'Baauer',\n",
              "       'AWOLNATION', 'Duke Dumont', 'Storm Queen', 'Wale', 'Birdy',\n",
              "       'Bastille', 'Bridgit Mendler', 'Zedd', 'Armin van Buuren',\n",
              "       'Of Monsters and Men', 'J. Cole', 'Childish Gambino', 'Passenger',\n",
              "       'Ariana Grande', 'Florida Georgia Line', 'Iggy Azalea',\n",
              "       'Sam Smith', 'MAGIC!', 'Sia', 'ZHU', 'Meghan Trainor', 'Tove Lo',\n",
              "       'Oliver Heldens', 'DJ Snake', 'Tinashe', 'Route 94',\n",
              "       'O.T. Genasis', 'Lilly Wood and The Prick', 'Bobby Shmurda',\n",
              "       'Nico & Vinz', 'Becky G', 'Sigma', 'The Chainsmokers', 'Rixton',\n",
              "       'Klingande', 'Mr. Probz', 'Paloma Faith', 'Kiesza', 'Kid Ink',\n",
              "       'Peking Duk', 'Milky Chance', 'Ed Sheeran', 'Gorgon City', 'MKTO',\n",
              "       'Charli XCX', 'Tiësto', '5 Seconds of Summer', 'G.R.L.',\n",
              "       'Clean Bandit', 'Alex & Sierra', 'Echosmith', 'Natalie La Rose',\n",
              "       'Vance Joy', 'Ella Henderson', 'Sheppard', 'Nick Jonas',\n",
              "       'Major Lazer', 'The Weeknd', 'Deorro', 'Rae Sremmurd',\n",
              "       'Robin Schulz', 'Philip George', 'Rob $tone', 'Lost Frequencies',\n",
              "       'Twenty One Pilots', 'Fifth Harmony', 'KALEO', 'Martin Solveig',\n",
              "       'Felix Jaehn', 'Galantis', 'Zara Larsson', 'Travis Scott',\n",
              "       'Years & Years', 'Lemaitre', 'Pia Mia', 'Silentó',\n",
              "       'The Strumbellas', 'Fetty Wap', 'SAYGRACE', 'X Ambassadors',\n",
              "       'R. City', 'Kygo', 'Tame Impala', 'Hozier', 'Alessia Cara',\n",
              "       'Meek Mill', 'Big Sean', 'Petit Biscuit', 'Shawn Mendes', 'Jack Ü',\n",
              "       'Bryson Tiller', 'Rich Homie Quan', 'Joel Adams', 'Jonas Blue',\n",
              "       'BØRNS', 'Sigala', 'Nicky Jam', 'Desiigner', 'Burak Yeter',\n",
              "       'WILLOW', 'G-Eazy', 'Astrid S', 'Future', 'Alok', 'Jon Bellion',\n",
              "       'Cheat Codes', 'Dua Lipa', 'Alan Walker', 'Kevin Gates',\n",
              "       'Marshmello', 'Fitz and The Tantrums', 'Anne-Marie',\n",
              "       'Charlie Puth', 'AlunaGeorge', 'MNEK', 'Mike Perry', 'Tory Lanez',\n",
              "       'Kungs', 'DNCE', '99 Souls', 'Illy', 'Kiiara', 'ZAYN',\n",
              "       'Steve Aoki', 'Flume', 'PARTYNEXTDOOR', 'Garrett Nash',\n",
              "       'Hilltop Hoods', 'Daya', 'Kent Jones', 'MØ', 'The Lumineers',\n",
              "       'Luis Fonsi', 'Camila Cabello', 'Billie Eilish', 'Lil Peep',\n",
              "       'A$AP Ferg', 'French Montana', '21 Savage', 'Axwell /\\\\ Ingrosso',\n",
              "       'J Balvin', 'Jax Jones', 'Ayo & Teo', 'Lil Uzi Vert',\n",
              "       'Playboi Carti', 'Chord Overstreet', 'Natti Natasha', 'Big Shaq',\n",
              "       \"Rag'n'Bone Man\", 'blackbear', 'Lil Pump', 'Kodak Black',\n",
              "       'A Boogie Wit da Hoodie', 'XXXTENTACION', 'Migos', 'Yo Gotti',\n",
              "       'Martin Jensen', 'The Vamps', 'Cardi B', 'Post Malone',\n",
              "       'Zay Hilfigerrr', 'Maggie Lindemann', 'Macklemore', 'Hayden James',\n",
              "       'Liam Payne', 'Starley', 'AJR', 'CNCO', 'Offset', 'Dynoro',\n",
              "       'Juice WRLD', 'Sheck Wes', '6ix9ine', 'Nio Garcia',\n",
              "       'Machine Gun Kelly', 'Jay Rock', 'Rich The Kid', 'Logic', 'EO',\n",
              "       'Dennis Lloyd', 'girl in red', 'Tom Walker', 'Sofía Reyes',\n",
              "       'Loud Luxury', 'NF', 'Maluma', 'Lil Baby', 'Ozuna', 'BlocBoy JB',\n",
              "       'Dean Lewis', 'YG', 'B Young', 'Reik', 'benny blanco', 'MK',\n",
              "       'Banx & Ranx', 'Ella Mai', 'FINNEAS', 'Hugh Jackman', 'Halsey',\n",
              "       'M.O', 'Cashmere Cat', 'Bazzi', 'Lil Dicky', 'Lauv', 'Khalid',\n",
              "       'Lil Nas X', 'Gesaffelstein', 'Regard', 'Lewis Capaldi', 'Mustard',\n",
              "       'NLE Choppa', 'Alec Benjamin', 'BLACKPINK', 'MEDUZA', 'Mabel',\n",
              "       'Saweetie', 'Lil Tecca', 'Russ Millions', 'Doja Cat', 'iann dior',\n",
              "       'Paulo Londra', 'Bad Bunny', 'Polo G', 'Young Thug', 'Anuel AA',\n",
              "       'Flipp Dinero', 'Dave', 'Ava Max', 'Young T & Bugsey', 'Stormzy',\n",
              "       'Tones And I', 'Pedro Capó', 'Lunay', 'Blueface', 'DaBaby',\n",
              "       'AJ Tracey', 'BTS', 'Tyler, The Creator', 'Ashley O',\n",
              "       'Dominic Fike', 'Megan Thee Stallion', 'Sam Feldt', 'Kehlani',\n",
              "       'Sech', 'NSG', 'Normani', 'Joel Corry', 'Blanco Brown'],\n",
              "      dtype=object)"
            ]
          },
          "metadata": {},
          "execution_count": 632
        }
      ]
    },
    {
      "cell_type": "code",
      "source": [
        "songs = df_spotify['song'].unique()\n",
        "for song in songs:\n",
        "  print(song)"
      ],
      "metadata": {
        "colab": {
          "base_uri": "https://localhost:8080/"
        },
        "id": "vPPxmUenBIQu",
        "outputId": "015f59ce-e3c8-4e18-90a3-db310396dd75"
      },
      "execution_count": 633,
      "outputs": [
        {
          "output_type": "stream",
          "name": "stdout",
          "text": [
            "Oops!...I Did It Again\n",
            "All The Small Things\n",
            "Breathe\n",
            "It's My Life\n",
            "Bye Bye Bye\n",
            "Thong Song\n",
            "The Real Slim Shady\n",
            "Rock DJ\n",
            "Say My Name\n",
            "Lady - Hear Me Tonight\n",
            "L'Amour Toujours\n",
            "Move Your Body - Gabry Ponte Original Radio Edit\n",
            "Freestyler\n",
            "Desert Rose\n",
            "Never Be The Same Again\n",
            "Try Again\n",
            "I'm Outta Love - Radio Edit\n",
            "Better Off Alone\n",
            "The Riddle\n",
            "The Next Episode\n",
            "In the End\n",
            "Sexbomb\n",
            "It Feels So Good\n",
            "Cold as Ice\n",
            "I Turn To You\n",
            "Take A Look Around\n",
            "Sandstorm\n",
            "What'chu Like (feat. Tyrese)\n",
            "The Time Is Now\n",
            "Don't Give Up\n",
            "Party Up\n",
            "Dance with Me\n",
            "Music\n",
            "No More\n",
            "Born to Make You Happy\n",
            "Get It On Tonite\n",
            "Spinning Around\n",
            "Big Pimpin'\n",
            "I Need You\n",
            "Separated\n",
            "Be With You\n",
            "He Wasn't Man Enough\n",
            "Bounce With Me (feat. Xscape) - Edited Album Version\n",
            "Forgot About Dre\n",
            "Hot Boyz\n",
            "Show Me the Meaning of Being Lonely\n",
            "Gotta Tell You\n",
            "Case Of The Ex (Whatcha Gonna Do)\n",
            "Shackles (Praise You)\n",
            "Wifey\n",
            "Doesn't Really Matter\n",
            "She Bangs - English Version\n",
            "He Can't Love U\n",
            "Incomplete\n",
            "I Just Wanna Love U (Give It 2 Me)\n",
            "Thank God I Found You (feat. Joe & 98°)\n",
            "Who Let The Dogs Out\n",
            "U Know What's Up (feat. Lisa Left Eye Lopes)\n",
            "Can't Fight The Moonlight\n",
            "Go Let It Out\n",
            "Hey Baby (Radio Mix)\n",
            "Most Girls\n",
            "Against All Odds (Take A Look at Me Now) (feat. Westlife)\n",
            "Fill Me In\n",
            "I Turn to You\n",
            "American Pie\n",
            "Otherside\n",
            "I Like It\n",
            "7 Days\n",
            "Maria Maria (feat. The Product G&B)\n",
            "Don't Think I'm Not\n",
            "There You Go\n",
            "Shalala Lala\n",
            "Life Is A Rollercoaster\n",
            "Don't Call Me Baby\n",
            "Jumpin', Jumpin'\n",
            "That's the Way It Is\n",
            "Kryptonite\n",
            "I Wish\n",
            "Shake Ya Ass\n",
            "Hemorrhage (In My Hands)\n",
            "Where I Wanna Be\n",
            "Crash and Burn\n",
            "My Love\n",
            "Pure Shores\n",
            "Independent Women, Pt. 1\n",
            "It's Gonna Be Me\n",
            "Bag Lady\n",
            "You Sang To Me\n",
            "Bent\n",
            "Rise\n",
            "Shape of My Heart\n",
            "With Arms Wide Open\n",
            "Breathless\n",
            "I Wanna Know\n",
            "Teenage Dirtbag\n",
            "Come on over Baby (All I Want Is You) - Radio Version\n",
            "Higher\n",
            "Lucky\n",
            "Country Grammar (Hot Shit)\n",
            "It Wasn't Me\n",
            "Survivor\n",
            "Stan\n",
            "Can't Get You out of My Head\n",
            "Lady Marmalade - From Moulin Rouge Soundtrack\n",
            "I'm Like A Bird\n",
            "Whenever, Wherever\n",
            "The Middle\n",
            "Drops of Jupiter (Tell Me)\n",
            "It's Raining Men\n",
            "Hit 'Em Up Style (Oops!)\n",
            "I'm a Slave 4 U\n",
            "In Your Eyes\n",
            "One Minute Man (feat. Ludacris)\n",
            "Family Affair\n",
            "We Come 1 - Radio Edit\n",
            "Rollin' (Air Raid Vehicle)\n",
            "Something\n",
            "Rapture (feat.Nadia Ali)\n",
            "What Took You So Long?\n",
            "It's Over Now\n",
            "All Rise\n",
            "Irresistible\n",
            "Butterfly\n",
            "You Rock My World\n",
            "Let Me Blow Ya Mind\n",
            "Ain't It Funny\n",
            "Another Day in Paradise - R&B-Version\n",
            "How You Remind Me\n",
            "One More Time\n",
            "Ms. Jackson\n",
            "Everytime You Need Me - Radio Version\n",
            "Loverboy\n",
            "Thank You\n",
            "Stutter (feat. Mystikal) - Double Take Remix\n",
            "Youth of the Nation\n",
            "Play\n",
            "Get Ur Freak On\n",
            "Nobody Wants to Be Lonely (with Christina Aguilera)\n",
            "AM To PM\n",
            "Another Chance\n",
            "Clint Eastwood\n",
            "Until The End Of Time\n",
            "Stranger in My House\n",
            "No More Drama\n",
            "Love Don't Cost a Thing\n",
            "Little L\n",
            "Missing You\n",
            "Peaches & Cream\n",
            "Let's Dance - Radio Edit\n",
            "Touch Me (Radio Edit) [feat. Cassandra]\n",
            "Smooth Criminal\n",
            "Music (feat. Marvin Gaye)\n",
            "Purple Pills\n",
            "Pop Ya Collar - Radio Edit\n",
            "Don't Tell Me\n",
            "If You Come Back\n",
            "Eternal Flame - Single Version\n",
            "Where the Party At (feat. Nelly)\n",
            "Because I Got High\n",
            "Don't Stop Movin'\n",
            "Turn Off The Light\n",
            "Starlight - Radio Edit\n",
            "All I Want - Sunship Radio Edit\n",
            "Promise\n",
            "Have You Ever\n",
            "Only Time\n",
            "There You'll Be\n",
            "Lovin' Each Day\n",
            "Bootylicious\n",
            "It's the Way You Make Me Feel\n",
            "Heard It All Before\n",
            "Again\n",
            "Gotta Get Thru This - D'N'D Radio Edit\n",
            "Point Of View - Radio Edit\n",
            "All For You\n",
            "Whole Again\n",
            "Livin' It Up\n",
            "Do You Really Like It? - Radio Edit\n",
            "I'm Real (feat. Ja Rule) - Murder Remix\n",
            "Love\n",
            "21 Seconds\n",
            "Eternity\n",
            "Romeo\n",
            "Southern Hospitality (Featuring Pharrell)\n",
            "Ride Wit Me\n",
            "I'm a Thug\n",
            "Sing\n",
            "Izzo (H.O.V.A.)\n",
            "Out Of Reach\n",
            "Heaven Is a Halfpipe (If I Die)\n",
            "Crazy\n",
            "It's Been Awhile\n",
            "No More (Baby I'ma Do Right)\n",
            "Differences\n",
            "Gone\n",
            "Hanging By A Moment\n",
            "Dilemma\n",
            "Without Me\n",
            "Complicated\n",
            "A Thousand Miles\n",
            "Wherever You Will Go\n",
            "Underneath Your Clothes\n",
            "Underneath It All\n",
            "Addictive\n",
            "I Know What You Want (feat. Flipmode Squad)\n",
            "'Till I Collapse\n",
            "I Need a Girl (Pt. 2) [feat. Loon, Ginuwine & Mario Winans]\n",
            "When You Look At Me - Radio Edit\n",
            "Die Another Day\n",
            "I'm Gonna Be Alright (feat. Nas)\n",
            "If I Could Go! (feat. Lil' Mo & Sacario)\n",
            "The Ketchup Song (Aserejé) - Spanglish Version\n",
            "Rock The Boat\n",
            "Kiss Kiss\n",
            "Round Round\n",
            "Tainted Love\n",
            "What About Us?\n",
            "Hero (feat. Josey Scott)\n",
            "Overprotected - Radio Edit\n",
            "The Logical Song\n",
            "4 My People (feat. Eve)\n",
            "More Than A Woman\n",
            "Full Moon\n",
            "One Love\n",
            "Pass The Courvoisier Part II (feat. P. Diddy & Pharrell) - Remix\n",
            "A New Day Has Come - Radio Remix\n",
            "Nessaja\n",
            "Gangsta Lovin'\n",
            "Move Bitch\n",
            "My Neck, My Back (Lick It)\n",
            "Oops (Oh My) [feat. Missy Elliott]\n",
            "Hot In Herre\n",
            "Anyone of Us (Stupid Mistake)\n",
            "Dirrty (feat. Redman)\n",
            "Uh Huh\n",
            "Freak Like Me\n",
            "Days Go By\n",
            "What's Luv? (feat. Ja-Rule & Ashanti)\n",
            "Just A Little\n",
            "Hella Good\n",
            "Luv U Better\n",
            "Can't Stop\n",
            "Halfcrazy\n",
            "Gimme the Light\n",
            "I Love You\n",
            "Down 4 U\n",
            "Love at First Sight\n",
            "Nothin'\n",
            "Unchained Melody\n",
            "I Need a Girl (Pt. 1) [feat. Usher & Loon]\n",
            "Nu Flow\n",
            "Hey Baby\n",
            "Baby\n",
            "Murder On The Dancefloor\n",
            "Like I Love You\n",
            "Rainy Dayz\n",
            "Caught in the Middle\n",
            "Cleanin' Out My Closet\n",
            "Happy\n",
            "Born to Try\n",
            "Get the Party Started\n",
            "A Woman's Worth\n",
            "Clocks\n",
            "Work It\n",
            "If Tomorrow Never Comes\n",
            "Still Fly\n",
            "My Sacrifice\n",
            "Always On Time\n",
            "Foolish\n",
            "Sk8er Boi\n",
            "Heaven\n",
            "I'm Not a Girl, Not Yet a Woman\n",
            "Oh Boy\n",
            "By the Way\n",
            "A Little Less Conversation - JXL Radio Edit Remix\n",
            "The Tide Is High - Radio Mix\n",
            "Girlfriend\n",
            "Somethin' Stupid\n",
            "Hands Clean\n",
            "U Don't Have to Call\n",
            "One Last Breath - Radio Version\n",
            "Here Is Gone\n",
            "She Hates Me\n",
            "Rollout (My Business)\n",
            "Crossroads - Radio Edit\n",
            "Wasting My Time\n",
            "All You Wanted\n",
            "If You're Not The One\n",
            "Escape\n",
            "Blurry\n",
            "In My Place\n",
            "The Whole World (feat. Killer Mike)\n",
            "Don't Let Me Get Me - Radio Edit\n",
            "In Da Club\n",
            "Get Busy\n",
            "Lose Yourself - From 8 Mile Soundtrack\n",
            "Crazy In Love (feat. Jay-Z)\n",
            "Big Yellow Taxi\n",
            "Where Is The Love?\n",
            "Jenny from the Block (feat. Jadakiss & Styles P.) - Track Masters Remix\n",
            "Shut Up\n",
            "All The Things She Said\n",
            "Satisfaction (Isak Original Extended) - Benny Benassi Presents The Biz\n",
            "Mundian to Bach Ke\n",
            "Scandalous - U.S. Radio Edit\n",
            "03' Bonnie & Clyde\n",
            "P.I.M.P.\n",
            "Superstar\n",
            "Faint\n",
            "X Gon' Give It To Ya\n",
            "Bring Me To Life\n",
            "Hole In The Head\n",
            "Rise & Fall (feat. Sting)\n",
            "I Hate Everything About You\n",
            "Get Low\n",
            "Bump, Bump, Bump (feat. P. Diddy)\n",
            "Suga Suga\n",
            "Miss You - Main\n",
            "Me Against the Music (feat. Madonna) - LP Version / Video Mix\n",
            "Sorry Seems To Be The Hardest Word\n",
            "Lost Without You\n",
            "Rock Your Body\n",
            "Seven Nation Army\n",
            "Damn! (feat. Lil' Jon) - Club Mix\n",
            "Baby Boy (feat. Sean Paul)\n",
            "Magic Stick\n",
            "Can't Hold Us Down (feat. Lil' Kim)\n",
            "Someday\n",
            "U Make Me Wanna - Radio Edit\n",
            "Rain On Me\n",
            "Headstrong\n",
            "Sunrise\n",
            "Never Leave You (Uh Oooh, Uh Oooh)\n",
            "Sound Of The Underground\n",
            "Shake Ya Tailfeather (feat. P. Diddy & Murphy Lee) - 2016 Remaster\n",
            "Make Luv\n",
            "Be Faithful\n",
            "Behind Blue Eyes\n",
            "Too Lost In You\n",
            "Wanksta - From 8 Mile Soundtrack\n",
            "Frontin' (feat. Jay-Z) - Club Mix\n",
            "Right Thurr\n",
            "Sing For The Moment\n",
            "The Jump Off (feat. Mr. Cheeks) - Remix\n",
            "My Love Is Like...Wo - Main Mix\n",
            "21 Questions\n",
            "Air Force Ones\n",
            "Gossip Folks (feat. Ludacris)\n",
            "Jump\n",
            "Pretty Green Eyes - Radio Edit\n",
            "Fighter\n",
            "Don't Wanna Try\n",
            "Beautiful\n",
            "Say Yes\n",
            "In Those Jeans\n",
            "Danger! High Voltage - Soulchild Radio Mix\n",
            "Sweet Dreams My LA Ex - Radio Edit\n",
            "Stand Up\n",
            "I Can\n",
            "When I'm Gone\n",
            "How You Gonna Act Like That\n",
            "Cry Me a River\n",
            "Mandy\n",
            "Angel\n",
            "Excuse Me Miss\n",
            "Stole\n",
            "Rock Wit U (Awww Baby)\n",
            "Move Your Feet\n",
            "Like a Stone\n",
            "Like Glue\n",
            "Put That Woman First\n",
            "All I Have (feat. LL Cool J)\n",
            "So Gone\n",
            "White Flag\n",
            "The Seed (2.0)\n",
            "Holidae In\n",
            "Can't Let You Go (feat. Mike Shorey & Lil' Mo)\n",
            "Miss Independent\n",
            "Mesmerize\n",
            "Unwell\n",
            "The Way You Move (feat. Sleepy Brown)\n",
            "Into You (feat. Tamia)\n",
            "Meant to Live\n",
            "Lifestyles of the Rich & Famous\n",
            "No Letting Go\n",
            "Reptilia\n",
            "I'm with You\n",
            "Leave Right Now\n",
            "Yeah! (feat. Lil Jon & Ludacris)\n",
            "This Love\n",
            "Toxic\n",
            "Hey Ya!\n",
            "The Reason\n",
            "Left Outside Alone\n",
            "Gasolina\n",
            "Let's Get It Started - Spike Mix\n",
            "Dragostea Din Tei\n",
            "Lean Back\n",
            "Sick and Tired\n",
            "What You Waiting For?\n",
            "Only U - No Intro\n",
            "In the Shadows\n",
            "I Like That\n",
            "Naughty Girl\n",
            "Numb\n",
            "On Fire\n",
            "Locked Up\n",
            "My Band\n",
            "Eyes On You - Radio Mix\n",
            "I Don't Wanna Know (feat. Enya & P. Diddy) - 2016 Remaster\n",
            "Lose My Breath\n",
            "Call on Me - Radio Mix\n",
            "Goodies (feat. Petey Pablo)\n",
            "Trick Me\n",
            "Headsprung\n",
            "Black Betty - Edit\n",
            "Amazing\n",
            "My Prerogative\n",
            "Move Ya Body\n",
            "Freek-A-Leek\n",
            "Dirt Off Your Shoulder\n",
            "La Camisa Negra\n",
            "Nobody's Home\n",
            "Radio\n",
            "Hey Mama\n",
            "Salt Shaker\n",
            "Not In Love - Radio Mix\n",
            "Milkshake\n",
            "Breaking the Habit\n",
            "Leave (Get Out) - Radio Edit\n",
            "Dip It Low\n",
            "Read Your Mind\n",
            "Just Lose It\n",
            "Drop It Like It's Hot\n",
            "I'm Still in Love with You (feat. Sasha)\n",
            "Lola's Theme - Radio Edit\n",
            "How Come\n",
            "Good Luck\n",
            "Turn Me On\n",
            "One Call Away\n",
            "Bring Em Out\n",
            "Cha Cha Slide - Hardino Mix\n",
            "I Believe in You\n",
            "Overnight Celebrity\n",
            "She Wants To Move\n",
            "Everytime\n",
            "Vertigo\n",
            "Take Me Out\n",
            "Tipsy - Club Mix\n",
            "Wanna Get To Know You\n",
            "Sunshine (feat. Lea)\n",
            "Jesus Walks\n",
            "My Immortal\n",
            "My Place\n",
            "If There's Any Justice\n",
            "Slow Jamz\n",
            "American Idiot\n",
            "Millionaire\n",
            "Comfortably Numb\n",
            "Diary (feat. Tony! Toni! Tone! & Jermaine Paul)\n",
            "Through The Wire\n",
            "Come With Me - Radio Edit\n",
            "Splash Waterfalls\n",
            "My Happy Ending\n",
            "Fuck It (I Don't Want You Back)\n",
            "Me, Myself and I\n",
            "Here Without You\n",
            "All Falls Down\n",
            "Sunshine (feat. Anthony Hamilton)\n",
            "The Closest Thing to Crazy\n",
            "My Boo\n",
            "Southside\n",
            "Take Me To The Clouds Above - LMC Vs. U2 / Radio Edit\n",
            "Fit but You Know It\n",
            "Slow Motion\n",
            "Love Machine\n",
            "With You\n",
            "Like Toy Soldiers\n",
            "Mad World (Feat. Michael Andrews)\n",
            "Pieces Of Me\n",
            "You Don't Know My Name\n",
            "We Belong Together\n",
            "Let Me Love You\n",
            "Gold Digger\n",
            "Pon de Replay\n",
            "Candy Shop\n",
            "You're Beautiful\n",
            "Boulevard of Broken Dreams\n",
            "Don't Cha\n",
            "Bad Day\n",
            "Bananza (Belly Dancer)\n",
            "Hung Up\n",
            "Just A Lil Bit\n",
            "Axel F\n",
            "Ass Like That\n",
            "We Be Burnin'\n",
            "Rich Girl\n",
            "Galvanize\n",
            "Remember the Name (feat. Styles of Beyond)\n",
            "Disco Inferno\n",
            "How We Do\n",
            "Run It! (feat. Juelz Santana)\n",
            "It's Like That\n",
            "My Humps\n",
            "Oh (feat. Ludacris)\n",
            "Outta Control - Remix\n",
            "Baby, I'm Back\n",
            "Get Right\n",
            "Numb / Encore\n",
            "Hate It Or Love It\n",
            "Feel Good Inc.\n",
            "Don't Phunk With My Heart\n",
            "Lonely\n",
            "I Like The Way - Radio Edit\n",
            "Push The Button\n",
            "Soul Survivor\n",
            "Mockingbird\n",
            "La Tortura (feat. Alejandro Sanz)\n",
            "DARE\n",
            "Signs\n",
            "Tripping\n",
            "Some Cut\n",
            "Laffy Taffy\n",
            "Lose Control (feat. Ciara & Fat Man Scoop)\n",
            "Lonely No More\n",
            "Almost Here\n",
            "Slow Down - 12 Version\n",
            "Grind With Me\n",
            "Diamonds From Sierra Leone - Remix\n",
            "Get It Poppin' (feat. Nelly) - Radio Version\n",
            "Soldier (feat. T.I. & Lil' Wayne)\n",
            "1, 2 Step (feat. Missy Elliott) - Main\n",
            "1 Thing\n",
            "Get Back\n",
            "Do You Want To\n",
            "Shiver\n",
            "Hollaback Girl\n",
            "Your Body\n",
            "The Kill\n",
            "Karma\n",
            "Ghetto Gospel\n",
            "Don't Love You No More (I'm Sorry)\n",
            "Nine Million Bicycles\n",
            "Lovers And Friends\n",
            "Don't Forget About Us - Radio Edit\n",
            "Wait (The Whisper Song)\n",
            "Switch\n",
            "Like You (feat. Ciara)\n",
            "Everyday I Love You Less And Less\n",
            "Behind These Hazel Eyes\n",
            "Don't Lie\n",
            "You Raise Me Up\n",
            "One Wish\n",
            "Scars\n",
            "I Bet You Look Good On The Dancefloor\n",
            "That's My Goal\n",
            "Let Me Hold You (feat. Omarion)\n",
            "I Predict A Riot\n",
            "Caught Up\n",
            "Because of You\n",
            "Let Me Go\n",
            "Photograph\n",
            "I'm Sprung\n",
            "Cater 2 U\n",
            "Stickwitu\n",
            "True\n",
            "Dakota\n",
            "Over And Over\n",
            "Speed of Sound\n",
            "Suddenly I See\n",
            "Girl\n",
            "Since U Been Gone\n",
            "Sometimes You Can't Make It On Your Own\n",
            "Dirty Little Secret\n",
            "As Good As I Once Was\n",
            "Cool\n",
            "Best of You\n",
            "Hips Don't Lie (feat. Wyclef Jean)\n",
            "Temperature\n",
            "SexyBack (feat. Timbaland)\n",
            "Irreplaceable\n",
            "Rehab\n",
            "SOS\n",
            "Touch It\n",
            "Maneater\n",
            "Rock This Party - Everybody Dance Now\n",
            "Come to Me (feat. Nicole Scherzinger)\n",
            "Sorry\n",
            "Ridin'\n",
            "Pump It\n",
            "Promiscuous\n",
            "Put Your Hands Up for Detroit - Radio Edit\n",
            "(When You Gonna) Give It Up to Me (feat. Keyshia Cole) - Radio Version\n",
            "Buttons\n",
            "Get Up (feat. Chamillionaire)\n",
            "Shake That\n",
            "Do It To It\n",
            "Supermassive Black Hole\n",
            "Gimme That\n",
            "From Paris to Berlin\n",
            "Me & U\n",
            "U and Dat (feat. T. Pain & Kandi Girl)\n",
            "Beep\n",
            "Snap Yo Fingers\n",
            "My My My - Radio Edit\n",
            "Nasty Girl (feat. Diddy, Nelly, Jagged Edge & Avery Storm) - 2005 Remaster\n",
            "It's Goin' Down (feat. Nitti)\n",
            "No Promises\n",
            "My Love (feat. T.I.)\n",
            "Savin' Me\n",
            "Grillz\n",
            "Patience\n",
            "London Bridge\n",
            "Everytime We Touch - Radio Edit\n",
            "Control Myself\n",
            "Deja Vu (feat. Jay-Z)\n",
            "Stupid Girls\n",
            "Bossy\n",
            "Love Generation - Radio Edit\n",
            "Thunder in My Heart Again (Radio Edit)\n",
            "Be Without You - Kendu Mix\n",
            "Something Kinda Ooooh\n",
            "Unfaithful\n",
            "Touch The Sky\n",
            "Lean Wit It, Rock Wit It\n",
            "Call Me When You're Sober\n",
            "Pullin' Me Back\n",
            "Far Away\n",
            "Dance, Dance\n",
            "A Moment Like This\n",
            "What You Know\n",
            "Money Maker\n",
            "What's Left Of Me\n",
            "Chain Hang Low\n",
            "When The Sun Goes Down\n",
            "Life is a Highway\n",
            "Check On It (feat. Slim Thug)\n",
            "Smile\n",
            "Sexy Love\n",
            "Too Little Too Late\n",
            "One\n",
            "Ms. New Booty\n",
            "You Know I'm No Good\n",
            "What Hurts The Most\n",
            "Dani California\n",
            "I Don't Feel Like Dancin'\n",
            "So Sick\n",
            "Lips Of An Angel\n",
            "Steady, As She Goes\n",
            "Chelsea Dagger\n",
            "Where'd You Go (feat. Holly Brook & Jonah Matranga)\n",
            "I Write Sins Not Tragedies\n",
            "Goodbye My Lover\n",
            "Ain't No Other Man\n",
            "The Rose\n",
            "Is It Any Wonder?\n",
            "No Tomorrow\n",
            "I'm N Luv (Wit a Stripper) (feat. Mike Jones)\n",
            "Black Horse And The Cherry Tree\n",
            "Unwritten\n",
            "America\n",
            "You Give Me Something\n",
            "You're All I Have\n",
            "How to Save a Life\n",
            "I Wish I Was a Punk Rocker (with Flowers in My Hair)\n",
            "Welcome to the Black Parade\n",
            "In The Morning\n",
            "Wonderful World\n",
            "Yo (Excuse Me Miss)\n",
            "Who Knew\n",
            "Naive\n",
            "Bleeding Love\n",
            "Umbrella\n",
            "Gimme More\n",
            "Big Girls Don't Cry (Personal)\n",
            "Valerie (feat. Amy Winehouse) - Version Revisited\n",
            "Hey There Delilah\n",
            "What Goes Around.../...Comes Around (Interlude)\n",
            "The Sweet Escape\n",
            "The Way I Are\n",
            "Say It Right\n",
            "Let Me Think About It\n",
            "Destination Calabria - Radio Edit\n",
            "Cry for You\n",
            "Smack That\n",
            "Give It To Me\n",
            "Ayo Technology\n",
            "Proper Education - Radio Edit\n",
            "Put Your Hands Up For Detroit - Radio Edit\n",
            "Like a Boy\n",
            "Stronger\n",
            "Beautiful Liar\n",
            "Cupid's Chokehold / Breakfast in America - Radio Mix\n",
            "I Wanna Love You\n",
            "Crank That (Soulja Boy)\n",
            "Make It Rain\n",
            "U + Ur Hand\n",
            "Shut Up And Drive\n",
            "Get It Shawty\n",
            "Can't Tell Me Nothing\n",
            "The Creeps - Fedde Le Grand Radio Mix\n",
            "What I've Done\n",
            "Last Night\n",
            "Kiss Kiss (feat. T-Pain)\n",
            "Party Like A Rock Star\n",
            "Paralyzer\n",
            "Summer Love\n",
            "This Is Why I'm Hot\n",
            "Make Me Better\n",
            "Fake It\n",
            "Brianstorm\n",
            "Glamorous\n",
            "Bleed It Out\n",
            "Teenagers\n",
            "Acceptable in the 80's\n",
            "About You Now\n",
            "Because Of You\n",
            "It's Not Over\n",
            "Walk It Out\n",
            "You\n",
            "Golden Skans\n",
            "Bartender (feat. Akon)\n",
            "The Way I Live - Main Explicit\n",
            "Fergalicious\n",
            "Ice Box\n",
            "On the Hotline - Amended Version\n",
            "Rockstar\n",
            "Thnks fr th Mmrs\n",
            "LoveStoned / I Think She Knows (Interlude)\n",
            "Dear Maria, Count Me In\n",
            "Back To Black\n",
            "Let It Go\n",
            "Do You Know? (The Ping Pong Song)\n",
            "Heartbroken - Edit\n",
            "With Every Heartbeat\n",
            "Makes Me Wonder\n",
            "This Ain't A Scene, It's An Arms Race\n",
            "Misery Business\n",
            "Better Than Me\n",
            "Pop, Lock & Drop It - Video Edit\n",
            "The Pretender\n",
            "Shawty (feat. T Pain)\n",
            "Ruby\n",
            "Stop Me (feat. Daniel Merriweather)\n",
            "Outta My System (feat. T-Pain & Johntá Austin)\n",
            "We Fly High\n",
            "Face Down\n",
            "Grace Kelly\n",
            "Candyman\n",
            "Beautiful Girls\n",
            "Don't Matter\n",
            "1973\n",
            "Before He Cheats\n",
            "Starz In Their Eyes\n",
            "Buy U a Drank (Shawty Snappin') (feat. Yung Joc)\n",
            "I Tried\n",
            "When You're Gone\n",
            "Throw Some D's\n",
            "Love Today\n",
            "Your Love Alone Is Not Enough (feat. Nina Persson)\n",
            "Wait for You\n",
            "Sweetest Girl (Dollar Bill) (feat. Akon, Lil' Wayne & Niia)\n",
            "The Great Escape\n",
            "Rule The World - Radio Edit\n",
            "Bed\n",
            "Snow (Hey Oh)\n",
            "Runaway Love\n",
            "Low (feat. T-Pain)\n",
            "I Kissed A Girl\n",
            "Take A Bow\n",
            "No One\n",
            "Apologize\n",
            "If I Were a Boy\n",
            "Dangerous\n",
            "Beggin (original version)\n",
            "Disturbia\n",
            "Infinity 2008\n",
            "Break the Ice\n",
            "Lollipop\n",
            "Now You're Gone - Video Edit\n",
            "Flashing Lights\n",
            "4 Minutes (feat. Justin Timberlake & Timbaland)\n",
            "Hot N Cold\n",
            "Don't Stop The Music\n",
            "Sensual Seduction\n",
            "Right Now (Na Na Na)\n",
            "Womanizer\n",
            "Pjanoo - Radio Edit\n",
            "Work\n",
            "Put On\n",
            "Give It 2 Me\n",
            "When I Grow Up\n",
            "Heartbreaker\n",
            "Piece of Me\n",
            "Live Your Life\n",
            "Closer\n",
            "A Milli\n",
            "What You Got\n",
            "See You Again\n",
            "All I Ever Wanted - Radio Edit\n",
            "The Boy Does Nothing\n",
            "Dance Wiv Me - Radio Edit\n",
            "Sweet About Me\n",
            "Another Way to Die\n",
            "Hypnotized (feat. Akon)\n",
            "I Hate This Part\n",
            "Take You There\n",
            "Pocketful of Sunshine\n",
            "You're Gonna Go Far, Kid\n",
            "Homecoming\n",
            "American Boy\n",
            "Addicted\n",
            "Propane Nightmares\n",
            "My Life\n",
            "Damaged\n",
            "So What\n",
            "Love Lockdown\n",
            "Cookie Jar (feat. The-Dream)\n",
            "Paper Planes\n",
            "It's Not My Time\n",
            "Wow\n",
            "Touch My Body\n",
            "Kids\n",
            "Shut Up and Let Me Go\n",
            "Got Money\n",
            "Into the Night (feat. Chad Kroeger)\n",
            "I Luv Your Girl\n",
            "Wearing My Rolex - Radio Edit\n",
            "Love in This Club (feat. Young Jeezy)\n",
            "Black & Gold - Radio Edit\n",
            "What's It Gonna Be (feat. Platnum)\n",
            "That's Not My Name\n",
            "Bust It Baby, Pt. 2 (feat. Ne-Yo)\n",
            "Broken Strings\n",
            "Run\n",
            "Shake It\n",
            "Whatever You Like\n",
            "Can't Help but Wait\n",
            "Stop And Stare\n",
            "Hallelujah\n",
            "Just Fine\n",
            "One Step At a Time\n",
            "Viva La Vida\n",
            "Sex on Fire\n",
            "Good Life\n",
            "Mercy\n",
            "Crush\n",
            "Suffocate - Superclean\n",
            "In Love With a Girl\n",
            "Tattoo\n",
            "Violet Hill\n",
            "Sexy Can I feat. Yung Berg\n",
            "Spotlight\n",
            "Green Light (feat. André 3000)\n",
            "Burnin' Up\n",
            "Superstar (feat. Matthew Santos)\n",
            "Forever\n",
            "Chasing Pavements\n",
            "Better in Time\n",
            "Clumsy\n",
            "Can't Believe It (feat. Lil' Wayne)\n",
            "I Gotta Feeling\n",
            "Poker Face\n",
            "Halo\n",
            "Sexy Bitch (feat. Akon)\n",
            "Right Round\n",
            "Love Story\n",
            "Hotel Room Service\n",
            "Circus\n",
            "LoveGame\n",
            "Monster\n",
            "Omen\n",
            "Meet Me Halfway\n",
            "Heartless\n",
            "Day 'N' Nite (Nightmare)\n",
            "Just Dance\n",
            "If U Seek Amy\n",
            "I Know You Want Me (Calle Ocho)\n",
            "Obsessed\n",
            "Sweet Dreams\n",
            "Release Me\n",
            "Boom Boom Pow\n",
            "She Wolf\n",
            "Paparazzi\n",
            "Empire State Of Mind\n",
            "All The Right Moves\n",
            "Birthday Sex\n",
            "Evacuate The Dancefloor\n",
            "New Divide\n",
            "Let It Rock\n",
            "Run This Town\n",
            "Bad Romance\n",
            "We Made You\n",
            "Bonkers\n",
            "Love Sex Magic (feat. Justin Timberlake)\n",
            "Russian Roulette\n",
            "Turn My Swag On\n",
            "Intro\n",
            "Down\n",
            "Turnin Me On - Original Dirty\n",
            "When Love Takes Over (feat. Kelly Rowland)\n",
            "Fight For This Love\n",
            "Kiss Me Thru The Phone\n",
            "Crack A Bottle\n",
            "Sober\n",
            "Number 1\n",
            "Mama Do (Uh Oh, Uh Oh)\n",
            "Beat Again - Radio Edit\n",
            "DONTTRUSTME\n",
            "Jai Ho! (You Are My Destiny)\n",
            "Bad Boys (feat. Flo Rida)\n",
            "Break Up\n",
            "Naturally\n",
            "Untouched\n",
            "Throw It In The Bag\n",
            "Whatcha Say\n",
            "Not Fair\n",
            "Dead And Gone\n",
            "Fire Burning\n",
            "Walking On A Dream\n",
            "Good Girls Go Bad (feat. Leighton Meester)\n",
            "If Today Was Your Last Day\n",
            "Bulletproof\n",
            "Fire\n",
            "I'm Not Alone - Radio Edit\n",
            "One Time\n",
            "Blame It\n",
            "In For The Kill\n",
            "Uprising\n",
            "Gotta Be Somebody\n",
            "Holiday\n",
            "Single Ladies (Put a Ring on It)\n",
            "Love Drunk\n",
            "Rockin' That Shit\n",
            "Secrets\n",
            "Everybody in Love\n",
            "Big Green Tractor\n",
            "Never Say Never\n",
            "The Fear\n",
            "Best I Ever Had\n",
            "Already Gone\n",
            "Party In The U.S.A.\n",
            "Battlefield\n",
            "Mad\n",
            "21 Guns\n",
            "Knock You Down\n",
            "You Belong With Me\n",
            "Second Chance\n",
            "I Love College\n",
            "Waking Up In Vegas\n",
            "My Life Would Suck Without You\n",
            "Little Lion Man\n",
            "You Found Me\n",
            "Just the Way You Are\n",
            "Love The Way You Lie\n",
            "Alors on danse - Radio Edit\n",
            "TiK ToK\n",
            "Memories (feat. Kid Cudi)\n",
            "Dynamite\n",
            "Only Girl (In The World)\n",
            "California Gurls\n",
            "Take It Off\n",
            "Hot - Play & Win Radio Version\n",
            "Like A G6\n",
            "Gettin' Over You (feat. Fergie & LMFAO)\n",
            "Barbra Streisand - Radio Edit\n",
            "Danza Kuduro (feat. Don Omar)\n",
            "Te Amo\n",
            "Carry Out (Featuring Justin Timberlake)\n",
            "Gold Dust - Radio Edit\n",
            "Stereo Love - Radio Edit\n",
            "Break Your Heart\n",
            "Imma Be\n",
            "Riverside\n",
            "Not Afraid\n",
            "Alejandro\n",
            "Rude Boy\n",
            "Beautiful Monster\n",
            "Starstrukk\n",
            "The Time (Dirty Bit)\n",
            "Commander\n",
            "One (Your Name) - Radio Edit\n",
            "Deuces (feat. Tyga & Kevin McCall)\n",
            "DJ Got Us Fallin' In Love (feat. Pitbull)\n",
            "Replay\n",
            "Club Can't Handle Me (feat. David Guetta)\n",
            "Eenie Meenie\n",
            "No Hands (feat. Roscoe Dash & Wale)\n",
            "Written in the Stars (feat. Eric Turner)\n",
            "Talking to the Moon\n",
            "Can't Be Tamed\n",
            "Cooler Than Me - Single Mix\n",
            "Telephone\n",
            "We No Speak Americano (JT Radio Edit)\n",
            "Hard\n",
            "Pass Out\n",
            "Whataya Want from Me\n",
            "Bottoms Up (feat. Nicki Minaj)\n",
            "If We Ever Meet Again (Featuring Katy Perry)\n",
            "Seek Bromance - Avicii’s Vocal Edit\n",
            "OMG (feat. will.i.am)\n",
            "Misery\n",
            "Man Down\n",
            "My First Kiss (feat. Ke$ha)\n",
            "Teach Me How to Dougie\n",
            "Miami 2 Ibiza - Swedish House Mafia vs. Tinie Tempah\n",
            "Wavin' Flag\n",
            "How Low\n",
            "Blah Blah Blah (feat. 3OH!3)\n",
            "All I Do Is Win (feat. T-Pain, Ludacris, Snoop Dogg & Rick Ross)\n",
            "In My Head\n",
            "I Need A Dollar\n",
            "Airplanes (feat. Hayley Williams of Paramore)\n",
            "My Chick Bad\n",
            "Just A Dream\n",
            "What's My Name?\n",
            "Impossible\n",
            "The Flood\n",
            "Say Aah (feat. Fabolous)\n",
            "Over\n",
            "Kickstarts\n",
            "She Said\n",
            "Do You Remember\n",
            "Hey Daddy (Daddy's Home)\n",
            "Right Above It\n",
            "All Time Low\n",
            "Your Love Is My Drug\n",
            "Starry Eyed\n",
            "Find Your Love\n",
            "Ridin' Solo\n",
            "Young Forever\n",
            "BedRock\n",
            "Nothin' on You (feat. Bruno Mars)\n",
            "Teenage Dream\n",
            "This Ain't a Love Song\n",
            "Billionaire (feat. Bruno Mars)\n",
            "Fireflies\n",
            "Empire State of Mind (Part II) Broken Down\n",
            "Need You Now\n",
            "Back To December\n",
            "Animal\n",
            "Live Like We're Dying\n",
            "When We Collide\n",
            "Dancing On My Own\n",
            "If I Die Young\n",
            "Magic (feat. Rivers Cuomo)\n",
            "Rolling in the Deep\n",
            "Moves Like Jagger - Studio Recording From The Voice Performance\n",
            "Party Rock Anthem\n",
            "Firework\n",
            "Grenade\n",
            "Hey Baby (Drop It to the Floor) (feat. T-Pain)\n",
            "Mr. Saxobeat\n",
            "Who's That Chick? (feat. Rihanna)\n",
            "On The Floor\n",
            "S&M\n",
            "Blow\n",
            "Sweat - Remix\n",
            "More - RedOne Jimmy Joker Remix\n",
            "Changed the Way You Kiss Me - Radio Edit\n",
            "Just Can’t Get Enough\n",
            "Where Them Girls At (feat. Nicki Minaj & Flo Rida)\n",
            "I Follow Rivers - The Magician Remix\n",
            "Give Me Everything (feat. Ne-Yo, Afrojack & Nayer)\n",
            "Love You Like A Love Song\n",
            "Black and Yellow\n",
            "E.T.\n",
            "I Wanna Go\n",
            "Stereo Hearts (feat. Adam Levine)\n",
            "Tonight (I'm Fuckin' You)\n",
            "Down On Me\n",
            "Loca People - Radio Edit\n",
            "Heart Skips a Beat (feat. Rizzle Kicks)\n",
            "Sexy And I Know It\n",
            "You Make Me Feel... (feat. Sabi)\n",
            "Do It Like A Dude\n",
            "Louder (feat. Sian Evans) - Radio Edit\n",
            "When We Stand Together\n",
            "Midnight City\n",
            "Till the World Ends\n",
            "Earthquake (feat. Tinie Tempah)\n",
            "Don't Wanna Go Home\n",
            "Paradise\n",
            "Last Friday Night (T.G.I.F.)\n",
            "Set Fire to the Rain\n",
            "I Need A Doctor\n",
            "6 Foot 7 Foot\n",
            "I'm On One\n",
            "Look At Me Now (feat. Lil' Wayne & Busta Rhymes)\n",
            "Rocketeer\n",
            "Glad You Came\n",
            "We R Who We R\n",
            "Motivation\n",
            "We Found Love\n",
            "Don't Hold Your Breath\n",
            "Buzzin Remix\n",
            "Yeah 3x\n",
            "Save The World\n",
            "All Of The Lights\n",
            "Sure Thing\n",
            "Coming Home\n",
            "Beautiful People\n",
            "What the Hell\n",
            "Read All About It\n",
            "Blind Faith\n",
            "Champion (feat. Chris Brown)\n",
            "Who Says\n",
            "Down With The Trumpets\n",
            "Born This Way\n",
            "Super Bass\n",
            "Donald Trump\n",
            "Bounce (feat. Kelis) - Radio Edit\n",
            "Without You (feat. Usher)\n",
            "Pumped Up Kicks\n",
            "Headlines\n",
            "Price Tag\n",
            "Dirt Road Anthem\n",
            "Roll Up\n",
            "Lighters\n",
            "The Lazy Song\n",
            "The Show Goes On\n",
            "I Won't Let You Go\n",
            "It Girl\n",
            "Someone Like You\n",
            "The Adventures of Rain Dance Maggie\n",
            "Pretty Girl Rock\n",
            "F**kin' Perfect\n",
            "Honey Bee\n",
            "The Edge Of Glory\n",
            "Just A Kiss\n",
            "Tonight Tonight\n",
            "Tongue Tied\n",
            "Every Teardrop Is a Waterfall\n",
            "Best Thing I Never Had\n",
            "Raise Your Glass\n",
            "Jar of Hearts\n",
            "Marry You\n",
            "How To Love\n",
            "A Thousand Years\n",
            "Call Me Maybe\n",
            "We Are Young (feat. Janelle Monáe)\n",
            "She Doesn't Mind\n",
            "International Love (feat. Chris Brown)\n",
            "In The Dark\n",
            "Skyfall\n",
            "Turn Me On (feat. Nicki Minaj)\n",
            "Where Have You Been\n",
            "Ni**as In Paris\n",
            "One More Night\n",
            "Bangarang (feat. Sirah)\n",
            "Chasing The Sun\n",
            "Whistle\n",
            "This Is Love\n",
            "She Wolf (Falling to Pieces) [feat. Sia]\n",
            "Pound The Alarm\n",
            "Swimming Pools (Drank) - Extended Version\n",
            "Primadonna\n",
            "Hot Right Now (feat. RITA ORA) - Radio Edit\n",
            "Gangnam Style (강남스타일)\n",
            "Die Young\n",
            "Scream\n",
            "Troublemaker (feat. Flo Rida)\n",
            "BURN IT DOWN\n",
            "Locked out of Heaven\n",
            "Levels - Radio Edit\n",
            "Good Feeling\n",
            "Diamonds\n",
            "Work Hard, Play Hard\n",
            "Part Of Me\n",
            "Starships\n",
            "m.A.A.d city\n",
            "One Day / Reckoning Song (Wankelmut Remix) [Radio Edit]\n",
            "Spectrum (Say My Name) - Calvin Harris Remix\n",
            "212\n",
            "Payphone\n",
            "Ai Se Eu Te Pego - Live\n",
            "Million Voices - Radio Edit\n",
            "I Love It\n",
            "Rack City\n",
            "Feel So Close - Radio Edit\n",
            "Dance Again\n",
            "Oblivion\n",
            "Rumour Has It\n",
            "Turn Up the Music\n",
            "Lost\n",
            "Let's Go (feat. Ne-Yo)\n",
            "Hall of Fame (feat. will.i.am)\n",
            "Don't You Worry Child - Radio Edit\n",
            "How to Be a Heartbreaker\n",
            "Boyfriend\n",
            "Titanium (feat. Sia)\n",
            "Domino\n",
            "I Knew You Were Trouble.\n",
            "Hands on the Wheel (feat. Asap Rocky)\n",
            "Try\n",
            "Candy\n",
            "Young Wild & Free (feat. Bruno Mars)\n",
            "As Long As You Love Me\n",
            "R.I.P. (feat. Tinie Tempah)\n",
            "Too Close\n",
            "Faded\n",
            "Years - ラジオ・エディット\n",
            "Battle Scars (feat. Lupe Fiasco)\n",
            "The One That Got Away\n",
            "Silhouettes - Original Radio Edit\n",
            "Somebody That I Used To Know\n",
            "Wild Ones (feat. Sia)\n",
            "What Makes You Beautiful\n",
            "Born To Die\n",
            "C'Mon\n",
            "Good Time\n",
            "We'll Be Coming Back (feat. Example)\n",
            "Read All About It, Pt. III\n",
            "Lights - Single Version\n",
            "Drive By\n",
            "Latch\n",
            "Princess of China\n",
            "Live While We're Young\n",
            "Ass Back Home (feat. Neon Hitch)\n",
            "Blown Away\n",
            "Breezeblocks\n",
            "Don't Wake Me Up\n",
            "Stronger (What Doesn't Kill You)\n",
            "The Motto\n",
            "Wide Awake\n",
            "How We Do (Party)\n",
            "Feel the Love (feat. John Newman)\n",
            "Ride\n",
            "Let Me Love You (Until You Learn To Love Yourself)\n",
            "Give Your Heart a Break\n",
            "Take Care\n",
            "Wings\n",
            "It Will Rain\n",
            "Want U Back\n",
            "Royals\n",
            "Blurred Lines\n",
            "Radioactive\n",
            "Wake Me Up\n",
            "Thrift Shop (feat. Wanz)\n",
            "Get Lucky (feat. Pharrell Williams & Nile Rodgers) - Radio Edit\n",
            "Scream & Shout\n",
            "Papaoutai\n",
            "Get Up (Rattle) - Vocal Edit\n",
            "La La La\n",
            "Another Love\n",
            "We Own It (Fast & Furious)\n",
            "Play Hard (feat. Ne-Yo & Akon)\n",
            "Feel This Moment (feat. Christina Aguilera)\n",
            "#thatPOWER\n",
            "Love Me\n",
            "Can't Hold Us (feat. Ray Dalton)\n",
            "Animals - Radio Edit\n",
            "Talk Dirty (feat. 2 Chainz)\n",
            "Love Me Again\n",
            "Work B**ch\n",
            "Sweater Weather\n",
            "Reload - Radio Edit\n",
            "Safe And Sound\n",
            "Heart Attack\n",
            "Why'd You Only Call Me When You're High?\n",
            "Beauty And A Beat\n",
            "The Monster\n",
            "Don't Stop the Party (feat. TJR)\n",
            "Come & Get It\n",
            "True Love (feat. Lily Allen)\n",
            "White Noise\n",
            "I Cry\n",
            "Black Skinhead\n",
            "Summertime Sadness (Lana Del Rey Vs. Cedric Gervais) - Cedric Gervais Remix\n",
            "Berzerk\n",
            "I Love It (feat. Charli XCX)\n",
            "My Songs Know What You Did In The Dark (Light Em Up)\n",
            "Team\n",
            "I Could Be The One (Avicii Vs. Nicky Romero) - Radio Edit\n",
            "Demons\n",
            "One Way or Another (Teenage Kicks)\n",
            "Do I Wanna Know?\n",
            "Waiting All Night (feat. Ella Eyre)\n",
            "Sonnentanz - Sun Don't Shine\n",
            "Drinking from the Bottle (feat. Tinie Tempah)\n",
            "F**kin' Problems (feat. Drake, 2 Chainz & Kendrick Lamar)\n",
            "The Fox (What Does the Fox Say?)\n",
            "Burn\n",
            "Harlem Shake\n",
            "I Need Your Love (feat. Ellie Goulding)\n",
            "This Is How We Do\n",
            "Sail\n",
            "Need U (100%) [feat. A*M*E] - Radio Edit\n",
            "The Other Side\n",
            "Look Right Through - MK Vocal Edit\n",
            "Sweet Nothing (feat. Florence Welch)\n",
            "Unconditionally\n",
            "Bad (feat. Rihanna) - Remix\n",
            "Body Party\n",
            "Started From the Bottom\n",
            "Of The Night\n",
            "Dear Darlin'\n",
            "Roar\n",
            "Sure Be Cool If You Did\n",
            "Thinking About You (feat. Ayah Marar)\n",
            "Holy Grail\n",
            "Ready or Not\n",
            "What About Us\n",
            "Pompeii\n",
            "Best Song Ever\n",
            "Hey Porsche\n",
            "Clarity\n",
            "Wrecking Ball\n",
            "Fine China\n",
            "Lose Yourself to Dance (feat. Pharrell Williams)\n",
            "This Is What It Feels Like\n",
            "Mirrors\n",
            "Treasure\n",
            "Little Talks\n",
            "We Can't Stop\n",
            "Power Trip (feat. Miguel)\n",
            "Still into You\n",
            "human\n",
            "Hold On, We're Going Home\n",
            "Bonfire Heart\n",
            "Daylight\n",
            "3005\n",
            "Here's to Never Growing Up\n",
            "22\n",
            "Let Her Go\n",
            "The Way\n",
            "Stay\n",
            "Suit & Tie (feat. Jay-Z)\n",
            "When I Was Your Man\n",
            "Cruise\n",
            "Happy - From Despicable Me 2\n",
            "Dark Horse\n",
            "Collard Greens\n",
            "Fancy\n",
            "Animals\n",
            "Stay With Me\n",
            "Rude\n",
            "Chandelier\n",
            "All of Me\n",
            "All About That Bass\n",
            "Lovers on the Sun (feat. Sam Martin)\n",
            "Black Widow\n",
            "Habits (Stay High)\n",
            "Gecko (Overdrive) - Radio Edit\n",
            "You Know You Like It\n",
            "Maps\n",
            "Bad (feat. Vassy) - Radio Edit\n",
            "2 On (feat. ScHoolboy Q)\n",
            "My Love (feat. Jess Glynne)\n",
            "Bad Blood\n",
            "Na Na\n",
            "Under Control (feat. Hurts)\n",
            "CoCo\n",
            "Wiggle (feat. Snoop Dogg)\n",
            "Prayer in C - Robin Schulz Radio Edit\n",
            "Don't Tell 'Em\n",
            "Anaconda\n",
            "Blame (feat. John Newman)\n",
            "Turn Down for What\n",
            "Timber (feat. Ke$ha)\n",
            "Counting Stars\n",
            "Hot N*gga\n",
            "Summer\n",
            "Man Of The Year\n",
            "Am I Wrong\n",
            "Shower\n",
            "Nobody To Love - Radio Edit\n",
            "#SELFIE - Original Mix\n",
            "Me And My Broken Heart\n",
            "Jubel - Radio Edit\n",
            "Waves - Robin Schulz Radio Edit\n",
            "Only Love Can Hurt Like This\n",
            "Hideaway\n",
            "Break Free\n",
            "Show Me (feat. Chris Brown)\n",
            "Talking Body\n",
            "Loyal (feat. Lil Wayne & Tyga)\n",
            "Love Runs Out\n",
            "Up (feat. Demi Lovato)\n",
            "High (feat. Nicole Millar)\n",
            "Stolen Dance\n",
            "Don't\n",
            "Love Me Harder\n",
            "Bailando - Spanish Version\n",
            "Hey Brother\n",
            "Bang Bang\n",
            "I Got U\n",
            "Ready For Your Love\n",
            "Style\n",
            "Classic\n",
            "Problem\n",
            "Boom Clap\n",
            "Steal My Girl\n",
            "Red Lights\n",
            "The Heart Wants What It Wants\n",
            "I Will Never Let You Down\n",
            "She Looks So Perfect\n",
            "Superheroes\n",
            "Shake It Off\n",
            "Night Changes\n",
            "Heroes (we could be)\n",
            "Wasted\n",
            "Ugly Heart\n",
            "A Sky Full of Stars\n",
            "Rather Be (feat. Jess Glynne)\n",
            "Stay The Night - Featuring Hayley Williams Of Paramore\n",
            "Elastic Heart\n",
            "Story of My Life\n",
            "Little Do You Know\n",
            "Post to Be (feat. Chris Brown & Jhene Aiko)\n",
            "Cool Kids\n",
            "Somebody\n",
            "Riptide\n",
            "Drunk in Love (feat. Jay-Z)\n",
            "Sugar\n",
            "Ghost\n",
            "I See Fire - From The Hobbit - The Desolation Of Smaug\n",
            "New Flame (feat. Usher & Rick Ross)\n",
            "Geronimo\n",
            "Wrapped Up (feat. Travie McCoy)\n",
            "Money On My Mind\n",
            "Trumpets\n",
            "Bed Of Lies\n",
            "Jealous - Remix\n",
            "Uptown Funk (feat. Bruno Mars)\n",
            "Thinking out Loud\n",
            "See You Again (feat. Charlie Puth)\n",
            "What Do You Mean?\n",
            "Lean On (feat. MØ & DJ Snake)\n",
            "Earned It (Fifty Shades Of Grey) - From The Fifty Shades Of Grey Soundtrack\n",
            "Love Me Like You Do - From Fifty Shades Of Grey\n",
            "Outside (feat. Ellie Goulding)\n",
            "Hey Mama (feat. Nicki Minaj, Bebe Rexha & Afrojack)\n",
            "Cool for the Summer\n",
            "Blank Space\n",
            "The Hills\n",
            "Daddy Issues\n",
            "Five More Hours\n",
            "The Nights\n",
            "Ghost Town\n",
            "No Type\n",
            "GDFR (feat. Sage the Gemini & Lookas)\n",
            "Sugar (feat. Francesco Yates)\n",
            "How Deep Is Your Love\n",
            "Wish You Were Mine - Radio Edit\n",
            "Centuries\n",
            "Chill Bill (feat. J. Davi$ & Spooks)\n",
            "Are You With Me - Radio Edit\n",
            "Stressed Out\n",
            "Worth It (feat. Kid Ink)\n",
            "Way down We Go\n",
            "Like I Can\n",
            "Light It Up (feat. Nyla & Fuse ODG) - Remix\n",
            "Intoxicated - New Radio Mix\n",
            "Waiting For Love\n",
            "Ain't Nobody (Loves Me Better) (feat. Jasmine Thompson)\n",
            "Wildest Dreams\n",
            "In The Night\n",
            "Time of Our Lives\n",
            "Runaway (U & I)\n",
            "Bitch Better Have My Money\n",
            "Lush Life\n",
            "Drag Me Down\n",
            "Antidote\n",
            "King\n",
            "Confident\n",
            "Same Old Love\n",
            "Do It Again\n",
            "My House\n",
            "Watch Me (Whip / Nae Nae)\n",
            "Ayo\n",
            "Spirits\n",
            "Trap Queen\n",
            "7/11\n",
            "High By The Beach\n",
            "Never Forget You\n",
            "oui\n",
            "Hotline Bling\n",
            "Kill Em With Kindness\n",
            "Let It All Go\n",
            "679 (feat. Remy Boyz)\n",
            "Can't Feel My Face\n",
            "You Don't Own Me (feat. G-Eazy)\n",
            "Renegades\n",
            "Locked Away (feat. Adam Levine)\n",
            "Stole the Show\n",
            "The Less I Know The Better\n",
            "Good For You\n",
            "My Way (feat. Monty)\n",
            "Take Me To Church\n",
            "Here\n",
            "Writing's On The Wall - From Spectre Soundtrack\n",
            "Bang My Head (feat. Sia & Fetty Wap)\n",
            "All Eyes on You (feat. Chris Brown & Nicki Minaj)\n",
            "I Don't Fuck With You\n",
            "Firestone\n",
            "Jumpman\n",
            "Sunset Lover\n",
            "Stitches\n",
            "I Don't Like It, I Love It (feat. Robin Thicke & Verdine White)\n",
            "Where Are Ü Now (with Justin Bieber)\n",
            "On My Mind\n",
            "Flex (Ooh, Ooh, Ooh)\n",
            "Please Don't Go\n",
            "I Want You To Know\n",
            "Fast Car\n",
            "Electric Love\n",
            "Easy Love\n",
            "One Last Time\n",
            "Black Magic\n",
            "Perfect\n",
            "Shine\n",
            "Lips Are Movin\n",
            "El Perdón - Forgiveness\n",
            "Starboy\n",
            "One Dance\n",
            "Love Yourself\n",
            "Hello\n",
            "Panda\n",
            "Tuesday (feat. Danelle Sandoval)\n",
            "Cheap Thrills (feat. Sean Paul)\n",
            "Wherever I Go\n",
            "Hymn for the Weekend\n",
            "CAN'T STOP THE FEELING! (from DreamWorks Animation's TROLLS)\n",
            "Wait a Minute!\n",
            "Tiimmy Turner\n",
            "Me, Myself & I\n",
            "This One's for You (feat. Zara Larsson) (Official Song UEFA EURO 2016)\n",
            "Hurts So Good\n",
            "Sucker for Pain (with Wiz Khalifa, Imagine Dragons, Logic & Ty Dolla $ign feat. X Ambassadors)\n",
            "Heathens\n",
            "Low Life (feat. The Weeknd)\n",
            "No Money\n",
            "Don't Let Me Down\n",
            "Girls Like (feat. Zara Larsson)\n",
            "Hear Me Now\n",
            "Sex\n",
            "NO\n",
            "Hotter Than Hell\n",
            "In the Name of Love\n",
            "Cool Girl\n",
            "This Is What You Came For (feat. Rihanna)\n",
            "I Took A Pill In Ibiza - Seeb Remix\n",
            "2 Phones\n",
            "Needed Me\n",
            "Side To Side\n",
            "Alone\n",
            "I Know What You Did Last Summer\n",
            "My Way\n",
            "HandClap\n",
            "Dangerous Woman\n",
            "Alarm\n",
            "We Don't Talk Anymore (feat. Selena Gomez)\n",
            "I'm In Control\n",
            "DUELE EL CORAZON (feat. Wisin)\n",
            "The Ocean (feat. Shy Martin)\n",
            "Into You\n",
            "Treat You Better\n",
            "Say It\n",
            "Adventure of a Lifetime\n",
            "This Girl - Kungs Vs. Cookin' On 3 Burners\n",
            "Cake By The Ocean\n",
            "The Girl Is Mine\n",
            "Papercuts (feat. Vera Blue)\n",
            "Gold\n",
            "Work from Home (feat. Ty Dolla $ign)\n",
            "Pop Style\n",
            "PILLOWTALK\n",
            "Middle\n",
            "Sweet Lovin' - Radio Edit\n",
            "Dangerously\n",
            "Close\n",
            "Perfect Strangers\n",
            "Cold Water (feat. Justin Bieber & MØ)\n",
            "Roses\n",
            "LUV\n",
            "Just Like Fire (From the Original Motion Picture Alice Through The Looking Glass)\n",
            "Just Hold On\n",
            "Tears (feat. Louisa Johnson)\n",
            "Never Be Like You\n",
            "Good Grief\n",
            "The Greatest (feat. Kendrick Lamar)\n",
            "Not Nice\n",
            "i hate u, i love u (feat. olivia o'brien)\n",
            "1955\n",
            "All In My Head (Flex) (feat. Fetty Wap)\n",
            "Sit Still, Look Pretty\n",
            "Don't Mind\n",
            "Exchange\n",
            "Final Song\n",
            "Shout Out to My Ex\n",
            "Ophelia\n",
            "Pink + White\n",
            "Too Good\n",
            "Shape of You\n",
            "No Lie\n",
            "Despacito (Featuring Daddy Yankee)\n",
            "Too Good At Goodbyes\n",
            "Rockabye (feat. Sean Paul & Anne-Marie)\n",
            "Havana (feat. Young Thug)\n",
            "Thunder\n",
            "Don't Wanna Know (feat. Kendrick Lamar)\n",
            "Something Just Like This\n",
            "Little Dark Age\n",
            "goosebumps\n",
            "Bored\n",
            "Mask Off\n",
            "Him & I\n",
            "Cold (feat. Future)\n",
            "Swang\n",
            "Save That Shit\n",
            "Plain Jane\n",
            "Unforgettable\n",
            "Bank Account\n",
            "More Than You Know\n",
            "Dusk Till Dawn (feat. Sia) - Radio Edit\n",
            "Mi Gente\n",
            "You Don't Know Me - Radio Edit\n",
            "Black Beatles\n",
            "Ain't My Fault\n",
            "BUTTERFLY EFFECT\n",
            "Rolex\n",
            "XO Tour Llif3\n",
            "Whatever It Takes\n",
            "Swalla (feat. Nicki Minaj & Ty Dolla $ign)\n",
            "No Limit\n",
            "Magnolia\n",
            "Hold On\n",
            "Believer\n",
            "Criminal\n",
            "HUMBLE.\n",
            "Fetish (feat. Gucci Mane)\n",
            "Attention\n",
            "Man's Not Hot\n",
            "Ciao Adios\n",
            "Human\n",
            "do re mi\n",
            "Gucci Gang\n",
            "Look What You Made Me Do\n",
            "SUBEME LA RADIO (feat. Descemer Bueno & Zion & Lennox)\n",
            "Tunnel Vision\n",
            "DNA.\n",
            "Drowning (feat. Kodak Black)\n",
            "Jocelyn Flores\n",
            "Bad and Boujee (feat. Lil Uzi Vert)\n",
            "Rake It Up (feat. Nicki Minaj)\n",
            "Scared to Be Lonely\n",
            "Mama\n",
            "Solo Dance\n",
            "...Ready For It?\n",
            "2U (feat. Justin Bieber)\n",
            "Slippery (feat. Gucci Mane)\n",
            "There's Nothing Holdin' Me Back\n",
            "Good Life (with G-Eazy & Kehlani)\n",
            "All Night\n",
            "New Rules\n",
            "Bodak Yellow\n",
            "Skin\n",
            "I Would Like\n",
            "Wild Thoughts (feat. Rihanna & Bryson Tiller)\n",
            "Congratulations\n",
            "Without You (feat. Sandro Cavazza)\n",
            "Symphony (feat. Zara Larsson)\n",
            "Chained To The Rhythm\n",
            "Juju on That Beat (TZ Anthem)\n",
            "Feels (feat. Pharrell Williams, Katy Perry & Big Sean)\n",
            "T-Shirt\n",
            "Rich Love (with Seeb)\n",
            "Pretty Girl - Cheat Codes X CADE Remix\n",
            "Glorious (feat. Skylar Grey)\n",
            "NUMB\n",
            "Strip That Down\n",
            "Passionfruit\n",
            "Friends (with BloodPop®)\n",
            "I Don’t Wanna Live Forever (Fifty Shades Darker) - From Fifty Shades Darker (Original Motion Picture Soundtrack)\n",
            "Scars To Your Beautiful\n",
            "It's A Vibe\n",
            "Call on Me - Ryan Riback Remix\n",
            "Weak\n",
            "Lust for Life (with The Weeknd)\n",
            "Reggaetón Lento (Remix)\n",
            "Middle Of The Night\n",
            "I Feel It Coming\n",
            "Paris\n",
            "Bounce Back\n",
            "Lonely Together (feat. Rita Ora)\n",
            "No Promises (feat. Demi Lovato)\n",
            "24K Magic\n",
            "Homemade Dynamite - REMIX\n",
            "It Ain't Me (with Selena Gomez)\n",
            "God's Plan\n",
            "rockstar (feat. 21 Savage)\n",
            "Ric Flair Drip (with Metro Boomin)\n",
            "Him & I (with Halsey)\n",
            "In My Mind\n",
            "Lucid Dreams\n",
            "FRIENDS\n",
            "Moonlight\n",
            "no tears left to cry\n",
            "Mo Bamba\n",
            "One Kiss (with Dua Lipa)\n",
            "Taste (feat. Offset)\n",
            "SICKO MODE\n",
            "Natural\n",
            "Taki Taki (with Selena Gomez, Ozuna & Cardi B)\n",
            "Pray For Me (with Kendrick Lamar)\n",
            "lovely (with Khalid)\n",
            "Walk It Talk It\n",
            "Solo (feat. Demi Lovato)\n",
            "Nonstop\n",
            "FEFE\n",
            "Call Out My Name\n",
            "Te Boté - Remix\n",
            "MotorSport\n",
            "X\n",
            "SAD!\n",
            "Sin Pijama\n",
            "Home (with Machine Gun Kelly, X Ambassadors & Bebe Rexha)\n",
            "GUMMO\n",
            "Sick Boy\n",
            "King's Dead (with Kendrick Lamar, Future & James Blake)\n",
            "Plug Walk\n",
            "All The Stars (with SZA)\n",
            "Everyday\n",
            "Tip Toe (feat. French Montana)\n",
            "God is a woman\n",
            "Powerglide (feat. Juicy J) - From SR3MM\n",
            "German\n",
            "Nevermind\n",
            "we fell in love in october\n",
            "Wolves\n",
            "Jackie Chan\n",
            "Leave a Light On\n",
            "1, 2, 3 (feat. Jason Derulo & De La Ghetto)\n",
            "Silence\n",
            "Youngblood\n",
            "Body (feat. brando)\n",
            "For You (Fifty Shades Freed) (& Rita Ora)\n",
            "Let You Down\n",
            "changes\n",
            "Corazón (feat. Nego do Borel)\n",
            "Yes Indeed\n",
            "Flames\n",
            "Vaina Loca\n",
            "How Long\n",
            "Better Now\n",
            "Look Alive (feat. Drake)\n",
            "River (feat. Ed Sheeran)\n",
            "Happier\n",
            "Be Alright\n",
            "Done for Me (feat. Kehlani)\n",
            "Stir Fry\n",
            "BIG BANK (feat. 2 Chainz, Big Sean, Nicki Minaj)\n",
            "In My Feelings\n",
            "Jumanji\n",
            "The Way I Am\n",
            "Me Niego (feat. Ozuna & Wisin)\n",
            "Eastside (with Halsey & Khalid)\n",
            "Échame La Culpa\n",
            "17\n",
            "Anywhere\n",
            "Answerphone (feat. Yxng Bane)\n",
            "Trip\n",
            "Dura\n",
            "No Brainer\n",
            "2002\n",
            "Finesse - Remix feat. Cardi B\n",
            "Let's Fall in Love for the Night\n",
            "The Greatest Show\n",
            "Bad At Love\n",
            "I'm Upset\n",
            "Never Be the Same\n",
            "Bad Vibe\n",
            "IDGAF\n",
            "Miss You (with Major Lazer & Tory Lanez)\n",
            "Mine\n",
            "Freaky Friday (feat. Chris Brown)\n",
            "I Like Me Better\n",
            "This Feeling\n",
            "Girls Like You (feat. Cardi B) - Cardi B Version\n",
            "Love Lies (with Normani)\n",
            "Nice For What\n",
            "LOVE. FEAT. ZACARI.\n",
            "Psycho (feat. Ty Dolla $ign)\n",
            "Old Town Road - Remix\n",
            "bad guy\n",
            "Señorita\n",
            "7 rings\n",
            "Sunflower - Spider-Man: Into the Spider-Verse\n",
            "Lost in the Fire (feat. The Weeknd)\n",
            "Ride It\n",
            "Shallow\n",
            "Nothing Breaks Like a Heart (feat. Miley Cyrus)\n",
            "Someone You Loved\n",
            "All Day And Night\n",
            "Pure Water (with Migos)\n",
            "Shotta Flow (feat. Blueface) [Remix]\n",
            "ZEZE (feat. Travis Scott & Offset)\n",
            "Con Calma\n",
            "Let Me Down Slowly\n",
            "Kill This Love\n",
            "Clout (feat. Cardi B)\n",
            "Piece Of Your Heart\n",
            "Antisocial (with Travis Scott)\n",
            "Mad Love\n",
            "Doin' Time\n",
            "Taki Taki (feat. Selena Gomez, Ozuna & Cardi B)\n",
            "Look Back at It\n",
            "My Type\n",
            "Ransom\n",
            "Keisha & Becky - Remix\n",
            "Don't Call Me Up\n",
            "Old Town Road\n",
            "Going Bad (feat. Drake)\n",
            "Wow.\n",
            "Juicy\n",
            "Swervin (feat. 6ix9ine)\n",
            "emotions\n",
            "Adan y Eva\n",
            "Money In The Grave (Drake ft. Rick Ross)\n",
            "Panini\n",
            "MIA (feat. Drake)\n",
            "Pop Out (feat. Lil Tjay)\n",
            "Robbery\n",
            "a lot\n",
            "The London (feat. J. Cole & Travis Scott)\n",
            "China\n",
            "Liar\n",
            "Leave Me Alone\n",
            "Money\n",
            "break up with your girlfriend, i'm bored\n",
            "Location (feat. Burna Boy)\n",
            "Sweet but Psycho\n",
            "Don't Start Now\n",
            "Strike a Pose (feat. Aitch)\n",
            "Giant (with Rag'n'Bone Man)\n",
            "Take Me Back to London (feat. Stormzy)\n",
            "Please Me\n",
            "Vossi Bop\n",
            "Dance Monkey\n",
            "boyfriend (with Social House)\n",
            "Callaita\n",
            "So Am I\n",
            "Calma - Remix\n",
            "MIDDLE CHILD\n",
            "Soltera - Remix\n",
            "Better\n",
            "Thotiana\n",
            "Suge\n",
            "Ladbroke Grove\n",
            "bury a friend\n",
            "Boy With Luv (feat. Halsey)\n",
            "Boasty (feat. Idris Elba)\n",
            "Only Human\n",
            "Easier\n",
            "SOS (feat. Aloe Blacc)\n",
            "EARFQUAKE\n",
            "On A Roll\n",
            "3 Nights\n",
            "Wish You Well\n",
            "Hot Girl Summer (feat. Nicki Minaj & Ty Dolla $ign)\n",
            "Secreto\n",
            "Post Malone (feat. RANI)\n",
            "Nights Like This (feat. Ty Dolla $ign)\n",
            "Otro Trago\n",
            "Cross Me (feat. Chance the Rapper & PnB Rock)\n",
            "i'm so tired...\n",
            "gone girl\n",
            "High Hopes\n",
            "One Thing Right\n",
            "How Do You Sleep?\n",
            "Options\n",
            "Goodbyes (Feat. Young Thug)\n",
            "Sucker\n",
            "Cruel Summer\n",
            "The Git Up\n",
            "Dancing With A Stranger (with Normani)\n",
            "Circles\n"
          ]
        }
      ]
    },
    {
      "cell_type": "code",
      "source": [
        "df_spotify['explicit'].unique()"
      ],
      "metadata": {
        "colab": {
          "base_uri": "https://localhost:8080/"
        },
        "id": "dykoARtiBIGq",
        "outputId": "6bb4fcc6-f66d-42cc-f94b-5a5fe63b3c3b"
      },
      "execution_count": 634,
      "outputs": [
        {
          "output_type": "execute_result",
          "data": {
            "text/plain": [
              "array([False, True, nan], dtype=object)"
            ]
          },
          "metadata": {},
          "execution_count": 634
        }
      ]
    },
    {
      "cell_type": "code",
      "source": [
        "df_spotify['genre'].unique()"
      ],
      "metadata": {
        "colab": {
          "base_uri": "https://localhost:8080/"
        },
        "id": "SJcFgyCo9Cnk",
        "outputId": "da7ad5ca-e738-4c4e-b24e-6b1f3e178060"
      },
      "execution_count": 635,
      "outputs": [
        {
          "output_type": "execute_result",
          "data": {
            "text/plain": [
              "array(['pop', 'rock, pop', 'pop, country', 'rock, metal',\n",
              "       'hip hop, pop, R&B', 'hip hop', 'pop, rock', 'pop, R&B',\n",
              "       'Dance/Electronic', 'pop, Dance/Electronic',\n",
              "       'rock, Folk/Acoustic, easy listening', 'metal', 'hip hop, pop',\n",
              "       'R&B', 'pop, latin', 'Folk/Acoustic, rock',\n",
              "       'pop, easy listening, Dance/Electronic', 'rock',\n",
              "       'rock, blues, latin', 'pop, rock, metal', 'rock, pop, metal',\n",
              "       'hip hop, R&B', 'pop, Folk/Acoustic', 'set()',\n",
              "       'hip hop, pop, latin', 'hip hop, Dance/Electronic',\n",
              "       'hip hop, pop, rock', 'World/Traditional, Folk/Acoustic',\n",
              "       'Folk/Acoustic, pop', 'rock, easy listening',\n",
              "       'World/Traditional, hip hop', 'hip hop, pop, R&B, latin',\n",
              "       'rock, blues', 'rock, R&B, Folk/Acoustic, pop', 'latin',\n",
              "       'pop, R&B, Dance/Electronic', 'World/Traditional, rock',\n",
              "       'pop, rock, Dance/Electronic', 'pop, easy listening, jazz',\n",
              "       'rock, Dance/Electronic', 'World/Traditional, pop, Folk/Acoustic',\n",
              "       'country', 'hip hop, pop, Dance/Electronic',\n",
              "       'hip hop, pop, country', 'World/Traditional, rock, pop',\n",
              "       'World/Traditional, pop', 'hip hop, pop, R&B, Dance/Electronic',\n",
              "       'pop, R&B, easy listening', 'rock, pop, Dance/Electronic',\n",
              "       'Folk/Acoustic, rock, pop', 'rock, pop, metal, Dance/Electronic',\n",
              "       'pop, rock, Folk/Acoustic', 'country, latin', nan,\n",
              "       'rock, classical', 'rock, Folk/Acoustic, pop',\n",
              "       'hip hop, rock, pop', 'easy listening',\n",
              "       'hip hop, latin, Dance/Electronic', 'hip hop, country'],\n",
              "      dtype=object)"
            ]
          },
          "metadata": {},
          "execution_count": 635
        }
      ]
    },
    {
      "cell_type": "markdown",
      "source": [
        "Existe un valor malo en la columna de género: set(), se cambiara por vacío."
      ],
      "metadata": {
        "id": "kK-7aHQWCHmG"
      }
    },
    {
      "cell_type": "code",
      "source": [
        "df_spotify['genre'].replace(regex='set\\(\\)',value='',inplace=True)\n",
        "df_spotify['genre'].unique()"
      ],
      "metadata": {
        "id": "uE_Bh1Q_CTCv",
        "colab": {
          "base_uri": "https://localhost:8080/"
        },
        "outputId": "4f0f00d2-efdb-4464-c085-00a3d1869dac"
      },
      "execution_count": 636,
      "outputs": [
        {
          "output_type": "execute_result",
          "data": {
            "text/plain": [
              "array(['pop', 'rock, pop', 'pop, country', 'rock, metal',\n",
              "       'hip hop, pop, R&B', 'hip hop', 'pop, rock', 'pop, R&B',\n",
              "       'Dance/Electronic', 'pop, Dance/Electronic',\n",
              "       'rock, Folk/Acoustic, easy listening', 'metal', 'hip hop, pop',\n",
              "       'R&B', 'pop, latin', 'Folk/Acoustic, rock',\n",
              "       'pop, easy listening, Dance/Electronic', 'rock',\n",
              "       'rock, blues, latin', 'pop, rock, metal', 'rock, pop, metal',\n",
              "       'hip hop, R&B', 'pop, Folk/Acoustic', '', 'hip hop, pop, latin',\n",
              "       'hip hop, Dance/Electronic', 'hip hop, pop, rock',\n",
              "       'World/Traditional, Folk/Acoustic', 'Folk/Acoustic, pop',\n",
              "       'rock, easy listening', 'World/Traditional, hip hop',\n",
              "       'hip hop, pop, R&B, latin', 'rock, blues',\n",
              "       'rock, R&B, Folk/Acoustic, pop', 'latin',\n",
              "       'pop, R&B, Dance/Electronic', 'World/Traditional, rock',\n",
              "       'pop, rock, Dance/Electronic', 'pop, easy listening, jazz',\n",
              "       'rock, Dance/Electronic', 'World/Traditional, pop, Folk/Acoustic',\n",
              "       'country', 'hip hop, pop, Dance/Electronic',\n",
              "       'hip hop, pop, country', 'World/Traditional, rock, pop',\n",
              "       'World/Traditional, pop', 'hip hop, pop, R&B, Dance/Electronic',\n",
              "       'pop, R&B, easy listening', 'rock, pop, Dance/Electronic',\n",
              "       'Folk/Acoustic, rock, pop', 'rock, pop, metal, Dance/Electronic',\n",
              "       'pop, rock, Folk/Acoustic', 'country, latin', nan,\n",
              "       'rock, classical', 'rock, Folk/Acoustic, pop',\n",
              "       'hip hop, rock, pop', 'easy listening',\n",
              "       'hip hop, latin, Dance/Electronic', 'hip hop, country'],\n",
              "      dtype=object)"
            ]
          },
          "metadata": {},
          "execution_count": 636
        }
      ]
    },
    {
      "cell_type": "markdown",
      "source": [
        "##### Imputar strings vacios en NaN values de la columna genre"
      ],
      "metadata": {
        "id": "TPGdYRa2Yre4"
      }
    },
    {
      "cell_type": "code",
      "source": [
        "df_spotify['genre'].fillna('',inplace=True)"
      ],
      "metadata": {
        "id": "D3bEDL86Y3uJ"
      },
      "execution_count": 637,
      "outputs": []
    },
    {
      "cell_type": "markdown",
      "source": [
        "##### Columnas int (year, key, mode)"
      ],
      "metadata": {
        "id": "Mh4B2JAFCAYL"
      }
    },
    {
      "cell_type": "code",
      "source": [
        "df_spotify['year'].unique()"
      ],
      "metadata": {
        "colab": {
          "base_uri": "https://localhost:8080/"
        },
        "id": "Hd0XPxsOCEwc",
        "outputId": "da9c50dd-6982-422d-bcc0-2955eaf981b0"
      },
      "execution_count": 638,
      "outputs": [
        {
          "output_type": "execute_result",
          "data": {
            "text/plain": [
              "array([2000, 1999, 2001, 2011, 2002, 2016, 1998, 2018, 2004, 2010, 2015,\n",
              "       2006, 2008, 2019, 2003, 2013, 2005, 2012, 2020, 2007, 2009, 2017,\n",
              "       2014])"
            ]
          },
          "metadata": {},
          "execution_count": 638
        }
      ]
    },
    {
      "cell_type": "code",
      "source": [
        "df_spotify['key'].unique()"
      ],
      "metadata": {
        "colab": {
          "base_uri": "https://localhost:8080/"
        },
        "id": "3EbwGVEhDsv_",
        "outputId": "0473ff03-fa55-4d4e-d9b5-ef4e85927da4"
      },
      "execution_count": 639,
      "outputs": [
        {
          "output_type": "execute_result",
          "data": {
            "text/plain": [
              "array([ 1,  0,  7,  8,  2,  5,  6, 11,  3, 10,  9,  4])"
            ]
          },
          "metadata": {},
          "execution_count": 639
        }
      ]
    },
    {
      "cell_type": "code",
      "source": [
        "df_spotify['mode'].unique()"
      ],
      "metadata": {
        "colab": {
          "base_uri": "https://localhost:8080/"
        },
        "id": "NXFzGaMrEC1_",
        "outputId": "c559e3c9-9f6e-4558-8212-173be532f7a9"
      },
      "execution_count": 640,
      "outputs": [
        {
          "output_type": "execute_result",
          "data": {
            "text/plain": [
              "array([0, 1])"
            ]
          },
          "metadata": {},
          "execution_count": 640
        }
      ]
    },
    {
      "cell_type": "markdown",
      "source": [
        "##### Columnas float (duration_ms, popularity, danceability, energy, loudness, speechiness, acousticness, instrumentalness, liveness, valence, tempo)\n",
        "\n",
        "Todas las columnas parecen no tener outliers."
      ],
      "metadata": {
        "id": "KqKsHCreEbjk"
      }
    },
    {
      "cell_type": "markdown",
      "source": [
        "###### Duration_ms"
      ],
      "metadata": {
        "id": "z6CebXKLKSei"
      }
    },
    {
      "cell_type": "code",
      "source": [
        "df_spotify['duration_ms'].describe()"
      ],
      "metadata": {
        "colab": {
          "base_uri": "https://localhost:8080/"
        },
        "id": "cH2P0RqCFNR5",
        "outputId": "52f0baa7-85e8-4a80-a804-e21baef7141a"
      },
      "execution_count": 641,
      "outputs": [
        {
          "output_type": "execute_result",
          "data": {
            "text/plain": [
              "count      1939.000000\n",
              "mean     228591.004642\n",
              "std       39269.827421\n",
              "min      113000.000000\n",
              "25%      203499.500000\n",
              "50%      223133.000000\n",
              "75%      248006.000000\n",
              "max      484146.000000\n",
              "Name: duration_ms, dtype: float64"
            ]
          },
          "metadata": {},
          "execution_count": 641
        }
      ]
    },
    {
      "cell_type": "code",
      "source": [
        "df_spotify['duration_ms'].hist()"
      ],
      "metadata": {
        "colab": {
          "base_uri": "https://localhost:8080/",
          "height": 0
        },
        "id": "amOZMhs1G1l3",
        "outputId": "49df1399-8d96-4995-fd61-5586df8f0efe"
      },
      "execution_count": 642,
      "outputs": [
        {
          "output_type": "execute_result",
          "data": {
            "text/plain": [
              "<matplotlib.axes._subplots.AxesSubplot at 0x7fadcbd849d0>"
            ]
          },
          "metadata": {},
          "execution_count": 642
        },
        {
          "output_type": "display_data",
          "data": {
            "text/plain": [
              "<Figure size 432x288 with 1 Axes>"
            ],
            "image/png": "[encoded data removed]"
          },
          "metadata": {
            "needs_background": "light"
          }
        }
      ]
    },
    {
      "cell_type": "markdown",
      "source": [
        "###### Popularity"
      ],
      "metadata": {
        "id": "q2y9r5REKVmX"
      }
    },
    {
      "cell_type": "code",
      "source": [
        "df_spotify['popularity'].describe()"
      ],
      "metadata": {
        "colab": {
          "base_uri": "https://localhost:8080/"
        },
        "id": "8oEIbk9KGDbz",
        "outputId": "848e5f4f-eed8-4672-a0d7-b7de87364401"
      },
      "execution_count": 643,
      "outputs": [
        {
          "output_type": "execute_result",
          "data": {
            "text/plain": [
              "count    1938.000000\n",
              "mean       59.619195\n",
              "std        21.514507\n",
              "min         0.000000\n",
              "25%        56.000000\n",
              "50%        65.000000\n",
              "75%        73.000000\n",
              "max        89.000000\n",
              "Name: popularity, dtype: float64"
            ]
          },
          "metadata": {},
          "execution_count": 643
        }
      ]
    },
    {
      "cell_type": "code",
      "source": [
        "df_spotify['popularity'].hist()"
      ],
      "metadata": {
        "colab": {
          "base_uri": "https://localhost:8080/",
          "height": 0
        },
        "id": "w1nJK26UHdED",
        "outputId": "e144e7ff-895d-43ed-fcd8-ad54ebae202a"
      },
      "execution_count": 644,
      "outputs": [
        {
          "output_type": "execute_result",
          "data": {
            "text/plain": [
              "<matplotlib.axes._subplots.AxesSubplot at 0x7fadcbcff210>"
            ]
          },
          "metadata": {},
          "execution_count": 644
        },
        {
          "output_type": "display_data",
          "data": {
            "text/plain": [
              "<Figure size 432x288 with 1 Axes>"
            ],
            "image/png": "[encoded data removed]"
          },
          "metadata": {
            "needs_background": "light"
          }
        }
      ]
    },
    {
      "cell_type": "markdown",
      "source": [
        "###### Danceability"
      ],
      "metadata": {
        "id": "cnUIUUmj6l9V"
      }
    },
    {
      "cell_type": "code",
      "source": [
        "df_spotify['danceability'].describe()"
      ],
      "metadata": {
        "colab": {
          "base_uri": "https://localhost:8080/"
        },
        "id": "BHcaGeSTGDu6",
        "outputId": "f8fe1114-54de-43e3-cfc7-0e94a9774768"
      },
      "execution_count": 645,
      "outputs": [
        {
          "output_type": "execute_result",
          "data": {
            "text/plain": [
              "count    1938.000000\n",
              "mean        0.667738\n",
              "std         0.140676\n",
              "min         0.129000\n",
              "25%         0.581000\n",
              "50%         0.676000\n",
              "75%         0.765000\n",
              "max         0.975000\n",
              "Name: danceability, dtype: float64"
            ]
          },
          "metadata": {},
          "execution_count": 645
        }
      ]
    },
    {
      "cell_type": "code",
      "source": [
        "df_spotify['danceability'].hist()"
      ],
      "metadata": {
        "colab": {
          "base_uri": "https://localhost:8080/",
          "height": 0
        },
        "id": "o22kneOk67bk",
        "outputId": "c4e4716b-7065-4b70-e823-f4bde0f2a8fd"
      },
      "execution_count": 646,
      "outputs": [
        {
          "output_type": "execute_result",
          "data": {
            "text/plain": [
              "<matplotlib.axes._subplots.AxesSubplot at 0x7fadcbc83fd0>"
            ]
          },
          "metadata": {},
          "execution_count": 646
        },
        {
          "output_type": "display_data",
          "data": {
            "text/plain": [
              "<Figure size 432x288 with 1 Axes>"
            ],
            "image/png": "[encoded data removed]"
          },
          "metadata": {
            "needs_background": "light"
          }
        }
      ]
    },
    {
      "cell_type": "markdown",
      "source": [
        "###### Energy"
      ],
      "metadata": {
        "id": "lWBz9HuM6ovi"
      }
    },
    {
      "cell_type": "code",
      "source": [
        "df_spotify['energy'].describe()"
      ],
      "metadata": {
        "colab": {
          "base_uri": "https://localhost:8080/"
        },
        "id": "lFp2rYwKGD9r",
        "outputId": "cf45e78a-779e-4b15-b027-fc56a0308fd2"
      },
      "execution_count": 647,
      "outputs": [
        {
          "output_type": "execute_result",
          "data": {
            "text/plain": [
              "count    1941.000000\n",
              "mean        0.721549\n",
              "std         0.152872\n",
              "min         0.054900\n",
              "25%         0.624000\n",
              "50%         0.739000\n",
              "75%         0.840000\n",
              "max         0.999000\n",
              "Name: energy, dtype: float64"
            ]
          },
          "metadata": {},
          "execution_count": 647
        }
      ]
    },
    {
      "cell_type": "code",
      "source": [
        "df_spotify['energy'].hist()"
      ],
      "metadata": {
        "colab": {
          "base_uri": "https://localhost:8080/",
          "height": 0
        },
        "id": "cUjZ8P7u68pj",
        "outputId": "1ed7b008-c7c5-472c-dec3-a035820bce72"
      },
      "execution_count": 648,
      "outputs": [
        {
          "output_type": "execute_result",
          "data": {
            "text/plain": [
              "<matplotlib.axes._subplots.AxesSubplot at 0x7fadcbc09ed0>"
            ]
          },
          "metadata": {},
          "execution_count": 648
        },
        {
          "output_type": "display_data",
          "data": {
            "text/plain": [
              "<Figure size 432x288 with 1 Axes>"
            ],
            "image/png": "[encoded data removed]"
          },
          "metadata": {
            "needs_background": "light"
          }
        }
      ]
    },
    {
      "cell_type": "markdown",
      "source": [
        "###### Loudness"
      ],
      "metadata": {
        "id": "Z4HjY58h6qdC"
      }
    },
    {
      "cell_type": "code",
      "source": [
        "df_spotify['loudness'].describe()"
      ],
      "metadata": {
        "colab": {
          "base_uri": "https://localhost:8080/"
        },
        "id": "VarJ15AmGEMM",
        "outputId": "9ccca03e-0b39-477a-8f19-81f62513a578"
      },
      "execution_count": 649,
      "outputs": [
        {
          "output_type": "execute_result",
          "data": {
            "text/plain": [
              "count    1940.000000\n",
              "mean       -5.513547\n",
              "std         1.939307\n",
              "min       -20.514000\n",
              "25%        -6.488500\n",
              "50%        -5.284500\n",
              "75%        -4.168000\n",
              "max        -0.276000\n",
              "Name: loudness, dtype: float64"
            ]
          },
          "metadata": {},
          "execution_count": 649
        }
      ]
    },
    {
      "cell_type": "code",
      "source": [
        "df_spotify['loudness'].hist()"
      ],
      "metadata": {
        "colab": {
          "base_uri": "https://localhost:8080/",
          "height": 0
        },
        "id": "FFmLVtAk69UQ",
        "outputId": "d02d315c-d063-4eb2-8bca-36a442592505"
      },
      "execution_count": 650,
      "outputs": [
        {
          "output_type": "execute_result",
          "data": {
            "text/plain": [
              "<matplotlib.axes._subplots.AxesSubplot at 0x7fadcbb7c190>"
            ]
          },
          "metadata": {},
          "execution_count": 650
        },
        {
          "output_type": "display_data",
          "data": {
            "text/plain": [
              "<Figure size 432x288 with 1 Axes>"
            ],
            "image/png": "[encoded data removed]"
          },
          "metadata": {
            "needs_background": "light"
          }
        }
      ]
    },
    {
      "cell_type": "markdown",
      "source": [
        "###### Speechiness"
      ],
      "metadata": {
        "id": "prPY5cX76sEb"
      }
    },
    {
      "cell_type": "code",
      "source": [
        "df_spotify['speechiness'].describe()"
      ],
      "metadata": {
        "colab": {
          "base_uri": "https://localhost:8080/"
        },
        "id": "v6-SFf9hGEYB",
        "outputId": "665ec38b-391d-4883-98bb-80409dc7afbd"
      },
      "execution_count": 651,
      "outputs": [
        {
          "output_type": "execute_result",
          "data": {
            "text/plain": [
              "count    1940.000000\n",
              "mean        0.103821\n",
              "std         0.096158\n",
              "min         0.023200\n",
              "25%         0.039700\n",
              "50%         0.061000\n",
              "75%         0.129000\n",
              "max         0.576000\n",
              "Name: speechiness, dtype: float64"
            ]
          },
          "metadata": {},
          "execution_count": 651
        }
      ]
    },
    {
      "cell_type": "code",
      "source": [
        "df_spotify['speechiness'].hist()"
      ],
      "metadata": {
        "colab": {
          "base_uri": "https://localhost:8080/",
          "height": 0
        },
        "id": "Q3PCut3p6-Do",
        "outputId": "a1fe45ca-31ac-462f-9b5e-acab86e0820d"
      },
      "execution_count": 652,
      "outputs": [
        {
          "output_type": "execute_result",
          "data": {
            "text/plain": [
              "<matplotlib.axes._subplots.AxesSubplot at 0x7fadcbaf3b10>"
            ]
          },
          "metadata": {},
          "execution_count": 652
        },
        {
          "output_type": "display_data",
          "data": {
            "text/plain": [
              "<Figure size 432x288 with 1 Axes>"
            ],
            "image/png": "[encoded data removed]"
          },
          "metadata": {
            "needs_background": "light"
          }
        }
      ]
    },
    {
      "cell_type": "markdown",
      "source": [
        "###### Acousticness"
      ],
      "metadata": {
        "id": "cd-AGQmw6uf1"
      }
    },
    {
      "cell_type": "code",
      "source": [
        "df_spotify['acousticness'].describe()"
      ],
      "metadata": {
        "colab": {
          "base_uri": "https://localhost:8080/"
        },
        "id": "i-6_KPiQGEk3",
        "outputId": "5ec1787b-8495-41f1-c05b-4961791a9731"
      },
      "execution_count": 653,
      "outputs": [
        {
          "output_type": "execute_result",
          "data": {
            "text/plain": [
              "count    1938.000000\n",
              "mean        0.128328\n",
              "std         0.172672\n",
              "min         0.000019\n",
              "25%         0.013500\n",
              "50%         0.055850\n",
              "75%         0.176000\n",
              "max         0.976000\n",
              "Name: acousticness, dtype: float64"
            ]
          },
          "metadata": {},
          "execution_count": 653
        }
      ]
    },
    {
      "cell_type": "code",
      "source": [
        "df_spotify['acousticness'].hist()"
      ],
      "metadata": {
        "colab": {
          "base_uri": "https://localhost:8080/",
          "height": 0
        },
        "id": "-w5j3zwt6_KX",
        "outputId": "7c1618c0-c3c1-4a93-a623-c9b411b041ae"
      },
      "execution_count": 654,
      "outputs": [
        {
          "output_type": "execute_result",
          "data": {
            "text/plain": [
              "<matplotlib.axes._subplots.AxesSubplot at 0x7fadcba8ca50>"
            ]
          },
          "metadata": {},
          "execution_count": 654
        },
        {
          "output_type": "display_data",
          "data": {
            "text/plain": [
              "<Figure size 432x288 with 1 Axes>"
            ],
            "image/png": "[encoded data removed]"
          },
          "metadata": {
            "needs_background": "light"
          }
        }
      ]
    },
    {
      "cell_type": "markdown",
      "source": [
        "###### Instrumentalness"
      ],
      "metadata": {
        "id": "hyaUDgnx6wZf"
      }
    },
    {
      "cell_type": "code",
      "source": [
        "df_spotify['instrumentalness'].describe()"
      ],
      "metadata": {
        "colab": {
          "base_uri": "https://localhost:8080/"
        },
        "id": "Qml4LwASGEyF",
        "outputId": "9fd796ba-b38f-4b40-fb70-045859239a88"
      },
      "execution_count": 655,
      "outputs": [
        {
          "output_type": "execute_result",
          "data": {
            "text/plain": [
              "count    1940.000000\n",
              "mean        0.015380\n",
              "std         0.088393\n",
              "min         0.000000\n",
              "25%         0.000000\n",
              "50%         0.000000\n",
              "75%         0.000069\n",
              "max         0.985000\n",
              "Name: instrumentalness, dtype: float64"
            ]
          },
          "metadata": {},
          "execution_count": 655
        }
      ]
    },
    {
      "cell_type": "code",
      "source": [
        "df_spotify['instrumentalness'].hist()"
      ],
      "metadata": {
        "colab": {
          "base_uri": "https://localhost:8080/",
          "height": 0
        },
        "id": "QCMnOods6_nA",
        "outputId": "eb3c9486-ec3c-469f-ae52-6f8d35878a43"
      },
      "execution_count": 656,
      "outputs": [
        {
          "output_type": "execute_result",
          "data": {
            "text/plain": [
              "<matplotlib.axes._subplots.AxesSubplot at 0x7fadcba47950>"
            ]
          },
          "metadata": {},
          "execution_count": 656
        },
        {
          "output_type": "display_data",
          "data": {
            "text/plain": [
              "<Figure size 432x288 with 1 Axes>"
            ],
            "image/png": "[encoded data removed]"
          },
          "metadata": {
            "needs_background": "light"
          }
        }
      ]
    },
    {
      "cell_type": "markdown",
      "source": [
        "###### Liveness"
      ],
      "metadata": {
        "id": "jhHM-ECK6yQV"
      }
    },
    {
      "cell_type": "code",
      "source": [
        "df_spotify['liveness'].describe()"
      ],
      "metadata": {
        "colab": {
          "base_uri": "https://localhost:8080/"
        },
        "id": "vZ0Ut-YjGFDl",
        "outputId": "746442e7-7c60-43d3-b941-935b194c4acf"
      },
      "execution_count": 657,
      "outputs": [
        {
          "output_type": "execute_result",
          "data": {
            "text/plain": [
              "count    1941.000000\n",
              "mean        0.181726\n",
              "std         0.140910\n",
              "min         0.021500\n",
              "25%         0.088400\n",
              "50%         0.124000\n",
              "75%         0.242000\n",
              "max         0.853000\n",
              "Name: liveness, dtype: float64"
            ]
          },
          "metadata": {},
          "execution_count": 657
        }
      ]
    },
    {
      "cell_type": "code",
      "source": [
        "df_spotify['liveness'].hist()"
      ],
      "metadata": {
        "colab": {
          "base_uri": "https://localhost:8080/",
          "height": 0
        },
        "id": "VGkYpOu67AF-",
        "outputId": "c50afabb-9828-4e91-81f6-7fab62a9cea0"
      },
      "execution_count": 658,
      "outputs": [
        {
          "output_type": "execute_result",
          "data": {
            "text/plain": [
              "<matplotlib.axes._subplots.AxesSubplot at 0x7fadcb99bd90>"
            ]
          },
          "metadata": {},
          "execution_count": 658
        },
        {
          "output_type": "display_data",
          "data": {
            "text/plain": [
              "<Figure size 432x288 with 1 Axes>"
            ],
            "image/png": "[encoded data removed]"
          },
          "metadata": {
            "needs_background": "light"
          }
        }
      ]
    },
    {
      "cell_type": "markdown",
      "source": [
        "###### Valence"
      ],
      "metadata": {
        "id": "qQUY__1p6z3U"
      }
    },
    {
      "cell_type": "code",
      "source": [
        "df_spotify['valence'].describe()"
      ],
      "metadata": {
        "colab": {
          "base_uri": "https://localhost:8080/"
        },
        "id": "7Peu_S9ZGctR",
        "outputId": "abb30429-fcda-4c49-b7d4-d3003c2f1556"
      },
      "execution_count": 659,
      "outputs": [
        {
          "output_type": "execute_result",
          "data": {
            "text/plain": [
              "count    1940.000000\n",
              "mean        0.553000\n",
              "std         0.220897\n",
              "min         0.038100\n",
              "25%         0.389750\n",
              "50%         0.560000\n",
              "75%         0.731000\n",
              "max         0.973000\n",
              "Name: valence, dtype: float64"
            ]
          },
          "metadata": {},
          "execution_count": 659
        }
      ]
    },
    {
      "cell_type": "code",
      "source": [
        "df_spotify['valence'].hist()"
      ],
      "metadata": {
        "colab": {
          "base_uri": "https://localhost:8080/",
          "height": 0
        },
        "id": "uZtWztHt7AiW",
        "outputId": "b7a996d9-3f46-4119-9226-8a056d17f0b2"
      },
      "execution_count": 660,
      "outputs": [
        {
          "output_type": "execute_result",
          "data": {
            "text/plain": [
              "<matplotlib.axes._subplots.AxesSubplot at 0x7fadcb8ca750>"
            ]
          },
          "metadata": {},
          "execution_count": 660
        },
        {
          "output_type": "display_data",
          "data": {
            "text/plain": [
              "<Figure size 432x288 with 1 Axes>"
            ],
            "image/png": "[encoded data removed]"
          },
          "metadata": {
            "needs_background": "light"
          }
        }
      ]
    },
    {
      "cell_type": "markdown",
      "source": [
        "###### Tempo"
      ],
      "metadata": {
        "id": "0lIj99uU61Tb"
      }
    },
    {
      "cell_type": "code",
      "source": [
        "df_spotify['tempo'].describe()"
      ],
      "metadata": {
        "colab": {
          "base_uri": "https://localhost:8080/"
        },
        "id": "8GFV6XtyGc6P",
        "outputId": "d2cbc4f0-670a-4698-e86b-fbb677e4a509"
      },
      "execution_count": 661,
      "outputs": [
        {
          "output_type": "execute_result",
          "data": {
            "text/plain": [
              "count    1939.000000\n",
              "mean      120.138921\n",
              "std        26.965241\n",
              "min        60.019000\n",
              "25%        98.987500\n",
              "50%       120.028000\n",
              "75%       134.184500\n",
              "max       210.851000\n",
              "Name: tempo, dtype: float64"
            ]
          },
          "metadata": {},
          "execution_count": 661
        }
      ]
    },
    {
      "cell_type": "code",
      "source": [
        "df_spotify['tempo'].hist()"
      ],
      "metadata": {
        "colab": {
          "base_uri": "https://localhost:8080/",
          "height": 0
        },
        "id": "qV-KV4bB7A78",
        "outputId": "3ed057e2-370f-4ba2-81dc-b3fccefba0d0"
      },
      "execution_count": 662,
      "outputs": [
        {
          "output_type": "execute_result",
          "data": {
            "text/plain": [
              "<matplotlib.axes._subplots.AxesSubplot at 0x7fadcb8576d0>"
            ]
          },
          "metadata": {},
          "execution_count": 662
        },
        {
          "output_type": "display_data",
          "data": {
            "text/plain": [
              "<Figure size 432x288 with 1 Axes>"
            ],
            "image/png": "[encoded data removed]"
          },
          "metadata": {
            "needs_background": "light"
          }
        }
      ]
    },
    {
      "cell_type": "markdown",
      "source": [
        "## Punto 1.1\n",
        "\n",
        "¿Cuál es el top 10 de artistas más activos de los últimos 10 años?\n"
      ],
      "metadata": {
        "id": "l6jx0ksK7WIB"
      }
    },
    {
      "cell_type": "markdown",
      "source": [
        "Como se tiene información desde el 2020, cuando hace referencia a los últimos 10 años se toman canciones desde el 2010 hasta el 2022. Para encontrar el top 10 de artistas más activos se procede a hacer un groupby por artista y se utiliza la función $count()$ para encontrar la cantidad de veces que esta el mismo artista en data frame."
      ],
      "metadata": {
        "id": "SlEtcqJzsVBI"
      }
    },
    {
      "cell_type": "code",
      "source": [
        "(max(df_spotify['year'])-10)"
      ],
      "metadata": {
        "colab": {
          "base_uri": "https://localhost:8080/"
        },
        "id": "4Aj8sDQydOr3",
        "outputId": "24b332ff-a463-418f-c2b3-1d750c89463c"
      },
      "execution_count": 663,
      "outputs": [
        {
          "output_type": "execute_result",
          "data": {
            "text/plain": [
              "2010"
            ]
          },
          "metadata": {},
          "execution_count": 663
        }
      ]
    },
    {
      "cell_type": "code",
      "source": [
        "df_spotify_last_10_years = df_spotify[df_spotify['year']>=(max(df_spotify['year'])-10)]\n",
        "df_artists = df_spotify_last_10_years.groupby(['artist']).count().sort_values(['song'],ascending=False).reset_index().head(10)\n",
        "df_artists[['artist','song']]"
      ],
      "metadata": {
        "id": "eoHoH503HzSj",
        "colab": {
          "base_uri": "https://localhost:8080/",
          "height": 363
        },
        "outputId": "78a01bfc-5700-49d9-b502-3d57c95bd73b"
      },
      "execution_count": 664,
      "outputs": [
        {
          "output_type": "execute_result",
          "data": {
            "text/plain": [
              "          artist  song\n",
              "0          Drake    22\n",
              "1   David Guetta    18\n",
              "2  Calvin Harris    18\n",
              "3   Taylor Swift    14\n",
              "4  Ariana Grande    13\n",
              "5     Katy Perry    13\n",
              "6   Jason Derulo    11\n",
              "7       Maroon 5    11\n",
              "8        Rihanna    11\n",
              "9     Bruno Mars    11"
            ],
            "text/html": [
              "\n",
              "  <div id=\"df-ecdee207-c215-4969-bcb0-53dce571f2a1\">\n",
              "    <div class=\"colab-df-container\">\n",
              "      <div>\n",
              "<style scoped>\n",
              "    .dataframe tbody tr th:only-of-type {\n",
              "        vertical-align: middle;\n",
              "    }\n",
              "\n",
              "    .dataframe tbody tr th {\n",
              "        vertical-align: top;\n",
              "    }\n",
              "\n",
              "    .dataframe thead th {\n",
              "        text-align: right;\n",
              "    }\n",
              "</style>\n",
              "<table border=\"1\" class=\"dataframe\">\n",
              "  <thead>\n",
              "    <tr style=\"text-align: right;\">\n",
              "      <th></th>\n",
              "      <th>artist</th>\n",
              "      <th>song</th>\n",
              "    </tr>\n",
              "  </thead>\n",
              "  <tbody>\n",
              "    <tr>\n",
              "      <th>0</th>\n",
              "      <td>Drake</td>\n",
              "      <td>22</td>\n",
              "    </tr>\n",
              "    <tr>\n",
              "      <th>1</th>\n",
              "      <td>David Guetta</td>\n",
              "      <td>18</td>\n",
              "    </tr>\n",
              "    <tr>\n",
              "      <th>2</th>\n",
              "      <td>Calvin Harris</td>\n",
              "      <td>18</td>\n",
              "    </tr>\n",
              "    <tr>\n",
              "      <th>3</th>\n",
              "      <td>Taylor Swift</td>\n",
              "      <td>14</td>\n",
              "    </tr>\n",
              "    <tr>\n",
              "      <th>4</th>\n",
              "      <td>Ariana Grande</td>\n",
              "      <td>13</td>\n",
              "    </tr>\n",
              "    <tr>\n",
              "      <th>5</th>\n",
              "      <td>Katy Perry</td>\n",
              "      <td>13</td>\n",
              "    </tr>\n",
              "    <tr>\n",
              "      <th>6</th>\n",
              "      <td>Jason Derulo</td>\n",
              "      <td>11</td>\n",
              "    </tr>\n",
              "    <tr>\n",
              "      <th>7</th>\n",
              "      <td>Maroon 5</td>\n",
              "      <td>11</td>\n",
              "    </tr>\n",
              "    <tr>\n",
              "      <th>8</th>\n",
              "      <td>Rihanna</td>\n",
              "      <td>11</td>\n",
              "    </tr>\n",
              "    <tr>\n",
              "      <th>9</th>\n",
              "      <td>Bruno Mars</td>\n",
              "      <td>11</td>\n",
              "    </tr>\n",
              "  </tbody>\n",
              "</table>\n",
              "</div>\n",
              "      <button class=\"colab-df-convert\" onclick=\"convertToInteractive('df-ecdee207-c215-4969-bcb0-53dce571f2a1')\"\n",
              "              title=\"Convert this dataframe to an interactive table.\"\n",
              "              style=\"display:none;\">\n",
              "        \n",
              "  <svg xmlns=\"http://www.w3.org/2000/svg\" height=\"24px\"viewBox=\"0 0 24 24\"\n",
              "       width=\"24px\">\n",
              "    <path d=\"M0 0h24v24H0V0z\" fill=\"none\"/>\n",
              "    <path d=\"M18.56 5.44l.94 2.06.94-2.06 2.06-.94-2.06-.94-.94-2.06-.94 2.06-2.06.94zm-11 1L8.5 8.5l.94-2.06 2.06-.94-2.06-.94L8.5 2.5l-.94 2.06-2.06.94zm10 10l.94 2.06.94-2.06 2.06-.94-2.06-.94-.94-2.06-.94 2.06-2.06.94z\"/><path d=\"M17.41 7.96l-1.37-1.37c-.4-.4-.92-.59-1.43-.59-.52 0-1.04.2-1.43.59L10.3 9.45l-7.72 7.72c-.78.78-.78 2.05 0 2.83L4 21.41c.39.39.9.59 1.41.59.51 0 1.02-.2 1.41-.59l7.78-7.78 2.81-2.81c.8-.78.8-2.07 0-2.86zM5.41 20L4 18.59l7.72-7.72 1.47 1.35L5.41 20z\"/>\n",
              "  </svg>\n",
              "      </button>\n",
              "      \n",
              "  <style>\n",
              "    .colab-df-container {\n",
              "      display:flex;\n",
              "      flex-wrap:wrap;\n",
              "      gap: 12px;\n",
              "    }\n",
              "\n",
              "    .colab-df-convert {\n",
              "      background-color: #E8F0FE;\n",
              "      border: none;\n",
              "      border-radius: 50%;\n",
              "      cursor: pointer;\n",
              "      display: none;\n",
              "      fill: #1967D2;\n",
              "      height: 32px;\n",
              "      padding: 0 0 0 0;\n",
              "      width: 32px;\n",
              "    }\n",
              "\n",
              "    .colab-df-convert:hover {\n",
              "      background-color: #E2EBFA;\n",
              "      box-shadow: 0px 1px 2px rgba(60, 64, 67, 0.3), 0px 1px 3px 1px rgba(60, 64, 67, 0.15);\n",
              "      fill: #174EA6;\n",
              "    }\n",
              "\n",
              "    [theme=dark] .colab-df-convert {\n",
              "      background-color: #3B4455;\n",
              "      fill: #D2E3FC;\n",
              "    }\n",
              "\n",
              "    [theme=dark] .colab-df-convert:hover {\n",
              "      background-color: #434B5C;\n",
              "      box-shadow: 0px 1px 3px 1px rgba(0, 0, 0, 0.15);\n",
              "      filter: drop-shadow(0px 1px 2px rgba(0, 0, 0, 0.3));\n",
              "      fill: #FFFFFF;\n",
              "    }\n",
              "  </style>\n",
              "\n",
              "      <script>\n",
              "        const buttonEl =\n",
              "          document.querySelector('#df-ecdee207-c215-4969-bcb0-53dce571f2a1 button.colab-df-convert');\n",
              "        buttonEl.style.display =\n",
              "          google.colab.kernel.accessAllowed ? 'block' : 'none';\n",
              "\n",
              "        async function convertToInteractive(key) {\n",
              "          const element = document.querySelector('#df-ecdee207-c215-4969-bcb0-53dce571f2a1');\n",
              "          const dataTable =\n",
              "            await google.colab.kernel.invokeFunction('convertToInteractive',\n",
              "                                                     [key], {});\n",
              "          if (!dataTable) return;\n",
              "\n",
              "          const docLinkHtml = 'Like what you see? Visit the ' +\n",
              "            '<a target=\"_blank\" href=https://colab.research.google.com/notebooks/data_table.ipynb>data table notebook</a>'\n",
              "            + ' to learn more about interactive tables.';\n",
              "          element.innerHTML = '';\n",
              "          dataTable['output_type'] = 'display_data';\n",
              "          await google.colab.output.renderOutput(dataTable, element);\n",
              "          const docLink = document.createElement('div');\n",
              "          docLink.innerHTML = docLinkHtml;\n",
              "          element.appendChild(docLink);\n",
              "        }\n",
              "      </script>\n",
              "    </div>\n",
              "  </div>\n",
              "  "
            ]
          },
          "metadata": {},
          "execution_count": 664
        }
      ]
    },
    {
      "cell_type": "markdown",
      "source": [
        "Para visualizar se utiliza la función $bar()$ de pandas."
      ],
      "metadata": {
        "id": "RUUMfF9YW5cx"
      }
    },
    {
      "cell_type": "code",
      "source": [
        "df_artists.plot.bar(x='artist',y='song',figsize=(10,5),title='Cantidad de canciones en los últimos 10 años',xlabel='Artista',ylabel='Cantidad de canciones',yticks=range(23))"
      ],
      "metadata": {
        "colab": {
          "base_uri": "https://localhost:8080/",
          "height": 429
        },
        "id": "31GLh4BmXpuA",
        "outputId": "7b7f1502-2da8-4930-af85-206a23110e47"
      },
      "execution_count": 665,
      "outputs": [
        {
          "output_type": "execute_result",
          "data": {
            "text/plain": [
              "<matplotlib.axes._subplots.AxesSubplot at 0x7fadcbd6ce10>"
            ]
          },
          "metadata": {},
          "execution_count": 665
        },
        {
          "output_type": "display_data",
          "data": {
            "text/plain": [
              "<Figure size 720x360 with 1 Axes>"
            ],
            "image/png": "[encoded data removed]"
          },
          "metadata": {
            "needs_background": "light"
          }
        }
      ]
    },
    {
      "cell_type": "markdown",
      "source": [
        "## Punto 2\n",
        "\n",
        "¿Cómo se diferencian las canciones de los géneros de Latin y Folk/Acoustic en relación con su duración? Halle la diferencia del tiempo promedio de ambos géneros.\n"
      ],
      "metadata": {
        "id": "ocGhkQkV9ms8"
      }
    },
    {
      "cell_type": "markdown",
      "source": [
        "|Requerimiento|columna|\n",
        "|---|---|\n",
        "|géneros|genre|\n",
        "|duración|duration_ms|"
      ],
      "metadata": {
        "id": "MUzY4OgNtDAP"
      }
    },
    {
      "cell_type": "markdown",
      "source": [
        "Primero se filtra por las canciones que contengan en su género la palabra 'latin' y la palabra 'Folk/Acoustic'. Estos datos se guardan en nuevos data frames."
      ],
      "metadata": {
        "id": "E_2ggG3-bS1V"
      }
    },
    {
      "cell_type": "code",
      "source": [
        "df_songs_latin = df_spotify[df_spotify['genre'].str.contains('latin')==True]\n",
        "df_songs_folk = df_spotify[df_spotify['genre'].str.contains('Folk/Acoustic')==True]\n",
        "print(df_songs_latin.shape,df_songs_folk.shape)"
      ],
      "metadata": {
        "colab": {
          "base_uri": "https://localhost:8080/"
        },
        "id": "vAaMNAxJwFDX",
        "outputId": "cc3d76d4-369f-4fe8-a5ff-a44d289a3dff"
      },
      "execution_count": 666,
      "outputs": [
        {
          "output_type": "stream",
          "name": "stdout",
          "text": [
            "(63, 18) (20, 18)\n"
          ]
        }
      ]
    },
    {
      "cell_type": "markdown",
      "source": [
        "Existen 63 canciones con género Latin y 20 canciones con género Folk/Acoustic. Se calcula el promedio de la duración de todas las canciones con la función $mean()$ y se calcula la diferencia restando una variable con la otra."
      ],
      "metadata": {
        "id": "X0otDMwqy9Gw"
      }
    },
    {
      "cell_type": "code",
      "source": [
        "latin_dur = df_songs_latin['duration_ms'].mean()\n",
        "folk_dur = df_songs_folk['duration_ms'].mean()\n",
        "dif_tiempo = latin_dur-folk_dur\n",
        "print('Duración promedio de las canciones con género Latin: {} [ms]'.format(latin_dur))\n",
        "print('Duración promedio de las canciones con género Folk/Acoustic: {} [ms]'.format(folk_dur))\n",
        "print('Diferencia de duración: {} [ms]'.format(dif_tiempo))\n",
        "print('Diferencia de duración: {} [s]'.format(dif_tiempo*(1/(1000*60))))"
      ],
      "metadata": {
        "colab": {
          "base_uri": "https://localhost:8080/"
        },
        "id": "w0zSoh2946bV",
        "outputId": "8ff737db-4167-4306-b00a-48081924d63a"
      },
      "execution_count": 667,
      "outputs": [
        {
          "output_type": "stream",
          "name": "stdout",
          "text": [
            "Duración promedio de las canciones con género Latin: 227494.68253968254 [ms]\n",
            "Duración promedio de las canciones con género Folk/Acoustic: 220183.65 [ms]\n",
            "Diferencia de duración: 7311.03253968255 [ms]\n",
            "Diferencia de duración: 0.1218505423280425 [s]\n"
          ]
        }
      ]
    },
    {
      "cell_type": "markdown",
      "source": [
        "La diferencia entre el tiempo promedio de las canciones de Latin y Folk/Acoustic es de $7311.03$ milisegundos o $0.1219$ minutos."
      ],
      "metadata": {
        "id": "hLshXdE95mBq"
      }
    },
    {
      "cell_type": "code",
      "source": [
        "ax = df_songs_latin.plot.hist(x='song',y='duration_ms',bins=15)\n",
        "ay = df_songs_folk.plot.hist(x='song',y='duration_ms',bins=15,ax=ax)\n",
        "ay.set_xlabel('Duración [ms]')\n",
        "ay.set_ylabel('Frecuencia')\n",
        "ay.set_title('Histograma duración de canciones de géneros Latin y Folk/Acoustic')\n",
        "ay.legend(['Duración [ms] Latin','Duración [ms] Folk/Acoustic'])\n",
        "ay"
      ],
      "metadata": {
        "colab": {
          "base_uri": "https://localhost:8080/",
          "height": 313
        },
        "id": "HdGldfx9eqv-",
        "outputId": "daac5fd3-b628-40ca-d1bf-3877f52665ed"
      },
      "execution_count": 668,
      "outputs": [
        {
          "output_type": "execute_result",
          "data": {
            "text/plain": [
              "<matplotlib.axes._subplots.AxesSubplot at 0x7fadcb6ef810>"
            ]
          },
          "metadata": {},
          "execution_count": 668
        },
        {
          "output_type": "display_data",
          "data": {
            "text/plain": [
              "<Figure size 432x288 with 1 Axes>"
            ],
            "image/png": "[encoded data removed]"
          },
          "metadata": {
            "needs_background": "light"
          }
        }
      ]
    },
    {
      "cell_type": "code",
      "source": [
        "ax = df_songs_latin.plot.kde(x='song',y='duration_ms')\n",
        "ay = df_songs_folk.plot.kde(x='song',y='duration_ms',ax=ax)\n",
        "ay.set_xlabel('Duración [ms]')\n",
        "ay.set_ylabel('Densidad')\n",
        "ay.set_title('Histograma duración de canciones de géneros Latin y Folk/Acoustic')\n",
        "ay.legend(['Duración [ms] Latin','Duración [ms] Folk/Acoustic'])\n",
        "ay"
      ],
      "metadata": {
        "colab": {
          "base_uri": "https://localhost:8080/",
          "height": 313
        },
        "id": "BsaFvGbr6jr-",
        "outputId": "c1f831a3-a7b3-47f2-bb0b-e94e53127d67"
      },
      "execution_count": 669,
      "outputs": [
        {
          "output_type": "execute_result",
          "data": {
            "text/plain": [
              "<matplotlib.axes._subplots.AxesSubplot at 0x7fadcb648290>"
            ]
          },
          "metadata": {},
          "execution_count": 669
        },
        {
          "output_type": "display_data",
          "data": {
            "text/plain": [
              "<Figure size 432x288 with 1 Axes>"
            ],
            "image/png": "[encoded data removed]"
          },
          "metadata": {
            "needs_background": "light"
          }
        }
      ]
    },
    {
      "cell_type": "markdown",
      "source": [
        "De las gráficas se puede observar que la duración media de las canciones con género Latin es más alta que la de las canciones de Folk/Acoustic. "
      ],
      "metadata": {
        "id": "hbRGJEm37cbU"
      }
    },
    {
      "cell_type": "markdown",
      "source": [
        "## Punto 3\n",
        "\n",
        "Halle el top 5 de los géneros del 2019 según la cantidad de canciones. ¿Cómo ha variado la cantidad de canciones del Top de géneros en los años 2000, 2005, 2010, 2015, 2019?"
      ],
      "metadata": {
        "id": "3UAbzA8S9s3p"
      }
    },
    {
      "cell_type": "markdown",
      "source": [
        "|Requerimiento|columna|\n",
        "|---|---|\n",
        "|géneros|genre|\n",
        "|cantidad de canciones|song|\n",
        "|2019|year|"
      ],
      "metadata": {
        "id": "0fUpJ-v47qtx"
      }
    },
    {
      "cell_type": "markdown",
      "source": [
        "Primeramente, se seleccionan solo las canciones en el año 2019 y se crea un diccionario y una función para contar la cantidad de veces que aparece un género. Si una canción tiene varios géneros se toman por separado."
      ],
      "metadata": {
        "id": "hrGNpw5vkGBo"
      }
    },
    {
      "cell_type": "code",
      "source": [
        "df_2019 = df_spotify[df_spotify['year']==2019]"
      ],
      "metadata": {
        "id": "m0JC82MpWyO2"
      },
      "execution_count": 670,
      "outputs": []
    },
    {
      "cell_type": "code",
      "source": [
        "def top_genre(col_genre):\n",
        "  dict_genre = {}\n",
        "  for genre in col_genre:\n",
        "    if ', ' in genre:\n",
        "      genres = genre.split(', ')\n",
        "      for genre_sub in genres:\n",
        "        if genre_sub in dict_genre:\n",
        "          dict_genre[genre_sub] += 1\n",
        "        else:\n",
        "          dict_genre[genre_sub] = 1\n",
        "    elif genre:\n",
        "      if genre in dict_genre:\n",
        "        dict_genre[genre] += 1\n",
        "      else:\n",
        "        dict_genre[genre] = 1\n",
        "  return dict_genre"
      ],
      "metadata": {
        "id": "4gFIlwD971jB"
      },
      "execution_count": 671,
      "outputs": []
    },
    {
      "cell_type": "code",
      "source": [
        "dict_genres_2019 = top_genre(df_2019['genre'])\n",
        "\n",
        "dict_genres_2019 = dict(sorted(dict_genres_2019.items(), key=lambda item: item[1], reverse=True))\n",
        "\n",
        "dict_genres_2019"
      ],
      "metadata": {
        "colab": {
          "base_uri": "https://localhost:8080/"
        },
        "id": "Si_-huiYWwuM",
        "outputId": "f57a606f-b056-4f87-e7e4-203ef90c8525"
      },
      "execution_count": 672,
      "outputs": [
        {
          "output_type": "execute_result",
          "data": {
            "text/plain": [
              "{'pop': 63,\n",
              " 'hip hop': 38,\n",
              " 'Dance/Electronic': 21,\n",
              " 'R&B': 9,\n",
              " 'latin': 8,\n",
              " 'rock': 2,\n",
              " 'metal': 2,\n",
              " 'country': 1}"
            ]
          },
          "metadata": {},
          "execution_count": 672
        }
      ]
    },
    {
      "cell_type": "markdown",
      "source": [
        "El top 5 de géneros en el 2019 es:\n",
        "\n",
        "*   Pop, con 63 canciones\n",
        "*   Hip Hop, con 38 canciones\n",
        "*   Dance/Electronic, con 21 canciones\n",
        "*   R&B, con 9 canciones\n",
        "*   Latin, con 8 canciones\n",
        "\n"
      ],
      "metadata": {
        "id": "F99hQQvsmM1X"
      }
    },
    {
      "cell_type": "code",
      "source": [
        "plt.figure(1,figsize=(10,5))\n",
        "plt.xlabel('Género')\n",
        "plt.ylabel('Cantidad de canciones')\n",
        "plt.title('Top 5 géneros 2019')\n",
        "y = list(dict_genres_2019.values())[:6]\n",
        "plt.bar(range(5),list(dict_genres_2019.values())[:5])\n",
        "plt.xticks(range(5),list(dict_genres_2019.keys())[:5])\n",
        "plt.show()"
      ],
      "metadata": {
        "colab": {
          "base_uri": "https://localhost:8080/",
          "height": 350
        },
        "id": "I-g24Wm8kBjn",
        "outputId": "19bfba7a-3a42-4cc5-e6d4-d4e2cfbe15e7"
      },
      "execution_count": 673,
      "outputs": [
        {
          "output_type": "display_data",
          "data": {
            "text/plain": [
              "<Figure size 720x360 with 1 Axes>"
            ],
            "image/png": "[encoded data removed]"
          },
          "metadata": {
            "needs_background": "light"
          }
        }
      ]
    },
    {
      "cell_type": "markdown",
      "source": [
        "Para encontrar la cantidad de canciones de cada género del top 5, se utiliza la función creada anteriormente para los años a estudiar. La información se guarda en una lista de diccionarios. Después, se procede a guardar cada número de canciones en otro diccionario por género.\n",
        "Finalmente, se grafican la cantidad de canciones respecto al año."
      ],
      "metadata": {
        "id": "hqR12odQoIOc"
      }
    },
    {
      "cell_type": "code",
      "source": [
        "top_5_generos = list(dict_genres_2019.keys())[:5]\n",
        "print(top_5_generos)"
      ],
      "metadata": {
        "colab": {
          "base_uri": "https://localhost:8080/"
        },
        "id": "EFGdWMiWD2ca",
        "outputId": "8d22edea-ef4c-46a4-e2ed-c3a86cbac597"
      },
      "execution_count": 674,
      "outputs": [
        {
          "output_type": "stream",
          "name": "stdout",
          "text": [
            "['pop', 'hip hop', 'Dance/Electronic', 'R&B', 'latin']\n"
          ]
        }
      ]
    },
    {
      "cell_type": "code",
      "source": [
        "anios = ['2000', '2005', '2010', '2015', '2019']\n",
        "top_5_generos = list(dict_genres_2019.keys())[:5]\n",
        "\n",
        "list_dicts_generes = []\n",
        "\n",
        "for anio in anios:\n",
        "  df = df_spotify[df_spotify['year']==int(anio)]\n",
        "  dict_genres = top_genre(df['genre'])\n",
        "  dict_genres = dict(sorted(dict_genres.items(), key=lambda item: item[1], reverse=True))\n",
        "  for key in list(dict_genres.keys()):\n",
        "      if key not in top_5_generos:\n",
        "         del dict_genres[key]\n",
        "  list_dicts_generes.append(dict_genres)\n",
        "\n",
        "num_songs_genre = {i:[] for i in top_5_generos}\n",
        "\n",
        "for dict_genre in list_dicts_generes:\n",
        "  if len(dict_genre) < 5:\n",
        "    for genre in top_5_generos:\n",
        "      if genre not in dict_genre:\n",
        "        dict_genre[genre] = 0\n",
        "  for key in dict_genre.keys():\n",
        "    num_songs_genre[key].append(dict_genre[key])\n",
        "\n",
        "plt.figure(2,figsize=(10,5))\n",
        "for genre in num_songs_genre:\n",
        "  plt.plot(anios,num_songs_genre[genre])\n",
        "plt.xlabel('Año')\n",
        "plt.ylabel('Cantidad de canciones')\n",
        "plt.title('Top 5 géneros durante los años')\n",
        "plt.legend(num_songs_genre.keys())\n",
        "plt.show()"
      ],
      "metadata": {
        "colab": {
          "base_uri": "https://localhost:8080/",
          "height": 350
        },
        "id": "UAN-3rEwoHr0",
        "outputId": "d5b96a72-18e3-4a9a-c90d-8764eac2140e"
      },
      "execution_count": 675,
      "outputs": [
        {
          "output_type": "display_data",
          "data": {
            "text/plain": [
              "<Figure size 720x360 with 1 Axes>"
            ],
            "image/png": "[encoded data removed]"
          },
          "metadata": {
            "needs_background": "light"
          }
        }
      ]
    },
    {
      "cell_type": "markdown",
      "source": [
        "## Punto 4\n",
        "\n",
        "¿Cómo ha sido la progresión de nuevos artistas? Asuma que un artista nuevo es aquel del cual no se tiene registros pasados y solo es nuevo durante el primer año de aparición.\n"
      ],
      "metadata": {
        "id": "wYTRd76P9xUf"
      }
    },
    {
      "cell_type": "markdown",
      "source": [
        "|Requerimiento|columna|\n",
        "|---|---|\n",
        "|Año de aparición|year|\n",
        "|Nuevo Artista|artist|"
      ],
      "metadata": {
        "id": "V4GuWJR95t3K"
      }
    },
    {
      "cell_type": "markdown",
      "source": [
        "Para este punto se sacará una lista de artistas por año y se definirá un diccionario con la cantidad de artistas nuevos por años. Para calcular si un artista es nuevo se verifica que no esté en la lista de artistas del año anterior. Y en cada año se agrega el artista del año anterior para tener un acumulado de artistas. Finalmente, se grafican la cantidad de artistas nuevo por año."
      ],
      "metadata": {
        "id": "3NdFGD6O6Z5b"
      }
    },
    {
      "cell_type": "code",
      "source": [
        "from ast import Pass\n",
        "anios = sorted(df_spotify['year'].unique())\n",
        "\n",
        "artistas_per_anio = []\n",
        "dict_nuevos_artistas = {i:0 for i in anios}\n",
        "\n",
        "count = 0\n",
        "for anio in anios:\n",
        "  if count == 0:\n",
        "    list_artistas = list(df_spotify[df_spotify['year']==int(anio)]['artist'].unique())\n",
        "    artistas_per_anio.append(list_artistas)\n",
        "  else:\n",
        "    list_artistas = list(df_spotify[df_spotify['year']==int(anio)]['artist'].unique())\n",
        "    list_artistas = artistas_per_anio[count-1] + list_artistas\n",
        "    list_artistas = list(set(list_artistas))\n",
        "    artistas_per_anio.append(list_artistas)\n",
        "  count += 1\n",
        "\n",
        "count = 0\n",
        "for artistas in artistas_per_anio:\n",
        "  if count == 0:\n",
        "    dict_nuevos_artistas[anios[count]] = len(artistas)\n",
        "  else:\n",
        "    for artista in artistas:\n",
        "      if artista not in artistas_per_anio[count-1]:\n",
        "        dict_nuevos_artistas[anios[count]] += 1\n",
        "  count += 1"
      ],
      "metadata": {
        "id": "gNj545Yp6iwR"
      },
      "execution_count": 676,
      "outputs": []
    },
    {
      "cell_type": "code",
      "source": [
        "plt.figure(3,figsize=(15,5))\n",
        "plt.xlabel('Año')\n",
        "plt.ylabel('Cantidad de artistas nuevos')\n",
        "plt.title('Artistas nuevos por Año')\n",
        "y = list(dict_nuevos_artistas.values())[:6]\n",
        "plt.bar(range(len(dict_nuevos_artistas)),list(dict_nuevos_artistas.values()))\n",
        "plt.xticks(range(len(dict_nuevos_artistas)),list(dict_nuevos_artistas.keys()))\n",
        "plt.show()"
      ],
      "metadata": {
        "colab": {
          "base_uri": "https://localhost:8080/",
          "height": 350
        },
        "id": "JcqeZsOmNrgy",
        "outputId": "c61b68b1-a1e9-4077-c721-c42e7099c91f"
      },
      "execution_count": 677,
      "outputs": [
        {
          "output_type": "display_data",
          "data": {
            "text/plain": [
              "<Figure size 1080x360 with 1 Axes>"
            ],
            "image/png": "[encoded data removed]"
          },
          "metadata": {
            "needs_background": "light"
          }
        }
      ]
    },
    {
      "cell_type": "markdown",
      "source": [
        "## Punto 5\n",
        "\n",
        "Grafique la progresión de la popularidad promedio por género y por año. Concluya sobre la gráfica, ej: ¿existen tendencias?"
      ],
      "metadata": {
        "id": "tNFUYPxQ913F"
      }
    },
    {
      "cell_type": "markdown",
      "source": [
        "|Requerimiento|columna|\n",
        "|---|---|\n",
        "|popularidad promedio|popularity.mean()|\n",
        "|por género|genre|\n",
        "|por año|year|"
      ],
      "metadata": {
        "id": "SuuUangMPXZB"
      }
    },
    {
      "cell_type": "markdown",
      "source": [
        "Para encontrar la popularidad promedio por año se utiliza la función $groupby()$ para agrupar por año y la función $mean()$ para encontrar el promedio de la popularidad para esos años."
      ],
      "metadata": {
        "id": "NRwpYNObQiPB"
      }
    },
    {
      "cell_type": "code",
      "source": [
        "df_popularidad_por_anio = df_spotify.groupby('year').mean().reset_index()\n",
        "df_popularidad_por_anio = df_popularidad_por_anio[['year','popularity']]\n",
        "df_popularidad_por_anio"
      ],
      "metadata": {
        "colab": {
          "base_uri": "https://localhost:8080/",
          "height": 771
        },
        "id": "nMyDklAVQ7_u",
        "outputId": "609bf70a-68bd-4a7a-b911-c9dbf25f9483"
      },
      "execution_count": 678,
      "outputs": [
        {
          "output_type": "execute_result",
          "data": {
            "text/plain": [
              "    year  popularity\n",
              "0   1998   49.000000\n",
              "1   1999   64.921053\n",
              "2   2000   58.142857\n",
              "3   2001   59.349057\n",
              "4   2002   62.104651\n",
              "5   2003   58.758242\n",
              "6   2004   58.631579\n",
              "7   2005   61.663366\n",
              "8   2006   57.161290\n",
              "9   2007   59.477778\n",
              "10  2008   63.208791\n",
              "11  2009   62.024390\n",
              "12  2010   60.524272\n",
              "13  2011   57.926316\n",
              "14  2012   60.203540\n",
              "15  2013   54.551724\n",
              "16  2014   58.970000\n",
              "17  2015   56.741935\n",
              "18  2016   53.948980\n",
              "19  2017   53.845455\n",
              "20  2018   70.519231\n",
              "21  2019   62.931818\n",
              "22  2020   43.333333"
            ],
            "text/html": [
              "\n",
              "  <div id=\"df-16b8513b-f33a-4a3e-a721-9ef710f5a23c\">\n",
              "    <div class=\"colab-df-container\">\n",
              "      <div>\n",
              "<style scoped>\n",
              "    .dataframe tbody tr th:only-of-type {\n",
              "        vertical-align: middle;\n",
              "    }\n",
              "\n",
              "    .dataframe tbody tr th {\n",
              "        vertical-align: top;\n",
              "    }\n",
              "\n",
              "    .dataframe thead th {\n",
              "        text-align: right;\n",
              "    }\n",
              "</style>\n",
              "<table border=\"1\" class=\"dataframe\">\n",
              "  <thead>\n",
              "    <tr style=\"text-align: right;\">\n",
              "      <th></th>\n",
              "      <th>year</th>\n",
              "      <th>popularity</th>\n",
              "    </tr>\n",
              "  </thead>\n",
              "  <tbody>\n",
              "    <tr>\n",
              "      <th>0</th>\n",
              "      <td>1998</td>\n",
              "      <td>49.000000</td>\n",
              "    </tr>\n",
              "    <tr>\n",
              "      <th>1</th>\n",
              "      <td>1999</td>\n",
              "      <td>64.921053</td>\n",
              "    </tr>\n",
              "    <tr>\n",
              "      <th>2</th>\n",
              "      <td>2000</td>\n",
              "      <td>58.142857</td>\n",
              "    </tr>\n",
              "    <tr>\n",
              "      <th>3</th>\n",
              "      <td>2001</td>\n",
              "      <td>59.349057</td>\n",
              "    </tr>\n",
              "    <tr>\n",
              "      <th>4</th>\n",
              "      <td>2002</td>\n",
              "      <td>62.104651</td>\n",
              "    </tr>\n",
              "    <tr>\n",
              "      <th>5</th>\n",
              "      <td>2003</td>\n",
              "      <td>58.758242</td>\n",
              "    </tr>\n",
              "    <tr>\n",
              "      <th>6</th>\n",
              "      <td>2004</td>\n",
              "      <td>58.631579</td>\n",
              "    </tr>\n",
              "    <tr>\n",
              "      <th>7</th>\n",
              "      <td>2005</td>\n",
              "      <td>61.663366</td>\n",
              "    </tr>\n",
              "    <tr>\n",
              "      <th>8</th>\n",
              "      <td>2006</td>\n",
              "      <td>57.161290</td>\n",
              "    </tr>\n",
              "    <tr>\n",
              "      <th>9</th>\n",
              "      <td>2007</td>\n",
              "      <td>59.477778</td>\n",
              "    </tr>\n",
              "    <tr>\n",
              "      <th>10</th>\n",
              "      <td>2008</td>\n",
              "      <td>63.208791</td>\n",
              "    </tr>\n",
              "    <tr>\n",
              "      <th>11</th>\n",
              "      <td>2009</td>\n",
              "      <td>62.024390</td>\n",
              "    </tr>\n",
              "    <tr>\n",
              "      <th>12</th>\n",
              "      <td>2010</td>\n",
              "      <td>60.524272</td>\n",
              "    </tr>\n",
              "    <tr>\n",
              "      <th>13</th>\n",
              "      <td>2011</td>\n",
              "      <td>57.926316</td>\n",
              "    </tr>\n",
              "    <tr>\n",
              "      <th>14</th>\n",
              "      <td>2012</td>\n",
              "      <td>60.203540</td>\n",
              "    </tr>\n",
              "    <tr>\n",
              "      <th>15</th>\n",
              "      <td>2013</td>\n",
              "      <td>54.551724</td>\n",
              "    </tr>\n",
              "    <tr>\n",
              "      <th>16</th>\n",
              "      <td>2014</td>\n",
              "      <td>58.970000</td>\n",
              "    </tr>\n",
              "    <tr>\n",
              "      <th>17</th>\n",
              "      <td>2015</td>\n",
              "      <td>56.741935</td>\n",
              "    </tr>\n",
              "    <tr>\n",
              "      <th>18</th>\n",
              "      <td>2016</td>\n",
              "      <td>53.948980</td>\n",
              "    </tr>\n",
              "    <tr>\n",
              "      <th>19</th>\n",
              "      <td>2017</td>\n",
              "      <td>53.845455</td>\n",
              "    </tr>\n",
              "    <tr>\n",
              "      <th>20</th>\n",
              "      <td>2018</td>\n",
              "      <td>70.519231</td>\n",
              "    </tr>\n",
              "    <tr>\n",
              "      <th>21</th>\n",
              "      <td>2019</td>\n",
              "      <td>62.931818</td>\n",
              "    </tr>\n",
              "    <tr>\n",
              "      <th>22</th>\n",
              "      <td>2020</td>\n",
              "      <td>43.333333</td>\n",
              "    </tr>\n",
              "  </tbody>\n",
              "</table>\n",
              "</div>\n",
              "      <button class=\"colab-df-convert\" onclick=\"convertToInteractive('df-16b8513b-f33a-4a3e-a721-9ef710f5a23c')\"\n",
              "              title=\"Convert this dataframe to an interactive table.\"\n",
              "              style=\"display:none;\">\n",
              "        \n",
              "  <svg xmlns=\"http://www.w3.org/2000/svg\" height=\"24px\"viewBox=\"0 0 24 24\"\n",
              "       width=\"24px\">\n",
              "    <path d=\"M0 0h24v24H0V0z\" fill=\"none\"/>\n",
              "    <path d=\"M18.56 5.44l.94 2.06.94-2.06 2.06-.94-2.06-.94-.94-2.06-.94 2.06-2.06.94zm-11 1L8.5 8.5l.94-2.06 2.06-.94-2.06-.94L8.5 2.5l-.94 2.06-2.06.94zm10 10l.94 2.06.94-2.06 2.06-.94-2.06-.94-.94-2.06-.94 2.06-2.06.94z\"/><path d=\"M17.41 7.96l-1.37-1.37c-.4-.4-.92-.59-1.43-.59-.52 0-1.04.2-1.43.59L10.3 9.45l-7.72 7.72c-.78.78-.78 2.05 0 2.83L4 21.41c.39.39.9.59 1.41.59.51 0 1.02-.2 1.41-.59l7.78-7.78 2.81-2.81c.8-.78.8-2.07 0-2.86zM5.41 20L4 18.59l7.72-7.72 1.47 1.35L5.41 20z\"/>\n",
              "  </svg>\n",
              "      </button>\n",
              "      \n",
              "  <style>\n",
              "    .colab-df-container {\n",
              "      display:flex;\n",
              "      flex-wrap:wrap;\n",
              "      gap: 12px;\n",
              "    }\n",
              "\n",
              "    .colab-df-convert {\n",
              "      background-color: #E8F0FE;\n",
              "      border: none;\n",
              "      border-radius: 50%;\n",
              "      cursor: pointer;\n",
              "      display: none;\n",
              "      fill: #1967D2;\n",
              "      height: 32px;\n",
              "      padding: 0 0 0 0;\n",
              "      width: 32px;\n",
              "    }\n",
              "\n",
              "    .colab-df-convert:hover {\n",
              "      background-color: #E2EBFA;\n",
              "      box-shadow: 0px 1px 2px rgba(60, 64, 67, 0.3), 0px 1px 3px 1px rgba(60, 64, 67, 0.15);\n",
              "      fill: #174EA6;\n",
              "    }\n",
              "\n",
              "    [theme=dark] .colab-df-convert {\n",
              "      background-color: #3B4455;\n",
              "      fill: #D2E3FC;\n",
              "    }\n",
              "\n",
              "    [theme=dark] .colab-df-convert:hover {\n",
              "      background-color: #434B5C;\n",
              "      box-shadow: 0px 1px 3px 1px rgba(0, 0, 0, 0.15);\n",
              "      filter: drop-shadow(0px 1px 2px rgba(0, 0, 0, 0.3));\n",
              "      fill: #FFFFFF;\n",
              "    }\n",
              "  </style>\n",
              "\n",
              "      <script>\n",
              "        const buttonEl =\n",
              "          document.querySelector('#df-16b8513b-f33a-4a3e-a721-9ef710f5a23c button.colab-df-convert');\n",
              "        buttonEl.style.display =\n",
              "          google.colab.kernel.accessAllowed ? 'block' : 'none';\n",
              "\n",
              "        async function convertToInteractive(key) {\n",
              "          const element = document.querySelector('#df-16b8513b-f33a-4a3e-a721-9ef710f5a23c');\n",
              "          const dataTable =\n",
              "            await google.colab.kernel.invokeFunction('convertToInteractive',\n",
              "                                                     [key], {});\n",
              "          if (!dataTable) return;\n",
              "\n",
              "          const docLinkHtml = 'Like what you see? Visit the ' +\n",
              "            '<a target=\"_blank\" href=https://colab.research.google.com/notebooks/data_table.ipynb>data table notebook</a>'\n",
              "            + ' to learn more about interactive tables.';\n",
              "          element.innerHTML = '';\n",
              "          dataTable['output_type'] = 'display_data';\n",
              "          await google.colab.output.renderOutput(dataTable, element);\n",
              "          const docLink = document.createElement('div');\n",
              "          docLink.innerHTML = docLinkHtml;\n",
              "          element.appendChild(docLink);\n",
              "        }\n",
              "      </script>\n",
              "    </div>\n",
              "  </div>\n",
              "  "
            ]
          },
          "metadata": {},
          "execution_count": 678
        }
      ]
    },
    {
      "cell_type": "markdown",
      "source": [
        "Como una canción puede tener más de un género, se tiene que hacer otro tipo de procedimiento. Primero, se convierten en listas la columna de género para poder hacer uso de la función $explode()$ y tener la misma fila con los diferentes géneros. Después, se hace el $groupby()$ en el género y con la función $mean()$ se tiene el promedio de la popularidad."
      ],
      "metadata": {
        "id": "ecUxvIlmWBJD"
      }
    },
    {
      "cell_type": "code",
      "source": [
        "df_spotify_genres = df_spotify.copy()\n",
        "df_spotify_genres['genre'] = df_spotify_genres['genre'].str.split(', ')\n",
        "df_spotify_genres = df_spotify_genres.explode('genre')\n",
        "df_popularidad_por_genero = df_spotify_genres.groupby('genre').mean().reset_index()\n",
        "df_popularidad_por_genero[['genre','popularity']]"
      ],
      "metadata": {
        "colab": {
          "base_uri": "https://localhost:8080/",
          "height": 520
        },
        "id": "MyXqlJC3WA1J",
        "outputId": "7cef36b9-cc66-4bd9-815b-df48435f59c9"
      },
      "execution_count": 679,
      "outputs": [
        {
          "output_type": "execute_result",
          "data": {
            "text/plain": [
              "                genre  popularity\n",
              "0                       57.565217\n",
              "1    Dance/Electronic   54.569921\n",
              "2       Folk/Acoustic   60.200000\n",
              "3                 R&B   58.569794\n",
              "4   World/Traditional   53.800000\n",
              "5               blues   45.500000\n",
              "6           classical   63.000000\n",
              "7             country   56.200000\n",
              "8      easy listening   61.428571\n",
              "9             hip hop   61.811749\n",
              "10               jazz   57.500000\n",
              "11              latin   58.758065\n",
              "12              metal   67.671875\n",
              "13                pop   59.021533\n",
              "14               rock   62.638393"
            ],
            "text/html": [
              "\n",
              "  <div id=\"df-0fc59499-1b16-4004-bdf7-2de1a37d4535\">\n",
              "    <div class=\"colab-df-container\">\n",
              "      <div>\n",
              "<style scoped>\n",
              "    .dataframe tbody tr th:only-of-type {\n",
              "        vertical-align: middle;\n",
              "    }\n",
              "\n",
              "    .dataframe tbody tr th {\n",
              "        vertical-align: top;\n",
              "    }\n",
              "\n",
              "    .dataframe thead th {\n",
              "        text-align: right;\n",
              "    }\n",
              "</style>\n",
              "<table border=\"1\" class=\"dataframe\">\n",
              "  <thead>\n",
              "    <tr style=\"text-align: right;\">\n",
              "      <th></th>\n",
              "      <th>genre</th>\n",
              "      <th>popularity</th>\n",
              "    </tr>\n",
              "  </thead>\n",
              "  <tbody>\n",
              "    <tr>\n",
              "      <th>0</th>\n",
              "      <td></td>\n",
              "      <td>57.565217</td>\n",
              "    </tr>\n",
              "    <tr>\n",
              "      <th>1</th>\n",
              "      <td>Dance/Electronic</td>\n",
              "      <td>54.569921</td>\n",
              "    </tr>\n",
              "    <tr>\n",
              "      <th>2</th>\n",
              "      <td>Folk/Acoustic</td>\n",
              "      <td>60.200000</td>\n",
              "    </tr>\n",
              "    <tr>\n",
              "      <th>3</th>\n",
              "      <td>R&amp;B</td>\n",
              "      <td>58.569794</td>\n",
              "    </tr>\n",
              "    <tr>\n",
              "      <th>4</th>\n",
              "      <td>World/Traditional</td>\n",
              "      <td>53.800000</td>\n",
              "    </tr>\n",
              "    <tr>\n",
              "      <th>5</th>\n",
              "      <td>blues</td>\n",
              "      <td>45.500000</td>\n",
              "    </tr>\n",
              "    <tr>\n",
              "      <th>6</th>\n",
              "      <td>classical</td>\n",
              "      <td>63.000000</td>\n",
              "    </tr>\n",
              "    <tr>\n",
              "      <th>7</th>\n",
              "      <td>country</td>\n",
              "      <td>56.200000</td>\n",
              "    </tr>\n",
              "    <tr>\n",
              "      <th>8</th>\n",
              "      <td>easy listening</td>\n",
              "      <td>61.428571</td>\n",
              "    </tr>\n",
              "    <tr>\n",
              "      <th>9</th>\n",
              "      <td>hip hop</td>\n",
              "      <td>61.811749</td>\n",
              "    </tr>\n",
              "    <tr>\n",
              "      <th>10</th>\n",
              "      <td>jazz</td>\n",
              "      <td>57.500000</td>\n",
              "    </tr>\n",
              "    <tr>\n",
              "      <th>11</th>\n",
              "      <td>latin</td>\n",
              "      <td>58.758065</td>\n",
              "    </tr>\n",
              "    <tr>\n",
              "      <th>12</th>\n",
              "      <td>metal</td>\n",
              "      <td>67.671875</td>\n",
              "    </tr>\n",
              "    <tr>\n",
              "      <th>13</th>\n",
              "      <td>pop</td>\n",
              "      <td>59.021533</td>\n",
              "    </tr>\n",
              "    <tr>\n",
              "      <th>14</th>\n",
              "      <td>rock</td>\n",
              "      <td>62.638393</td>\n",
              "    </tr>\n",
              "  </tbody>\n",
              "</table>\n",
              "</div>\n",
              "      <button class=\"colab-df-convert\" onclick=\"convertToInteractive('df-0fc59499-1b16-4004-bdf7-2de1a37d4535')\"\n",
              "              title=\"Convert this dataframe to an interactive table.\"\n",
              "              style=\"display:none;\">\n",
              "        \n",
              "  <svg xmlns=\"http://www.w3.org/2000/svg\" height=\"24px\"viewBox=\"0 0 24 24\"\n",
              "       width=\"24px\">\n",
              "    <path d=\"M0 0h24v24H0V0z\" fill=\"none\"/>\n",
              "    <path d=\"M18.56 5.44l.94 2.06.94-2.06 2.06-.94-2.06-.94-.94-2.06-.94 2.06-2.06.94zm-11 1L8.5 8.5l.94-2.06 2.06-.94-2.06-.94L8.5 2.5l-.94 2.06-2.06.94zm10 10l.94 2.06.94-2.06 2.06-.94-2.06-.94-.94-2.06-.94 2.06-2.06.94z\"/><path d=\"M17.41 7.96l-1.37-1.37c-.4-.4-.92-.59-1.43-.59-.52 0-1.04.2-1.43.59L10.3 9.45l-7.72 7.72c-.78.78-.78 2.05 0 2.83L4 21.41c.39.39.9.59 1.41.59.51 0 1.02-.2 1.41-.59l7.78-7.78 2.81-2.81c.8-.78.8-2.07 0-2.86zM5.41 20L4 18.59l7.72-7.72 1.47 1.35L5.41 20z\"/>\n",
              "  </svg>\n",
              "      </button>\n",
              "      \n",
              "  <style>\n",
              "    .colab-df-container {\n",
              "      display:flex;\n",
              "      flex-wrap:wrap;\n",
              "      gap: 12px;\n",
              "    }\n",
              "\n",
              "    .colab-df-convert {\n",
              "      background-color: #E8F0FE;\n",
              "      border: none;\n",
              "      border-radius: 50%;\n",
              "      cursor: pointer;\n",
              "      display: none;\n",
              "      fill: #1967D2;\n",
              "      height: 32px;\n",
              "      padding: 0 0 0 0;\n",
              "      width: 32px;\n",
              "    }\n",
              "\n",
              "    .colab-df-convert:hover {\n",
              "      background-color: #E2EBFA;\n",
              "      box-shadow: 0px 1px 2px rgba(60, 64, 67, 0.3), 0px 1px 3px 1px rgba(60, 64, 67, 0.15);\n",
              "      fill: #174EA6;\n",
              "    }\n",
              "\n",
              "    [theme=dark] .colab-df-convert {\n",
              "      background-color: #3B4455;\n",
              "      fill: #D2E3FC;\n",
              "    }\n",
              "\n",
              "    [theme=dark] .colab-df-convert:hover {\n",
              "      background-color: #434B5C;\n",
              "      box-shadow: 0px 1px 3px 1px rgba(0, 0, 0, 0.15);\n",
              "      filter: drop-shadow(0px 1px 2px rgba(0, 0, 0, 0.3));\n",
              "      fill: #FFFFFF;\n",
              "    }\n",
              "  </style>\n",
              "\n",
              "      <script>\n",
              "        const buttonEl =\n",
              "          document.querySelector('#df-0fc59499-1b16-4004-bdf7-2de1a37d4535 button.colab-df-convert');\n",
              "        buttonEl.style.display =\n",
              "          google.colab.kernel.accessAllowed ? 'block' : 'none';\n",
              "\n",
              "        async function convertToInteractive(key) {\n",
              "          const element = document.querySelector('#df-0fc59499-1b16-4004-bdf7-2de1a37d4535');\n",
              "          const dataTable =\n",
              "            await google.colab.kernel.invokeFunction('convertToInteractive',\n",
              "                                                     [key], {});\n",
              "          if (!dataTable) return;\n",
              "\n",
              "          const docLinkHtml = 'Like what you see? Visit the ' +\n",
              "            '<a target=\"_blank\" href=https://colab.research.google.com/notebooks/data_table.ipynb>data table notebook</a>'\n",
              "            + ' to learn more about interactive tables.';\n",
              "          element.innerHTML = '';\n",
              "          dataTable['output_type'] = 'display_data';\n",
              "          await google.colab.output.renderOutput(dataTable, element);\n",
              "          const docLink = document.createElement('div');\n",
              "          docLink.innerHTML = docLinkHtml;\n",
              "          element.appendChild(docLink);\n",
              "        }\n",
              "      </script>\n",
              "    </div>\n",
              "  </div>\n",
              "  "
            ]
          },
          "metadata": {},
          "execution_count": 679
        }
      ]
    },
    {
      "cell_type": "markdown",
      "source": [
        "Como en la columna de género existía valores vacíos, se procede a eliminar esa fila para el resultado obtenido."
      ],
      "metadata": {
        "id": "zYaVd1z8gsz9"
      }
    },
    {
      "cell_type": "code",
      "source": [
        "df_popularidad_por_genero.drop(0,inplace=True)\n",
        "df_popularidad_por_genero = df_popularidad_por_genero[['genre','popularity']].sort_values('popularity',ascending=False)\n",
        "df_popularidad_por_genero"
      ],
      "metadata": {
        "colab": {
          "base_uri": "https://localhost:8080/",
          "height": 488
        },
        "id": "l9LTdQFygj6_",
        "outputId": "fdd9eca7-7e02-4b65-b47f-d06d60b8098a"
      },
      "execution_count": 680,
      "outputs": [
        {
          "output_type": "execute_result",
          "data": {
            "text/plain": [
              "                genre  popularity\n",
              "12              metal   67.671875\n",
              "6           classical   63.000000\n",
              "14               rock   62.638393\n",
              "9             hip hop   61.811749\n",
              "8      easy listening   61.428571\n",
              "2       Folk/Acoustic   60.200000\n",
              "13                pop   59.021533\n",
              "11              latin   58.758065\n",
              "3                 R&B   58.569794\n",
              "10               jazz   57.500000\n",
              "7             country   56.200000\n",
              "1    Dance/Electronic   54.569921\n",
              "4   World/Traditional   53.800000\n",
              "5               blues   45.500000"
            ],
            "text/html": [
              "\n",
              "  <div id=\"df-4b231f0b-9cdb-41fe-9474-e499f05099db\">\n",
              "    <div class=\"colab-df-container\">\n",
              "      <div>\n",
              "<style scoped>\n",
              "    .dataframe tbody tr th:only-of-type {\n",
              "        vertical-align: middle;\n",
              "    }\n",
              "\n",
              "    .dataframe tbody tr th {\n",
              "        vertical-align: top;\n",
              "    }\n",
              "\n",
              "    .dataframe thead th {\n",
              "        text-align: right;\n",
              "    }\n",
              "</style>\n",
              "<table border=\"1\" class=\"dataframe\">\n",
              "  <thead>\n",
              "    <tr style=\"text-align: right;\">\n",
              "      <th></th>\n",
              "      <th>genre</th>\n",
              "      <th>popularity</th>\n",
              "    </tr>\n",
              "  </thead>\n",
              "  <tbody>\n",
              "    <tr>\n",
              "      <th>12</th>\n",
              "      <td>metal</td>\n",
              "      <td>67.671875</td>\n",
              "    </tr>\n",
              "    <tr>\n",
              "      <th>6</th>\n",
              "      <td>classical</td>\n",
              "      <td>63.000000</td>\n",
              "    </tr>\n",
              "    <tr>\n",
              "      <th>14</th>\n",
              "      <td>rock</td>\n",
              "      <td>62.638393</td>\n",
              "    </tr>\n",
              "    <tr>\n",
              "      <th>9</th>\n",
              "      <td>hip hop</td>\n",
              "      <td>61.811749</td>\n",
              "    </tr>\n",
              "    <tr>\n",
              "      <th>8</th>\n",
              "      <td>easy listening</td>\n",
              "      <td>61.428571</td>\n",
              "    </tr>\n",
              "    <tr>\n",
              "      <th>2</th>\n",
              "      <td>Folk/Acoustic</td>\n",
              "      <td>60.200000</td>\n",
              "    </tr>\n",
              "    <tr>\n",
              "      <th>13</th>\n",
              "      <td>pop</td>\n",
              "      <td>59.021533</td>\n",
              "    </tr>\n",
              "    <tr>\n",
              "      <th>11</th>\n",
              "      <td>latin</td>\n",
              "      <td>58.758065</td>\n",
              "    </tr>\n",
              "    <tr>\n",
              "      <th>3</th>\n",
              "      <td>R&amp;B</td>\n",
              "      <td>58.569794</td>\n",
              "    </tr>\n",
              "    <tr>\n",
              "      <th>10</th>\n",
              "      <td>jazz</td>\n",
              "      <td>57.500000</td>\n",
              "    </tr>\n",
              "    <tr>\n",
              "      <th>7</th>\n",
              "      <td>country</td>\n",
              "      <td>56.200000</td>\n",
              "    </tr>\n",
              "    <tr>\n",
              "      <th>1</th>\n",
              "      <td>Dance/Electronic</td>\n",
              "      <td>54.569921</td>\n",
              "    </tr>\n",
              "    <tr>\n",
              "      <th>4</th>\n",
              "      <td>World/Traditional</td>\n",
              "      <td>53.800000</td>\n",
              "    </tr>\n",
              "    <tr>\n",
              "      <th>5</th>\n",
              "      <td>blues</td>\n",
              "      <td>45.500000</td>\n",
              "    </tr>\n",
              "  </tbody>\n",
              "</table>\n",
              "</div>\n",
              "      <button class=\"colab-df-convert\" onclick=\"convertToInteractive('df-4b231f0b-9cdb-41fe-9474-e499f05099db')\"\n",
              "              title=\"Convert this dataframe to an interactive table.\"\n",
              "              style=\"display:none;\">\n",
              "        \n",
              "  <svg xmlns=\"http://www.w3.org/2000/svg\" height=\"24px\"viewBox=\"0 0 24 24\"\n",
              "       width=\"24px\">\n",
              "    <path d=\"M0 0h24v24H0V0z\" fill=\"none\"/>\n",
              "    <path d=\"M18.56 5.44l.94 2.06.94-2.06 2.06-.94-2.06-.94-.94-2.06-.94 2.06-2.06.94zm-11 1L8.5 8.5l.94-2.06 2.06-.94-2.06-.94L8.5 2.5l-.94 2.06-2.06.94zm10 10l.94 2.06.94-2.06 2.06-.94-2.06-.94-.94-2.06-.94 2.06-2.06.94z\"/><path d=\"M17.41 7.96l-1.37-1.37c-.4-.4-.92-.59-1.43-.59-.52 0-1.04.2-1.43.59L10.3 9.45l-7.72 7.72c-.78.78-.78 2.05 0 2.83L4 21.41c.39.39.9.59 1.41.59.51 0 1.02-.2 1.41-.59l7.78-7.78 2.81-2.81c.8-.78.8-2.07 0-2.86zM5.41 20L4 18.59l7.72-7.72 1.47 1.35L5.41 20z\"/>\n",
              "  </svg>\n",
              "      </button>\n",
              "      \n",
              "  <style>\n",
              "    .colab-df-container {\n",
              "      display:flex;\n",
              "      flex-wrap:wrap;\n",
              "      gap: 12px;\n",
              "    }\n",
              "\n",
              "    .colab-df-convert {\n",
              "      background-color: #E8F0FE;\n",
              "      border: none;\n",
              "      border-radius: 50%;\n",
              "      cursor: pointer;\n",
              "      display: none;\n",
              "      fill: #1967D2;\n",
              "      height: 32px;\n",
              "      padding: 0 0 0 0;\n",
              "      width: 32px;\n",
              "    }\n",
              "\n",
              "    .colab-df-convert:hover {\n",
              "      background-color: #E2EBFA;\n",
              "      box-shadow: 0px 1px 2px rgba(60, 64, 67, 0.3), 0px 1px 3px 1px rgba(60, 64, 67, 0.15);\n",
              "      fill: #174EA6;\n",
              "    }\n",
              "\n",
              "    [theme=dark] .colab-df-convert {\n",
              "      background-color: #3B4455;\n",
              "      fill: #D2E3FC;\n",
              "    }\n",
              "\n",
              "    [theme=dark] .colab-df-convert:hover {\n",
              "      background-color: #434B5C;\n",
              "      box-shadow: 0px 1px 3px 1px rgba(0, 0, 0, 0.15);\n",
              "      filter: drop-shadow(0px 1px 2px rgba(0, 0, 0, 0.3));\n",
              "      fill: #FFFFFF;\n",
              "    }\n",
              "  </style>\n",
              "\n",
              "      <script>\n",
              "        const buttonEl =\n",
              "          document.querySelector('#df-4b231f0b-9cdb-41fe-9474-e499f05099db button.colab-df-convert');\n",
              "        buttonEl.style.display =\n",
              "          google.colab.kernel.accessAllowed ? 'block' : 'none';\n",
              "\n",
              "        async function convertToInteractive(key) {\n",
              "          const element = document.querySelector('#df-4b231f0b-9cdb-41fe-9474-e499f05099db');\n",
              "          const dataTable =\n",
              "            await google.colab.kernel.invokeFunction('convertToInteractive',\n",
              "                                                     [key], {});\n",
              "          if (!dataTable) return;\n",
              "\n",
              "          const docLinkHtml = 'Like what you see? Visit the ' +\n",
              "            '<a target=\"_blank\" href=https://colab.research.google.com/notebooks/data_table.ipynb>data table notebook</a>'\n",
              "            + ' to learn more about interactive tables.';\n",
              "          element.innerHTML = '';\n",
              "          dataTable['output_type'] = 'display_data';\n",
              "          await google.colab.output.renderOutput(dataTable, element);\n",
              "          const docLink = document.createElement('div');\n",
              "          docLink.innerHTML = docLinkHtml;\n",
              "          element.appendChild(docLink);\n",
              "        }\n",
              "      </script>\n",
              "    </div>\n",
              "  </div>\n",
              "  "
            ]
          },
          "metadata": {},
          "execution_count": 680
        }
      ]
    },
    {
      "cell_type": "markdown",
      "source": [
        "Se procede a graficar los resultados obtenidos."
      ],
      "metadata": {
        "id": "UDQkVomLhF4r"
      }
    },
    {
      "cell_type": "code",
      "source": [
        "df_popularidad_por_anio.plot.bar(x='year',y='popularity',figsize=(10,5),xlabel='Año',ylabel='Popularidad',title='Promedio popularidad vs. Año')"
      ],
      "metadata": {
        "colab": {
          "base_uri": "https://localhost:8080/",
          "height": 382
        },
        "id": "6SV9jFGuik1y",
        "outputId": "d1b1fa24-d4d3-44e3-ac78-fd491beeb557"
      },
      "execution_count": 681,
      "outputs": [
        {
          "output_type": "execute_result",
          "data": {
            "text/plain": [
              "<matplotlib.axes._subplots.AxesSubplot at 0x7fadcbede750>"
            ]
          },
          "metadata": {},
          "execution_count": 681
        },
        {
          "output_type": "display_data",
          "data": {
            "text/plain": [
              "<Figure size 720x360 with 1 Axes>"
            ],
            "image/png": "[encoded data removed]"
          },
          "metadata": {
            "needs_background": "light"
          }
        }
      ]
    },
    {
      "cell_type": "markdown",
      "source": [
        "De la gráfica de años no se encuentra ninguna tendencia. La popularidad se mantuvo en un valor casi constante entre el año 2000 y 2017. Las canciones del 2018 alcanzaron mayo popularidad que antes. Y la popularidad de las canciones decreció para el 2020 drásticamente."
      ],
      "metadata": {
        "id": "asMdj-ESi2CG"
      }
    },
    {
      "cell_type": "code",
      "source": [
        "df_popularidad_por_genero.plot.bar(x='genre',y='popularity',figsize=(10,5),xlabel='Género',ylabel='Popularidad',title='Promedio popularidad vs. Género')"
      ],
      "metadata": {
        "colab": {
          "base_uri": "https://localhost:8080/",
          "height": 441
        },
        "id": "hxAYEBFShTtd",
        "outputId": "656fefc1-ce84-4f0a-d4ff-d961990501be"
      },
      "execution_count": 682,
      "outputs": [
        {
          "output_type": "execute_result",
          "data": {
            "text/plain": [
              "<matplotlib.axes._subplots.AxesSubplot at 0x7faddc0f3450>"
            ]
          },
          "metadata": {},
          "execution_count": 682
        },
        {
          "output_type": "display_data",
          "data": {
            "text/plain": [
              "<Figure size 720x360 with 1 Axes>"
            ],
            "image/png": "[encoded data removed]"
          },
          "metadata": {
            "needs_background": "light"
          }
        }
      ]
    },
    {
      "cell_type": "markdown",
      "source": [
        "De esta gráfica se puede concluir que el género con mayor popularidad es el metal y el menos popular es el Blues. Esto puede ser relativo de acuerdo con la cantidad de canciones que presenten por género. Es decir, si solo se tiene una canción de Metal con una popularidad alta, ese valor será su promedio. Sin embargo, géneros como el Pop y el Hip Hop que tiene gran cantidad de canciones en los datos su valor de popularidad puede variar bastante."
      ],
      "metadata": {
        "id": "U6ScERsEkVxn"
      }
    },
    {
      "cell_type": "markdown",
      "source": [
        "## Punto 6\n",
        "\n",
        "Compare los géneros Pop y Rock según sus características de: energy, valence y tempo. Concluya sobre su análisis.\n"
      ],
      "metadata": {
        "id": "uYBOIyk4-Fso"
      }
    },
    {
      "cell_type": "markdown",
      "source": [
        "|Requerimiento|columna|\n",
        "|---|---|\n",
        "|Géneros Pop y Rock|genre|\n",
        "|Energy|energy|\n",
        "|Valence|valence|\n",
        "|Tempo|tempo|"
      ],
      "metadata": {
        "id": "7F1pOy-JEDtG"
      }
    },
    {
      "cell_type": "markdown",
      "source": [
        "Primero se extraen los datos para las canciones que tengan el género de Pop y Rock. Existen canciones con pop y rock en su género, estas canciones no se tendrán en cuenta para ninguno de los dos casos."
      ],
      "metadata": {
        "id": "JBIJHL-mty3t"
      }
    },
    {
      "cell_type": "code",
      "source": [
        "df_pop_songs = df_spotify[(df_spotify['genre'].str.contains('pop')==True) & (df_spotify['genre'].str.contains('rock')==False)]\n",
        "df_rock_songs = df_spotify[(df_spotify['genre'].str.contains('rock')==True) & (df_spotify['genre'].str.contains('pop')==False)]\n",
        "print(df_pop_songs.shape,df_rock_songs.shape)"
      ],
      "metadata": {
        "colab": {
          "base_uri": "https://localhost:8080/"
        },
        "id": "J1j8zjr7utOK",
        "outputId": "68e2488d-6cde-4fb4-f087-23cb00f7d0ae"
      },
      "execution_count": 683,
      "outputs": [
        {
          "output_type": "stream",
          "name": "stdout",
          "text": [
            "(1461, 18) (103, 18)\n"
          ]
        }
      ]
    },
    {
      "cell_type": "markdown",
      "source": [
        "Existen 1461 canciones de pop que no son rock y 103 canciones de rock que no son pop."
      ],
      "metadata": {
        "id": "IDEw2taxxcMo"
      }
    },
    {
      "cell_type": "code",
      "source": [
        "print(df_pop_songs['energy'].describe(),'\\n')\n",
        "print(df_rock_songs['energy'].describe(),'\\n')"
      ],
      "metadata": {
        "colab": {
          "base_uri": "https://localhost:8080/"
        },
        "id": "FCtOcL6y0Ec5",
        "outputId": "16a4d8f8-0556-4ef0-8f0c-2bcbba2165da"
      },
      "execution_count": 684,
      "outputs": [
        {
          "output_type": "stream",
          "name": "stdout",
          "text": [
            "count    1461.000000\n",
            "mean        0.712072\n",
            "std         0.151423\n",
            "min         0.054900\n",
            "25%         0.613000\n",
            "50%         0.727000\n",
            "75%         0.828000\n",
            "max         0.999000\n",
            "Name: energy, dtype: float64 \n",
            "\n",
            "count    103.000000\n",
            "mean       0.825204\n",
            "std        0.126351\n",
            "min        0.396000\n",
            "25%        0.764500\n",
            "50%        0.860000\n",
            "75%        0.917000\n",
            "max        0.988000\n",
            "Name: energy, dtype: float64 \n",
            "\n"
          ]
        }
      ]
    },
    {
      "cell_type": "code",
      "source": [
        "plt.figure(7)\n",
        "ax = df_pop_songs.plot.kde(y='energy',figsize=(10,5))\n",
        "ay = df_rock_songs.plot.kde(y='energy',ax=ax)\n",
        "plt.xlabel('Energía')\n",
        "plt.ylabel('Densidad')\n",
        "plt.title('Gáfica de densidad de Energía')\n",
        "plt.legend(['Canciones de Pop','Canciones de Rock'])\n",
        "plt.show()"
      ],
      "metadata": {
        "colab": {
          "base_uri": "https://localhost:8080/",
          "height": 367
        },
        "id": "TyxvDz9q7y4k",
        "outputId": "32f73961-a870-4ada-80e3-467fc4f7d571"
      },
      "execution_count": 685,
      "outputs": [
        {
          "output_type": "display_data",
          "data": {
            "text/plain": [
              "<Figure size 432x288 with 0 Axes>"
            ]
          },
          "metadata": {}
        },
        {
          "output_type": "display_data",
          "data": {
            "text/plain": [
              "<Figure size 720x360 with 1 Axes>"
            ],
            "image/png": "[encoded data removed]"
          },
          "metadata": {
            "needs_background": "light"
          }
        }
      ]
    },
    {
      "cell_type": "markdown",
      "source": [
        "* Energy:\n",
        "En términos de energía de las canciones de pop y rock, las canciones de rock tienen más energía que las de pop. Sin embargo, el máximo de energía de las canciones de pop es mayor que las de rock por lo que se concluye que existe una canción de pop es más energética que las de rock. Por otra parte, el mínimo de energía de las canciones de pop es mucho menor que las de rock, por lo que se concluye que las canciones de rock son más energéticas que las de pop. Finalmente, se puede decir que las canciones de pop son más dispersas en energía que las de rock.\n"
      ],
      "metadata": {
        "id": "kyk9IBWB1c-y"
      }
    },
    {
      "cell_type": "code",
      "source": [
        "print(df_pop_songs['valence'].describe(),'\\n')\n",
        "print(df_rock_songs['valence'].describe(),'\\n')"
      ],
      "metadata": {
        "colab": {
          "base_uri": "https://localhost:8080/"
        },
        "id": "wlH2XRco1sOY",
        "outputId": "ee2fbedf-1801-4805-9d7c-40b17938d5c4"
      },
      "execution_count": 686,
      "outputs": [
        {
          "output_type": "stream",
          "name": "stdout",
          "text": [
            "count    1460.000000\n",
            "mean        0.556722\n",
            "std         0.219823\n",
            "min         0.038100\n",
            "25%         0.397000\n",
            "50%         0.564500\n",
            "75%         0.734250\n",
            "max         0.973000\n",
            "Name: valence, dtype: float64 \n",
            "\n",
            "count    103.000000\n",
            "mean       0.523111\n",
            "std        0.189811\n",
            "min        0.082400\n",
            "25%        0.393000\n",
            "50%        0.543000\n",
            "75%        0.630000\n",
            "max        0.932000\n",
            "Name: valence, dtype: float64 \n",
            "\n"
          ]
        }
      ]
    },
    {
      "cell_type": "code",
      "source": [
        "plt.figure(7)\n",
        "ax = df_pop_songs.plot.kde(y='valence',figsize=(10,5))\n",
        "ay = df_rock_songs.plot.kde(y='valence',ax=ax)\n",
        "plt.xlabel('Valencia')\n",
        "plt.ylabel('Densidad')\n",
        "plt.title('Gáfica de densidad de Valencia')\n",
        "plt.legend(['Canciones de Pop','Canciones de Rock'])\n",
        "plt.show()"
      ],
      "metadata": {
        "colab": {
          "base_uri": "https://localhost:8080/",
          "height": 367
        },
        "id": "f6Pbg7Zi_6mR",
        "outputId": "f962c9d2-f886-40b1-e62d-65c980d61f9c"
      },
      "execution_count": 687,
      "outputs": [
        {
          "output_type": "display_data",
          "data": {
            "text/plain": [
              "<Figure size 432x288 with 0 Axes>"
            ]
          },
          "metadata": {}
        },
        {
          "output_type": "display_data",
          "data": {
            "text/plain": [
              "<Figure size 720x360 with 1 Axes>"
            ],
            "image/png": "[encoded data removed]"
          },
          "metadata": {
            "needs_background": "light"
          }
        }
      ]
    },
    {
      "cell_type": "markdown",
      "source": [
        "* Valence:\n",
        "En el contexto de la positividad que transmiten las canciones de pop y rock, las de pop tienen un valor promedio mayor que las de rock, por lo que se puede decir que las canciones de pop ponen feliz a sus oyentes que las de rock. Al igual que la variable anterior, las canciones de pop tiene un valor de valencia mayor que las de rock, pero igualmente tienen un valor mucho más pequeño de valencia. Finalmente, los datos de valencia para las canciones de pop están mucho más dispersos que los de las canciones de rock.\n"
      ],
      "metadata": {
        "id": "OMBL4qGd5JYO"
      }
    },
    {
      "cell_type": "code",
      "source": [
        "print(df_pop_songs['tempo'].describe(),'\\n')\n",
        "print(df_rock_songs['tempo'].describe(),'\\n')"
      ],
      "metadata": {
        "colab": {
          "base_uri": "https://localhost:8080/"
        },
        "id": "wElhrPPl1vvx",
        "outputId": "efd393f0-b8c0-4a61-f9d1-58332bd4d4d9"
      },
      "execution_count": 688,
      "outputs": [
        {
          "output_type": "stream",
          "name": "stdout",
          "text": [
            "count    1460.000000\n",
            "mean      119.274524\n",
            "std        26.385347\n",
            "min        60.019000\n",
            "25%        98.524500\n",
            "50%       119.994500\n",
            "75%       131.938250\n",
            "max       210.851000\n",
            "Name: tempo, dtype: float64 \n",
            "\n",
            "count    103.000000\n",
            "mean     127.213602\n",
            "std       29.562507\n",
            "min       74.989000\n",
            "25%      103.342500\n",
            "50%      123.091000\n",
            "75%      151.030500\n",
            "max      199.935000\n",
            "Name: tempo, dtype: float64 \n",
            "\n"
          ]
        }
      ]
    },
    {
      "cell_type": "markdown",
      "source": [
        "* Tempo:\n",
        "Para la última variable de tempo se tiene que, las canciones de pop tienen en promedio menor tempo que las canciones de rock. Esto significa que, las canciones de rock tienen un ritmo más veloz que las del pop. Sin embargo, y ha ocurrido en las últimas dos mediciones, las canciones de pop tienen un valor de tempo máximo más grande que el de las canciones de rock y un valor mínimo mucho menor también. En este caso, los valores de tempo de las canciones de rock son mucho más dispersos que los de las canciones de pop, por lo que se dice que las canciones de pop tienen un rango más específico de tempo.\n"
      ],
      "metadata": {
        "id": "m2Su8RXT5J3v"
      }
    },
    {
      "cell_type": "markdown",
      "source": [
        "Es importante volver a mencionar la cantidad de datos para las dos variables. Se tienen aproximadamente 1400 registros para canciones de pop y solo 100 para rock, por lo que los datos obtenidos de las canciones de pop representan muchas más canciones que las de rock. Si se quisiera un análisis con mejor precisión debería tenerse un número casi igual de registros para las dos variables. Pero con lo obtenido es posible concluir ciertos aspectos respecto a las canciones de Pop y Rock."
      ],
      "metadata": {
        "id": "76jScBTkCW6J"
      }
    },
    {
      "cell_type": "markdown",
      "source": [
        "## Punto 7\n",
        "\n",
        "Plantee una pregunta de negocio de su interés, ya sea por tipo de música, artistas u otra dimensión, mediante la cual se analicen al menos 3 variables del dataset y concluya."
      ],
      "metadata": {
        "id": "QeMj7Uwu-JYO"
      }
    },
    {
      "cell_type": "markdown",
      "source": [
        "Se desea conocer si se tiene alguna relación entre el año de la canción y la cantidad de canciones que son explicitas para ese año, y si dado que una canción es explicita es menos popular que las que no lo son."
      ],
      "metadata": {
        "id": "8acpd26FDJMq"
      }
    },
    {
      "cell_type": "markdown",
      "source": [
        "|Requerimiento|columna|\n",
        "|---|---|\n",
        "|popularidad|popularity|\n",
        "|año|year|\n",
        "|canciones explicitas|explicit|"
      ],
      "metadata": {
        "id": "TLpSME_aEQNd"
      }
    },
    {
      "cell_type": "markdown",
      "source": [
        "Primeramente, se realiza un $groupby()$ para agrupar las canciones por año y por si son explicitas o no, y la función $count()$ para conocer cuántos canciones hay por cada año que son explicitas y las que no."
      ],
      "metadata": {
        "id": "BvZnI74BFqod"
      }
    },
    {
      "cell_type": "code",
      "source": [
        "df_anio_explicit = df_spotify.groupby(['year','explicit']).count()\n",
        "df_anio_explicit = df_anio_explicit['song'].reset_index()\n",
        "df_anio_explicit"
      ],
      "metadata": {
        "id": "n-5srCsSEZgG",
        "colab": {
          "base_uri": "https://localhost:8080/",
          "height": 1000
        },
        "outputId": "dc7f63b6-68a5-4fda-84b4-af977be900a4"
      },
      "execution_count": 689,
      "outputs": [
        {
          "output_type": "execute_result",
          "data": {
            "text/plain": [
              "    year  explicit  song\n",
              "0   1998      True     1\n",
              "1   1999     False    30\n",
              "2   1999      True     8\n",
              "3   2000     False    59\n",
              "4   2000      True    12\n",
              "5   2001     False    83\n",
              "6   2001      True    23\n",
              "7   2002     False    58\n",
              "8   2002      True    28\n",
              "9   2003     False    69\n",
              "10  2003      True    22\n",
              "11  2004     False    60\n",
              "12  2004      True    35\n",
              "13  2005     False    73\n",
              "14  2005      True    28\n",
              "15  2006     False    67\n",
              "16  2006      True    26\n",
              "17  2007     False    68\n",
              "18  2007      True    22\n",
              "19  2008     False    69\n",
              "20  2008      True    21\n",
              "21  2009     False    60\n",
              "22  2009      True    22\n",
              "23  2010     False    80\n",
              "24  2010      True    23\n",
              "25  2011     False    71\n",
              "26  2011      True    25\n",
              "27  2012     False    94\n",
              "28  2012      True    19\n",
              "29  2013     False    68\n",
              "30  2013      True    19\n",
              "31  2014     False    81\n",
              "32  2014      True    19\n",
              "33  2015     False    65\n",
              "34  2015      True    28\n",
              "35  2016     False    67\n",
              "36  2016      True    31\n",
              "37  2017     False    73\n",
              "38  2017      True    37\n",
              "39  2018     False    55\n",
              "40  2018      True    49\n",
              "41  2019     False    52\n",
              "42  2019      True    37\n",
              "43  2020     False     1\n",
              "44  2020      True     2"
            ],
            "text/html": [
              "\n",
              "  <div id=\"df-0576b4e0-d177-4f23-b668-48867b5ebd2a\">\n",
              "    <div class=\"colab-df-container\">\n",
              "      <div>\n",
              "<style scoped>\n",
              "    .dataframe tbody tr th:only-of-type {\n",
              "        vertical-align: middle;\n",
              "    }\n",
              "\n",
              "    .dataframe tbody tr th {\n",
              "        vertical-align: top;\n",
              "    }\n",
              "\n",
              "    .dataframe thead th {\n",
              "        text-align: right;\n",
              "    }\n",
              "</style>\n",
              "<table border=\"1\" class=\"dataframe\">\n",
              "  <thead>\n",
              "    <tr style=\"text-align: right;\">\n",
              "      <th></th>\n",
              "      <th>year</th>\n",
              "      <th>explicit</th>\n",
              "      <th>song</th>\n",
              "    </tr>\n",
              "  </thead>\n",
              "  <tbody>\n",
              "    <tr>\n",
              "      <th>0</th>\n",
              "      <td>1998</td>\n",
              "      <td>True</td>\n",
              "      <td>1</td>\n",
              "    </tr>\n",
              "    <tr>\n",
              "      <th>1</th>\n",
              "      <td>1999</td>\n",
              "      <td>False</td>\n",
              "      <td>30</td>\n",
              "    </tr>\n",
              "    <tr>\n",
              "      <th>2</th>\n",
              "      <td>1999</td>\n",
              "      <td>True</td>\n",
              "      <td>8</td>\n",
              "    </tr>\n",
              "    <tr>\n",
              "      <th>3</th>\n",
              "      <td>2000</td>\n",
              "      <td>False</td>\n",
              "      <td>59</td>\n",
              "    </tr>\n",
              "    <tr>\n",
              "      <th>4</th>\n",
              "      <td>2000</td>\n",
              "      <td>True</td>\n",
              "      <td>12</td>\n",
              "    </tr>\n",
              "    <tr>\n",
              "      <th>5</th>\n",
              "      <td>2001</td>\n",
              "      <td>False</td>\n",
              "      <td>83</td>\n",
              "    </tr>\n",
              "    <tr>\n",
              "      <th>6</th>\n",
              "      <td>2001</td>\n",
              "      <td>True</td>\n",
              "      <td>23</td>\n",
              "    </tr>\n",
              "    <tr>\n",
              "      <th>7</th>\n",
              "      <td>2002</td>\n",
              "      <td>False</td>\n",
              "      <td>58</td>\n",
              "    </tr>\n",
              "    <tr>\n",
              "      <th>8</th>\n",
              "      <td>2002</td>\n",
              "      <td>True</td>\n",
              "      <td>28</td>\n",
              "    </tr>\n",
              "    <tr>\n",
              "      <th>9</th>\n",
              "      <td>2003</td>\n",
              "      <td>False</td>\n",
              "      <td>69</td>\n",
              "    </tr>\n",
              "    <tr>\n",
              "      <th>10</th>\n",
              "      <td>2003</td>\n",
              "      <td>True</td>\n",
              "      <td>22</td>\n",
              "    </tr>\n",
              "    <tr>\n",
              "      <th>11</th>\n",
              "      <td>2004</td>\n",
              "      <td>False</td>\n",
              "      <td>60</td>\n",
              "    </tr>\n",
              "    <tr>\n",
              "      <th>12</th>\n",
              "      <td>2004</td>\n",
              "      <td>True</td>\n",
              "      <td>35</td>\n",
              "    </tr>\n",
              "    <tr>\n",
              "      <th>13</th>\n",
              "      <td>2005</td>\n",
              "      <td>False</td>\n",
              "      <td>73</td>\n",
              "    </tr>\n",
              "    <tr>\n",
              "      <th>14</th>\n",
              "      <td>2005</td>\n",
              "      <td>True</td>\n",
              "      <td>28</td>\n",
              "    </tr>\n",
              "    <tr>\n",
              "      <th>15</th>\n",
              "      <td>2006</td>\n",
              "      <td>False</td>\n",
              "      <td>67</td>\n",
              "    </tr>\n",
              "    <tr>\n",
              "      <th>16</th>\n",
              "      <td>2006</td>\n",
              "      <td>True</td>\n",
              "      <td>26</td>\n",
              "    </tr>\n",
              "    <tr>\n",
              "      <th>17</th>\n",
              "      <td>2007</td>\n",
              "      <td>False</td>\n",
              "      <td>68</td>\n",
              "    </tr>\n",
              "    <tr>\n",
              "      <th>18</th>\n",
              "      <td>2007</td>\n",
              "      <td>True</td>\n",
              "      <td>22</td>\n",
              "    </tr>\n",
              "    <tr>\n",
              "      <th>19</th>\n",
              "      <td>2008</td>\n",
              "      <td>False</td>\n",
              "      <td>69</td>\n",
              "    </tr>\n",
              "    <tr>\n",
              "      <th>20</th>\n",
              "      <td>2008</td>\n",
              "      <td>True</td>\n",
              "      <td>21</td>\n",
              "    </tr>\n",
              "    <tr>\n",
              "      <th>21</th>\n",
              "      <td>2009</td>\n",
              "      <td>False</td>\n",
              "      <td>60</td>\n",
              "    </tr>\n",
              "    <tr>\n",
              "      <th>22</th>\n",
              "      <td>2009</td>\n",
              "      <td>True</td>\n",
              "      <td>22</td>\n",
              "    </tr>\n",
              "    <tr>\n",
              "      <th>23</th>\n",
              "      <td>2010</td>\n",
              "      <td>False</td>\n",
              "      <td>80</td>\n",
              "    </tr>\n",
              "    <tr>\n",
              "      <th>24</th>\n",
              "      <td>2010</td>\n",
              "      <td>True</td>\n",
              "      <td>23</td>\n",
              "    </tr>\n",
              "    <tr>\n",
              "      <th>25</th>\n",
              "      <td>2011</td>\n",
              "      <td>False</td>\n",
              "      <td>71</td>\n",
              "    </tr>\n",
              "    <tr>\n",
              "      <th>26</th>\n",
              "      <td>2011</td>\n",
              "      <td>True</td>\n",
              "      <td>25</td>\n",
              "    </tr>\n",
              "    <tr>\n",
              "      <th>27</th>\n",
              "      <td>2012</td>\n",
              "      <td>False</td>\n",
              "      <td>94</td>\n",
              "    </tr>\n",
              "    <tr>\n",
              "      <th>28</th>\n",
              "      <td>2012</td>\n",
              "      <td>True</td>\n",
              "      <td>19</td>\n",
              "    </tr>\n",
              "    <tr>\n",
              "      <th>29</th>\n",
              "      <td>2013</td>\n",
              "      <td>False</td>\n",
              "      <td>68</td>\n",
              "    </tr>\n",
              "    <tr>\n",
              "      <th>30</th>\n",
              "      <td>2013</td>\n",
              "      <td>True</td>\n",
              "      <td>19</td>\n",
              "    </tr>\n",
              "    <tr>\n",
              "      <th>31</th>\n",
              "      <td>2014</td>\n",
              "      <td>False</td>\n",
              "      <td>81</td>\n",
              "    </tr>\n",
              "    <tr>\n",
              "      <th>32</th>\n",
              "      <td>2014</td>\n",
              "      <td>True</td>\n",
              "      <td>19</td>\n",
              "    </tr>\n",
              "    <tr>\n",
              "      <th>33</th>\n",
              "      <td>2015</td>\n",
              "      <td>False</td>\n",
              "      <td>65</td>\n",
              "    </tr>\n",
              "    <tr>\n",
              "      <th>34</th>\n",
              "      <td>2015</td>\n",
              "      <td>True</td>\n",
              "      <td>28</td>\n",
              "    </tr>\n",
              "    <tr>\n",
              "      <th>35</th>\n",
              "      <td>2016</td>\n",
              "      <td>False</td>\n",
              "      <td>67</td>\n",
              "    </tr>\n",
              "    <tr>\n",
              "      <th>36</th>\n",
              "      <td>2016</td>\n",
              "      <td>True</td>\n",
              "      <td>31</td>\n",
              "    </tr>\n",
              "    <tr>\n",
              "      <th>37</th>\n",
              "      <td>2017</td>\n",
              "      <td>False</td>\n",
              "      <td>73</td>\n",
              "    </tr>\n",
              "    <tr>\n",
              "      <th>38</th>\n",
              "      <td>2017</td>\n",
              "      <td>True</td>\n",
              "      <td>37</td>\n",
              "    </tr>\n",
              "    <tr>\n",
              "      <th>39</th>\n",
              "      <td>2018</td>\n",
              "      <td>False</td>\n",
              "      <td>55</td>\n",
              "    </tr>\n",
              "    <tr>\n",
              "      <th>40</th>\n",
              "      <td>2018</td>\n",
              "      <td>True</td>\n",
              "      <td>49</td>\n",
              "    </tr>\n",
              "    <tr>\n",
              "      <th>41</th>\n",
              "      <td>2019</td>\n",
              "      <td>False</td>\n",
              "      <td>52</td>\n",
              "    </tr>\n",
              "    <tr>\n",
              "      <th>42</th>\n",
              "      <td>2019</td>\n",
              "      <td>True</td>\n",
              "      <td>37</td>\n",
              "    </tr>\n",
              "    <tr>\n",
              "      <th>43</th>\n",
              "      <td>2020</td>\n",
              "      <td>False</td>\n",
              "      <td>1</td>\n",
              "    </tr>\n",
              "    <tr>\n",
              "      <th>44</th>\n",
              "      <td>2020</td>\n",
              "      <td>True</td>\n",
              "      <td>2</td>\n",
              "    </tr>\n",
              "  </tbody>\n",
              "</table>\n",
              "</div>\n",
              "      <button class=\"colab-df-convert\" onclick=\"convertToInteractive('df-0576b4e0-d177-4f23-b668-48867b5ebd2a')\"\n",
              "              title=\"Convert this dataframe to an interactive table.\"\n",
              "              style=\"display:none;\">\n",
              "        \n",
              "  <svg xmlns=\"http://www.w3.org/2000/svg\" height=\"24px\"viewBox=\"0 0 24 24\"\n",
              "       width=\"24px\">\n",
              "    <path d=\"M0 0h24v24H0V0z\" fill=\"none\"/>\n",
              "    <path d=\"M18.56 5.44l.94 2.06.94-2.06 2.06-.94-2.06-.94-.94-2.06-.94 2.06-2.06.94zm-11 1L8.5 8.5l.94-2.06 2.06-.94-2.06-.94L8.5 2.5l-.94 2.06-2.06.94zm10 10l.94 2.06.94-2.06 2.06-.94-2.06-.94-.94-2.06-.94 2.06-2.06.94z\"/><path d=\"M17.41 7.96l-1.37-1.37c-.4-.4-.92-.59-1.43-.59-.52 0-1.04.2-1.43.59L10.3 9.45l-7.72 7.72c-.78.78-.78 2.05 0 2.83L4 21.41c.39.39.9.59 1.41.59.51 0 1.02-.2 1.41-.59l7.78-7.78 2.81-2.81c.8-.78.8-2.07 0-2.86zM5.41 20L4 18.59l7.72-7.72 1.47 1.35L5.41 20z\"/>\n",
              "  </svg>\n",
              "      </button>\n",
              "      \n",
              "  <style>\n",
              "    .colab-df-container {\n",
              "      display:flex;\n",
              "      flex-wrap:wrap;\n",
              "      gap: 12px;\n",
              "    }\n",
              "\n",
              "    .colab-df-convert {\n",
              "      background-color: #E8F0FE;\n",
              "      border: none;\n",
              "      border-radius: 50%;\n",
              "      cursor: pointer;\n",
              "      display: none;\n",
              "      fill: #1967D2;\n",
              "      height: 32px;\n",
              "      padding: 0 0 0 0;\n",
              "      width: 32px;\n",
              "    }\n",
              "\n",
              "    .colab-df-convert:hover {\n",
              "      background-color: #E2EBFA;\n",
              "      box-shadow: 0px 1px 2px rgba(60, 64, 67, 0.3), 0px 1px 3px 1px rgba(60, 64, 67, 0.15);\n",
              "      fill: #174EA6;\n",
              "    }\n",
              "\n",
              "    [theme=dark] .colab-df-convert {\n",
              "      background-color: #3B4455;\n",
              "      fill: #D2E3FC;\n",
              "    }\n",
              "\n",
              "    [theme=dark] .colab-df-convert:hover {\n",
              "      background-color: #434B5C;\n",
              "      box-shadow: 0px 1px 3px 1px rgba(0, 0, 0, 0.15);\n",
              "      filter: drop-shadow(0px 1px 2px rgba(0, 0, 0, 0.3));\n",
              "      fill: #FFFFFF;\n",
              "    }\n",
              "  </style>\n",
              "\n",
              "      <script>\n",
              "        const buttonEl =\n",
              "          document.querySelector('#df-0576b4e0-d177-4f23-b668-48867b5ebd2a button.colab-df-convert');\n",
              "        buttonEl.style.display =\n",
              "          google.colab.kernel.accessAllowed ? 'block' : 'none';\n",
              "\n",
              "        async function convertToInteractive(key) {\n",
              "          const element = document.querySelector('#df-0576b4e0-d177-4f23-b668-48867b5ebd2a');\n",
              "          const dataTable =\n",
              "            await google.colab.kernel.invokeFunction('convertToInteractive',\n",
              "                                                     [key], {});\n",
              "          if (!dataTable) return;\n",
              "\n",
              "          const docLinkHtml = 'Like what you see? Visit the ' +\n",
              "            '<a target=\"_blank\" href=https://colab.research.google.com/notebooks/data_table.ipynb>data table notebook</a>'\n",
              "            + ' to learn more about interactive tables.';\n",
              "          element.innerHTML = '';\n",
              "          dataTable['output_type'] = 'display_data';\n",
              "          await google.colab.output.renderOutput(dataTable, element);\n",
              "          const docLink = document.createElement('div');\n",
              "          docLink.innerHTML = docLinkHtml;\n",
              "          element.appendChild(docLink);\n",
              "        }\n",
              "      </script>\n",
              "    </div>\n",
              "  </div>\n",
              "  "
            ]
          },
          "metadata": {},
          "execution_count": 689
        }
      ]
    },
    {
      "cell_type": "markdown",
      "source": [
        "Se grafican solo la cantidad de canciones que son explicitas por años."
      ],
      "metadata": {
        "id": "VZ7eU3GOIilV"
      }
    },
    {
      "cell_type": "code",
      "source": [
        "df_anio_explicit[df_anio_explicit['explicit']==True].plot.bar(x='year',y='song',figsize=(10,5))\n",
        "plt.xlabel('Año')\n",
        "plt.ylabel('Cantidad de canciones')\n",
        "plt.title('Cantidad de canciones explicitas vs. Año')\n",
        "plt.show()"
      ],
      "metadata": {
        "colab": {
          "base_uri": "https://localhost:8080/",
          "height": 365
        },
        "id": "7GxTulXQGkh2",
        "outputId": "e607d0bb-62d3-4615-c29e-0c0b451ddec0"
      },
      "execution_count": 690,
      "outputs": [
        {
          "output_type": "display_data",
          "data": {
            "text/plain": [
              "<Figure size 720x360 with 1 Axes>"
            ],
            "image/png": "[encoded data removed]"
          },
          "metadata": {
            "needs_background": "light"
          }
        }
      ]
    },
    {
      "cell_type": "markdown",
      "source": [
        "De esto podemos concluir que, al principio si existía tendencia de que entre más años pasaban, más canciones eran explicitas. Sin embargo, para el 2005 empezó a decrecer esta cantidad. En los años 2012, 2013 y 2014 se mantuvo constante el número de canciones explicitas por año. Nuevamente, para el año 2015 se aumentó el número de canciones explicitas, y llego a su máximo en el año 2018. Después de este año, el número volvió a decrecer. Se procede a calcular la correlación entre las dos variables."
      ],
      "metadata": {
        "id": "Ca5WNqwqIQUi"
      }
    },
    {
      "cell_type": "code",
      "source": [
        "df_explicitas = df_anio_explicit[df_anio_explicit['explicit']==True]\n",
        "df_explicitas['year'].corr(df_explicitas['song']) #Se utiliza la columna song porque en ella se encuentra el conteo"
      ],
      "metadata": {
        "colab": {
          "base_uri": "https://localhost:8080/"
        },
        "id": "_Io6CtgbJq_o",
        "outputId": "ad25b6cf-dc2c-431c-fd54-6fa46badacd5"
      },
      "execution_count": 691,
      "outputs": [
        {
          "output_type": "execute_result",
          "data": {
            "text/plain": [
              "0.408712800402122"
            ]
          },
          "metadata": {},
          "execution_count": 691
        }
      ]
    },
    {
      "cell_type": "markdown",
      "source": [
        "Se tiene una correlación positiva, por lo que las variables si están relacionadas. Pero es un valor menor a $0.5$, por lo que una no tiene tanto efecto en la otra."
      ],
      "metadata": {
        "id": "2AxOA7cSKz47"
      }
    },
    {
      "cell_type": "markdown",
      "source": [
        "Para encontrar si la popularidad se ve afectada por si la canción es explicita o no, se procede a agrupar el data frame por la columna de 'explicit'. Se utiliza la función $mean()$ para conocer el valor promedio de la popularidad dado a si una canción es explícita o no."
      ],
      "metadata": {
        "id": "lwJLIME_LZVK"
      }
    },
    {
      "cell_type": "code",
      "source": [
        "df_explict = df_spotify.groupby('explicit').mean().reset_index()\n",
        "df_explict[['explicit','popularity']]"
      ],
      "metadata": {
        "colab": {
          "base_uri": "https://localhost:8080/",
          "height": 112
        },
        "id": "uUVrSRJGMNcc",
        "outputId": "d15adfcb-be92-4a3e-b0a8-04b4f33dd5db"
      },
      "execution_count": 695,
      "outputs": [
        {
          "output_type": "execute_result",
          "data": {
            "text/plain": [
              "   explicit  popularity\n",
              "0     False   58.994290\n",
              "1      True   61.261194"
            ],
            "text/html": [
              "\n",
              "  <div id=\"df-b0f50230-3a3a-4e3c-a4e8-b12bfa75a84f\">\n",
              "    <div class=\"colab-df-container\">\n",
              "      <div>\n",
              "<style scoped>\n",
              "    .dataframe tbody tr th:only-of-type {\n",
              "        vertical-align: middle;\n",
              "    }\n",
              "\n",
              "    .dataframe tbody tr th {\n",
              "        vertical-align: top;\n",
              "    }\n",
              "\n",
              "    .dataframe thead th {\n",
              "        text-align: right;\n",
              "    }\n",
              "</style>\n",
              "<table border=\"1\" class=\"dataframe\">\n",
              "  <thead>\n",
              "    <tr style=\"text-align: right;\">\n",
              "      <th></th>\n",
              "      <th>explicit</th>\n",
              "      <th>popularity</th>\n",
              "    </tr>\n",
              "  </thead>\n",
              "  <tbody>\n",
              "    <tr>\n",
              "      <th>0</th>\n",
              "      <td>False</td>\n",
              "      <td>58.994290</td>\n",
              "    </tr>\n",
              "    <tr>\n",
              "      <th>1</th>\n",
              "      <td>True</td>\n",
              "      <td>61.261194</td>\n",
              "    </tr>\n",
              "  </tbody>\n",
              "</table>\n",
              "</div>\n",
              "      <button class=\"colab-df-convert\" onclick=\"convertToInteractive('df-b0f50230-3a3a-4e3c-a4e8-b12bfa75a84f')\"\n",
              "              title=\"Convert this dataframe to an interactive table.\"\n",
              "              style=\"display:none;\">\n",
              "        \n",
              "  <svg xmlns=\"http://www.w3.org/2000/svg\" height=\"24px\"viewBox=\"0 0 24 24\"\n",
              "       width=\"24px\">\n",
              "    <path d=\"M0 0h24v24H0V0z\" fill=\"none\"/>\n",
              "    <path d=\"M18.56 5.44l.94 2.06.94-2.06 2.06-.94-2.06-.94-.94-2.06-.94 2.06-2.06.94zm-11 1L8.5 8.5l.94-2.06 2.06-.94-2.06-.94L8.5 2.5l-.94 2.06-2.06.94zm10 10l.94 2.06.94-2.06 2.06-.94-2.06-.94-.94-2.06-.94 2.06-2.06.94z\"/><path d=\"M17.41 7.96l-1.37-1.37c-.4-.4-.92-.59-1.43-.59-.52 0-1.04.2-1.43.59L10.3 9.45l-7.72 7.72c-.78.78-.78 2.05 0 2.83L4 21.41c.39.39.9.59 1.41.59.51 0 1.02-.2 1.41-.59l7.78-7.78 2.81-2.81c.8-.78.8-2.07 0-2.86zM5.41 20L4 18.59l7.72-7.72 1.47 1.35L5.41 20z\"/>\n",
              "  </svg>\n",
              "      </button>\n",
              "      \n",
              "  <style>\n",
              "    .colab-df-container {\n",
              "      display:flex;\n",
              "      flex-wrap:wrap;\n",
              "      gap: 12px;\n",
              "    }\n",
              "\n",
              "    .colab-df-convert {\n",
              "      background-color: #E8F0FE;\n",
              "      border: none;\n",
              "      border-radius: 50%;\n",
              "      cursor: pointer;\n",
              "      display: none;\n",
              "      fill: #1967D2;\n",
              "      height: 32px;\n",
              "      padding: 0 0 0 0;\n",
              "      width: 32px;\n",
              "    }\n",
              "\n",
              "    .colab-df-convert:hover {\n",
              "      background-color: #E2EBFA;\n",
              "      box-shadow: 0px 1px 2px rgba(60, 64, 67, 0.3), 0px 1px 3px 1px rgba(60, 64, 67, 0.15);\n",
              "      fill: #174EA6;\n",
              "    }\n",
              "\n",
              "    [theme=dark] .colab-df-convert {\n",
              "      background-color: #3B4455;\n",
              "      fill: #D2E3FC;\n",
              "    }\n",
              "\n",
              "    [theme=dark] .colab-df-convert:hover {\n",
              "      background-color: #434B5C;\n",
              "      box-shadow: 0px 1px 3px 1px rgba(0, 0, 0, 0.15);\n",
              "      filter: drop-shadow(0px 1px 2px rgba(0, 0, 0, 0.3));\n",
              "      fill: #FFFFFF;\n",
              "    }\n",
              "  </style>\n",
              "\n",
              "      <script>\n",
              "        const buttonEl =\n",
              "          document.querySelector('#df-b0f50230-3a3a-4e3c-a4e8-b12bfa75a84f button.colab-df-convert');\n",
              "        buttonEl.style.display =\n",
              "          google.colab.kernel.accessAllowed ? 'block' : 'none';\n",
              "\n",
              "        async function convertToInteractive(key) {\n",
              "          const element = document.querySelector('#df-b0f50230-3a3a-4e3c-a4e8-b12bfa75a84f');\n",
              "          const dataTable =\n",
              "            await google.colab.kernel.invokeFunction('convertToInteractive',\n",
              "                                                     [key], {});\n",
              "          if (!dataTable) return;\n",
              "\n",
              "          const docLinkHtml = 'Like what you see? Visit the ' +\n",
              "            '<a target=\"_blank\" href=https://colab.research.google.com/notebooks/data_table.ipynb>data table notebook</a>'\n",
              "            + ' to learn more about interactive tables.';\n",
              "          element.innerHTML = '';\n",
              "          dataTable['output_type'] = 'display_data';\n",
              "          await google.colab.output.renderOutput(dataTable, element);\n",
              "          const docLink = document.createElement('div');\n",
              "          docLink.innerHTML = docLinkHtml;\n",
              "          element.appendChild(docLink);\n",
              "        }\n",
              "      </script>\n",
              "    </div>\n",
              "  </div>\n",
              "  "
            ]
          },
          "metadata": {},
          "execution_count": 695
        }
      ]
    },
    {
      "cell_type": "code",
      "source": [
        "df_explict.plot.bar(x='explicit',y='popularity',figsize=(10,5))\n",
        "plt.xlabel('¿La canción es explícita?')\n",
        "plt.ylabel('Popularidad')\n",
        "plt.title('Popularidad vs. Si una canción es excplícita o no')\n",
        "plt.show()"
      ],
      "metadata": {
        "colab": {
          "base_uri": "https://localhost:8080/",
          "height": 365
        },
        "id": "ktQpIIZzSdHX",
        "outputId": "8d978d72-0db5-4662-c705-d45426f2160a"
      },
      "execution_count": 696,
      "outputs": [
        {
          "output_type": "display_data",
          "data": {
            "text/plain": [
              "<Figure size 720x360 with 1 Axes>"
            ],
            "image/png": "[encoded data removed]"
          },
          "metadata": {
            "needs_background": "light"
          }
        }
      ]
    },
    {
      "cell_type": "markdown",
      "source": [
        "De esto podemos concluir que las canciones explicitas son más populares que las que no los son. Sin embargo, los valores son bien cercanos, aproximadamente 59 y 61, por lo que también se puede decir que si una canción es explícita no afecta tanto la popularidad de esta.\n"
      ],
      "metadata": {
        "id": "5HYBxUGlMfLh"
      }
    }
  ]
}